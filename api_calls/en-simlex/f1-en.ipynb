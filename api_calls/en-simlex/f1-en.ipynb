{
 "cells": [
  {
   "cell_type": "markdown",
   "metadata": {},
   "source": [
    "### 0. Set-up"
   ]
  },
  {
   "cell_type": "code",
   "execution_count": 1,
   "metadata": {},
   "outputs": [],
   "source": [
    "# Import libraries and utils\n",
    "%run '../../data_processing/api_calls/utils.ipynb'"
   ]
  },
  {
   "cell_type": "code",
   "execution_count": 2,
   "metadata": {},
   "outputs": [],
   "source": [
    "# Load dataframe\n",
    "en_simlex = pd.read_csv(\"../data/raw_data/en-simlex-999.txt\", delimiter='\\t')\n",
    "\n",
    "# Convert dataframe into tuple\n",
    "tuples_list = list(zip(en_simlex['word1'], en_simlex['word2']))"
   ]
  },
  {
   "cell_type": "code",
   "execution_count": 3,
   "metadata": {},
   "outputs": [],
   "source": [
    "# Load environment variables from .env file\n",
    "load_dotenv()\n",
    "api_key = os.getenv('OPENAI_API_KEY')\n",
    "\n",
    "# Initialize OpenAI client with API key\n",
    "openai.api_key = api_key"
   ]
  },
  {
   "cell_type": "markdown",
   "metadata": {},
   "source": [
    "### 1. Prompt F-1"
   ]
  },
  {
   "cell_type": "code",
   "execution_count": 4,
   "metadata": {},
   "outputs": [],
   "source": [
    "# Define the prompt\n",
    "prompt = (\"Rate the semantic similarity of each word pair on a scale from 0 to 10, \"\n",
    "          \"where 0 represents no semantic similarity, and 10 represents perfect semantic similarity. \"\n",
    "          \"Use two decimals. Your response should strictly adhere to the structure: \"\n",
    "          \"[('word1', 'word2', <score>), ('word3', 'word4', <score>), ...]. Do not provide additional explanations or context.\\n\\n\")\n",
    "\n",
    "# Set the size of chunks\n",
    "chunk_size = 200"
   ]
  }
 ],
 "metadata": {
  "kernelspec": {
   "display_name": "base",
   "language": "python",
   "name": "python3"
  },
  "language_info": {
   "codemirror_mode": {
    "name": "ipython",
    "version": 3
   },
   "file_extension": ".py",
   "mimetype": "text/x-python",
   "name": "python",
   "nbconvert_exporter": "python",
   "pygments_lexer": "ipython3",
   "version": "3.8.8"
  }
 },
 "nbformat": 4,
 "nbformat_minor": 2
}
