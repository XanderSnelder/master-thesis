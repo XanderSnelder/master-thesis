{
 "cells": [
  {
   "cell_type": "markdown",
   "metadata": {},
   "source": [
    "### **0. Set-up**"
   ]
  },
  {
   "cell_type": "code",
   "execution_count": 1,
   "metadata": {},
   "outputs": [],
   "source": [
    "# Import libraries and utils\n",
    "%run '../../utils.ipynb'"
   ]
  },
  {
   "cell_type": "code",
   "execution_count": 2,
   "metadata": {},
   "outputs": [],
   "source": [
    "# Load NL predicted\n",
    "raw_nl_pred = pd.read_csv(\"../../../data/text-embedding-3-small/nl.csv\")"
   ]
  },
  {
   "cell_type": "code",
   "execution_count": 3,
   "metadata": {},
   "outputs": [],
   "source": [
    "# Load EN predicted\n",
    "raw_en_pred = pd.read_csv(\"../../../data/text-embedding-3-small/en.csv\")\n",
    "\n",
    "# Drop rows in EN SimLex that are missing in NL SimLex\n",
    "raw_en_pred = raw_en_pred.drop(raw_en_pred[(raw_en_pred['word1'] == 'bad') & (raw_en_pred['word2'] == 'awful')].index)\n",
    "raw_en_pred = raw_en_pred.drop(raw_en_pred[(raw_en_pred['word1'] == 'bad') & (raw_en_pred['word2'] == 'terrible')].index)\n",
    "\n",
    "# Reset index\n",
    "raw_en_pred = raw_en_pred.reset_index(drop=True)"
   ]
  },
  {
   "cell_type": "code",
   "execution_count": 4,
   "metadata": {},
   "outputs": [
    {
     "data": {
      "text/html": [
       "<div>\n",
       "<style scoped>\n",
       "    .dataframe tbody tr th:only-of-type {\n",
       "        vertical-align: middle;\n",
       "    }\n",
       "\n",
       "    .dataframe tbody tr th {\n",
       "        vertical-align: top;\n",
       "    }\n",
       "\n",
       "    .dataframe thead th {\n",
       "        text-align: right;\n",
       "    }\n",
       "</style>\n",
       "<table border=\"1\" class=\"dataframe\">\n",
       "  <thead>\n",
       "    <tr style=\"text-align: right;\">\n",
       "      <th></th>\n",
       "      <th>word1</th>\n",
       "      <th>word2</th>\n",
       "      <th>similarity_score</th>\n",
       "    </tr>\n",
       "  </thead>\n",
       "  <tbody>\n",
       "    <tr>\n",
       "      <th>0</th>\n",
       "      <td>oud</td>\n",
       "      <td>nieuw</td>\n",
       "      <td>0.30</td>\n",
       "    </tr>\n",
       "    <tr>\n",
       "      <th>1</th>\n",
       "      <td>slim</td>\n",
       "      <td>intelligent</td>\n",
       "      <td>0.27</td>\n",
       "    </tr>\n",
       "    <tr>\n",
       "      <th>2</th>\n",
       "      <td>hard</td>\n",
       "      <td>moeilijk</td>\n",
       "      <td>0.47</td>\n",
       "    </tr>\n",
       "    <tr>\n",
       "      <th>3</th>\n",
       "      <td>gelukkig</td>\n",
       "      <td>vrolijk</td>\n",
       "      <td>0.57</td>\n",
       "    </tr>\n",
       "    <tr>\n",
       "      <th>4</th>\n",
       "      <td>hard</td>\n",
       "      <td>stoer</td>\n",
       "      <td>0.24</td>\n",
       "    </tr>\n",
       "    <tr>\n",
       "      <th>...</th>\n",
       "      <td>...</td>\n",
       "      <td>...</td>\n",
       "      <td>...</td>\n",
       "    </tr>\n",
       "    <tr>\n",
       "      <th>992</th>\n",
       "      <td>samenvoegen</td>\n",
       "      <td>verwerven</td>\n",
       "      <td>0.51</td>\n",
       "    </tr>\n",
       "    <tr>\n",
       "      <th>993</th>\n",
       "      <td>sturen</td>\n",
       "      <td>bijwonen</td>\n",
       "      <td>0.49</td>\n",
       "    </tr>\n",
       "    <tr>\n",
       "      <th>994</th>\n",
       "      <td>verzamelen</td>\n",
       "      <td>bijwonen</td>\n",
       "      <td>0.52</td>\n",
       "    </tr>\n",
       "    <tr>\n",
       "      <th>995</th>\n",
       "      <td>opnemen</td>\n",
       "      <td>intrekken</td>\n",
       "      <td>0.57</td>\n",
       "    </tr>\n",
       "    <tr>\n",
       "      <th>996</th>\n",
       "      <td>bijwonen</td>\n",
       "      <td>aankomen</td>\n",
       "      <td>0.53</td>\n",
       "    </tr>\n",
       "  </tbody>\n",
       "</table>\n",
       "<p>997 rows × 3 columns</p>\n",
       "</div>"
      ],
      "text/plain": [
       "           word1        word2  similarity_score\n",
       "0            oud        nieuw              0.30\n",
       "1           slim  intelligent              0.27\n",
       "2           hard     moeilijk              0.47\n",
       "3       gelukkig      vrolijk              0.57\n",
       "4           hard        stoer              0.24\n",
       "..           ...          ...               ...\n",
       "992  samenvoegen    verwerven              0.51\n",
       "993       sturen     bijwonen              0.49\n",
       "994   verzamelen     bijwonen              0.52\n",
       "995      opnemen    intrekken              0.57\n",
       "996     bijwonen     aankomen              0.53\n",
       "\n",
       "[997 rows x 3 columns]"
      ]
     },
     "execution_count": 4,
     "metadata": {},
     "output_type": "execute_result"
    }
   ],
   "source": [
    "# Show results\n",
    "raw_nl_pred"
   ]
  },
  {
   "cell_type": "code",
   "execution_count": 5,
   "metadata": {},
   "outputs": [
    {
     "data": {
      "text/html": [
       "<div>\n",
       "<style scoped>\n",
       "    .dataframe tbody tr th:only-of-type {\n",
       "        vertical-align: middle;\n",
       "    }\n",
       "\n",
       "    .dataframe tbody tr th {\n",
       "        vertical-align: top;\n",
       "    }\n",
       "\n",
       "    .dataframe thead th {\n",
       "        text-align: right;\n",
       "    }\n",
       "</style>\n",
       "<table border=\"1\" class=\"dataframe\">\n",
       "  <thead>\n",
       "    <tr style=\"text-align: right;\">\n",
       "      <th></th>\n",
       "      <th>word1</th>\n",
       "      <th>word2</th>\n",
       "      <th>similarity_score</th>\n",
       "    </tr>\n",
       "  </thead>\n",
       "  <tbody>\n",
       "    <tr>\n",
       "      <th>0</th>\n",
       "      <td>old</td>\n",
       "      <td>new</td>\n",
       "      <td>0.51</td>\n",
       "    </tr>\n",
       "    <tr>\n",
       "      <th>1</th>\n",
       "      <td>smart</td>\n",
       "      <td>intelligent</td>\n",
       "      <td>0.57</td>\n",
       "    </tr>\n",
       "    <tr>\n",
       "      <th>2</th>\n",
       "      <td>hard</td>\n",
       "      <td>difficult</td>\n",
       "      <td>0.58</td>\n",
       "    </tr>\n",
       "    <tr>\n",
       "      <th>3</th>\n",
       "      <td>happy</td>\n",
       "      <td>cheerful</td>\n",
       "      <td>0.60</td>\n",
       "    </tr>\n",
       "    <tr>\n",
       "      <th>4</th>\n",
       "      <td>hard</td>\n",
       "      <td>easy</td>\n",
       "      <td>0.45</td>\n",
       "    </tr>\n",
       "    <tr>\n",
       "      <th>...</th>\n",
       "      <td>...</td>\n",
       "      <td>...</td>\n",
       "      <td>...</td>\n",
       "    </tr>\n",
       "    <tr>\n",
       "      <th>992</th>\n",
       "      <td>join</td>\n",
       "      <td>acquire</td>\n",
       "      <td>0.32</td>\n",
       "    </tr>\n",
       "    <tr>\n",
       "      <th>993</th>\n",
       "      <td>send</td>\n",
       "      <td>attend</td>\n",
       "      <td>0.47</td>\n",
       "    </tr>\n",
       "    <tr>\n",
       "      <th>994</th>\n",
       "      <td>gather</td>\n",
       "      <td>attend</td>\n",
       "      <td>0.59</td>\n",
       "    </tr>\n",
       "    <tr>\n",
       "      <th>995</th>\n",
       "      <td>absorb</td>\n",
       "      <td>withdraw</td>\n",
       "      <td>0.43</td>\n",
       "    </tr>\n",
       "    <tr>\n",
       "      <th>996</th>\n",
       "      <td>attend</td>\n",
       "      <td>arrive</td>\n",
       "      <td>0.50</td>\n",
       "    </tr>\n",
       "  </tbody>\n",
       "</table>\n",
       "<p>997 rows × 3 columns</p>\n",
       "</div>"
      ],
      "text/plain": [
       "      word1        word2  similarity_score\n",
       "0       old          new              0.51\n",
       "1     smart  intelligent              0.57\n",
       "2      hard    difficult              0.58\n",
       "3     happy     cheerful              0.60\n",
       "4      hard         easy              0.45\n",
       "..      ...          ...               ...\n",
       "992    join      acquire              0.32\n",
       "993    send       attend              0.47\n",
       "994  gather       attend              0.59\n",
       "995  absorb     withdraw              0.43\n",
       "996  attend       arrive              0.50\n",
       "\n",
       "[997 rows x 3 columns]"
      ]
     },
     "execution_count": 5,
     "metadata": {},
     "output_type": "execute_result"
    }
   ],
   "source": [
    "# Show results\n",
    "raw_en_pred"
   ]
  },
  {
   "cell_type": "markdown",
   "metadata": {},
   "source": [
    "### **1. Data Processing**"
   ]
  },
  {
   "cell_type": "code",
   "execution_count": 6,
   "metadata": {},
   "outputs": [],
   "source": [
    "# Copy dataframe\n",
    "nl_pred = raw_nl_pred.copy()\n",
    "\n",
    "# Normalize cosine similarity to to 0-10 scale\n",
    "nl_pred['scaled_similarity_score'] = 5 * (nl_pred['similarity_score'] + 1)\n",
    "\n",
    "# Rename columns\n",
    "nl_pred = nl_pred.rename(columns={'scaled_similarity_score': 'nl_pred_sl'})\n",
    "\n",
    "# Select columns\n",
    "nl_pred = nl_pred[['word1', 'word2', 'nl_pred_sl']]"
   ]
  },
  {
   "cell_type": "code",
   "execution_count": 7,
   "metadata": {},
   "outputs": [],
   "source": [
    "# Copy dataframe\n",
    "en_pred = raw_en_pred.copy()\n",
    "\n",
    "# Normalize cosine similarity to to 0-10 scale\n",
    "en_pred['scaled_similarity_score'] = 5 * (en_pred['similarity_score'] + 1)\n",
    "\n",
    "# Rename columns\n",
    "en_pred = en_pred.rename(columns={'scaled_similarity_score': 'en_pred_sl'})\n",
    "\n",
    "# Select columns\n",
    "en_pred = en_pred[['word1', 'word2', 'en_pred_sl']]"
   ]
  },
  {
   "cell_type": "code",
   "execution_count": 8,
   "metadata": {},
   "outputs": [
    {
     "data": {
      "text/html": [
       "<div>\n",
       "<style scoped>\n",
       "    .dataframe tbody tr th:only-of-type {\n",
       "        vertical-align: middle;\n",
       "    }\n",
       "\n",
       "    .dataframe tbody tr th {\n",
       "        vertical-align: top;\n",
       "    }\n",
       "\n",
       "    .dataframe thead th {\n",
       "        text-align: right;\n",
       "    }\n",
       "</style>\n",
       "<table border=\"1\" class=\"dataframe\">\n",
       "  <thead>\n",
       "    <tr style=\"text-align: right;\">\n",
       "      <th></th>\n",
       "      <th>word1</th>\n",
       "      <th>word2</th>\n",
       "      <th>nl_pred_sl</th>\n",
       "      <th>word1</th>\n",
       "      <th>word2</th>\n",
       "      <th>en_pred_sl</th>\n",
       "    </tr>\n",
       "  </thead>\n",
       "  <tbody>\n",
       "    <tr>\n",
       "      <th>0</th>\n",
       "      <td>oud</td>\n",
       "      <td>nieuw</td>\n",
       "      <td>6.50</td>\n",
       "      <td>old</td>\n",
       "      <td>new</td>\n",
       "      <td>7.55</td>\n",
       "    </tr>\n",
       "    <tr>\n",
       "      <th>1</th>\n",
       "      <td>slim</td>\n",
       "      <td>intelligent</td>\n",
       "      <td>6.35</td>\n",
       "      <td>smart</td>\n",
       "      <td>intelligent</td>\n",
       "      <td>7.85</td>\n",
       "    </tr>\n",
       "    <tr>\n",
       "      <th>2</th>\n",
       "      <td>hard</td>\n",
       "      <td>moeilijk</td>\n",
       "      <td>7.35</td>\n",
       "      <td>hard</td>\n",
       "      <td>difficult</td>\n",
       "      <td>7.90</td>\n",
       "    </tr>\n",
       "    <tr>\n",
       "      <th>3</th>\n",
       "      <td>gelukkig</td>\n",
       "      <td>vrolijk</td>\n",
       "      <td>7.85</td>\n",
       "      <td>happy</td>\n",
       "      <td>cheerful</td>\n",
       "      <td>8.00</td>\n",
       "    </tr>\n",
       "    <tr>\n",
       "      <th>4</th>\n",
       "      <td>hard</td>\n",
       "      <td>stoer</td>\n",
       "      <td>6.20</td>\n",
       "      <td>hard</td>\n",
       "      <td>easy</td>\n",
       "      <td>7.25</td>\n",
       "    </tr>\n",
       "    <tr>\n",
       "      <th>...</th>\n",
       "      <td>...</td>\n",
       "      <td>...</td>\n",
       "      <td>...</td>\n",
       "      <td>...</td>\n",
       "      <td>...</td>\n",
       "      <td>...</td>\n",
       "    </tr>\n",
       "    <tr>\n",
       "      <th>992</th>\n",
       "      <td>samenvoegen</td>\n",
       "      <td>verwerven</td>\n",
       "      <td>7.55</td>\n",
       "      <td>join</td>\n",
       "      <td>acquire</td>\n",
       "      <td>6.60</td>\n",
       "    </tr>\n",
       "    <tr>\n",
       "      <th>993</th>\n",
       "      <td>sturen</td>\n",
       "      <td>bijwonen</td>\n",
       "      <td>7.45</td>\n",
       "      <td>send</td>\n",
       "      <td>attend</td>\n",
       "      <td>7.35</td>\n",
       "    </tr>\n",
       "    <tr>\n",
       "      <th>994</th>\n",
       "      <td>verzamelen</td>\n",
       "      <td>bijwonen</td>\n",
       "      <td>7.60</td>\n",
       "      <td>gather</td>\n",
       "      <td>attend</td>\n",
       "      <td>7.95</td>\n",
       "    </tr>\n",
       "    <tr>\n",
       "      <th>995</th>\n",
       "      <td>opnemen</td>\n",
       "      <td>intrekken</td>\n",
       "      <td>7.85</td>\n",
       "      <td>absorb</td>\n",
       "      <td>withdraw</td>\n",
       "      <td>7.15</td>\n",
       "    </tr>\n",
       "    <tr>\n",
       "      <th>996</th>\n",
       "      <td>bijwonen</td>\n",
       "      <td>aankomen</td>\n",
       "      <td>7.65</td>\n",
       "      <td>attend</td>\n",
       "      <td>arrive</td>\n",
       "      <td>7.50</td>\n",
       "    </tr>\n",
       "  </tbody>\n",
       "</table>\n",
       "<p>997 rows × 6 columns</p>\n",
       "</div>"
      ],
      "text/plain": [
       "           word1        word2  nl_pred_sl   word1        word2  en_pred_sl\n",
       "0            oud        nieuw        6.50     old          new        7.55\n",
       "1           slim  intelligent        6.35   smart  intelligent        7.85\n",
       "2           hard     moeilijk        7.35    hard    difficult        7.90\n",
       "3       gelukkig      vrolijk        7.85   happy     cheerful        8.00\n",
       "4           hard        stoer        6.20    hard         easy        7.25\n",
       "..           ...          ...         ...     ...          ...         ...\n",
       "992  samenvoegen    verwerven        7.55    join      acquire        6.60\n",
       "993       sturen     bijwonen        7.45    send       attend        7.35\n",
       "994   verzamelen     bijwonen        7.60  gather       attend        7.95\n",
       "995      opnemen    intrekken        7.85  absorb     withdraw        7.15\n",
       "996     bijwonen     aankomen        7.65  attend       arrive        7.50\n",
       "\n",
       "[997 rows x 6 columns]"
      ]
     },
     "execution_count": 8,
     "metadata": {},
     "output_type": "execute_result"
    }
   ],
   "source": [
    "# Concatenate NL and EN DataFrames\n",
    "conc = pd.concat([nl_pred, en_pred], axis=1)\n",
    "\n",
    "# Show results\n",
    "conc"
   ]
  },
  {
   "cell_type": "markdown",
   "metadata": {},
   "source": [
    "### **2. Descriptive Statistics**"
   ]
  },
  {
   "cell_type": "code",
   "execution_count": 9,
   "metadata": {},
   "outputs": [
    {
     "data": {
      "text/html": [
       "<div>\n",
       "<style scoped>\n",
       "    .dataframe tbody tr th:only-of-type {\n",
       "        vertical-align: middle;\n",
       "    }\n",
       "\n",
       "    .dataframe tbody tr th {\n",
       "        vertical-align: top;\n",
       "    }\n",
       "\n",
       "    .dataframe thead th {\n",
       "        text-align: right;\n",
       "    }\n",
       "</style>\n",
       "<table border=\"1\" class=\"dataframe\">\n",
       "  <thead>\n",
       "    <tr style=\"text-align: right;\">\n",
       "      <th></th>\n",
       "      <th>nl_pred_sl</th>\n",
       "      <th>en_pred_sl</th>\n",
       "    </tr>\n",
       "  </thead>\n",
       "  <tbody>\n",
       "    <tr>\n",
       "      <th>count</th>\n",
       "      <td>997.00</td>\n",
       "      <td>997.00</td>\n",
       "    </tr>\n",
       "    <tr>\n",
       "      <th>mean</th>\n",
       "      <td>7.16</td>\n",
       "      <td>7.30</td>\n",
       "    </tr>\n",
       "    <tr>\n",
       "      <th>std</th>\n",
       "      <td>0.68</td>\n",
       "      <td>0.58</td>\n",
       "    </tr>\n",
       "    <tr>\n",
       "      <th>min</th>\n",
       "      <td>5.55</td>\n",
       "      <td>5.60</td>\n",
       "    </tr>\n",
       "    <tr>\n",
       "      <th>25%</th>\n",
       "      <td>6.65</td>\n",
       "      <td>6.90</td>\n",
       "    </tr>\n",
       "    <tr>\n",
       "      <th>50%</th>\n",
       "      <td>7.15</td>\n",
       "      <td>7.25</td>\n",
       "    </tr>\n",
       "    <tr>\n",
       "      <th>75%</th>\n",
       "      <td>7.60</td>\n",
       "      <td>7.65</td>\n",
       "    </tr>\n",
       "    <tr>\n",
       "      <th>max</th>\n",
       "      <td>9.60</td>\n",
       "      <td>9.15</td>\n",
       "    </tr>\n",
       "    <tr>\n",
       "      <th>median</th>\n",
       "      <td>7.15</td>\n",
       "      <td>7.25</td>\n",
       "    </tr>\n",
       "  </tbody>\n",
       "</table>\n",
       "</div>"
      ],
      "text/plain": [
       "        nl_pred_sl  en_pred_sl\n",
       "count       997.00      997.00\n",
       "mean          7.16        7.30\n",
       "std           0.68        0.58\n",
       "min           5.55        5.60\n",
       "25%           6.65        6.90\n",
       "50%           7.15        7.25\n",
       "75%           7.60        7.65\n",
       "max           9.60        9.15\n",
       "median        7.15        7.25"
      ]
     },
     "execution_count": 9,
     "metadata": {},
     "output_type": "execute_result"
    }
   ],
   "source": [
    "# Summary statistics SimLex-999\n",
    "nl_pred_sl_summary = round(nl_pred['nl_pred_sl'].describe(), 2)\n",
    "en_pred_sl_summary = round(en_pred['en_pred_sl'].describe(), 2)\n",
    "\n",
    "# Add median SimLex-999\n",
    "nl_pred_sl_summary['median'] = round(nl_pred['nl_pred_sl'].median(), 2)\n",
    "en_pred_sl_summary['median'] = round(en_pred['en_pred_sl'].median(), 2)\n",
    "\n",
    "# Create pandas DataFrame\n",
    "summary_df = pd.DataFrame({\n",
    "    \"nl_pred_sl\": nl_pred_sl_summary,\n",
    "    \"en_pred_sl\": en_pred_sl_summary\n",
    "})\n",
    "\n",
    "# Show results\n",
    "summary_df"
   ]
  },
  {
   "cell_type": "markdown",
   "metadata": {},
   "source": [
    "#### **2.1. SimLex-999**"
   ]
  },
  {
   "cell_type": "code",
   "execution_count": 10,
   "metadata": {},
   "outputs": [
    {
     "data": {
      "image/png": "[encoded data removed]",
      "text/plain": [
       "<Figure size 600x600 with 1 Axes>"
      ]
     },
     "metadata": {},
     "output_type": "display_data"
    }
   ],
   "source": [
    "# Rename columns and copy\n",
    "renamed_nl_pred_sl = nl_pred.rename(columns={\"nl_pred_sl\": \"SimLex-999\"}).copy()\n",
    "renamed_en_pred_sl = en_pred.rename(columns={\"en_pred_sl\": \"SimLex-999\"}).copy()\n",
    "\n",
    "# Create dummy label\n",
    "renamed_nl_pred_sl['Score'] = 'NL'\n",
    "renamed_en_pred_sl['Score'] = 'EN'\n",
    "\n",
    "# Combine DataFrames\n",
    "combined_data = pd.concat([renamed_nl_pred_sl, renamed_en_pred_sl])\n",
    "\n",
    "# Create boxplot\n",
    "plt.figure(figsize=(6, 6))\n",
    "sns.boxplot(\n",
    "    x='Score',\n",
    "    y='SimLex-999',\n",
    "    data=combined_data,\n",
    "    palette=['skyblue', 'lightgreen'],\n",
    "    boxprops={'edgecolor': 'black'},\n",
    "    whiskerprops={'color': 'black'},\n",
    "    flierprops={'marker': 'o', 'color': 'black', 'markerfacecolor': 'black'},\n",
    "    capprops={'color': 'black'},\n",
    "    medianprops={'color': 'black'}\n",
    ")\n",
    "\n",
    "# Set labels and title\n",
    "plt.ylabel('SimLex-999')\n",
    "# plt.title('Comparison of SimLex-999')\n",
    "\n",
    "# Customize y-axis ticks\n",
    "plt.gca().yaxis.set_major_locator(ticker.MaxNLocator(integer=True))\n",
    "plt.ylim(0, 10)  # Setting y-axis limits from 0 to 10\n",
    "\n",
    "# Remove x-axis label\n",
    "plt.xlabel('')\n",
    "\n",
    "# Adjust layout\n",
    "plt.tight_layout()\n",
    "\n",
    "# Show results\n",
    "plt.show()"
   ]
  },
  {
   "cell_type": "markdown",
   "metadata": {},
   "source": [
    "### **3. Distributions**"
   ]
  },
  {
   "cell_type": "markdown",
   "metadata": {},
   "source": [
    "#### **3.1. SimLex-999**"
   ]
  },
  {
   "cell_type": "code",
   "execution_count": 11,
   "metadata": {},
   "outputs": [
    {
     "data": {
      "image/png": "[encoded data removed]",
      "text/plain": [
       "<Figure size 1000x400 with 2 Axes>"
      ]
     },
     "metadata": {},
     "output_type": "display_data"
    }
   ],
   "source": [
    "# Create figure with two subplots\n",
    "fig, axes = plt.subplots(1, 2, figsize=(10, 4))\n",
    "\n",
    "# Define x-axis limits\n",
    "x_min = 0\n",
    "x_max = 10\n",
    "\n",
    "# Define bins\n",
    "bins = 10\n",
    "\n",
    "# Plot NL predicted histogram\n",
    "axes[0].hist(renamed_nl_pred_sl['SimLex-999'], bins=bins, edgecolor='black', color='skyblue')\n",
    "axes[0].set_title('NL')\n",
    "axes[0].set_xlabel('SimLex-999')\n",
    "axes[0].set_ylabel('Frequency')\n",
    "axes[0].set_xlim(x_min, x_max)\n",
    "axes[0].xaxis.set_major_locator(ticker.MaxNLocator(integer=True))\n",
    "axes[0].grid(False) # Remove grid\n",
    "\n",
    "# Plot EN predicted histogram\n",
    "axes[1].hist(renamed_en_pred_sl['SimLex-999'], bins=bins, edgecolor='black', color='lightgreen')\n",
    "axes[1].set_title('EN')\n",
    "axes[1].set_xlabel('SimLex-999')\n",
    "axes[1].set_ylabel('Frequency')\n",
    "axes[1].set_xlim(x_min, x_max)\n",
    "axes[1].xaxis.set_major_locator(ticker.MaxNLocator(integer=True))\n",
    "axes[1].grid(False) # Remove grid\n",
    "\n",
    "# Adjust layout\n",
    "plt.tight_layout()\n",
    "\n",
    "# Show results\n",
    "plt.show()"
   ]
  },
  {
   "cell_type": "markdown",
   "metadata": {},
   "source": [
    "### **4. Outliers**"
   ]
  },
  {
   "cell_type": "markdown",
   "metadata": {},
   "source": [
    "#### **4.1. NL**"
   ]
  },
  {
   "cell_type": "code",
   "execution_count": 12,
   "metadata": {},
   "outputs": [
    {
     "name": "stdout",
     "output_type": "stream",
     "text": [
      "Outliers in nl_pred_sl: 9\n"
     ]
    }
   ],
   "source": [
    "# Count outliers\n",
    "print_outlier_counts(nl_pred)"
   ]
  },
  {
   "cell_type": "code",
   "execution_count": 13,
   "metadata": {},
   "outputs": [
    {
     "name": "stdout",
     "output_type": "stream",
     "text": [
      "\n",
      "Outliers in nl_pred_sl:\n",
      "            word1         word2  nl_pred_sl\n",
      "109    echtgenote    echtgenoot        9.25\n",
      "125       actrice        acteur        9.35\n",
      "141          taxi         taxis        9.15\n",
      "209   afwezigheid  aanwezigheid        9.60\n",
      "569  gelukkigheid         geluk        9.20\n",
      "777     luisteren         horen        9.10\n",
      "793   aanmoedigen   ontmoedigen        9.05\n",
      "838     deelnemen       meedoen        9.15\n",
      "886   verkondigen   aankondigen        9.15\n"
     ]
    }
   ],
   "source": [
    "# Row outliers\n",
    "print_outlier_data(nl_pred, 'nl_pred_sl')"
   ]
  },
  {
   "cell_type": "markdown",
   "metadata": {},
   "source": [
    "#### **4.2. EN**"
   ]
  },
  {
   "cell_type": "code",
   "execution_count": 14,
   "metadata": {},
   "outputs": [
    {
     "name": "stdout",
     "output_type": "stream",
     "text": [
      "Outliers in en_pred_sl: 10\n"
     ]
    }
   ],
   "source": [
    "# Count outliers\n",
    "print_outlier_counts(en_pred)"
   ]
  },
  {
   "cell_type": "code",
   "execution_count": 15,
   "metadata": {},
   "outputs": [
    {
     "name": "stdout",
     "output_type": "stream",
     "text": [
      "\n",
      "Outliers in en_pred_sl:\n",
      "              word1       word2  en_pred_sl\n",
      "9             weird     strange        8.95\n",
      "16            large        huge        8.80\n",
      "127           movie        film        9.05\n",
      "296        boundary      border        8.80\n",
      "500  administration  management        8.85\n",
      "721          flower   endurance        5.75\n",
      "731          liquor     century        5.70\n",
      "739            cent        wife        5.60\n",
      "780          vanish   disappear        9.00\n",
      "794         achieve  accomplish        9.15\n"
     ]
    }
   ],
   "source": [
    "# Row outliers\n",
    "print_outlier_data(en_pred, 'en_pred_sl')"
   ]
  },
  {
   "cell_type": "markdown",
   "metadata": {},
   "source": [
    "#### **4.3. Add to Summary**"
   ]
  },
  {
   "cell_type": "code",
   "execution_count": 16,
   "metadata": {},
   "outputs": [
    {
     "data": {
      "text/html": [
       "<div>\n",
       "<style scoped>\n",
       "    .dataframe tbody tr th:only-of-type {\n",
       "        vertical-align: middle;\n",
       "    }\n",
       "\n",
       "    .dataframe tbody tr th {\n",
       "        vertical-align: top;\n",
       "    }\n",
       "\n",
       "    .dataframe thead th {\n",
       "        text-align: right;\n",
       "    }\n",
       "</style>\n",
       "<table border=\"1\" class=\"dataframe\">\n",
       "  <thead>\n",
       "    <tr style=\"text-align: right;\">\n",
       "      <th></th>\n",
       "      <th>nl_pred_sl</th>\n",
       "      <th>en_pred_sl</th>\n",
       "    </tr>\n",
       "  </thead>\n",
       "  <tbody>\n",
       "    <tr>\n",
       "      <th>count</th>\n",
       "      <td>997.00</td>\n",
       "      <td>997.00</td>\n",
       "    </tr>\n",
       "    <tr>\n",
       "      <th>mean</th>\n",
       "      <td>7.16</td>\n",
       "      <td>7.30</td>\n",
       "    </tr>\n",
       "    <tr>\n",
       "      <th>std</th>\n",
       "      <td>0.68</td>\n",
       "      <td>0.58</td>\n",
       "    </tr>\n",
       "    <tr>\n",
       "      <th>min</th>\n",
       "      <td>5.55</td>\n",
       "      <td>5.60</td>\n",
       "    </tr>\n",
       "    <tr>\n",
       "      <th>25%</th>\n",
       "      <td>6.65</td>\n",
       "      <td>6.90</td>\n",
       "    </tr>\n",
       "    <tr>\n",
       "      <th>50%</th>\n",
       "      <td>7.15</td>\n",
       "      <td>7.25</td>\n",
       "    </tr>\n",
       "    <tr>\n",
       "      <th>75%</th>\n",
       "      <td>7.60</td>\n",
       "      <td>7.65</td>\n",
       "    </tr>\n",
       "    <tr>\n",
       "      <th>max</th>\n",
       "      <td>9.60</td>\n",
       "      <td>9.15</td>\n",
       "    </tr>\n",
       "    <tr>\n",
       "      <th>median</th>\n",
       "      <td>7.15</td>\n",
       "      <td>7.25</td>\n",
       "    </tr>\n",
       "    <tr>\n",
       "      <th>outliers</th>\n",
       "      <td>9.00</td>\n",
       "      <td>10.00</td>\n",
       "    </tr>\n",
       "  </tbody>\n",
       "</table>\n",
       "</div>"
      ],
      "text/plain": [
       "          nl_pred_sl  en_pred_sl\n",
       "count         997.00      997.00\n",
       "mean            7.16        7.30\n",
       "std             0.68        0.58\n",
       "min             5.55        5.60\n",
       "25%             6.65        6.90\n",
       "50%             7.15        7.25\n",
       "75%             7.60        7.65\n",
       "max             9.60        9.15\n",
       "median          7.15        7.25\n",
       "outliers        9.00       10.00"
      ]
     },
     "execution_count": 16,
     "metadata": {},
     "output_type": "execute_result"
    }
   ],
   "source": [
    "# Calculate outliers\n",
    "outliers_nl_pred_sl = calculate_outliers(nl_pred, 'nl_pred_sl')\n",
    "outliers_en_pred_sl = calculate_outliers(en_pred, 'en_pred_sl')\n",
    "\n",
    "# Count outliers\n",
    "count_outliers_nl_pred_sl = outliers_nl_pred_sl.shape[0]\n",
    "count_outliers_en_pred_sl = outliers_en_pred_sl.shape[0]\n",
    "\n",
    "# Add outliers count to summary\n",
    "outliers_row = pd.Series([count_outliers_nl_pred_sl, count_outliers_en_pred_sl], \n",
    "    index=summary_df.columns,\n",
    "    name='outliers'\n",
    ")\n",
    "summary_df = pd.concat([summary_df, outliers_row.to_frame().T])\n",
    "\n",
    "# Show results\n",
    "summary_df"
   ]
  },
  {
   "cell_type": "markdown",
   "metadata": {},
   "source": [
    "### **5. Evaluation Metrics**"
   ]
  },
  {
   "cell_type": "markdown",
   "metadata": {},
   "source": [
    "#### **5.1. Spearmans's Rank Correlation**"
   ]
  },
  {
   "cell_type": "markdown",
   "metadata": {},
   "source": [
    "##### **5.1.1. NL SimLex-999 vs EN SimLex-999**"
   ]
  },
  {
   "cell_type": "code",
   "execution_count": 17,
   "metadata": {},
   "outputs": [
    {
     "data": {
      "image/png": "[encoded data removed]",
      "text/plain": [
       "<Figure size 700x500 with 1 Axes>"
      ]
     },
     "metadata": {},
     "output_type": "display_data"
    }
   ],
   "source": [
    "# Scatter plot\n",
    "plot_scatter_plot(conc, 'nl_pred_sl', 'en_pred_sl', 'SimLex-999 (NL)', 'SimLex-999 (EN)', 0, 10, 0, 10)"
   ]
  },
  {
   "cell_type": "code",
   "execution_count": 18,
   "metadata": {},
   "outputs": [
    {
     "name": "stdout",
     "output_type": "stream",
     "text": [
      "Spearman's Rank correlation: 0.3575\n",
      "P-value: 2.0013738941103335e-31\n",
      "The correlation is statistically significant.\n",
      "\n"
     ]
    }
   ],
   "source": [
    "# Correlation and pvalue\n",
    "print_correlation_and_pvalue(conc, 'nl_pred_sl', 'en_pred_sl')"
   ]
  },
  {
   "cell_type": "markdown",
   "metadata": {},
   "source": [
    "#### **5.2. Mean Square Error (MSE)**"
   ]
  },
  {
   "cell_type": "code",
   "execution_count": 19,
   "metadata": {},
   "outputs": [
    {
     "name": "stdout",
     "output_type": "stream",
     "text": [
      "Mean Squared Error (MSE): 0.52\n"
     ]
    }
   ],
   "source": [
    "# Calculate Mean Squared Error\n",
    "mse = mean_squared_error(conc['nl_pred_sl'], conc['en_pred_sl'])\n",
    "\n",
    "# Show results\n",
    "print(f\"Mean Squared Error (MSE): {mse:.2f}\")"
   ]
  },
  {
   "cell_type": "markdown",
   "metadata": {},
   "source": [
    "#### **5.3. Mean Absolute Error (MAE)**"
   ]
  },
  {
   "cell_type": "code",
   "execution_count": 20,
   "metadata": {},
   "outputs": [
    {
     "name": "stdout",
     "output_type": "stream",
     "text": [
      "Mean Absolute Error (MAE): 0.57\n"
     ]
    }
   ],
   "source": [
    "# Calculate Mean Absolute Error\n",
    "mae = mean_absolute_error(conc['nl_pred_sl'], conc['en_pred_sl'])\n",
    "\n",
    "# Show results\n",
    "print(f\"Mean Absolute Error (MAE): {mae:.2f}\")"
   ]
  },
  {
   "cell_type": "markdown",
   "metadata": {},
   "source": [
    "#### **5.4. Bland-Altman**"
   ]
  },
  {
   "cell_type": "code",
   "execution_count": 21,
   "metadata": {},
   "outputs": [
    {
     "data": {
      "image/png": "[encoded data removed]",
      "text/plain": [
       "<Figure size 700x500 with 1 Axes>"
      ]
     },
     "metadata": {},
     "output_type": "display_data"
    }
   ],
   "source": [
    "# SimLex-999\n",
    "bland_altman_plot(data1=conc['nl_pred_sl'], data2=conc['en_pred_sl'])"
   ]
  },
  {
   "cell_type": "code",
   "execution_count": null,
   "metadata": {},
   "outputs": [],
   "source": []
  }
 ],
 "metadata": {
  "kernelspec": {
   "display_name": "base",
   "language": "python",
   "name": "python3"
  },
  "language_info": {
   "codemirror_mode": {
    "name": "ipython",
    "version": 3
   },
   "file_extension": ".py",
   "mimetype": "text/x-python",
   "name": "python",
   "nbconvert_exporter": "python",
   "pygments_lexer": "ipython3",
   "version": "3.8.8"
  }
 },
 "nbformat": 4,
 "nbformat_minor": 2
}
