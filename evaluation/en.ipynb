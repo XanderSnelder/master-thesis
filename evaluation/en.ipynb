{
 "cells": [
  {
   "cell_type": "code",
   "execution_count": null,
   "metadata": {},
   "outputs": [],
   "source": [
    "# For evaluation:\n",
    "# Put ALL values of ALL columns under each other and create boxplot and historgram"
   ]
  },
  {
   "cell_type": "code",
   "execution_count": null,
   "metadata": {},
   "outputs": [],
   "source": [
    "### For each GPT dataframe, test if there are words that do not belong\n",
    "\n",
    "# Copy dataframe\n",
    "test = cleaned_nl_simlex.copy()\n",
    "test['word1'] = test['word1'].replace(\" \", \"\", regex=True)\n",
    "test['word2'] = test['word2'].replace(\" \", \"\", regex=True)\n",
    "\n",
    "# Perform an anti-join to find rows in df2 not in df1\n",
    "result = pd.merge(df, test, on=['word1', 'word2'], how='left', indicator=True)\n",
    "result = result[result['_merge'] == 'left_only']\n",
    "\n",
    "# Drop the indicator column to clean up the DataFrame\n",
    "result = result.drop(columns=['_merge'])\n",
    "\n",
    "# Show which words do not belong\n",
    "result"
   ]
  }
 ],
 "metadata": {
  "language_info": {
   "name": "python"
  }
 },
 "nbformat": 4,
 "nbformat_minor": 2
}
