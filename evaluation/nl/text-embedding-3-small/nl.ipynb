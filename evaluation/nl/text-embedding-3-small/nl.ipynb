{
 "cells": [
  {
   "cell_type": "markdown",
   "metadata": {},
   "source": [
    "### **0. Set-up**"
   ]
  },
  {
   "cell_type": "code",
   "execution_count": 1,
   "metadata": {},
   "outputs": [],
   "source": [
    "# Import libraries and utils\n",
    "%run '../../utils.ipynb'"
   ]
  },
  {
   "cell_type": "code",
   "execution_count": 2,
   "metadata": {},
   "outputs": [],
   "source": [
    "# Load predicted\n",
    "raw_predicted = pd.read_csv(\"../../../data/text-embedding-3-small/nl.csv\")\n",
    "\n",
    "# Load actual\n",
    "raw_actual = pd.read_csv(\"../../../data/dataset/cleaned-nl-simlex-999.csv\")"
   ]
  },
  {
   "cell_type": "code",
   "execution_count": 3,
   "metadata": {},
   "outputs": [
    {
     "data": {
      "text/html": [
       "<div>\n",
       "<style scoped>\n",
       "    .dataframe tbody tr th:only-of-type {\n",
       "        vertical-align: middle;\n",
       "    }\n",
       "\n",
       "    .dataframe tbody tr th {\n",
       "        vertical-align: top;\n",
       "    }\n",
       "\n",
       "    .dataframe thead th {\n",
       "        text-align: right;\n",
       "    }\n",
       "</style>\n",
       "<table border=\"1\" class=\"dataframe\">\n",
       "  <thead>\n",
       "    <tr style=\"text-align: right;\">\n",
       "      <th></th>\n",
       "      <th>word1</th>\n",
       "      <th>word2</th>\n",
       "      <th>similarity_score</th>\n",
       "    </tr>\n",
       "  </thead>\n",
       "  <tbody>\n",
       "    <tr>\n",
       "      <th>0</th>\n",
       "      <td>oud</td>\n",
       "      <td>nieuw</td>\n",
       "      <td>0.30</td>\n",
       "    </tr>\n",
       "    <tr>\n",
       "      <th>1</th>\n",
       "      <td>slim</td>\n",
       "      <td>intelligent</td>\n",
       "      <td>0.27</td>\n",
       "    </tr>\n",
       "    <tr>\n",
       "      <th>2</th>\n",
       "      <td>hard</td>\n",
       "      <td>moeilijk</td>\n",
       "      <td>0.47</td>\n",
       "    </tr>\n",
       "    <tr>\n",
       "      <th>3</th>\n",
       "      <td>gelukkig</td>\n",
       "      <td>vrolijk</td>\n",
       "      <td>0.57</td>\n",
       "    </tr>\n",
       "    <tr>\n",
       "      <th>4</th>\n",
       "      <td>hard</td>\n",
       "      <td>stoer</td>\n",
       "      <td>0.24</td>\n",
       "    </tr>\n",
       "    <tr>\n",
       "      <th>...</th>\n",
       "      <td>...</td>\n",
       "      <td>...</td>\n",
       "      <td>...</td>\n",
       "    </tr>\n",
       "    <tr>\n",
       "      <th>992</th>\n",
       "      <td>samenvoegen</td>\n",
       "      <td>verwerven</td>\n",
       "      <td>0.51</td>\n",
       "    </tr>\n",
       "    <tr>\n",
       "      <th>993</th>\n",
       "      <td>sturen</td>\n",
       "      <td>bijwonen</td>\n",
       "      <td>0.49</td>\n",
       "    </tr>\n",
       "    <tr>\n",
       "      <th>994</th>\n",
       "      <td>verzamelen</td>\n",
       "      <td>bijwonen</td>\n",
       "      <td>0.52</td>\n",
       "    </tr>\n",
       "    <tr>\n",
       "      <th>995</th>\n",
       "      <td>opnemen</td>\n",
       "      <td>intrekken</td>\n",
       "      <td>0.57</td>\n",
       "    </tr>\n",
       "    <tr>\n",
       "      <th>996</th>\n",
       "      <td>bijwonen</td>\n",
       "      <td>aankomen</td>\n",
       "      <td>0.53</td>\n",
       "    </tr>\n",
       "  </tbody>\n",
       "</table>\n",
       "<p>997 rows × 3 columns</p>\n",
       "</div>"
      ],
      "text/plain": [
       "           word1        word2  similarity_score\n",
       "0            oud        nieuw              0.30\n",
       "1           slim  intelligent              0.27\n",
       "2           hard     moeilijk              0.47\n",
       "3       gelukkig      vrolijk              0.57\n",
       "4           hard        stoer              0.24\n",
       "..           ...          ...               ...\n",
       "992  samenvoegen    verwerven              0.51\n",
       "993       sturen     bijwonen              0.49\n",
       "994   verzamelen     bijwonen              0.52\n",
       "995      opnemen    intrekken              0.57\n",
       "996     bijwonen     aankomen              0.53\n",
       "\n",
       "[997 rows x 3 columns]"
      ]
     },
     "execution_count": 3,
     "metadata": {},
     "output_type": "execute_result"
    }
   ],
   "source": [
    "# Show results\n",
    "raw_predicted"
   ]
  },
  {
   "cell_type": "markdown",
   "metadata": {},
   "source": [
    "### **1. Data Quality**"
   ]
  },
  {
   "cell_type": "code",
   "execution_count": 4,
   "metadata": {},
   "outputs": [
    {
     "name": "stdout",
     "output_type": "stream",
     "text": [
      "<class 'pandas.core.frame.DataFrame'>\n",
      "RangeIndex: 997 entries, 0 to 996\n",
      "Data columns (total 3 columns):\n",
      " #   Column            Non-Null Count  Dtype  \n",
      "---  ------            --------------  -----  \n",
      " 0   word1             997 non-null    object \n",
      " 1   word2             997 non-null    object \n",
      " 2   similarity_score  997 non-null    float64\n",
      "dtypes: float64(1), object(2)\n",
      "memory usage: 23.5+ KB\n"
     ]
    }
   ],
   "source": [
    "# Basic info\n",
    "raw_predicted.info()"
   ]
  },
  {
   "cell_type": "code",
   "execution_count": 5,
   "metadata": {},
   "outputs": [
    {
     "data": {
      "text/plain": [
       "word1               0\n",
       "word2               0\n",
       "similarity_score    0\n",
       "dtype: int64"
      ]
     },
     "execution_count": 5,
     "metadata": {},
     "output_type": "execute_result"
    }
   ],
   "source": [
    "# Missing values per column\n",
    "raw_predicted.isnull().sum()"
   ]
  },
  {
   "cell_type": "code",
   "execution_count": 6,
   "metadata": {},
   "outputs": [
    {
     "name": "stdout",
     "output_type": "stream",
     "text": [
      "Word pairs in Actual are identical to Predicted: True\n",
      "No differences found\n"
     ]
    }
   ],
   "source": [
    "# Select word pairs and copy\n",
    "wordpairs_predicted = raw_predicted[['word1', 'word2']].copy()\n",
    "wordpairs_actual = raw_actual[['word1', 'word2']].copy()\n",
    "\n",
    "# Remove whitespace\n",
    "wordpairs_actual['word1'] = wordpairs_actual['word1'].replace(\" \", \"\", regex=True)\n",
    "wordpairs_actual['word2'] = wordpairs_actual['word2'].replace(\" \", \"\", regex=True)\n",
    "\n",
    "# Remove whitespace\n",
    "wordpairs_predicted['word1'] = wordpairs_predicted['word1'].replace(\" \", \"\", regex=True)\n",
    "wordpairs_predicted['word2'] = wordpairs_predicted['word2'].replace(\" \", \"\", regex=True)\n",
    "\n",
    "# Check if actual is identical to predicted\n",
    "are_identical = wordpairs_actual.equals(wordpairs_predicted)\n",
    "print(\"Word pairs in Actual are identical to Predicted:\", are_identical)\n",
    "\n",
    "# If not identical, show the differences\n",
    "differences = None\n",
    "if not are_identical:\n",
    "    differences = wordpairs_actual.compare(wordpairs_predicted)\n",
    "    differences.columns = ['Word1 Actual', 'Word1 Predicted', 'Word2 Actual', 'Word2 Predicted']\n",
    "\n",
    "# Show results\n",
    "differences if differences is not None else print(\"No differences found\")"
   ]
  },
  {
   "cell_type": "markdown",
   "metadata": {},
   "source": [
    "### **2. Data Processing**"
   ]
  },
  {
   "cell_type": "code",
   "execution_count": 7,
   "metadata": {},
   "outputs": [
    {
     "data": {
      "text/html": [
       "<div>\n",
       "<style scoped>\n",
       "    .dataframe tbody tr th:only-of-type {\n",
       "        vertical-align: middle;\n",
       "    }\n",
       "\n",
       "    .dataframe tbody tr th {\n",
       "        vertical-align: top;\n",
       "    }\n",
       "\n",
       "    .dataframe thead th {\n",
       "        text-align: right;\n",
       "    }\n",
       "</style>\n",
       "<table border=\"1\" class=\"dataframe\">\n",
       "  <thead>\n",
       "    <tr style=\"text-align: right;\">\n",
       "      <th></th>\n",
       "      <th>word1</th>\n",
       "      <th>word2</th>\n",
       "      <th>pred_sl</th>\n",
       "    </tr>\n",
       "  </thead>\n",
       "  <tbody>\n",
       "    <tr>\n",
       "      <th>0</th>\n",
       "      <td>oud</td>\n",
       "      <td>nieuw</td>\n",
       "      <td>6.50</td>\n",
       "    </tr>\n",
       "    <tr>\n",
       "      <th>1</th>\n",
       "      <td>slim</td>\n",
       "      <td>intelligent</td>\n",
       "      <td>6.35</td>\n",
       "    </tr>\n",
       "    <tr>\n",
       "      <th>2</th>\n",
       "      <td>hard</td>\n",
       "      <td>moeilijk</td>\n",
       "      <td>7.35</td>\n",
       "    </tr>\n",
       "    <tr>\n",
       "      <th>3</th>\n",
       "      <td>gelukkig</td>\n",
       "      <td>vrolijk</td>\n",
       "      <td>7.85</td>\n",
       "    </tr>\n",
       "    <tr>\n",
       "      <th>4</th>\n",
       "      <td>hard</td>\n",
       "      <td>stoer</td>\n",
       "      <td>6.20</td>\n",
       "    </tr>\n",
       "    <tr>\n",
       "      <th>...</th>\n",
       "      <td>...</td>\n",
       "      <td>...</td>\n",
       "      <td>...</td>\n",
       "    </tr>\n",
       "    <tr>\n",
       "      <th>992</th>\n",
       "      <td>samenvoegen</td>\n",
       "      <td>verwerven</td>\n",
       "      <td>7.55</td>\n",
       "    </tr>\n",
       "    <tr>\n",
       "      <th>993</th>\n",
       "      <td>sturen</td>\n",
       "      <td>bijwonen</td>\n",
       "      <td>7.45</td>\n",
       "    </tr>\n",
       "    <tr>\n",
       "      <th>994</th>\n",
       "      <td>verzamelen</td>\n",
       "      <td>bijwonen</td>\n",
       "      <td>7.60</td>\n",
       "    </tr>\n",
       "    <tr>\n",
       "      <th>995</th>\n",
       "      <td>opnemen</td>\n",
       "      <td>intrekken</td>\n",
       "      <td>7.85</td>\n",
       "    </tr>\n",
       "    <tr>\n",
       "      <th>996</th>\n",
       "      <td>bijwonen</td>\n",
       "      <td>aankomen</td>\n",
       "      <td>7.65</td>\n",
       "    </tr>\n",
       "  </tbody>\n",
       "</table>\n",
       "<p>997 rows × 3 columns</p>\n",
       "</div>"
      ],
      "text/plain": [
       "           word1        word2  pred_sl\n",
       "0            oud        nieuw     6.50\n",
       "1           slim  intelligent     6.35\n",
       "2           hard     moeilijk     7.35\n",
       "3       gelukkig      vrolijk     7.85\n",
       "4           hard        stoer     6.20\n",
       "..           ...          ...      ...\n",
       "992  samenvoegen    verwerven     7.55\n",
       "993       sturen     bijwonen     7.45\n",
       "994   verzamelen     bijwonen     7.60\n",
       "995      opnemen    intrekken     7.85\n",
       "996     bijwonen     aankomen     7.65\n",
       "\n",
       "[997 rows x 3 columns]"
      ]
     },
     "execution_count": 7,
     "metadata": {},
     "output_type": "execute_result"
    }
   ],
   "source": [
    "# Copy dataframe\n",
    "predicted = raw_predicted.copy()\n",
    "\n",
    "# Normalize cosine similarity to to 0-10 scale\n",
    "predicted['scaled_similarity_score'] = 5 * (predicted['similarity_score'] + 1)\n",
    "\n",
    "# Rename columns\n",
    "predicted = predicted.rename(columns={'scaled_similarity_score': 'pred_sl'})\n",
    "\n",
    "# Select columns\n",
    "predicted = predicted[['word1', 'word2', 'pred_sl']]\n",
    "\n",
    "# Show results\n",
    "predicted"
   ]
  },
  {
   "cell_type": "code",
   "execution_count": 8,
   "metadata": {},
   "outputs": [
    {
     "data": {
      "text/html": [
       "<div>\n",
       "<style scoped>\n",
       "    .dataframe tbody tr th:only-of-type {\n",
       "        vertical-align: middle;\n",
       "    }\n",
       "\n",
       "    .dataframe tbody tr th {\n",
       "        vertical-align: top;\n",
       "    }\n",
       "\n",
       "    .dataframe thead th {\n",
       "        text-align: right;\n",
       "    }\n",
       "</style>\n",
       "<table border=\"1\" class=\"dataframe\">\n",
       "  <thead>\n",
       "    <tr style=\"text-align: right;\">\n",
       "      <th></th>\n",
       "      <th>word1</th>\n",
       "      <th>word2</th>\n",
       "      <th>act_sl</th>\n",
       "    </tr>\n",
       "  </thead>\n",
       "  <tbody>\n",
       "    <tr>\n",
       "      <th>0</th>\n",
       "      <td>oud</td>\n",
       "      <td>nieuw</td>\n",
       "      <td>1.94</td>\n",
       "    </tr>\n",
       "    <tr>\n",
       "      <th>1</th>\n",
       "      <td>slim</td>\n",
       "      <td>intelligent</td>\n",
       "      <td>8.19</td>\n",
       "    </tr>\n",
       "    <tr>\n",
       "      <th>2</th>\n",
       "      <td>hard</td>\n",
       "      <td>moeilijk</td>\n",
       "      <td>4.46</td>\n",
       "    </tr>\n",
       "    <tr>\n",
       "      <th>3</th>\n",
       "      <td>gelukkig</td>\n",
       "      <td>vrolijk</td>\n",
       "      <td>6.49</td>\n",
       "    </tr>\n",
       "    <tr>\n",
       "      <th>4</th>\n",
       "      <td>hard</td>\n",
       "      <td>stoer</td>\n",
       "      <td>5.69</td>\n",
       "    </tr>\n",
       "    <tr>\n",
       "      <th>...</th>\n",
       "      <td>...</td>\n",
       "      <td>...</td>\n",
       "      <td>...</td>\n",
       "    </tr>\n",
       "    <tr>\n",
       "      <th>992</th>\n",
       "      <td>samenvoegen</td>\n",
       "      <td>verwerven</td>\n",
       "      <td>3.89</td>\n",
       "    </tr>\n",
       "    <tr>\n",
       "      <th>993</th>\n",
       "      <td>sturen</td>\n",
       "      <td>bijwonen</td>\n",
       "      <td>1.85</td>\n",
       "    </tr>\n",
       "    <tr>\n",
       "      <th>994</th>\n",
       "      <td>verzamelen</td>\n",
       "      <td>bijwonen</td>\n",
       "      <td>1.06</td>\n",
       "    </tr>\n",
       "    <tr>\n",
       "      <th>995</th>\n",
       "      <td>opnemen</td>\n",
       "      <td>intrekken</td>\n",
       "      <td>2.29</td>\n",
       "    </tr>\n",
       "    <tr>\n",
       "      <th>996</th>\n",
       "      <td>bijwonen</td>\n",
       "      <td>aankomen</td>\n",
       "      <td>1.32</td>\n",
       "    </tr>\n",
       "  </tbody>\n",
       "</table>\n",
       "<p>997 rows × 3 columns</p>\n",
       "</div>"
      ],
      "text/plain": [
       "           word1        word2  act_sl\n",
       "0            oud        nieuw    1.94\n",
       "1           slim  intelligent    8.19\n",
       "2           hard     moeilijk    4.46\n",
       "3       gelukkig      vrolijk    6.49\n",
       "4           hard        stoer    5.69\n",
       "..           ...          ...     ...\n",
       "992  samenvoegen    verwerven    3.89\n",
       "993       sturen     bijwonen    1.85\n",
       "994   verzamelen     bijwonen    1.06\n",
       "995      opnemen    intrekken    2.29\n",
       "996     bijwonen     aankomen    1.32\n",
       "\n",
       "[997 rows x 3 columns]"
      ]
     },
     "execution_count": 8,
     "metadata": {},
     "output_type": "execute_result"
    }
   ],
   "source": [
    "# Copy dataframe\n",
    "actual = raw_actual.copy()\n",
    "\n",
    "# Rename columns\n",
    "actual = actual.rename(columns={'SimLex999': 'act_sl'})\n",
    "\n",
    "# Select columns\n",
    "actual = actual[['word1', 'word2', 'act_sl']]\n",
    "\n",
    "# Show results\n",
    "actual"
   ]
  },
  {
   "cell_type": "code",
   "execution_count": 9,
   "metadata": {},
   "outputs": [
    {
     "data": {
      "text/html": [
       "<div>\n",
       "<style scoped>\n",
       "    .dataframe tbody tr th:only-of-type {\n",
       "        vertical-align: middle;\n",
       "    }\n",
       "\n",
       "    .dataframe tbody tr th {\n",
       "        vertical-align: top;\n",
       "    }\n",
       "\n",
       "    .dataframe thead th {\n",
       "        text-align: right;\n",
       "    }\n",
       "</style>\n",
       "<table border=\"1\" class=\"dataframe\">\n",
       "  <thead>\n",
       "    <tr style=\"text-align: right;\">\n",
       "      <th></th>\n",
       "      <th>word1</th>\n",
       "      <th>word2</th>\n",
       "      <th>pred_sl</th>\n",
       "      <th>act_sl</th>\n",
       "    </tr>\n",
       "  </thead>\n",
       "  <tbody>\n",
       "    <tr>\n",
       "      <th>0</th>\n",
       "      <td>oud</td>\n",
       "      <td>nieuw</td>\n",
       "      <td>6.50</td>\n",
       "      <td>1.94</td>\n",
       "    </tr>\n",
       "    <tr>\n",
       "      <th>1</th>\n",
       "      <td>slim</td>\n",
       "      <td>intelligent</td>\n",
       "      <td>6.35</td>\n",
       "      <td>8.19</td>\n",
       "    </tr>\n",
       "    <tr>\n",
       "      <th>2</th>\n",
       "      <td>hard</td>\n",
       "      <td>moeilijk</td>\n",
       "      <td>7.35</td>\n",
       "      <td>4.46</td>\n",
       "    </tr>\n",
       "    <tr>\n",
       "      <th>3</th>\n",
       "      <td>gelukkig</td>\n",
       "      <td>vrolijk</td>\n",
       "      <td>7.85</td>\n",
       "      <td>6.49</td>\n",
       "    </tr>\n",
       "    <tr>\n",
       "      <th>4</th>\n",
       "      <td>hard</td>\n",
       "      <td>stoer</td>\n",
       "      <td>6.20</td>\n",
       "      <td>5.69</td>\n",
       "    </tr>\n",
       "    <tr>\n",
       "      <th>...</th>\n",
       "      <td>...</td>\n",
       "      <td>...</td>\n",
       "      <td>...</td>\n",
       "      <td>...</td>\n",
       "    </tr>\n",
       "    <tr>\n",
       "      <th>992</th>\n",
       "      <td>samenvoegen</td>\n",
       "      <td>verwerven</td>\n",
       "      <td>7.55</td>\n",
       "      <td>3.89</td>\n",
       "    </tr>\n",
       "    <tr>\n",
       "      <th>993</th>\n",
       "      <td>sturen</td>\n",
       "      <td>bijwonen</td>\n",
       "      <td>7.45</td>\n",
       "      <td>1.85</td>\n",
       "    </tr>\n",
       "    <tr>\n",
       "      <th>994</th>\n",
       "      <td>verzamelen</td>\n",
       "      <td>bijwonen</td>\n",
       "      <td>7.60</td>\n",
       "      <td>1.06</td>\n",
       "    </tr>\n",
       "    <tr>\n",
       "      <th>995</th>\n",
       "      <td>opnemen</td>\n",
       "      <td>intrekken</td>\n",
       "      <td>7.85</td>\n",
       "      <td>2.29</td>\n",
       "    </tr>\n",
       "    <tr>\n",
       "      <th>996</th>\n",
       "      <td>bijwonen</td>\n",
       "      <td>aankomen</td>\n",
       "      <td>7.65</td>\n",
       "      <td>1.32</td>\n",
       "    </tr>\n",
       "  </tbody>\n",
       "</table>\n",
       "<p>997 rows × 4 columns</p>\n",
       "</div>"
      ],
      "text/plain": [
       "           word1        word2  pred_sl  act_sl\n",
       "0            oud        nieuw     6.50    1.94\n",
       "1           slim  intelligent     6.35    8.19\n",
       "2           hard     moeilijk     7.35    4.46\n",
       "3       gelukkig      vrolijk     7.85    6.49\n",
       "4           hard        stoer     6.20    5.69\n",
       "..           ...          ...      ...     ...\n",
       "992  samenvoegen    verwerven     7.55    3.89\n",
       "993       sturen     bijwonen     7.45    1.85\n",
       "994   verzamelen     bijwonen     7.60    1.06\n",
       "995      opnemen    intrekken     7.85    2.29\n",
       "996     bijwonen     aankomen     7.65    1.32\n",
       "\n",
       "[997 rows x 4 columns]"
      ]
     },
     "execution_count": 9,
     "metadata": {},
     "output_type": "execute_result"
    }
   ],
   "source": [
    "# Merge predicted and actual DataFrames\n",
    "merged = pd.merge(predicted, actual, on=['word1', 'word2'])\n",
    "\n",
    "# Show results\n",
    "merged"
   ]
  },
  {
   "cell_type": "markdown",
   "metadata": {},
   "source": [
    "### **3. Descriptive Statistics**"
   ]
  },
  {
   "cell_type": "code",
   "execution_count": 10,
   "metadata": {},
   "outputs": [
    {
     "data": {
      "text/html": [
       "<div>\n",
       "<style scoped>\n",
       "    .dataframe tbody tr th:only-of-type {\n",
       "        vertical-align: middle;\n",
       "    }\n",
       "\n",
       "    .dataframe tbody tr th {\n",
       "        vertical-align: top;\n",
       "    }\n",
       "\n",
       "    .dataframe thead th {\n",
       "        text-align: right;\n",
       "    }\n",
       "</style>\n",
       "<table border=\"1\" class=\"dataframe\">\n",
       "  <thead>\n",
       "    <tr style=\"text-align: right;\">\n",
       "      <th></th>\n",
       "      <th>pred_sl</th>\n",
       "      <th>act_sl</th>\n",
       "    </tr>\n",
       "  </thead>\n",
       "  <tbody>\n",
       "    <tr>\n",
       "      <th>count</th>\n",
       "      <td>997.00</td>\n",
       "      <td>997.00</td>\n",
       "    </tr>\n",
       "    <tr>\n",
       "      <th>mean</th>\n",
       "      <td>7.16</td>\n",
       "      <td>3.64</td>\n",
       "    </tr>\n",
       "    <tr>\n",
       "      <th>std</th>\n",
       "      <td>0.68</td>\n",
       "      <td>1.99</td>\n",
       "    </tr>\n",
       "    <tr>\n",
       "      <th>min</th>\n",
       "      <td>5.55</td>\n",
       "      <td>0.49</td>\n",
       "    </tr>\n",
       "    <tr>\n",
       "      <th>25%</th>\n",
       "      <td>6.65</td>\n",
       "      <td>1.99</td>\n",
       "    </tr>\n",
       "    <tr>\n",
       "      <th>50%</th>\n",
       "      <td>7.15</td>\n",
       "      <td>3.27</td>\n",
       "    </tr>\n",
       "    <tr>\n",
       "      <th>75%</th>\n",
       "      <td>7.60</td>\n",
       "      <td>5.08</td>\n",
       "    </tr>\n",
       "    <tr>\n",
       "      <th>max</th>\n",
       "      <td>9.60</td>\n",
       "      <td>9.28</td>\n",
       "    </tr>\n",
       "    <tr>\n",
       "      <th>median</th>\n",
       "      <td>7.15</td>\n",
       "      <td>3.27</td>\n",
       "    </tr>\n",
       "  </tbody>\n",
       "</table>\n",
       "</div>"
      ],
      "text/plain": [
       "        pred_sl  act_sl\n",
       "count    997.00  997.00\n",
       "mean       7.16    3.64\n",
       "std        0.68    1.99\n",
       "min        5.55    0.49\n",
       "25%        6.65    1.99\n",
       "50%        7.15    3.27\n",
       "75%        7.60    5.08\n",
       "max        9.60    9.28\n",
       "median     7.15    3.27"
      ]
     },
     "execution_count": 10,
     "metadata": {},
     "output_type": "execute_result"
    }
   ],
   "source": [
    "# Summary statistics SimLex-999\n",
    "pred_sl_summary = round(predicted['pred_sl'].describe(), 2)\n",
    "act_sl_summary = round(actual['act_sl'].describe(), 2)\n",
    "\n",
    "# Add median SimLex-999\n",
    "pred_sl_summary['median'] = round(predicted['pred_sl'].median(), 2)\n",
    "act_sl_summary['median'] = round(actual['act_sl'].median(), 2)\n",
    "\n",
    "# Create pandas DataFrame\n",
    "summary_df = pd.DataFrame({\n",
    "    \"pred_sl\": pred_sl_summary,\n",
    "    \"act_sl\": act_sl_summary\n",
    "})\n",
    "\n",
    "# Show results\n",
    "summary_df"
   ]
  },
  {
   "cell_type": "markdown",
   "metadata": {},
   "source": [
    "#### **3.1. SimLex-999**"
   ]
  },
  {
   "cell_type": "code",
   "execution_count": 11,
   "metadata": {},
   "outputs": [
    {
     "data": {
      "image/png": "[encoded data removed]",
      "text/plain": [
       "<Figure size 600x600 with 1 Axes>"
      ]
     },
     "metadata": {},
     "output_type": "display_data"
    }
   ],
   "source": [
    "# Rename columns and copy\n",
    "renamed_pred_sl = predicted.rename(columns={\"pred_sl\": \"SimLex-999\"}).copy()\n",
    "renamed_act_sl = actual.rename(columns={\"act_sl\": \"SimLex-999\"}).copy()\n",
    "\n",
    "# Create dummy label\n",
    "renamed_pred_sl['Score'] = 'Predicted'\n",
    "renamed_act_sl['Score'] = 'Actual'\n",
    "\n",
    "# Combine DataFrames\n",
    "combined_data = pd.concat([renamed_pred_sl, renamed_act_sl])\n",
    "\n",
    "# Create boxplot\n",
    "plt.figure(figsize=(6, 6))\n",
    "sns.boxplot(\n",
    "    x='Score',\n",
    "    y='SimLex-999',\n",
    "    data=combined_data,\n",
    "    palette=['skyblue', 'lightgreen'],\n",
    "    boxprops={'edgecolor': 'black'},\n",
    "    whiskerprops={'color': 'black'},\n",
    "    flierprops={'marker': 'o', 'color': 'black', 'markerfacecolor': 'black'},\n",
    "    capprops={'color': 'black'},\n",
    "    medianprops={'color': 'black'}\n",
    ")\n",
    "\n",
    "# Set labels and title\n",
    "plt.ylabel('SimLex-999')\n",
    "# plt.title('Comparison of SimLex-999')\n",
    "\n",
    "# Customize y-axis ticks\n",
    "plt.gca().yaxis.set_major_locator(ticker.MaxNLocator(integer=True))\n",
    "plt.ylim(0, 10)  # Setting y-axis limits from 0 to 10\n",
    "\n",
    "# Remove x-axis label\n",
    "plt.xlabel('')\n",
    "\n",
    "# Adjust layout\n",
    "plt.tight_layout()\n",
    "\n",
    "# Show results\n",
    "plt.show()"
   ]
  },
  {
   "cell_type": "markdown",
   "metadata": {},
   "source": [
    "### **4. Distributions**"
   ]
  },
  {
   "cell_type": "markdown",
   "metadata": {},
   "source": [
    "#### **4.1. SimLex-999**"
   ]
  },
  {
   "cell_type": "code",
   "execution_count": 12,
   "metadata": {},
   "outputs": [
    {
     "data": {
      "image/png": "[encoded data removed]",
      "text/plain": [
       "<Figure size 1000x400 with 2 Axes>"
      ]
     },
     "metadata": {},
     "output_type": "display_data"
    }
   ],
   "source": [
    "# Create figure with two subplots\n",
    "fig, axes = plt.subplots(1, 2, figsize=(10, 4))\n",
    "\n",
    "# Define x-axis limits\n",
    "x_min = 0\n",
    "x_max = 10\n",
    "\n",
    "# Define bins\n",
    "bins = 10\n",
    "\n",
    "# Plot predicted histogram\n",
    "axes[0].hist(renamed_pred_sl['SimLex-999'], bins=bins, edgecolor='black', color='skyblue')\n",
    "axes[0].set_title('Predicted')\n",
    "axes[0].set_xlabel('SimLex-999')\n",
    "axes[0].set_ylabel('Frequency')\n",
    "axes[0].set_xlim(x_min, x_max)\n",
    "axes[0].xaxis.set_major_locator(ticker.MaxNLocator(integer=True))\n",
    "axes[0].grid(False) # Remove grid\n",
    "\n",
    "# Plot actual histogram\n",
    "axes[1].hist(renamed_act_sl['SimLex-999'], bins=bins, edgecolor='black', color='lightgreen')\n",
    "axes[1].set_title('Actual')\n",
    "axes[1].set_xlabel('SimLex-999')\n",
    "axes[1].set_ylabel('Frequency')\n",
    "axes[1].set_xlim(x_min, x_max)\n",
    "axes[1].xaxis.set_major_locator(ticker.MaxNLocator(integer=True))\n",
    "axes[1].grid(False) # Remove grid\n",
    "\n",
    "# Adjust layout\n",
    "plt.tight_layout()\n",
    "\n",
    "# Show results\n",
    "plt.show()"
   ]
  },
  {
   "cell_type": "markdown",
   "metadata": {},
   "source": [
    "### **5. Outliers**"
   ]
  },
  {
   "cell_type": "markdown",
   "metadata": {},
   "source": [
    "#### **5.1. Predicted**"
   ]
  },
  {
   "cell_type": "code",
   "execution_count": 13,
   "metadata": {},
   "outputs": [
    {
     "name": "stdout",
     "output_type": "stream",
     "text": [
      "Outliers in pred_sl: 9\n"
     ]
    }
   ],
   "source": [
    "# Count outliers\n",
    "print_outlier_counts(predicted)"
   ]
  },
  {
   "cell_type": "code",
   "execution_count": 14,
   "metadata": {},
   "outputs": [
    {
     "name": "stdout",
     "output_type": "stream",
     "text": [
      "\n",
      "Outliers in pred_sl:\n",
      "            word1         word2  pred_sl\n",
      "109    echtgenote    echtgenoot     9.25\n",
      "125       actrice        acteur     9.35\n",
      "141          taxi         taxis     9.15\n",
      "209   afwezigheid  aanwezigheid     9.60\n",
      "569  gelukkigheid         geluk     9.20\n",
      "777     luisteren         horen     9.10\n",
      "793   aanmoedigen   ontmoedigen     9.05\n",
      "838     deelnemen       meedoen     9.15\n",
      "886   verkondigen   aankondigen     9.15\n"
     ]
    }
   ],
   "source": [
    "# Row outliers\n",
    "print_outlier_data(predicted, 'pred_sl')"
   ]
  },
  {
   "cell_type": "markdown",
   "metadata": {},
   "source": [
    "#### **5.2. Actual**"
   ]
  },
  {
   "cell_type": "code",
   "execution_count": 15,
   "metadata": {},
   "outputs": [
    {
     "name": "stdout",
     "output_type": "stream",
     "text": [
      "No outliers found in columns: act_sl\n"
     ]
    }
   ],
   "source": [
    "# Count outliers\n",
    "print_outlier_counts(actual)"
   ]
  },
  {
   "cell_type": "code",
   "execution_count": 16,
   "metadata": {},
   "outputs": [
    {
     "name": "stdout",
     "output_type": "stream",
     "text": [
      "No outliers found in act_sl\n"
     ]
    }
   ],
   "source": [
    "# Row outliers\n",
    "print_outlier_data(actual, 'act_sl')"
   ]
  },
  {
   "cell_type": "markdown",
   "metadata": {},
   "source": [
    "#### **5.3. Add to Summary**"
   ]
  },
  {
   "cell_type": "code",
   "execution_count": 17,
   "metadata": {},
   "outputs": [
    {
     "data": {
      "text/html": [
       "<div>\n",
       "<style scoped>\n",
       "    .dataframe tbody tr th:only-of-type {\n",
       "        vertical-align: middle;\n",
       "    }\n",
       "\n",
       "    .dataframe tbody tr th {\n",
       "        vertical-align: top;\n",
       "    }\n",
       "\n",
       "    .dataframe thead th {\n",
       "        text-align: right;\n",
       "    }\n",
       "</style>\n",
       "<table border=\"1\" class=\"dataframe\">\n",
       "  <thead>\n",
       "    <tr style=\"text-align: right;\">\n",
       "      <th></th>\n",
       "      <th>pred_sl</th>\n",
       "      <th>act_sl</th>\n",
       "    </tr>\n",
       "  </thead>\n",
       "  <tbody>\n",
       "    <tr>\n",
       "      <th>count</th>\n",
       "      <td>997.00</td>\n",
       "      <td>997.00</td>\n",
       "    </tr>\n",
       "    <tr>\n",
       "      <th>mean</th>\n",
       "      <td>7.16</td>\n",
       "      <td>3.64</td>\n",
       "    </tr>\n",
       "    <tr>\n",
       "      <th>std</th>\n",
       "      <td>0.68</td>\n",
       "      <td>1.99</td>\n",
       "    </tr>\n",
       "    <tr>\n",
       "      <th>min</th>\n",
       "      <td>5.55</td>\n",
       "      <td>0.49</td>\n",
       "    </tr>\n",
       "    <tr>\n",
       "      <th>25%</th>\n",
       "      <td>6.65</td>\n",
       "      <td>1.99</td>\n",
       "    </tr>\n",
       "    <tr>\n",
       "      <th>50%</th>\n",
       "      <td>7.15</td>\n",
       "      <td>3.27</td>\n",
       "    </tr>\n",
       "    <tr>\n",
       "      <th>75%</th>\n",
       "      <td>7.60</td>\n",
       "      <td>5.08</td>\n",
       "    </tr>\n",
       "    <tr>\n",
       "      <th>max</th>\n",
       "      <td>9.60</td>\n",
       "      <td>9.28</td>\n",
       "    </tr>\n",
       "    <tr>\n",
       "      <th>median</th>\n",
       "      <td>7.15</td>\n",
       "      <td>3.27</td>\n",
       "    </tr>\n",
       "    <tr>\n",
       "      <th>outliers</th>\n",
       "      <td>9.00</td>\n",
       "      <td>0.00</td>\n",
       "    </tr>\n",
       "  </tbody>\n",
       "</table>\n",
       "</div>"
      ],
      "text/plain": [
       "          pred_sl  act_sl\n",
       "count      997.00  997.00\n",
       "mean         7.16    3.64\n",
       "std          0.68    1.99\n",
       "min          5.55    0.49\n",
       "25%          6.65    1.99\n",
       "50%          7.15    3.27\n",
       "75%          7.60    5.08\n",
       "max          9.60    9.28\n",
       "median       7.15    3.27\n",
       "outliers     9.00    0.00"
      ]
     },
     "execution_count": 17,
     "metadata": {},
     "output_type": "execute_result"
    }
   ],
   "source": [
    "# Calculate outliers\n",
    "outliers_pred_sl = calculate_outliers(predicted, 'pred_sl')\n",
    "outliers_act_sl = calculate_outliers(actual, 'act_sl')\n",
    "\n",
    "# Count outliers\n",
    "count_outliers_pred_sl = outliers_pred_sl.shape[0]\n",
    "count_outliers_act_sl = outliers_act_sl.shape[0]\n",
    "\n",
    "# Add outliers count to summary\n",
    "outliers_row = pd.Series([count_outliers_pred_sl, count_outliers_act_sl], \n",
    "    index=summary_df.columns,\n",
    "    name='outliers'\n",
    ")\n",
    "summary_df = pd.concat([summary_df, outliers_row.to_frame().T])\n",
    "\n",
    "# Show results\n",
    "summary_df"
   ]
  },
  {
   "cell_type": "markdown",
   "metadata": {},
   "source": [
    "### **6. Evaluation Metrics**"
   ]
  },
  {
   "cell_type": "markdown",
   "metadata": {},
   "source": [
    "#### **6.1. Spearmans's Rank Correlation**"
   ]
  },
  {
   "cell_type": "markdown",
   "metadata": {},
   "source": [
    "##### **6.1.1. Actual SimLex-999 vs Predicted SimLex-999**"
   ]
  },
  {
   "cell_type": "code",
   "execution_count": 18,
   "metadata": {},
   "outputs": [
    {
     "data": {
      "image/png": "[encoded data removed]",
      "text/plain": [
       "<Figure size 700x500 with 1 Axes>"
      ]
     },
     "metadata": {},
     "output_type": "display_data"
    }
   ],
   "source": [
    "# Scatter plot\n",
    "plot_scatter_plot(merged, 'pred_sl', 'act_sl', 'Predicted SimLex-999', 'Actual SimLex-999', 0, 10, 0, 10)"
   ]
  },
  {
   "cell_type": "code",
   "execution_count": 19,
   "metadata": {},
   "outputs": [
    {
     "name": "stdout",
     "output_type": "stream",
     "text": [
      "Spearman's Rank correlation: 0.33658\n",
      "P-value: 7.852817174863958e-28\n",
      "The correlation is statistically significant.\n",
      "\n"
     ]
    }
   ],
   "source": [
    "# Correlation and pvalue\n",
    "print_correlation_and_pvalue(merged, 'pred_sl', 'act_sl')"
   ]
  },
  {
   "cell_type": "markdown",
   "metadata": {},
   "source": [
    "#### **6.2. Mean Square Error (MSE)**"
   ]
  },
  {
   "cell_type": "code",
   "execution_count": 20,
   "metadata": {},
   "outputs": [
    {
     "name": "stdout",
     "output_type": "stream",
     "text": [
      "Mean Squared Error (MSE): 15.82\n"
     ]
    }
   ],
   "source": [
    "# Calculate Mean Squared Error\n",
    "mse = mean_squared_error(merged['pred_sl'], merged['act_sl'])\n",
    "\n",
    "# Show results\n",
    "print(f\"Mean Squared Error (MSE): {mse:.2f}\")"
   ]
  },
  {
   "cell_type": "markdown",
   "metadata": {},
   "source": [
    "#### **6.3. Mean Absolute Error (MAE)**"
   ]
  },
  {
   "cell_type": "code",
   "execution_count": 21,
   "metadata": {},
   "outputs": [
    {
     "name": "stdout",
     "output_type": "stream",
     "text": [
      "Mean Absolute Error (MAE): 3.59\n"
     ]
    }
   ],
   "source": [
    "# Calculate Mean Absolute Error\n",
    "mae = mean_absolute_error(merged['pred_sl'], merged['act_sl'])\n",
    "\n",
    "# Show results\n",
    "print(f\"Mean Absolute Error (MAE): {mae:.2f}\")"
   ]
  }
 ],
 "metadata": {
  "kernelspec": {
   "display_name": "base",
   "language": "python",
   "name": "python3"
  },
  "language_info": {
   "codemirror_mode": {
    "name": "ipython",
    "version": 3
   },
   "file_extension": ".py",
   "mimetype": "text/x-python",
   "name": "python",
   "nbconvert_exporter": "python",
   "pygments_lexer": "ipython3",
   "version": "3.8.8"
  }
 },
 "nbformat": 4,
 "nbformat_minor": 2
}
