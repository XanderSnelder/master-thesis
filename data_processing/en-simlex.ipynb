{
 "cells": [
  {
   "cell_type": "code",
   "execution_count": 1,
   "metadata": {},
   "outputs": [],
   "source": [
    "import pandas as pd"
   ]
  },
  {
   "cell_type": "code",
   "execution_count": 3,
   "metadata": {},
   "outputs": [],
   "source": [
    "# Load dataframe\n",
    "en_simlex = pd.read_csv(\"../data/raw_data/en-simlex-999.txt\", delimiter='\\t')"
   ]
  },
  {
   "cell_type": "code",
   "execution_count": 4,
   "metadata": {},
   "outputs": [
    {
     "name": "stdout",
     "output_type": "stream",
     "text": [
      "Empty DataFrame\n",
      "Columns: [word1, word2, POS, SimLex999, conc(w1), conc(w2), concQ, Assoc(USF), SimAssoc333, SD(SimLex), Combined_Columns]\n",
      "Index: []\n"
     ]
    }
   ],
   "source": [
    "# Create combined column\n",
    "en_simlex['Combined_Columns'] = en_simlex['word1'] + '_' + en_simlex['word2']\n",
    "\n",
    "# Check for duplicate word pairws\n",
    "duplicate_combinations = en_simlex.duplicated(subset='Combined_Columns', keep=False)\n",
    "\n",
    "# Print rows with duplicate word pairs\n",
    "print(en_simlex[duplicate_combinations])"
   ]
  },
  {
   "cell_type": "markdown",
   "metadata": {},
   "source": [
    "No duplicate columns found"
   ]
  },
  {
   "cell_type": "markdown",
   "metadata": {},
   "source": []
  }
 ],
 "metadata": {
  "kernelspec": {
   "display_name": "base",
   "language": "python",
   "name": "python3"
  },
  "language_info": {
   "codemirror_mode": {
    "name": "ipython",
    "version": 3
   },
   "file_extension": ".py",
   "mimetype": "text/x-python",
   "name": "python",
   "nbconvert_exporter": "python",
   "pygments_lexer": "ipython3",
   "version": "3.8.8"
  }
 },
 "nbformat": 4,
 "nbformat_minor": 2
}
