{
 "cells": [
  {
   "cell_type": "code",
   "execution_count": 2,
   "metadata": {},
   "outputs": [],
   "source": [
    "import pandas as pd"
   ]
  },
  {
   "cell_type": "code",
   "execution_count": 13,
   "metadata": {},
   "outputs": [
    {
     "data": {
      "text/html": [
       "<div>\n",
       "<style scoped>\n",
       "    .dataframe tbody tr th:only-of-type {\n",
       "        vertical-align: middle;\n",
       "    }\n",
       "\n",
       "    .dataframe tbody tr th {\n",
       "        vertical-align: top;\n",
       "    }\n",
       "\n",
       "    .dataframe thead th {\n",
       "        text-align: right;\n",
       "    }\n",
       "</style>\n",
       "<table border=\"1\" class=\"dataframe\">\n",
       "  <thead>\n",
       "    <tr style=\"text-align: right;\">\n",
       "      <th></th>\n",
       "      <th>word1</th>\n",
       "      <th>word2</th>\n",
       "      <th>SimLex999</th>\n",
       "      <th>POS</th>\n",
       "    </tr>\n",
       "  </thead>\n",
       "  <tbody>\n",
       "    <tr>\n",
       "      <th>0</th>\n",
       "      <td>oud</td>\n",
       "      <td>nieuw</td>\n",
       "      <td>1.94</td>\n",
       "      <td>A</td>\n",
       "    </tr>\n",
       "    <tr>\n",
       "      <th>1</th>\n",
       "      <td>slim</td>\n",
       "      <td>intelligent</td>\n",
       "      <td>8.19</td>\n",
       "      <td>A</td>\n",
       "    </tr>\n",
       "    <tr>\n",
       "      <th>2</th>\n",
       "      <td>hard</td>\n",
       "      <td>moeilijk</td>\n",
       "      <td>4.46</td>\n",
       "      <td>A</td>\n",
       "    </tr>\n",
       "    <tr>\n",
       "      <th>3</th>\n",
       "      <td>gelukkig</td>\n",
       "      <td>vrolijk</td>\n",
       "      <td>6.49</td>\n",
       "      <td>A</td>\n",
       "    </tr>\n",
       "    <tr>\n",
       "      <th>4</th>\n",
       "      <td>hard</td>\n",
       "      <td>stoer</td>\n",
       "      <td>5.69</td>\n",
       "      <td>A</td>\n",
       "    </tr>\n",
       "    <tr>\n",
       "      <th>...</th>\n",
       "      <td>...</td>\n",
       "      <td>...</td>\n",
       "      <td>...</td>\n",
       "      <td>...</td>\n",
       "    </tr>\n",
       "    <tr>\n",
       "      <th>994</th>\n",
       "      <td>samenvoegen</td>\n",
       "      <td>verwerven</td>\n",
       "      <td>3.89</td>\n",
       "      <td>V</td>\n",
       "    </tr>\n",
       "    <tr>\n",
       "      <th>995</th>\n",
       "      <td>sturen</td>\n",
       "      <td>bijwonen</td>\n",
       "      <td>1.85</td>\n",
       "      <td>V</td>\n",
       "    </tr>\n",
       "    <tr>\n",
       "      <th>996</th>\n",
       "      <td>verzamelen</td>\n",
       "      <td>bijwonen</td>\n",
       "      <td>1.06</td>\n",
       "      <td>V</td>\n",
       "    </tr>\n",
       "    <tr>\n",
       "      <th>997</th>\n",
       "      <td>opnemen</td>\n",
       "      <td>intrekken</td>\n",
       "      <td>2.29</td>\n",
       "      <td>V</td>\n",
       "    </tr>\n",
       "    <tr>\n",
       "      <th>998</th>\n",
       "      <td>bijwonen</td>\n",
       "      <td>aankomen</td>\n",
       "      <td>1.32</td>\n",
       "      <td>V</td>\n",
       "    </tr>\n",
       "  </tbody>\n",
       "</table>\n",
       "<p>999 rows × 4 columns</p>\n",
       "</div>"
      ],
      "text/plain": [
       "           word1        word2  SimLex999 POS\n",
       "0            oud        nieuw       1.94   A\n",
       "1           slim  intelligent       8.19   A\n",
       "2           hard     moeilijk       4.46   A\n",
       "3       gelukkig      vrolijk       6.49   A\n",
       "4           hard        stoer       5.69   A\n",
       "..           ...          ...        ...  ..\n",
       "994  samenvoegen    verwerven       3.89   V\n",
       "995       sturen     bijwonen       1.85   V\n",
       "996   verzamelen     bijwonen       1.06   V\n",
       "997      opnemen    intrekken       2.29   V\n",
       "998     bijwonen     aankomen       1.32   V\n",
       "\n",
       "[999 rows x 4 columns]"
      ]
     },
     "execution_count": 13,
     "metadata": {},
     "output_type": "execute_result"
    }
   ],
   "source": [
    "# Load dataframe\n",
    "nl_simlex = pd.read_csv(\"../data/raw_data/nl-simlex-999.txt\", delimiter='\\t')\n",
    "\n",
    "# Show dataframe\n",
    "nl_simlex"
   ]
  },
  {
   "cell_type": "code",
   "execution_count": 14,
   "metadata": {},
   "outputs": [
    {
     "name": "stdout",
     "output_type": "stream",
     "text": [
      "     word1      word2  SimLex999 POS  Combined_Columns\n",
      "11  slecht  vreselijk       5.91   A  slecht_vreselijk\n",
      "13  slecht  vreselijk       7.53   A  slecht_vreselijk\n"
     ]
    }
   ],
   "source": [
    "# Create combined column\n",
    "nl_simlex['Combined_Columns'] = nl_simlex['word1'] + '_' + nl_simlex['word2']\n",
    "\n",
    "# Check for duplicate word pairws\n",
    "duplicate_combinations = nl_simlex.duplicated(subset='Combined_Columns', keep=False)\n",
    "\n",
    "# Print rows with duplicate word pairs\n",
    "print(nl_simlex[duplicate_combinations])"
   ]
  },
  {
   "cell_type": "code",
   "execution_count": 15,
   "metadata": {},
   "outputs": [
    {
     "data": {
      "text/plain": [
       "word1                      taxi\n",
       "word2                     taxis\n",
       "SimLex999                  8.17\n",
       "POS                           N\n",
       "Combined_Columns    taxi_taxi's\n",
       "Name: 143, dtype: object"
      ]
     },
     "execution_count": 15,
     "metadata": {},
     "output_type": "execute_result"
    }
   ],
   "source": [
    "# Replace \"taxi's\" with \"taxis\" to prevent error\n",
    "nl_simlex.loc[143, \"word2\"] = \"taxis\"\n",
    "\n",
    "# Show results\n",
    "nl_simlex.loc[143]"
   ]
  },
  {
   "cell_type": "code",
   "execution_count": 16,
   "metadata": {},
   "outputs": [
    {
     "data": {
      "text/html": [
       "<div>\n",
       "<style scoped>\n",
       "    .dataframe tbody tr th:only-of-type {\n",
       "        vertical-align: middle;\n",
       "    }\n",
       "\n",
       "    .dataframe tbody tr th {\n",
       "        vertical-align: top;\n",
       "    }\n",
       "\n",
       "    .dataframe thead th {\n",
       "        text-align: right;\n",
       "    }\n",
       "</style>\n",
       "<table border=\"1\" class=\"dataframe\">\n",
       "  <thead>\n",
       "    <tr style=\"text-align: right;\">\n",
       "      <th></th>\n",
       "      <th>word1</th>\n",
       "      <th>word2</th>\n",
       "      <th>SimLex999</th>\n",
       "      <th>POS</th>\n",
       "      <th>Combined_Columns</th>\n",
       "    </tr>\n",
       "  </thead>\n",
       "  <tbody>\n",
       "    <tr>\n",
       "      <th>0</th>\n",
       "      <td>oud</td>\n",
       "      <td>nieuw</td>\n",
       "      <td>1.94</td>\n",
       "      <td>A</td>\n",
       "      <td>oud_nieuw</td>\n",
       "    </tr>\n",
       "    <tr>\n",
       "      <th>1</th>\n",
       "      <td>slim</td>\n",
       "      <td>intelligent</td>\n",
       "      <td>8.19</td>\n",
       "      <td>A</td>\n",
       "      <td>slim_intelligent</td>\n",
       "    </tr>\n",
       "    <tr>\n",
       "      <th>2</th>\n",
       "      <td>hard</td>\n",
       "      <td>moeilijk</td>\n",
       "      <td>4.46</td>\n",
       "      <td>A</td>\n",
       "      <td>hard_moeilijk</td>\n",
       "    </tr>\n",
       "    <tr>\n",
       "      <th>3</th>\n",
       "      <td>gelukkig</td>\n",
       "      <td>vrolijk</td>\n",
       "      <td>6.49</td>\n",
       "      <td>A</td>\n",
       "      <td>gelukkig_vrolijk</td>\n",
       "    </tr>\n",
       "    <tr>\n",
       "      <th>4</th>\n",
       "      <td>hard</td>\n",
       "      <td>stoer</td>\n",
       "      <td>5.69</td>\n",
       "      <td>A</td>\n",
       "      <td>hard_stoer</td>\n",
       "    </tr>\n",
       "    <tr>\n",
       "      <th>...</th>\n",
       "      <td>...</td>\n",
       "      <td>...</td>\n",
       "      <td>...</td>\n",
       "      <td>...</td>\n",
       "      <td>...</td>\n",
       "    </tr>\n",
       "    <tr>\n",
       "      <th>992</th>\n",
       "      <td>samenvoegen</td>\n",
       "      <td>verwerven</td>\n",
       "      <td>3.89</td>\n",
       "      <td>V</td>\n",
       "      <td>samenvoegen_verwerven</td>\n",
       "    </tr>\n",
       "    <tr>\n",
       "      <th>993</th>\n",
       "      <td>sturen</td>\n",
       "      <td>bijwonen</td>\n",
       "      <td>1.85</td>\n",
       "      <td>V</td>\n",
       "      <td>sturen_bijwonen</td>\n",
       "    </tr>\n",
       "    <tr>\n",
       "      <th>994</th>\n",
       "      <td>verzamelen</td>\n",
       "      <td>bijwonen</td>\n",
       "      <td>1.06</td>\n",
       "      <td>V</td>\n",
       "      <td>verzamelen_bijwonen</td>\n",
       "    </tr>\n",
       "    <tr>\n",
       "      <th>995</th>\n",
       "      <td>opnemen</td>\n",
       "      <td>intrekken</td>\n",
       "      <td>2.29</td>\n",
       "      <td>V</td>\n",
       "      <td>opnemen_intrekken</td>\n",
       "    </tr>\n",
       "    <tr>\n",
       "      <th>996</th>\n",
       "      <td>bijwonen</td>\n",
       "      <td>aankomen</td>\n",
       "      <td>1.32</td>\n",
       "      <td>V</td>\n",
       "      <td>bijwonen_aankomen</td>\n",
       "    </tr>\n",
       "  </tbody>\n",
       "</table>\n",
       "<p>997 rows × 5 columns</p>\n",
       "</div>"
      ],
      "text/plain": [
       "           word1        word2  SimLex999 POS       Combined_Columns\n",
       "0            oud        nieuw       1.94   A              oud_nieuw\n",
       "1           slim  intelligent       8.19   A       slim_intelligent\n",
       "2           hard     moeilijk       4.46   A          hard_moeilijk\n",
       "3       gelukkig      vrolijk       6.49   A       gelukkig_vrolijk\n",
       "4           hard        stoer       5.69   A             hard_stoer\n",
       "..           ...          ...        ...  ..                    ...\n",
       "992  samenvoegen    verwerven       3.89   V  samenvoegen_verwerven\n",
       "993       sturen     bijwonen       1.85   V        sturen_bijwonen\n",
       "994   verzamelen     bijwonen       1.06   V    verzamelen_bijwonen\n",
       "995      opnemen    intrekken       2.29   V      opnemen_intrekken\n",
       "996     bijwonen     aankomen       1.32   V      bijwonen_aankomen\n",
       "\n",
       "[997 rows x 5 columns]"
      ]
     },
     "execution_count": 16,
     "metadata": {},
     "output_type": "execute_result"
    }
   ],
   "source": [
    "# Replace 'vreselijk' with 'afschuwelijk' in row 11 (slecht, vreselijk is duplicate)\n",
    "# nl_simlex.loc[11, 'word2'] = 'afschuwelijk'\n",
    "\n",
    "# Find indices with the duplicate word pairs: 'slecht', 'vreselijk'\n",
    "indices_to_drop = nl_simlex[(nl_simlex['word1'] == 'slecht') & (nl_simlex['word2'] == 'vreselijk')].index\n",
    "\n",
    "# Drop these rows and reset the index\n",
    "nl_simlex.drop(indices_to_drop, inplace=True)\n",
    "nl_simlex.reset_index(drop=True, inplace=True)\n",
    "\n",
    "# Show results\n",
    "nl_simlex"
   ]
  },
  {
   "cell_type": "markdown",
   "metadata": {},
   "source": [
    "Double check for duplicates"
   ]
  },
  {
   "cell_type": "code",
   "execution_count": 17,
   "metadata": {},
   "outputs": [
    {
     "name": "stdout",
     "output_type": "stream",
     "text": [
      "Empty DataFrame\n",
      "Columns: [word1, word2, SimLex999, POS, Combined_Columns]\n",
      "Index: []\n"
     ]
    }
   ],
   "source": [
    "# Create combined column\n",
    "nl_simlex['Combined_Columns'] = nl_simlex['word1'] + '_' + nl_simlex['word2']\n",
    "\n",
    "# Check for duplicate word pairws\n",
    "duplicate_combinations = nl_simlex.duplicated(subset='Combined_Columns', keep=False)\n",
    "\n",
    "# Print rows with duplicate word pairs\n",
    "print(nl_simlex[duplicate_combinations])"
   ]
  },
  {
   "cell_type": "code",
   "execution_count": 18,
   "metadata": {},
   "outputs": [],
   "source": [
    "# Drop irrelevant column\n",
    "nl_simlex = nl_simlex.drop(\"Combined_Columns\", axis=1)\n"
   ]
  },
  {
   "cell_type": "code",
   "execution_count": 19,
   "metadata": {},
   "outputs": [],
   "source": [
    "# Export cleaned DataFrame to CSV\n",
    "nl_simlex.to_csv('../data/cleaned_data/cleaned-nl-simlex-999.csv', index=False)"
   ]
  },
  {
   "cell_type": "code",
   "execution_count": null,
   "metadata": {},
   "outputs": [],
   "source": []
  }
 ],
 "metadata": {
  "kernelspec": {
   "display_name": "base",
   "language": "python",
   "name": "python3"
  },
  "language_info": {
   "codemirror_mode": {
    "name": "ipython",
    "version": 3
   },
   "file_extension": ".py",
   "mimetype": "text/x-python",
   "name": "python",
   "nbconvert_exporter": "python",
   "pygments_lexer": "ipython3",
   "version": "3.8.8"
  }
 },
 "nbformat": 4,
 "nbformat_minor": 2
}
