{
 "cells": [
  {
   "cell_type": "code",
   "execution_count": null,
   "metadata": {},
   "outputs": [],
   "source": [
    "import pandas as pd\n",
    "import matplotlib.pyplot as plt\n",
    "import seaborn as sns\n",
    "import matplotlib.ticker as ticker\n",
    "from scipy.stats import pearsonr\n",
    "from scipy.stats import spearmanr"
   ]
  },
  {
   "cell_type": "code",
   "execution_count": null,
   "metadata": {},
   "outputs": [],
   "source": [
    "def calculate_outliers(dataframe, column):\n",
    "    q1 = dataframe[column].quantile(0.25)\n",
    "    q3 = dataframe[column].quantile(0.75)\n",
    "    iqr = q3 - q1\n",
    "    lower_bound = q1 - 1.5 * iqr\n",
    "    upper_bound = q3 + 1.5 * iqr\n",
    "    outliers = dataframe[(dataframe[column] < lower_bound) | (dataframe[column] > upper_bound)]\n",
    "    return outliers"
   ]
  },
  {
   "cell_type": "code",
   "execution_count": null,
   "metadata": {},
   "outputs": [],
   "source": [
    "def print_outlier_counts(dataframe):\n",
    "    columns_with_no_outliers = []\n",
    "    for col in dataframe.select_dtypes(include='number').columns:\n",
    "        outliers = calculate_outliers(dataframe, col)\n",
    "        if outliers.empty:\n",
    "            columns_with_no_outliers.append(col)\n",
    "        else:\n",
    "            print(f\"Outliers in {col}: {outliers.shape[0]}\")\n",
    "    \n",
    "    if columns_with_no_outliers:\n",
    "        print(f\"No outliers found in columns: {', '.join(columns_with_no_outliers)}\")"
   ]
  },
  {
   "cell_type": "code",
   "execution_count": null,
   "metadata": {},
   "outputs": [],
   "source": [
    "def print_outlier_data(dataframe, col):\n",
    "    if col in dataframe.columns:\n",
    "        outliers = calculate_outliers(dataframe, col)\n",
    "        if not outliers.empty:\n",
    "            print(f\"\\nOutliers in {col}:\")\n",
    "            print(outliers)\n",
    "        else:\n",
    "            print(f\"No outliers found in {col}\")"
   ]
  },
  {
   "cell_type": "code",
   "execution_count": null,
   "metadata": {},
   "outputs": [],
   "source": [
    "def plot_feature_by_pos(dataframe, column):\n",
    "    # Group by POS and calculate mean of feature\n",
    "    grouped_data = dataframe.groupby('POS')[column].mean()\n",
    "\n",
    "    # Bar plot\n",
    "    sns.barplot(x=grouped_data.index, y=grouped_data.values, edgecolor='black')\n",
    "    # plt.title(f'Mean {column} by POS')\n",
    "    plt.xlabel(f'Part of Speech (POS)')\n",
    "    plt.ylabel(f'Mean {column}')\n",
    "    plt.show()"
   ]
  },
  {
   "cell_type": "code",
   "execution_count": null,
   "metadata": {},
   "outputs": [],
   "source": [
    "def print_mean_per_pos(dataframe, column):\n",
    "    means = dataframe.groupby('POS')[column].mean().round(2)\n",
    "    print(means)"
   ]
  },
  {
   "cell_type": "code",
   "execution_count": null,
   "metadata": {},
   "outputs": [],
   "source": [
    "def calculate_correlation_and_pvalue(dataframe, simlex999, standard_deviation):\n",
    "    corr, p_value = spearmanr(dataframe[simlex999], dataframe[standard_deviation])\n",
    "    significance = 'significant' if p_value < 0.05 else 'not significant'\n",
    "    return {\n",
    "        'column_1': simlex999,\n",
    "        'column_2': standard_deviation,\n",
    "        'correlation': round(corr, 5),\n",
    "        'p_value': p_value,\n",
    "        'significance': significance\n",
    "    }"
   ]
  },
  {
   "cell_type": "code",
   "execution_count": null,
   "metadata": {},
   "outputs": [],
   "source": [
    "def plot_scatter_plot(dataframe, column1, column2, x_label, y_label, x_min, x_max, y_min, y_max):\n",
    "    # Set size\n",
    "    fig, ax = plt.subplots(figsize=(7, 5))\n",
    "    \n",
    "    # Create scatter plot\n",
    "    sns.scatterplot(x=column1, y=column2, data=dataframe, color='skyblue', edgecolor='black', ax=ax)\n",
    "    \n",
    "    # Plot diagonal line\n",
    "    ax.plot([x_min, x_max], [y_min, y_max], color='red', linestyle='--')\n",
    "\n",
    "    # Set axis limits\n",
    "    ax.set_xlim(x_min, x_max)\n",
    "    ax.set_ylim(y_min, y_max)\n",
    "    \n",
    "    # Set labels and title\n",
    "    ax.set_xlabel(x_label)\n",
    "    ax.set_ylabel(y_label)\n",
    "    \n",
    "    # Remove grid\n",
    "    ax.grid(False)\n",
    "\n",
    "    # Adjust layout\n",
    "    plt.tight_layout()\n",
    "\n",
    "    # Show results\n",
    "    plt.show()"
   ]
  }
 ],
 "metadata": {
  "language_info": {
   "name": "python"
  }
 },
 "nbformat": 4,
 "nbformat_minor": 2
}
