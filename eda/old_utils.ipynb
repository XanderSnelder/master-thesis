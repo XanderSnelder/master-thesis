{
 "cells": [
  {
   "cell_type": "code",
   "execution_count": null,
   "metadata": {},
   "outputs": [],
   "source": [
    "import pandas as pd\n",
    "import matplotlib.pyplot as plt\n",
    "import seaborn as sns\n",
    "import matplotlib.ticker as ticker\n",
    "from scipy.stats import pearsonr\n",
    "from scipy.stats import spearmanr"
   ]
  },
  {
   "cell_type": "code",
   "execution_count": null,
   "metadata": {},
   "outputs": [],
   "source": [
    "def print_mean_median(dataframe):\n",
    "    for col in dataframe.select_dtypes(include='number').columns:\n",
    "        mean_val = round(dataframe[col].mean(), 2)\n",
    "        median_val = dataframe[col].median()\n",
    "        print(f\"{col} - Mean: {mean_val}, Median: {median_val}\")"
   ]
  },
  {
   "cell_type": "code",
   "execution_count": null,
   "metadata": {},
   "outputs": [],
   "source": [
    "def plot_boxplot(dataframe, column):\n",
    "\n",
    "    # Create white grid\n",
    "    sns.set_theme(style=\"whitegrid\")\n",
    "\n",
    "    # Creating the boxplot\n",
    "    plt.figure(figsize=(4, 6))\n",
    "    sns.boxplot(y=dataframe[column], color='skyblue')\n",
    "\n",
    "    # Setting labels and title\n",
    "    plt.ylabel(column)\n",
    "    # plt.title(f'Boxplot of {column}')\n",
    "\n",
    "    # Customizing y-axis ticks\n",
    "    plt.gca().yaxis.set_major_locator(ticker.MaxNLocator(nbins=10))\n",
    "\n",
    "    # Show the plot\n",
    "    plt.show()"
   ]
  },
  {
   "cell_type": "code",
   "execution_count": null,
   "metadata": {},
   "outputs": [],
   "source": [
    "def print_variance(dataframe):\n",
    "    for col in dataframe.select_dtypes(include='number').columns:\n",
    "        print(f\"{col} - Variance: {round(dataframe[col].var(), 2)}\")"
   ]
  },
  {
   "cell_type": "code",
   "execution_count": null,
   "metadata": {},
   "outputs": [],
   "source": [
    "def plot_histogram(dataframe, column):\n",
    "    # Plotting the histogram\n",
    "    plt.hist(dataframe[column], bins=10, edgecolor='black', color='skyblue')\n",
    "\n",
    "    # Setting labels and title\n",
    "    plt.ylabel(\"Frequency\")\n",
    "    plt.xlabel(column)\n",
    "    # plt.title(f'Distribution of {column}')\n",
    "\n",
    "    # Customizing x-axis ticks and remove grid\n",
    "    plt.gca().xaxis.set_major_locator(ticker.MaxNLocator(integer=True))\n",
    "    plt.grid(b=None)\n",
    "\n",
    "    # Display results\n",
    "    plt.show()"
   ]
  },
  {
   "cell_type": "code",
   "execution_count": null,
   "metadata": {},
   "outputs": [],
   "source": [
    "def calculate_outliers(dataframe, column):\n",
    "    q1 = dataframe[column].quantile(0.25)\n",
    "    q3 = dataframe[column].quantile(0.75)\n",
    "    iqr = q3 - q1\n",
    "    lower_bound = q1 - 1.5 * iqr\n",
    "    upper_bound = q3 + 1.5 * iqr\n",
    "    outliers = dataframe[(dataframe[column] < lower_bound) | (dataframe[column] > upper_bound)]\n",
    "    return outliers"
   ]
  },
  {
   "cell_type": "code",
   "execution_count": null,
   "metadata": {},
   "outputs": [],
   "source": [
    "def print_outlier_counts(dataframe):\n",
    "    columns_with_no_outliers = []\n",
    "    for col in dataframe.select_dtypes(include='number').columns:\n",
    "        outliers = calculate_outliers(dataframe, col)\n",
    "        if outliers.empty:\n",
    "            columns_with_no_outliers.append(col)\n",
    "        else:\n",
    "            print(f\"Outliers in {col}: {outliers.shape[0]}\")\n",
    "    \n",
    "    if columns_with_no_outliers:\n",
    "        print(f\"No outliers found in columns: {', '.join(columns_with_no_outliers)}\")"
   ]
  },
  {
   "cell_type": "code",
   "execution_count": null,
   "metadata": {},
   "outputs": [],
   "source": [
    "def print_outlier_data(dataframe, col):\n",
    "    if col in dataframe.columns:\n",
    "        outliers = calculate_outliers(dataframe, col)\n",
    "        if not outliers.empty:\n",
    "            print(f\"\\nOutliers in {col}:\")\n",
    "            print(outliers)\n",
    "        else:\n",
    "            print(f\"No outliers found in {col}\")"
   ]
  },
  {
   "cell_type": "code",
   "execution_count": null,
   "metadata": {},
   "outputs": [],
   "source": [
    "def plot_feature_by_pos(dataframe, column):\n",
    "    # Group by POS and calculate mean of feature\n",
    "    grouped_data = dataframe.groupby('POS')[column].mean()\n",
    "\n",
    "    # Plotting\n",
    "    sns.barplot(x=grouped_data.index, y=grouped_data.values, edgecolor='black')\n",
    "    # plt.title(f'Mean {column} by POS')\n",
    "    plt.xlabel(f'Part of Speech (POS)')\n",
    "    plt.ylabel(f'Mean {column}')\n",
    "    plt.show()"
   ]
  },
  {
   "cell_type": "code",
   "execution_count": null,
   "metadata": {},
   "outputs": [],
   "source": [
    "def print_mean_per_pos(dataframe, column):\n",
    "    means = dataframe.groupby('POS')[column].mean().round(2)\n",
    "    print(means)"
   ]
  },
  {
   "cell_type": "code",
   "execution_count": null,
   "metadata": {},
   "outputs": [],
   "source": [
    "def print_correlation_and_pvalue(dataframe, column1, column2):\n",
    "    corr, p_value = spearmanr(dataframe[column1], dataframe[column2])\n",
    "    print(f\"Spearman's Rank correlation: {round(corr, 5)}\")\n",
    "    print(f\"P-value: {p_value}\")\n",
    "    if p_value < 0.05:\n",
    "        print(\"The correlation is statistically significant.\\n\")\n",
    "    else:\n",
    "        print(\"The correlation is not statistically significant.\\n\")"
   ]
  },
  {
   "cell_type": "code",
   "execution_count": null,
   "metadata": {},
   "outputs": [],
   "source": [
    "def plot_scatter_plot(dataframe, column1, column2):\n",
    "    # Set size\n",
    "    fig, ax = plt.subplots(figsize=(7, 5))\n",
    "    \n",
    "    # Create scatter plot\n",
    "    sns.scatterplot(x=column1, y=column2, data=dataframe, color='skyblue', edgecolor='black', ax=ax)\n",
    "    \n",
    "    # Get limits of the plot\n",
    "    x_limits = ax.get_xlim()\n",
    "    y_limits = ax.get_ylim()\n",
    "    \n",
    "    # Determine minimum and maximum limits\n",
    "    min_limit = min(x_limits[0], y_limits[0])\n",
    "    max_limit = max(x_limits[1], y_limits[1])\n",
    "    \n",
    "    # Plot diagonal line\n",
    "    ax.plot([min_limit, max_limit], [min_limit, max_limit], color='red', linestyle='--')\n",
    "    \n",
    "    # Set axis limits\n",
    "    ax.set_xlim(min_limit, max_limit)\n",
    "    ax.set_ylim(min_limit, max_limit)\n",
    "    \n",
    "    # Set labels and title\n",
    "    ax.set_xlabel(column1)\n",
    "    ax.set_ylabel(column2)\n",
    "    \n",
    "    # Remove grid\n",
    "    ax.grid(False)\n",
    "\n",
    "    # Adjust layout\n",
    "    plt.tight_layout()\n",
    "\n",
    "    # Show results\n",
    "    plt.show()"
   ]
  }
 ],
 "metadata": {
  "language_info": {
   "name": "python"
  }
 },
 "nbformat": 4,
 "nbformat_minor": 2
}
