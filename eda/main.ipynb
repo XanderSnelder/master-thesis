{
 "cells": [
  {
   "cell_type": "markdown",
   "id": "5e25ea09-74d6-47e6-bad6-e922f52c3532",
   "metadata": {},
   "source": [
    "### **1. Personal Information**"
   ]
  },
  {
   "cell_type": "markdown",
   "id": "2618e834",
   "metadata": {},
   "source": [
    "**Name:** Xander Akiko Snelder\n",
    "\n",
    "**StudentID:** 11598727\n",
    "\n",
    "**Email:** [xander.snelder2@student.uva.nl](xander.snelder2@student.uva.nl)\n",
    "\n",
    "**Submitted on:** 22-04-2024\n",
    "\n",
    "**Github:** https://github.com/XanderSnelder/master-thesis"
   ]
  },
  {
   "cell_type": "markdown",
   "id": "e3cf6243-adfe-4eb8-bba3-bb2835079abd",
   "metadata": {},
   "source": [
    "### **2. Data Context**"
   ]
  },
  {
   "cell_type": "markdown",
   "id": "f0b49bb3",
   "metadata": {},
   "source": [
    "#### **2.1. English SimLex-999**\n",
    "\n",
    "In 2015, the SimLex-999 dataset was introduced and became a gold standard for measuring semantic similarities between English word pairs. This study differentiates between similarity and association of words, emphasizing that these concepts are not mutually exclusive or independent. Semantic similarity refers to how much two words share common characteristics. Semantic association, also known as semantic relatedness, contains a broader range of associations between words. This includes how frequent words interact or co-occur in practical situations. SimLex-999 is developed with the help of 500 native English speakers from the United States and contains 999 word pairs, where each pair has been rated for similarity by approximately 50 annotators. The annotation process was conducted through the crowdsourcing marketplace Amazon Mechanical Turk (MTurk).\n",
    "\n",
    "https://doi.org/10.48550/arXiv.1408.3456"
   ]
  },
  {
   "cell_type": "markdown",
   "id": "a4b63784",
   "metadata": {},
   "source": [
    "#### **2.2. Dutch SimLex-999**\n",
    "\n",
    "Based on SimLex-999, variations have been developed that focus on different aspects or shortcomings of the original version. In 2024, the Dutch SimLex-999 has been developed with the help of 235 native Dutch speakers. The English words were translated into Dutch, while ensuring they matched their original semantics. The German SimLex-999 was referenced because of its linguistic similarities with Dutch. Each word pair was rated by 15 annotators on a scale from 0 to 10, and the averages were used as final scores."
   ]
  },
  {
   "cell_type": "markdown",
   "id": "a833d964-56e1-49c7-8172-7435357624aa",
   "metadata": {},
   "source": [
    "#### **2.3. Description of Columns**"
   ]
  },
  {
   "cell_type": "markdown",
   "id": "65e3dcef",
   "metadata": {},
   "source": [
    "##### **2.3.1. English SimLex-999**"
   ]
  },
  {
   "cell_type": "markdown",
   "id": "cadf8650",
   "metadata": {},
   "source": [
    "The English SimLex-999 dataset contains the following columns:\n",
    "\n",
    "* **word1:** First word in the pair.\n",
    "\n",
    "* **word2:** Second word in the pair.\n",
    "\n",
    "* **POS:** Part-Of-Speech (POS) of the word pairs. 'N' stands for nouns, 'V' for verbs, and 'A' for adjectives.\n",
    "\n",
    "* **SimLex999:** Core of the dataset. Similarity scores represent how similar two words are in meaning, judged by human annotators. The scores range from 0 (no similarity) to 10 (high similarity).\n",
    "\n",
    "* **conc(w1):** Conceptual concreteness scores of the first word, ranging from 1 (highly abstract) to 5 (highly concrete). Concreteness indicates how tangible or concrete a word is, as opposed to abstract. Extracted from USF Free Association Norms.\n",
    "\n",
    "* **conc(w2):** Same as conc(w1), but for the second word in the pair.\n",
    "\n",
    "* **concQ:** Concreteness of the word pairs categorized into quartiles (1-4).\n",
    "\n",
    "* **Assoc(USF):** Association/relatedness scores ranging from 0 (no association) to 10 (high association). Extracted from USF Free Association Norms.\n",
    "\n",
    "* **SimAssoc333:** Binary indicator used for a subset of the 333 most associated word pairs in SimLex-999, according to USF Association Norms.\n",
    "\n",
    "* **SD(SimLex):** Standard deviation of the SimLex999 similarity ratings, indicating the variability of the human judgements for each word pair.\n",
    "\n",
    "https://fh295.github.io//simlex.html"
   ]
  },
  {
   "cell_type": "markdown",
   "id": "e4a9bf9a",
   "metadata": {},
   "source": [
    "##### **2.3.2. Dutch SimLex-999**"
   ]
  },
  {
   "cell_type": "markdown",
   "id": "9c06058f",
   "metadata": {},
   "source": [
    "The description of columns for the Dutch SimLex-999 are similar, except that this dataset does not contain the association and concreteness scores extracted from the USF Free Association Norms."
   ]
  },
  {
   "cell_type": "markdown",
   "id": "bd93f380",
   "metadata": {},
   "source": [
    "### **3. Data Description and Analysis**"
   ]
  },
  {
   "cell_type": "markdown",
   "id": "5fa1ffa3",
   "metadata": {},
   "source": [
    "Both datasets are relatively small and straightforward, and there is no need for extensive data cleaning or processing. The only data processing step is enriching the Dutch SimLex-999 dataset with additional columns."
   ]
  },
  {
   "cell_type": "markdown",
   "id": "b7433734",
   "metadata": {},
   "source": [
    "#### **3.1. Set-up**"
   ]
  },
  {
   "cell_type": "code",
   "execution_count": 1,
   "id": "1c7a71f1",
   "metadata": {},
   "outputs": [],
   "source": [
    "# Import libraries and utils\n",
    "%run '../eda/utils.ipynb'"
   ]
  },
  {
   "cell_type": "code",
   "execution_count": 2,
   "id": "9f0cf9be-2cac-4227-957f-ad893212e70c",
   "metadata": {},
   "outputs": [],
   "source": [
    "# Load data\n",
    "en_simlex = pd.read_csv(\"../data/dataset/en-simlex-999.txt\", delimiter='\\t')\n",
    "nl_simlex_raw = pd.read_csv(\"../data/dataset/nl-simlex-999.txt\", delimiter='\\t')\n",
    "nl_simlex_questionnaire = pd.read_csv(\"../data/dataset/nl-simlex-999-questionnaire.csv\")"
   ]
  },
  {
   "cell_type": "code",
   "execution_count": 3,
   "id": "33e802f1",
   "metadata": {},
   "outputs": [],
   "source": [
    "# Drop redundant columns\n",
    "nl_simlex_questionnaire.drop(columns=['POS'], inplace=True)\n",
    "\n",
    "# Rename SimLex columns\n",
    "en_simlex = en_simlex.rename(columns={'SimLex999': 'en_sl'})\n",
    "nl_simlex_raw = nl_simlex_raw.rename(columns={'SimLex999': 'nl_sl'})\n",
    "nl_simlex_questionnaire = nl_simlex_questionnaire.rename(columns={'Simlex999': 'nl_sl'})\n",
    "\n",
    "# Rename Standard Deviation Columns\n",
    "nl_simlex_questionnaire = nl_simlex_questionnaire.rename(columns={'Std Deviation': 'nl_sd'})\n",
    "en_simlex = en_simlex.rename(columns={'SD(SimLex)': 'en_sd'})"
   ]
  },
  {
   "cell_type": "code",
   "execution_count": 4,
   "id": "59883d7f",
   "metadata": {},
   "outputs": [],
   "source": [
    "# Enrich Dutch SimLex with standard deviation, variance, and count\n",
    "nl_simlex = pd.merge(nl_simlex_raw, nl_simlex_questionnaire, on=['word1', 'word2', 'nl_sl'], how='left') # also join on nl_simlex because of duplicate word pairs\n",
    "\n",
    "# Rename column for consistency between datasets\n",
    "nl_simlex = nl_simlex.rename(columns={'Std Deviation': 'SD(SimLex)'})"
   ]
  },
  {
   "cell_type": "code",
   "execution_count": 5,
   "id": "0fd6e6c1",
   "metadata": {},
   "outputs": [],
   "source": [
    "# Select columns\n",
    "nl_simlex = nl_simlex[['word1', 'word2', 'nl_sl', 'nl_sd', 'POS']]\n",
    "en_simlex = en_simlex[['word1', 'word2', 'en_sl', 'en_sd', 'POS']]"
   ]
  },
  {
   "cell_type": "markdown",
   "id": "b4df9546-a6d7-4678-aca6-cd13d5f3c79a",
   "metadata": {},
   "source": [
    "#### **3.2. Initial Overview**"
   ]
  },
  {
   "cell_type": "markdown",
   "id": "03994c95",
   "metadata": {},
   "source": [
    "##### **3.2.1. Dutch SimLex-999**"
   ]
  },
  {
   "cell_type": "code",
   "execution_count": 6,
   "id": "db3d34cd",
   "metadata": {},
   "outputs": [
    {
     "name": "stdout",
     "output_type": "stream",
     "text": [
      "<class 'pandas.core.frame.DataFrame'>\n",
      "Int64Index: 999 entries, 0 to 998\n",
      "Data columns (total 5 columns):\n",
      " #   Column  Non-Null Count  Dtype  \n",
      "---  ------  --------------  -----  \n",
      " 0   word1   999 non-null    object \n",
      " 1   word2   999 non-null    object \n",
      " 2   nl_sl   999 non-null    float64\n",
      " 3   nl_sd   999 non-null    float64\n",
      " 4   POS     999 non-null    object \n",
      "dtypes: float64(2), object(3)\n",
      "memory usage: 46.8+ KB\n"
     ]
    }
   ],
   "source": [
    "# Summary of dataset\n",
    "nl_simlex.info()"
   ]
  },
  {
   "cell_type": "code",
   "execution_count": 7,
   "id": "ad47da52",
   "metadata": {},
   "outputs": [
    {
     "data": {
      "text/html": [
       "<div>\n",
       "<style scoped>\n",
       "    .dataframe tbody tr th:only-of-type {\n",
       "        vertical-align: middle;\n",
       "    }\n",
       "\n",
       "    .dataframe tbody tr th {\n",
       "        vertical-align: top;\n",
       "    }\n",
       "\n",
       "    .dataframe thead th {\n",
       "        text-align: right;\n",
       "    }\n",
       "</style>\n",
       "<table border=\"1\" class=\"dataframe\">\n",
       "  <thead>\n",
       "    <tr style=\"text-align: right;\">\n",
       "      <th></th>\n",
       "      <th>word1</th>\n",
       "      <th>word2</th>\n",
       "      <th>nl_sl</th>\n",
       "      <th>nl_sd</th>\n",
       "      <th>POS</th>\n",
       "    </tr>\n",
       "  </thead>\n",
       "  <tbody>\n",
       "    <tr>\n",
       "      <th>0</th>\n",
       "      <td>oud</td>\n",
       "      <td>nieuw</td>\n",
       "      <td>1.94</td>\n",
       "      <td>2.42</td>\n",
       "      <td>A</td>\n",
       "    </tr>\n",
       "    <tr>\n",
       "      <th>1</th>\n",
       "      <td>slim</td>\n",
       "      <td>intelligent</td>\n",
       "      <td>8.19</td>\n",
       "      <td>1.54</td>\n",
       "      <td>A</td>\n",
       "    </tr>\n",
       "    <tr>\n",
       "      <th>2</th>\n",
       "      <td>hard</td>\n",
       "      <td>moeilijk</td>\n",
       "      <td>4.46</td>\n",
       "      <td>3.18</td>\n",
       "      <td>A</td>\n",
       "    </tr>\n",
       "    <tr>\n",
       "      <th>3</th>\n",
       "      <td>gelukkig</td>\n",
       "      <td>vrolijk</td>\n",
       "      <td>6.49</td>\n",
       "      <td>2.15</td>\n",
       "      <td>A</td>\n",
       "    </tr>\n",
       "    <tr>\n",
       "      <th>4</th>\n",
       "      <td>hard</td>\n",
       "      <td>stoer</td>\n",
       "      <td>5.69</td>\n",
       "      <td>2.94</td>\n",
       "      <td>A</td>\n",
       "    </tr>\n",
       "  </tbody>\n",
       "</table>\n",
       "</div>"
      ],
      "text/plain": [
       "      word1        word2  nl_sl  nl_sd POS\n",
       "0       oud        nieuw   1.94   2.42   A\n",
       "1      slim  intelligent   8.19   1.54   A\n",
       "2      hard     moeilijk   4.46   3.18   A\n",
       "3  gelukkig      vrolijk   6.49   2.15   A\n",
       "4      hard        stoer   5.69   2.94   A"
      ]
     },
     "execution_count": 7,
     "metadata": {},
     "output_type": "execute_result"
    }
   ],
   "source": [
    "# First 5 rows\n",
    "nl_simlex.head()"
   ]
  },
  {
   "cell_type": "code",
   "execution_count": 8,
   "id": "5510139c",
   "metadata": {},
   "outputs": [
    {
     "data": {
      "text/html": [
       "<div>\n",
       "<style scoped>\n",
       "    .dataframe tbody tr th:only-of-type {\n",
       "        vertical-align: middle;\n",
       "    }\n",
       "\n",
       "    .dataframe tbody tr th {\n",
       "        vertical-align: top;\n",
       "    }\n",
       "\n",
       "    .dataframe thead th {\n",
       "        text-align: right;\n",
       "    }\n",
       "</style>\n",
       "<table border=\"1\" class=\"dataframe\">\n",
       "  <thead>\n",
       "    <tr style=\"text-align: right;\">\n",
       "      <th></th>\n",
       "      <th>word1</th>\n",
       "      <th>word2</th>\n",
       "      <th>nl_sl</th>\n",
       "      <th>nl_sd</th>\n",
       "      <th>POS</th>\n",
       "    </tr>\n",
       "  </thead>\n",
       "  <tbody>\n",
       "    <tr>\n",
       "      <th>994</th>\n",
       "      <td>samenvoegen</td>\n",
       "      <td>verwerven</td>\n",
       "      <td>3.89</td>\n",
       "      <td>3.11</td>\n",
       "      <td>V</td>\n",
       "    </tr>\n",
       "    <tr>\n",
       "      <th>995</th>\n",
       "      <td>sturen</td>\n",
       "      <td>bijwonen</td>\n",
       "      <td>1.85</td>\n",
       "      <td>1.95</td>\n",
       "      <td>V</td>\n",
       "    </tr>\n",
       "    <tr>\n",
       "      <th>996</th>\n",
       "      <td>verzamelen</td>\n",
       "      <td>bijwonen</td>\n",
       "      <td>1.06</td>\n",
       "      <td>1.71</td>\n",
       "      <td>V</td>\n",
       "    </tr>\n",
       "    <tr>\n",
       "      <th>997</th>\n",
       "      <td>opnemen</td>\n",
       "      <td>intrekken</td>\n",
       "      <td>2.29</td>\n",
       "      <td>2.67</td>\n",
       "      <td>V</td>\n",
       "    </tr>\n",
       "    <tr>\n",
       "      <th>998</th>\n",
       "      <td>bijwonen</td>\n",
       "      <td>aankomen</td>\n",
       "      <td>1.32</td>\n",
       "      <td>1.05</td>\n",
       "      <td>V</td>\n",
       "    </tr>\n",
       "  </tbody>\n",
       "</table>\n",
       "</div>"
      ],
      "text/plain": [
       "           word1      word2  nl_sl  nl_sd POS\n",
       "994  samenvoegen  verwerven   3.89   3.11   V\n",
       "995       sturen   bijwonen   1.85   1.95   V\n",
       "996   verzamelen   bijwonen   1.06   1.71   V\n",
       "997      opnemen  intrekken   2.29   2.67   V\n",
       "998     bijwonen   aankomen   1.32   1.05   V"
      ]
     },
     "execution_count": 8,
     "metadata": {},
     "output_type": "execute_result"
    }
   ],
   "source": [
    "# Last 5 rows\n",
    "nl_simlex.tail()"
   ]
  },
  {
   "cell_type": "code",
   "execution_count": 9,
   "id": "d9b2a2ae",
   "metadata": {},
   "outputs": [
    {
     "data": {
      "text/plain": [
       "word1    999\n",
       "word2    999\n",
       "nl_sl    999\n",
       "nl_sd    999\n",
       "POS      999\n",
       "dtype: int64"
      ]
     },
     "execution_count": 9,
     "metadata": {},
     "output_type": "execute_result"
    }
   ],
   "source": [
    "# Count of rows\n",
    "nl_simlex.count()"
   ]
  },
  {
   "cell_type": "code",
   "execution_count": 10,
   "id": "e4e3019c",
   "metadata": {},
   "outputs": [
    {
     "data": {
      "text/plain": [
       "word1     object\n",
       "word2     object\n",
       "nl_sl    float64\n",
       "nl_sd    float64\n",
       "POS       object\n",
       "dtype: object"
      ]
     },
     "execution_count": 10,
     "metadata": {},
     "output_type": "execute_result"
    }
   ],
   "source": [
    "# Data types\n",
    "nl_simlex.dtypes"
   ]
  },
  {
   "cell_type": "code",
   "execution_count": 11,
   "id": "d63b0194",
   "metadata": {},
   "outputs": [
    {
     "data": {
      "text/plain": [
       "word1    0\n",
       "word2    0\n",
       "nl_sl    0\n",
       "nl_sd    0\n",
       "POS      0\n",
       "dtype: int64"
      ]
     },
     "execution_count": 11,
     "metadata": {},
     "output_type": "execute_result"
    }
   ],
   "source": [
    "# Missing values per column\n",
    "nl_simlex.isnull().sum()"
   ]
  },
  {
   "cell_type": "code",
   "execution_count": 12,
   "id": "5b078bd9",
   "metadata": {},
   "outputs": [
    {
     "data": {
      "text/plain": [
       "N    666\n",
       "V    222\n",
       "A    111\n",
       "Name: POS, dtype: int64"
      ]
     },
     "execution_count": 12,
     "metadata": {},
     "output_type": "execute_result"
    }
   ],
   "source": [
    "# Counts of values in categorical column 'POS'\n",
    "nl_simlex['POS'].value_counts()"
   ]
  },
  {
   "cell_type": "markdown",
   "id": "cbecb47a",
   "metadata": {},
   "source": [
    "##### **3.2.2. English SimLex-999**"
   ]
  },
  {
   "cell_type": "code",
   "execution_count": 13,
   "id": "abafa400",
   "metadata": {},
   "outputs": [
    {
     "name": "stdout",
     "output_type": "stream",
     "text": [
      "<class 'pandas.core.frame.DataFrame'>\n",
      "RangeIndex: 999 entries, 0 to 998\n",
      "Data columns (total 5 columns):\n",
      " #   Column  Non-Null Count  Dtype  \n",
      "---  ------  --------------  -----  \n",
      " 0   word1   999 non-null    object \n",
      " 1   word2   999 non-null    object \n",
      " 2   en_sl   999 non-null    float64\n",
      " 3   en_sd   999 non-null    float64\n",
      " 4   POS     999 non-null    object \n",
      "dtypes: float64(2), object(3)\n",
      "memory usage: 39.1+ KB\n"
     ]
    }
   ],
   "source": [
    "# Summary of dataset\n",
    "en_simlex.info()"
   ]
  },
  {
   "cell_type": "code",
   "execution_count": 14,
   "id": "a27f8636",
   "metadata": {},
   "outputs": [
    {
     "data": {
      "text/html": [
       "<div>\n",
       "<style scoped>\n",
       "    .dataframe tbody tr th:only-of-type {\n",
       "        vertical-align: middle;\n",
       "    }\n",
       "\n",
       "    .dataframe tbody tr th {\n",
       "        vertical-align: top;\n",
       "    }\n",
       "\n",
       "    .dataframe thead th {\n",
       "        text-align: right;\n",
       "    }\n",
       "</style>\n",
       "<table border=\"1\" class=\"dataframe\">\n",
       "  <thead>\n",
       "    <tr style=\"text-align: right;\">\n",
       "      <th></th>\n",
       "      <th>word1</th>\n",
       "      <th>word2</th>\n",
       "      <th>en_sl</th>\n",
       "      <th>en_sd</th>\n",
       "      <th>POS</th>\n",
       "    </tr>\n",
       "  </thead>\n",
       "  <tbody>\n",
       "    <tr>\n",
       "      <th>0</th>\n",
       "      <td>old</td>\n",
       "      <td>new</td>\n",
       "      <td>1.58</td>\n",
       "      <td>0.41</td>\n",
       "      <td>A</td>\n",
       "    </tr>\n",
       "    <tr>\n",
       "      <th>1</th>\n",
       "      <td>smart</td>\n",
       "      <td>intelligent</td>\n",
       "      <td>9.20</td>\n",
       "      <td>0.67</td>\n",
       "      <td>A</td>\n",
       "    </tr>\n",
       "    <tr>\n",
       "      <th>2</th>\n",
       "      <td>hard</td>\n",
       "      <td>difficult</td>\n",
       "      <td>8.77</td>\n",
       "      <td>1.19</td>\n",
       "      <td>A</td>\n",
       "    </tr>\n",
       "    <tr>\n",
       "      <th>3</th>\n",
       "      <td>happy</td>\n",
       "      <td>cheerful</td>\n",
       "      <td>9.55</td>\n",
       "      <td>2.18</td>\n",
       "      <td>A</td>\n",
       "    </tr>\n",
       "    <tr>\n",
       "      <th>4</th>\n",
       "      <td>hard</td>\n",
       "      <td>easy</td>\n",
       "      <td>0.95</td>\n",
       "      <td>0.93</td>\n",
       "      <td>A</td>\n",
       "    </tr>\n",
       "  </tbody>\n",
       "</table>\n",
       "</div>"
      ],
      "text/plain": [
       "   word1        word2  en_sl  en_sd POS\n",
       "0    old          new   1.58   0.41   A\n",
       "1  smart  intelligent   9.20   0.67   A\n",
       "2   hard    difficult   8.77   1.19   A\n",
       "3  happy     cheerful   9.55   2.18   A\n",
       "4   hard         easy   0.95   0.93   A"
      ]
     },
     "execution_count": 14,
     "metadata": {},
     "output_type": "execute_result"
    }
   ],
   "source": [
    "# First 5 rows\n",
    "en_simlex.head()"
   ]
  },
  {
   "cell_type": "code",
   "execution_count": 15,
   "id": "74fec5d1",
   "metadata": {},
   "outputs": [
    {
     "data": {
      "text/html": [
       "<div>\n",
       "<style scoped>\n",
       "    .dataframe tbody tr th:only-of-type {\n",
       "        vertical-align: middle;\n",
       "    }\n",
       "\n",
       "    .dataframe tbody tr th {\n",
       "        vertical-align: top;\n",
       "    }\n",
       "\n",
       "    .dataframe thead th {\n",
       "        text-align: right;\n",
       "    }\n",
       "</style>\n",
       "<table border=\"1\" class=\"dataframe\">\n",
       "  <thead>\n",
       "    <tr style=\"text-align: right;\">\n",
       "      <th></th>\n",
       "      <th>word1</th>\n",
       "      <th>word2</th>\n",
       "      <th>en_sl</th>\n",
       "      <th>en_sd</th>\n",
       "      <th>POS</th>\n",
       "    </tr>\n",
       "  </thead>\n",
       "  <tbody>\n",
       "    <tr>\n",
       "      <th>994</th>\n",
       "      <td>join</td>\n",
       "      <td>acquire</td>\n",
       "      <td>2.85</td>\n",
       "      <td>0.99</td>\n",
       "      <td>V</td>\n",
       "    </tr>\n",
       "    <tr>\n",
       "      <th>995</th>\n",
       "      <td>send</td>\n",
       "      <td>attend</td>\n",
       "      <td>1.67</td>\n",
       "      <td>1.44</td>\n",
       "      <td>V</td>\n",
       "    </tr>\n",
       "    <tr>\n",
       "      <th>996</th>\n",
       "      <td>gather</td>\n",
       "      <td>attend</td>\n",
       "      <td>4.80</td>\n",
       "      <td>1.97</td>\n",
       "      <td>V</td>\n",
       "    </tr>\n",
       "    <tr>\n",
       "      <th>997</th>\n",
       "      <td>absorb</td>\n",
       "      <td>withdraw</td>\n",
       "      <td>2.97</td>\n",
       "      <td>1.75</td>\n",
       "      <td>V</td>\n",
       "    </tr>\n",
       "    <tr>\n",
       "      <th>998</th>\n",
       "      <td>attend</td>\n",
       "      <td>arrive</td>\n",
       "      <td>6.08</td>\n",
       "      <td>1.18</td>\n",
       "      <td>V</td>\n",
       "    </tr>\n",
       "  </tbody>\n",
       "</table>\n",
       "</div>"
      ],
      "text/plain": [
       "      word1     word2  en_sl  en_sd POS\n",
       "994    join   acquire   2.85   0.99   V\n",
       "995    send    attend   1.67   1.44   V\n",
       "996  gather    attend   4.80   1.97   V\n",
       "997  absorb  withdraw   2.97   1.75   V\n",
       "998  attend    arrive   6.08   1.18   V"
      ]
     },
     "execution_count": 15,
     "metadata": {},
     "output_type": "execute_result"
    }
   ],
   "source": [
    "# Last 5 rows\n",
    "en_simlex.tail()"
   ]
  },
  {
   "cell_type": "code",
   "execution_count": 16,
   "id": "ebdb9ba8",
   "metadata": {},
   "outputs": [
    {
     "data": {
      "text/plain": [
       "word1    999\n",
       "word2    999\n",
       "en_sl    999\n",
       "en_sd    999\n",
       "POS      999\n",
       "dtype: int64"
      ]
     },
     "execution_count": 16,
     "metadata": {},
     "output_type": "execute_result"
    }
   ],
   "source": [
    "# Count of rows\n",
    "en_simlex.count()"
   ]
  },
  {
   "cell_type": "code",
   "execution_count": 17,
   "id": "4e702ee0",
   "metadata": {},
   "outputs": [
    {
     "data": {
      "text/plain": [
       "word1     object\n",
       "word2     object\n",
       "en_sl    float64\n",
       "en_sd    float64\n",
       "POS       object\n",
       "dtype: object"
      ]
     },
     "execution_count": 17,
     "metadata": {},
     "output_type": "execute_result"
    }
   ],
   "source": [
    "# Data types\n",
    "en_simlex.dtypes"
   ]
  },
  {
   "cell_type": "code",
   "execution_count": 18,
   "id": "23ba4786",
   "metadata": {},
   "outputs": [
    {
     "data": {
      "text/plain": [
       "word1    0\n",
       "word2    0\n",
       "en_sl    0\n",
       "en_sd    0\n",
       "POS      0\n",
       "dtype: int64"
      ]
     },
     "execution_count": 18,
     "metadata": {},
     "output_type": "execute_result"
    }
   ],
   "source": [
    "# Missing values per column\n",
    "en_simlex.isnull().sum()"
   ]
  },
  {
   "cell_type": "code",
   "execution_count": 19,
   "id": "563b16b3",
   "metadata": {},
   "outputs": [
    {
     "data": {
      "text/plain": [
       "N    666\n",
       "V    222\n",
       "A    111\n",
       "Name: POS, dtype: int64"
      ]
     },
     "execution_count": 19,
     "metadata": {},
     "output_type": "execute_result"
    }
   ],
   "source": [
    "# Count of values in categorical column 'POS'\n",
    "en_simlex['POS'].value_counts()"
   ]
  },
  {
   "cell_type": "markdown",
   "id": "87d92945",
   "metadata": {},
   "source": [
    "#### **3.3. Descriptive Statistics**"
   ]
  },
  {
   "cell_type": "code",
   "execution_count": 20,
   "id": "fd3ece67",
   "metadata": {},
   "outputs": [
    {
     "data": {
      "text/html": [
       "<div>\n",
       "<style scoped>\n",
       "    .dataframe tbody tr th:only-of-type {\n",
       "        vertical-align: middle;\n",
       "    }\n",
       "\n",
       "    .dataframe tbody tr th {\n",
       "        vertical-align: top;\n",
       "    }\n",
       "\n",
       "    .dataframe thead th {\n",
       "        text-align: right;\n",
       "    }\n",
       "</style>\n",
       "<table border=\"1\" class=\"dataframe\">\n",
       "  <thead>\n",
       "    <tr style=\"text-align: right;\">\n",
       "      <th></th>\n",
       "      <th>nl_sl</th>\n",
       "      <th>en_sl</th>\n",
       "      <th>nl_sd</th>\n",
       "      <th>en_sd</th>\n",
       "    </tr>\n",
       "  </thead>\n",
       "  <tbody>\n",
       "    <tr>\n",
       "      <th>count</th>\n",
       "      <td>999.00</td>\n",
       "      <td>999.00</td>\n",
       "      <td>999.00</td>\n",
       "      <td>999.00</td>\n",
       "    </tr>\n",
       "    <tr>\n",
       "      <th>mean</th>\n",
       "      <td>3.65</td>\n",
       "      <td>4.56</td>\n",
       "      <td>2.37</td>\n",
       "      <td>1.27</td>\n",
       "    </tr>\n",
       "    <tr>\n",
       "      <th>std</th>\n",
       "      <td>2.00</td>\n",
       "      <td>2.61</td>\n",
       "      <td>0.64</td>\n",
       "      <td>0.37</td>\n",
       "    </tr>\n",
       "    <tr>\n",
       "      <th>min</th>\n",
       "      <td>0.49</td>\n",
       "      <td>0.23</td>\n",
       "      <td>0.48</td>\n",
       "      <td>0.34</td>\n",
       "    </tr>\n",
       "    <tr>\n",
       "      <th>25%</th>\n",
       "      <td>2.00</td>\n",
       "      <td>2.38</td>\n",
       "      <td>2.00</td>\n",
       "      <td>1.08</td>\n",
       "    </tr>\n",
       "    <tr>\n",
       "      <th>50%</th>\n",
       "      <td>3.27</td>\n",
       "      <td>4.67</td>\n",
       "      <td>2.46</td>\n",
       "      <td>1.31</td>\n",
       "    </tr>\n",
       "    <tr>\n",
       "      <th>75%</th>\n",
       "      <td>5.08</td>\n",
       "      <td>6.75</td>\n",
       "      <td>2.84</td>\n",
       "      <td>1.54</td>\n",
       "    </tr>\n",
       "    <tr>\n",
       "      <th>max</th>\n",
       "      <td>9.28</td>\n",
       "      <td>9.80</td>\n",
       "      <td>4.13</td>\n",
       "      <td>2.18</td>\n",
       "    </tr>\n",
       "    <tr>\n",
       "      <th>median</th>\n",
       "      <td>3.27</td>\n",
       "      <td>4.67</td>\n",
       "      <td>2.46</td>\n",
       "      <td>1.31</td>\n",
       "    </tr>\n",
       "  </tbody>\n",
       "</table>\n",
       "</div>"
      ],
      "text/plain": [
       "         nl_sl   en_sl   nl_sd   en_sd\n",
       "count   999.00  999.00  999.00  999.00\n",
       "mean      3.65    4.56    2.37    1.27\n",
       "std       2.00    2.61    0.64    0.37\n",
       "min       0.49    0.23    0.48    0.34\n",
       "25%       2.00    2.38    2.00    1.08\n",
       "50%       3.27    4.67    2.46    1.31\n",
       "75%       5.08    6.75    2.84    1.54\n",
       "max       9.28    9.80    4.13    2.18\n",
       "median    3.27    4.67    2.46    1.31"
      ]
     },
     "execution_count": 20,
     "metadata": {},
     "output_type": "execute_result"
    }
   ],
   "source": [
    "# Summary statistics SimLex-999\n",
    "nl_sl_summary = round(nl_simlex['nl_sl'].describe(), 2)\n",
    "en_sl_summary = round(en_simlex['en_sl'].describe(), 2)\n",
    "\n",
    "# Add median SimLex-999\n",
    "nl_sl_summary['median'] = round(nl_simlex['nl_sl'].median(), 2)\n",
    "en_sl_summary['median'] = round(en_simlex['en_sl'].median(), 2)\n",
    "\n",
    "# Summary statistics standard deviations\n",
    "nl_sd_summary = round(nl_simlex['nl_sd'].describe(), 2)\n",
    "en_sd_summary = round(en_simlex['en_sd'].describe(), 2)\n",
    "\n",
    "# Add median standard deviation\n",
    "nl_sd_summary['median'] = round(nl_simlex['nl_sd'].median(), 2)\n",
    "en_sd_summary['median'] = round(en_simlex['en_sd'].median(), 2)\n",
    "\n",
    "# Create pandas DataFrame\n",
    "summary_df = pd.DataFrame({\n",
    "    \"nl_sl\": nl_sl_summary,\n",
    "    \"en_sl\": en_sl_summary,\n",
    "    \"nl_sd\": nl_sd_summary,\n",
    "    \"en_sd\": en_sd_summary\n",
    "})\n",
    "\n",
    "# Show results\n",
    "summary_df"
   ]
  },
  {
   "cell_type": "code",
   "execution_count": 21,
   "id": "d2d4a63e",
   "metadata": {},
   "outputs": [],
   "source": [
    "# Rename columns and copy\n",
    "renamed_nl_simlex = nl_simlex.rename(columns={\"nl_sl\": \"SimLex-999\", \"nl_sd\": \"Standard Deviation\"}).copy()\n",
    "renamed_en_simlex = en_simlex.rename(columns={\"en_sl\": \"SimLex-999\", \"en_sd\": \"Standard Deviation\"}).copy()\n",
    "\n",
    "# Create dummy label\n",
    "renamed_nl_simlex['Language'] = 'NL'\n",
    "renamed_en_simlex['Language'] = 'EN'"
   ]
  },
  {
   "cell_type": "code",
   "execution_count": 22,
   "id": "916e6804",
   "metadata": {},
   "outputs": [
    {
     "data": {
      "image/png": "[encoded data removed]",
      "text/plain": [
       "<Figure size 600x600 with 1 Axes>"
      ]
     },
     "metadata": {},
     "output_type": "display_data"
    }
   ],
   "source": [
    "# Create dummy label\n",
    "renamed_nl_simlex['Language'] = 'NL'\n",
    "renamed_en_simlex['Language'] = 'EN'\n",
    "\n",
    "# Combine the two DataFrames\n",
    "combined_data = pd.concat([renamed_nl_simlex, renamed_en_simlex])\n",
    "\n",
    "# Creating the boxplot with specified colors\n",
    "plt.figure(figsize=(6, 6))\n",
    "sns.boxplot(\n",
    "    x='Language',\n",
    "    y='SimLex-999',\n",
    "    data=combined_data,\n",
    "    palette=['skyblue', 'lightgreen'],\n",
    "    boxprops={'edgecolor': 'black'},\n",
    "    whiskerprops={'color': 'black'},\n",
    "    flierprops={'marker': 'o', 'color': 'black', 'markerfacecolor': 'black'},\n",
    "    capprops={'color': 'black'},\n",
    "    medianprops={'color': 'black'}\n",
    ")\n",
    "\n",
    "# Set labels and title\n",
    "plt.ylabel('SimLex-999')\n",
    "# plt.title('Comparison of SimLex-999')\n",
    "\n",
    "# Customize y-axis ticks\n",
    "plt.gca().yaxis.set_major_locator(ticker.MaxNLocator(integer=True))\n",
    "plt.ylim(0, 10)  # Setting y-axis limits from 0 to 10\n",
    "\n",
    "# Remove x-axis label\n",
    "plt.xlabel('')\n",
    "\n",
    "# Adjust layout\n",
    "plt.tight_layout()\n",
    "\n",
    "# Show results\n",
    "plt.show()"
   ]
  },
  {
   "cell_type": "code",
   "execution_count": 23,
   "id": "b5776e62",
   "metadata": {},
   "outputs": [
    {
     "data": {
      "image/png": "[encoded data removed]",
      "text/plain": [
       "<Figure size 600x600 with 1 Axes>"
      ]
     },
     "metadata": {},
     "output_type": "display_data"
    }
   ],
   "source": [
    "\n",
    "\n",
    "# Combine the two DataFrames\n",
    "combined_data = pd.concat([renamed_nl_simlex, renamed_en_simlex])\n",
    "\n",
    "# Creating the boxplot with specified colors\n",
    "plt.figure(figsize=(6, 6))\n",
    "sns.boxplot(\n",
    "    x='Language',\n",
    "    y='Standard Deviation',\n",
    "    data=combined_data,\n",
    "    palette=['skyblue', 'lightgreen'],\n",
    "    boxprops={'edgecolor': 'black'},\n",
    "    whiskerprops={'color': 'black'},\n",
    "    flierprops={'marker': 'o', 'color': 'black', 'markerfacecolor': 'black'},\n",
    "    capprops={'color': 'black'},\n",
    "    medianprops={'color': 'black'}\n",
    ")\n",
    "\n",
    "# Set labels and title\n",
    "plt.ylabel('Standard Deviation')\n",
    "# plt.title('Comparison of Standard Deviation')\n",
    "\n",
    "# Customize y-axis ticks\n",
    "plt.gca().yaxis.set_major_locator(ticker.MaxNLocator(integer=True))\n",
    "plt.ylim(0, 4.5)  # Setting y-axis limits from 0 to 5\n",
    "\n",
    "# Remove x-axis label\n",
    "plt.xlabel('')\n",
    "\n",
    "# Adjust layout\n",
    "plt.tight_layout()\n",
    "\n",
    "# Show results\n",
    "plt.show()"
   ]
  },
  {
   "cell_type": "markdown",
   "id": "f273bea3-ecaa-4fac-83d0-5fe547b7873d",
   "metadata": {},
   "source": [
    "#### **3.4. Numerical Data Distribution**"
   ]
  },
  {
   "cell_type": "markdown",
   "id": "64893a82",
   "metadata": {},
   "source": [
    "##### **3.4.1. Dutch SimLex-999**"
   ]
  },
  {
   "cell_type": "code",
   "execution_count": 24,
   "id": "52500e74",
   "metadata": {},
   "outputs": [
    {
     "data": {
      "image/png": "[encoded data removed]",
      "text/plain": [
       "<Figure size 1000x400 with 2 Axes>"
      ]
     },
     "metadata": {},
     "output_type": "display_data"
    }
   ],
   "source": [
    "# Create figure with two subplots\n",
    "fig, axes = plt.subplots(1, 2, figsize=(10, 4))\n",
    "\n",
    "# Define x-axis limits\n",
    "x_min = 0\n",
    "x_max = 10\n",
    "\n",
    "# Plotting NL histogram\n",
    "axes[0].hist(renamed_nl_simlex['SimLex-999'], bins=10, edgecolor='black', color='lightgreen')\n",
    "axes[0].set_title('NL')\n",
    "axes[0].set_xlabel('SimLex-999')\n",
    "axes[0].set_ylabel('Frequency')\n",
    "axes[0].set_xlim(x_min, x_max)\n",
    "axes[0].xaxis.set_major_locator(ticker.MaxNLocator(integer=True))\n",
    "axes[0].grid(False) # Remove grid\n",
    "\n",
    "# Plotting EN histogram\n",
    "axes[1].hist(renamed_en_simlex['SimLex-999'], bins=10, edgecolor='black', color='skyblue')\n",
    "axes[1].set_title('EN')\n",
    "axes[1].set_xlabel('SimLex-999')\n",
    "axes[1].set_ylabel('Frequency')\n",
    "axes[1].set_xlim(x_min, x_max)\n",
    "axes[1].xaxis.set_major_locator(ticker.MaxNLocator(integer=True))\n",
    "axes[1].grid(False) # Remove grid\n",
    "\n",
    "# Adjust layout\n",
    "plt.tight_layout()\n",
    "\n",
    "# Show results\n",
    "plt.show()"
   ]
  },
  {
   "cell_type": "code",
   "execution_count": 25,
   "id": "a5301b2f",
   "metadata": {},
   "outputs": [
    {
     "data": {
      "image/png": "[encoded data removed]",
      "text/plain": [
       "<Figure size 1000x400 with 2 Axes>"
      ]
     },
     "metadata": {},
     "output_type": "display_data"
    }
   ],
   "source": [
    "# Create figure with two subplots\n",
    "fig, axes = plt.subplots(1, 2, figsize=(10, 4))\n",
    "\n",
    "# Define x-axis limits\n",
    "x_min = 0\n",
    "x_max = 4.5\n",
    "\n",
    "# Plotting the NL histogram\n",
    "axes[0].hist(renamed_nl_simlex['Standard Deviation'], bins=5, edgecolor='black', color='lightgreen')\n",
    "axes[0].set_title('NL')\n",
    "axes[0].set_xlabel('Standard Deviation')\n",
    "axes[0].set_ylabel('Frequency')\n",
    "axes[0].set_xlim(x_min, x_max)\n",
    "axes[0].xaxis.set_major_locator(ticker.MaxNLocator(integer=True))\n",
    "axes[0].grid(False) # Remove grid\n",
    "\n",
    "# Plotting the EN histogram\n",
    "axes[1].hist(renamed_en_simlex['Standard Deviation'], bins=5, edgecolor='black', color='skyblue')\n",
    "axes[1].set_title('EN')\n",
    "axes[1].set_xlabel('Standard Deviation')\n",
    "axes[1].set_ylabel('Frequency')\n",
    "axes[1].set_xlim(x_min, x_max)\n",
    "axes[1].xaxis.set_major_locator(ticker.MaxNLocator(integer=True))\n",
    "axes[1].grid(False) # Remove grid\n",
    "\n",
    "# Adjust layout\n",
    "plt.tight_layout()\n",
    "\n",
    "# Show results\n",
    "plt.show()"
   ]
  },
  {
   "cell_type": "markdown",
   "id": "71522368",
   "metadata": {},
   "source": [
    "#### **3.5. Outliers**"
   ]
  },
  {
   "cell_type": "markdown",
   "id": "1d36bbbb",
   "metadata": {},
   "source": [
    "##### **3.5.1. Dutch SimLex-999**"
   ]
  },
  {
   "cell_type": "code",
   "execution_count": 26,
   "id": "8aa26629",
   "metadata": {},
   "outputs": [
    {
     "name": "stdout",
     "output_type": "stream",
     "text": [
      "Outliers in nl_sd: 15\n",
      "No outliers found in columns: nl_sl\n"
     ]
    }
   ],
   "source": [
    "print_outlier_counts(nl_simlex)"
   ]
  },
  {
   "cell_type": "code",
   "execution_count": 27,
   "id": "98d5871e",
   "metadata": {},
   "outputs": [
    {
     "name": "stdout",
     "output_type": "stream",
     "text": [
      "\n",
      "Outliers in nl_sd:\n",
      "         word1        word2  nl_sl  nl_sd POS\n",
      "125      vrouw          man   5.08   4.13   N\n",
      "155   boosheid        woede   8.87   0.59   N\n",
      "178     straat         auto   0.89   0.72   N\n",
      "293      water         zout   0.87   0.64   N\n",
      "452       doos         lift   0.79   0.73   N\n",
      "731       muis       beheer   0.82   0.67   N\n",
      "734       taak       rietje   0.83   0.60   N\n",
      "738    pistool         truc   0.94   0.75   N\n",
      "744  volkslied       rietje   0.87   0.71   N\n",
      "755   maaltijd       staart   0.49   0.48   N\n",
      "757     likeur  muziekgroep   0.85   0.49   N\n",
      "759    pistool         bont   0.99   0.64   N\n",
      "821   besteden       redden   1.06   0.75   V\n",
      "867      geven     weigeren   0.90   0.67   V\n",
      "918    negeren       vragen   0.76   0.60   V\n"
     ]
    }
   ],
   "source": [
    "print_outlier_data(nl_simlex, 'nl_sd')"
   ]
  },
  {
   "cell_type": "markdown",
   "id": "4b6cca7a",
   "metadata": {},
   "source": [
    "##### **3.5.2. English SimLex-999**"
   ]
  },
  {
   "cell_type": "code",
   "execution_count": 28,
   "id": "5a810f92",
   "metadata": {},
   "outputs": [
    {
     "name": "stdout",
     "output_type": "stream",
     "text": [
      "Outliers in en_sd: 3\n",
      "No outliers found in columns: en_sl\n"
     ]
    }
   ],
   "source": [
    "print_outlier_counts(en_simlex)"
   ]
  },
  {
   "cell_type": "code",
   "execution_count": 29,
   "id": "d7f79e10",
   "metadata": {},
   "outputs": [
    {
     "name": "stdout",
     "output_type": "stream",
     "text": [
      "\n",
      "Outliers in en_sd:\n",
      "         word1      word2  en_sl  en_sd POS\n",
      "12        easy  difficult   0.58   0.36   A\n",
      "727       task      woman   0.68   0.34   N\n",
      "984  cooperate       join   5.18   0.36   V\n"
     ]
    }
   ],
   "source": [
    "print_outlier_data(en_simlex, 'en_sd')"
   ]
  },
  {
   "cell_type": "markdown",
   "id": "8a22e722",
   "metadata": {},
   "source": [
    "##### **3.5.1 Add to Summary**"
   ]
  },
  {
   "cell_type": "code",
   "execution_count": 30,
   "id": "dfb1c49d",
   "metadata": {},
   "outputs": [
    {
     "data": {
      "text/html": [
       "<div>\n",
       "<style scoped>\n",
       "    .dataframe tbody tr th:only-of-type {\n",
       "        vertical-align: middle;\n",
       "    }\n",
       "\n",
       "    .dataframe tbody tr th {\n",
       "        vertical-align: top;\n",
       "    }\n",
       "\n",
       "    .dataframe thead th {\n",
       "        text-align: right;\n",
       "    }\n",
       "</style>\n",
       "<table border=\"1\" class=\"dataframe\">\n",
       "  <thead>\n",
       "    <tr style=\"text-align: right;\">\n",
       "      <th></th>\n",
       "      <th>nl_sl</th>\n",
       "      <th>en_sl</th>\n",
       "      <th>nl_sd</th>\n",
       "      <th>en_sd</th>\n",
       "    </tr>\n",
       "  </thead>\n",
       "  <tbody>\n",
       "    <tr>\n",
       "      <th>count</th>\n",
       "      <td>999.00</td>\n",
       "      <td>999.00</td>\n",
       "      <td>999.00</td>\n",
       "      <td>999.00</td>\n",
       "    </tr>\n",
       "    <tr>\n",
       "      <th>mean</th>\n",
       "      <td>3.65</td>\n",
       "      <td>4.56</td>\n",
       "      <td>2.37</td>\n",
       "      <td>1.27</td>\n",
       "    </tr>\n",
       "    <tr>\n",
       "      <th>std</th>\n",
       "      <td>2.00</td>\n",
       "      <td>2.61</td>\n",
       "      <td>0.64</td>\n",
       "      <td>0.37</td>\n",
       "    </tr>\n",
       "    <tr>\n",
       "      <th>min</th>\n",
       "      <td>0.49</td>\n",
       "      <td>0.23</td>\n",
       "      <td>0.48</td>\n",
       "      <td>0.34</td>\n",
       "    </tr>\n",
       "    <tr>\n",
       "      <th>25%</th>\n",
       "      <td>2.00</td>\n",
       "      <td>2.38</td>\n",
       "      <td>2.00</td>\n",
       "      <td>1.08</td>\n",
       "    </tr>\n",
       "    <tr>\n",
       "      <th>50%</th>\n",
       "      <td>3.27</td>\n",
       "      <td>4.67</td>\n",
       "      <td>2.46</td>\n",
       "      <td>1.31</td>\n",
       "    </tr>\n",
       "    <tr>\n",
       "      <th>75%</th>\n",
       "      <td>5.08</td>\n",
       "      <td>6.75</td>\n",
       "      <td>2.84</td>\n",
       "      <td>1.54</td>\n",
       "    </tr>\n",
       "    <tr>\n",
       "      <th>max</th>\n",
       "      <td>9.28</td>\n",
       "      <td>9.80</td>\n",
       "      <td>4.13</td>\n",
       "      <td>2.18</td>\n",
       "    </tr>\n",
       "    <tr>\n",
       "      <th>median</th>\n",
       "      <td>3.27</td>\n",
       "      <td>4.67</td>\n",
       "      <td>2.46</td>\n",
       "      <td>1.31</td>\n",
       "    </tr>\n",
       "    <tr>\n",
       "      <th>outliers</th>\n",
       "      <td>0.00</td>\n",
       "      <td>15.00</td>\n",
       "      <td>0.00</td>\n",
       "      <td>3.00</td>\n",
       "    </tr>\n",
       "  </tbody>\n",
       "</table>\n",
       "</div>"
      ],
      "text/plain": [
       "           nl_sl   en_sl   nl_sd   en_sd\n",
       "count     999.00  999.00  999.00  999.00\n",
       "mean        3.65    4.56    2.37    1.27\n",
       "std         2.00    2.61    0.64    0.37\n",
       "min         0.49    0.23    0.48    0.34\n",
       "25%         2.00    2.38    2.00    1.08\n",
       "50%         3.27    4.67    2.46    1.31\n",
       "75%         5.08    6.75    2.84    1.54\n",
       "max         9.28    9.80    4.13    2.18\n",
       "median      3.27    4.67    2.46    1.31\n",
       "outliers    0.00   15.00    0.00    3.00"
      ]
     },
     "execution_count": 30,
     "metadata": {},
     "output_type": "execute_result"
    }
   ],
   "source": [
    "# Calculate outliers\n",
    "outliers_nl_sl = calculate_outliers(nl_simlex, 'nl_sl')\n",
    "outliers_nl_sd = calculate_outliers(nl_simlex, 'nl_sd')\n",
    "outliers_en_sl = calculate_outliers(en_simlex, 'en_sl')\n",
    "outliers_en_sd = calculate_outliers(en_simlex, 'en_sd')\n",
    "\n",
    "# Count outliers\n",
    "count_outliers_nl_sl = outliers_nl_sl.shape[0]\n",
    "count_outliers_nl_sd = outliers_nl_sd.shape[0]\n",
    "count_outliers_en_sl = outliers_en_sl.shape[0]\n",
    "count_outliers_en_sd = outliers_en_sd.shape[0]\n",
    "\n",
    "# Add outliers count to summary\n",
    "outliers_row = pd.Series([count_outliers_nl_sl, count_outliers_nl_sd, count_outliers_en_sl, count_outliers_en_sd], \n",
    "    index=summary_df.columns,\n",
    "    name='outliers'\n",
    ")\n",
    "summary_df = pd.concat([summary_df, outliers_row.to_frame().T])\n",
    "\n",
    "# Show results\n",
    "summary_df"
   ]
  },
  {
   "cell_type": "markdown",
   "id": "4abaae18",
   "metadata": {},
   "source": [
    "#### **3.6. Categorical Data Distributions**"
   ]
  },
  {
   "cell_type": "markdown",
   "id": "36ec9697",
   "metadata": {},
   "source": [
    "##### **3.6.1. Dutch SimLex-999**"
   ]
  },
  {
   "cell_type": "code",
   "execution_count": 31,
   "id": "008398c0",
   "metadata": {},
   "outputs": [],
   "source": [
    "# Import libraries and utils\n",
    "%run '../eda/utils.ipynb'"
   ]
  },
  {
   "cell_type": "code",
   "execution_count": 32,
   "id": "f26af632",
   "metadata": {},
   "outputs": [
    {
     "data": {
      "image/png": "[encoded data removed]",
      "text/plain": [
       "<Figure size 640x480 with 1 Axes>"
      ]
     },
     "metadata": {},
     "output_type": "display_data"
    },
    {
     "name": "stdout",
     "output_type": "stream",
     "text": [
      "POS\n",
      "A    4.09\n",
      "N    3.63\n",
      "V    3.50\n",
      "Name: SimLex-999, dtype: float64\n"
     ]
    }
   ],
   "source": [
    "# Plot the mean similarity score aggregated by POS\n",
    "plot_feature_by_pos(renamed_nl_simlex, 'SimLex-999')\n",
    "\n",
    "# Calculate mean per POS\n",
    "print_mean_per_pos(renamed_nl_simlex, 'SimLex-999')"
   ]
  },
  {
   "cell_type": "code",
   "execution_count": 33,
   "id": "db4a7f2b",
   "metadata": {},
   "outputs": [
    {
     "data": {
      "image/png": "[encoded data removed]",
      "text/plain": [
       "<Figure size 640x480 with 1 Axes>"
      ]
     },
     "metadata": {},
     "output_type": "display_data"
    },
    {
     "name": "stdout",
     "output_type": "stream",
     "text": [
      "POS\n",
      "A    2.29\n",
      "N    2.41\n",
      "V    2.31\n",
      "Name: Standard Deviation, dtype: float64\n"
     ]
    }
   ],
   "source": [
    "# Plot the mean standard deviation aggregated by POS\n",
    "plot_feature_by_pos(renamed_nl_simlex, 'Standard Deviation')\n",
    "\n",
    "# Calculate mean per POS\n",
    "print_mean_per_pos(renamed_nl_simlex, 'Standard Deviation')"
   ]
  },
  {
   "cell_type": "markdown",
   "id": "81074acf",
   "metadata": {},
   "source": [
    "##### **3.6.2. English SimLex-999**"
   ]
  },
  {
   "cell_type": "code",
   "execution_count": 34,
   "id": "e43e8cb3",
   "metadata": {},
   "outputs": [
    {
     "data": {
      "image/png": "[encoded data removed]",
      "text/plain": [
       "<Figure size 640x480 with 1 Axes>"
      ]
     },
     "metadata": {},
     "output_type": "display_data"
    },
    {
     "name": "stdout",
     "output_type": "stream",
     "text": [
      "POS\n",
      "A    4.70\n",
      "N    4.49\n",
      "V    4.71\n",
      "Name: SimLex-999, dtype: float64\n"
     ]
    }
   ],
   "source": [
    "# Plot the mean similarity score aggregated by POS\n",
    "plot_feature_by_pos(renamed_en_simlex, 'SimLex-999')\n",
    "\n",
    "# Calculate mean per POS\n",
    "print_mean_per_pos(renamed_en_simlex, 'SimLex-999')"
   ]
  },
  {
   "cell_type": "code",
   "execution_count": 35,
   "id": "bb3c470e",
   "metadata": {},
   "outputs": [
    {
     "data": {
      "image/png": "[encoded data removed]",
      "text/plain": [
       "<Figure size 640x480 with 1 Axes>"
      ]
     },
     "metadata": {},
     "output_type": "display_data"
    },
    {
     "name": "stdout",
     "output_type": "stream",
     "text": [
      "POS\n",
      "A    1.21\n",
      "N    1.28\n",
      "V    1.30\n",
      "Name: Standard Deviation, dtype: float64\n"
     ]
    }
   ],
   "source": [
    "# Plot the mean standard deviation aggregated by POS\n",
    "plot_feature_by_pos(renamed_en_simlex, 'Standard Deviation')\n",
    "\n",
    "# Calculate mean per POS\n",
    "print_mean_per_pos(renamed_en_simlex, 'Standard Deviation')"
   ]
  },
  {
   "cell_type": "markdown",
   "id": "852da6f5",
   "metadata": {},
   "source": [
    "#### **3.7. Correlations**"
   ]
  },
  {
   "cell_type": "code",
   "execution_count": 36,
   "id": "faef69b7",
   "metadata": {},
   "outputs": [
    {
     "data": {
      "image/png": "[encoded data removed]",
      "text/plain": [
       "<Figure size 1000x400 with 2 Axes>"
      ]
     },
     "metadata": {},
     "output_type": "display_data"
    }
   ],
   "source": [
    "# Create figure with two subplots\n",
    "fig, axes = plt.subplots(1, 2, figsize=(10, 4))\n",
    "\n",
    "# Define x-axis limits\n",
    "x_min = 0\n",
    "x_max = 10\n",
    "y_min = 0\n",
    "y_max = 4.5\n",
    "\n",
    "# Create scatter plot\n",
    "sns.scatterplot(x='nl_sl', y='nl_sd', data=nl_simlex, ax=axes[0], color='skyblue', edgecolor='black')\n",
    "\n",
    "# Plot diagonal line\n",
    "axes[0].plot([x_min, x_max], [y_min, y_max], color='red', linestyle='--')\n",
    "\n",
    "# Set axis limits\n",
    "axes[0].set_xlim(x_min, x_max)\n",
    "axes[0].set_ylim(y_min, y_max)\n",
    "\n",
    "# Set labels and title\n",
    "axes[0].set_xlabel('SimLex-999')\n",
    "axes[0].set_ylabel('Standard Deviation')\n",
    "axes[0].set_title('NL')\n",
    "\n",
    "# Remove grid\n",
    "axes[0].grid(False)\n",
    "\n",
    "# Create scatter plot\n",
    "sns.scatterplot(x='en_sl', y='en_sd', data=en_simlex, ax=axes[1], color='lightgreen', edgecolor='black')\n",
    "\n",
    "# Plot diagonal line\n",
    "axes[1].plot([x_min, x_max], [y_min, y_max], color='red', linestyle='--')\n",
    "\n",
    "# Set axis limits\n",
    "axes[1].set_xlim(x_min, x_max)\n",
    "axes[1].set_ylim(y_min, y_max)\n",
    "\n",
    "# Set labels and title\n",
    "axes[1].set_xlabel('SimLex-999')\n",
    "axes[1].set_ylabel('Standard Deviation')\n",
    "axes[1].set_title('EN')\n",
    "\n",
    "# Remove grid\n",
    "axes[1].grid(False)\n",
    "\n",
    "# Adjust layout\n",
    "plt.tight_layout()\n",
    "\n",
    "# Show results\n",
    "plt.show()"
   ]
  },
  {
   "cell_type": "code",
   "execution_count": 37,
   "id": "e153bf54",
   "metadata": {},
   "outputs": [
    {
     "data": {
      "text/html": [
       "<div>\n",
       "<style scoped>\n",
       "    .dataframe tbody tr th:only-of-type {\n",
       "        vertical-align: middle;\n",
       "    }\n",
       "\n",
       "    .dataframe tbody tr th {\n",
       "        vertical-align: top;\n",
       "    }\n",
       "\n",
       "    .dataframe thead th {\n",
       "        text-align: right;\n",
       "    }\n",
       "</style>\n",
       "<table border=\"1\" class=\"dataframe\">\n",
       "  <thead>\n",
       "    <tr style=\"text-align: right;\">\n",
       "      <th></th>\n",
       "      <th>simlex999</th>\n",
       "      <th>standard_deviation</th>\n",
       "      <th>correlation</th>\n",
       "      <th>p_value</th>\n",
       "      <th>significance</th>\n",
       "    </tr>\n",
       "  </thead>\n",
       "  <tbody>\n",
       "    <tr>\n",
       "      <th>0</th>\n",
       "      <td>nl_sl</td>\n",
       "      <td>nl_sd</td>\n",
       "      <td>0.37779</td>\n",
       "      <td>3.035459e-35</td>\n",
       "      <td>significant</td>\n",
       "    </tr>\n",
       "    <tr>\n",
       "      <th>1</th>\n",
       "      <td>en_sl</td>\n",
       "      <td>en_sd</td>\n",
       "      <td>-0.04859</td>\n",
       "      <td>1.248691e-01</td>\n",
       "      <td>not significant</td>\n",
       "    </tr>\n",
       "  </tbody>\n",
       "</table>\n",
       "</div>"
      ],
      "text/plain": [
       "  simlex999 standard_deviation  correlation       p_value     significance\n",
       "0     nl_sl              nl_sd      0.37779  3.035459e-35      significant\n",
       "1     en_sl              en_sd     -0.04859  1.248691e-01  not significant"
      ]
     },
     "execution_count": 37,
     "metadata": {},
     "output_type": "execute_result"
    }
   ],
   "source": [
    "# List to store correlations\n",
    "correlations_list = []\n",
    "\n",
    "# Append correlations to list\n",
    "correlations_list.append(calculate_correlation_and_pvalue(nl_simlex, 'nl_sl', 'nl_sd'))\n",
    "correlations_list.append(calculate_correlation_and_pvalue(en_simlex, 'en_sl', 'en_sd'))\n",
    "\n",
    "# Convert list into Pandas DataFrame\n",
    "correlation_df = pd.DataFrame(correlations_list)\n",
    "\n",
    "# Show results\n",
    "correlation_df"
   ]
  }
 ],
 "metadata": {
  "kernelspec": {
   "display_name": "Python 3 (ipykernel)",
   "language": "python",
   "name": "python3"
  },
  "language_info": {
   "codemirror_mode": {
    "name": "ipython",
    "version": 3
   },
   "file_extension": ".py",
   "mimetype": "text/x-python",
   "name": "python",
   "nbconvert_exporter": "python",
   "pygments_lexer": "ipython3",
   "version": "3.8.8"
  },
  "vscode": {
   "interpreter": {
    "hash": "f4bc7a400e35f160b13ed52195005e41b219907c1be09b125a1c17e685484faa"
   }
  }
 },
 "nbformat": 4,
 "nbformat_minor": 5
}
