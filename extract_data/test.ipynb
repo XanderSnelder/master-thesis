{
 "cells": [
  {
   "cell_type": "code",
   "execution_count": 16,
   "metadata": {},
   "outputs": [],
   "source": [
    "# Import libraries and utils\n",
    "%run '../../data_processing/api_calls/utils.ipynb'"
   ]
  },
  {
   "cell_type": "code",
   "execution_count": 4,
   "metadata": {},
   "outputs": [],
   "source": [
    "# Load dataframe and convert into tuple\n",
    "nl_simlex = pd.read_csv(\"../../data/nl-simlex-999.txt\", delimiter='\\t')\n",
    "tuples_list = list(zip(nl_simlex['word1'], nl_simlex['word2']))"
   ]
  },
  {
   "cell_type": "code",
   "execution_count": 5,
   "metadata": {},
   "outputs": [],
   "source": [
    "# Set client\n",
    "load_dotenv()\n",
    "client = OpenAI()"
   ]
  },
  {
   "cell_type": "code",
   "execution_count": 20,
   "metadata": {},
   "outputs": [],
   "source": [
    "# Define the prompt\n",
    "prompt = (\"Beoordeel de semantische gelijkenis van elk woordpaar op een schaal van 0 tot 10, \"\n",
    "          \"waarbij 0 geen semantische gelijkenis vertegenwoordigt, en 10 perfecte semantische gelijkenis. \"\n",
    "          \"Gebruik twee decimalen. Jouw antwoord moet strikt voldoen aan de structuur: \"\n",
    "          \"[('woord1', 'woord2', <score>), ('woord3', 'woord4', <score>), ...]. Geef geen extra uitleg of context.\"\n",
    "          \"\\n\\n---\\n\\n\"\n",
    "          \"[('oud', 'nieuw'), ('slim', 'intelligent'), ('hard', 'moeilijk'),], \"\n",
    "          \"[('slecht', 'vreselijk'), ('moeilijk', 'gemakkelijk'), ('slim', 'dom'),], \"\n",
    "          \"[('gelukkig', 'vrolijk'), ('hard', 'stoer'), ('gelukkig', 'blij'),],]\"\n",
    "          )"
   ]
  },
  {
   "cell_type": "code",
   "execution_count": 21,
   "metadata": {},
   "outputs": [
    {
     "name": "stdout",
     "output_type": "stream",
     "text": [
      "Beoordeel de semantische gelijkenis van elk woordpaar op een schaal van 0 tot 10, waarbij 0 geen semantische gelijkenis vertegenwoordigt, en 10 perfecte semantische gelijkenis. Gebruik twee decimalen. Jouw antwoord moet strikt voldoen aan de structuur: [('woord1', 'woord2', <score>), ('woord3', 'woord4', <score>), ...]. Geef geen extra uitleg of context.\n",
      "\n",
      "---\n",
      "\n",
      "[('oud', 'nieuw'), ('slim', 'intelligent'), ('hard', 'moeilijk'),], [('slecht', 'vreselijk'), ('moeilijk', 'gemakkelijk'), ('slim', 'dom'),], [('gelukkig', 'vrolijk'), ('hard', 'stoer'), ('gelukkig', 'blij'),],]\n"
     ]
    }
   ],
   "source": [
    "print(prompt)"
   ]
  },
  {
   "cell_type": "code",
   "execution_count": 8,
   "metadata": {},
   "outputs": [],
   "source": [
    "# Define model\n",
    "model = \"gpt-3.5-turbo-0125\""
   ]
  },
  {
   "cell_type": "code",
   "execution_count": 13,
   "metadata": {},
   "outputs": [
    {
     "name": "stdout",
     "output_type": "stream",
     "text": [
      "[('oud', 'nieuw', 0.20), ('slim', 'intelligent', 0.90), ('hard', 'moeilijk', 0.10)]\n"
     ]
    }
   ],
   "source": [
    "messages = [{\"role\": \"user\", \"content\": prompt}] # Create message according to OpenAI API docs\n",
    "\n",
    "completion = client.chat.completions.create(\n",
    "  model=\"gpt-3.5-turbo\",\n",
    "  messages=messages\n",
    ")\n",
    "\n",
    "\n",
    "print(completion.choices[0].message.content)"
   ]
  },
  {
   "cell_type": "code",
   "execution_count": 15,
   "metadata": {},
   "outputs": [
    {
     "data": {
      "text/plain": [
       "\"[('oud', 'nieuw', 0.20), ('slim', 'intelligent', 0.90), ('hard', 'moeilijk', 0.10)]\""
      ]
     },
     "execution_count": 15,
     "metadata": {},
     "output_type": "execute_result"
    }
   ],
   "source": [
    "completion.choices[0].message.content"
   ]
  },
  {
   "cell_type": "code",
   "execution_count": 18,
   "metadata": {},
   "outputs": [
    {
     "data": {
      "text/plain": [
       "[('oud', 'nieuw', 0.2),\n",
       " ('slim', 'intelligent', 0.9),\n",
       " ('hard', 'moeilijk', 0.1)]"
      ]
     },
     "execution_count": 18,
     "metadata": {},
     "output_type": "execute_result"
    }
   ],
   "source": [
    "# Extract content\n",
    "content = completion.choices[0].message.content\n",
    "\n",
    "# Convert to list of tuples\n",
    "list_of_tuples = ast.literal_eval(content)\n",
    "list_of_tuples"
   ]
  },
  {
   "cell_type": "code",
   "execution_count": 26,
   "metadata": {},
   "outputs": [
    {
     "data": {
      "text/plain": [
       "ChatCompletion(id='chatcmpl-9IkYmCbcwo1tqYKxULGKJCVNwnVzp', choices=[Choice(finish_reason='stop', index=0, logprobs=None, message=ChatCompletionMessage(content=\"[('oud', 'nieuw', 0.20), ('slim', 'intelligent', 0.90), ('hard', 'moeilijk', 0.10)]\", role='assistant', function_call=None, tool_calls=None))], created=1714255908, model='gpt-3.5-turbo-0125', object='chat.completion', system_fingerprint='fp_3b956da36b', usage=CompletionUsage(completion_tokens=40, prompt_tokens=147, total_tokens=187))"
      ]
     },
     "execution_count": 26,
     "metadata": {},
     "output_type": "execute_result"
    }
   ],
   "source": [
    "completion"
   ]
  },
  {
   "cell_type": "code",
   "execution_count": 19,
   "metadata": {},
   "outputs": [],
   "source": [
    "# content = parse_content(completion.choices[0].message.content)\n",
    "# content"
   ]
  },
  {
   "cell_type": "code",
   "execution_count": 21,
   "metadata": {},
   "outputs": [
    {
     "data": {
      "text/html": [
       "<div>\n",
       "<style scoped>\n",
       "    .dataframe tbody tr th:only-of-type {\n",
       "        vertical-align: middle;\n",
       "    }\n",
       "\n",
       "    .dataframe tbody tr th {\n",
       "        vertical-align: top;\n",
       "    }\n",
       "\n",
       "    .dataframe thead th {\n",
       "        text-align: right;\n",
       "    }\n",
       "</style>\n",
       "<table border=\"1\" class=\"dataframe\">\n",
       "  <thead>\n",
       "    <tr style=\"text-align: right;\">\n",
       "      <th></th>\n",
       "      <th>word1</th>\n",
       "      <th>word2</th>\n",
       "      <th>similarity_score</th>\n",
       "    </tr>\n",
       "  </thead>\n",
       "  <tbody>\n",
       "    <tr>\n",
       "      <th>0</th>\n",
       "      <td>oud</td>\n",
       "      <td>nieuw</td>\n",
       "      <td>1.0</td>\n",
       "    </tr>\n",
       "    <tr>\n",
       "      <th>1</th>\n",
       "      <td>slim</td>\n",
       "      <td>intelligent</td>\n",
       "      <td>0.9</td>\n",
       "    </tr>\n",
       "    <tr>\n",
       "      <th>2</th>\n",
       "      <td>hard</td>\n",
       "      <td>moeilijk</td>\n",
       "      <td>0.2</td>\n",
       "    </tr>\n",
       "  </tbody>\n",
       "</table>\n",
       "</div>"
      ],
      "text/plain": [
       "  word1        word2  similarity_score\n",
       "0   oud        nieuw               1.0\n",
       "1  slim  intelligent               0.9\n",
       "2  hard     moeilijk               0.2"
      ]
     },
     "execution_count": 21,
     "metadata": {},
     "output_type": "execute_result"
    }
   ],
   "source": [
    "# Initialize an empty Pandas DataFrame\n",
    "df = pd.DataFrame(columns=['word1', 'word2', 'similarity_score'])\n",
    "\n",
    "# Append to Pandas dataframe\n",
    "for row in content:\n",
    "    df = df.append({'word1': row[0], 'word2': row[1], 'similarity_score': row[2]}, ignore_index=True)\n",
    "\n",
    "# Show results\n",
    "df"
   ]
  },
  {
   "cell_type": "code",
   "execution_count": 24,
   "metadata": {},
   "outputs": [],
   "source": [
    "test_list = \"[('oud', 'nieuw', 4.50), ('slim', 'intelligent', 9.50), ('hard', 'moeilijk', 2.00), ('gelukkig', 'vrolijk', 7.50), ('hard', 'stoer', 6.50), ('snel', 'razendsnel', 9.50), ('gelukkig', 'blij', 8.50), ('kort', 'lang', 1.50), ('dom', 'stom', 8.50), ('vreemd', 'eigenaardig', 9.50), ('breed', 'smal', 2.00), ('slecht', 'vreselijk', 7.50), ('makkelijk', 'moeilijk', 6.00), ('moeilijk', 'gemakkelijk', 6.50), ('slim', 'dom', 8.00), ('krankzinnig', 'gek', 9.00), ('gelukkig', 'kwaad', 2.00), ('uitgebreid', 'groot', 5.00), ('moeilijk', 'simpel', 7.50), ('nieuw', 'vers', 6.50), ('scherp', 'saai', 1.50), ('vlug', 'snel', 8.50), ('dom', 'dwaas', 8.50), ('prachtig', 'fantastisch', 8.50), ('eigenaardig', 'vreemd', 9.50), ('gelukkig', 'boos', 3.00), ('smal', 'breed', 2.00), ('eenvoudig', 'gemakkelijk', 9.50), ('oud', 'vers', 5.50), ('kennelijk', 'duidelijk', 8.00), ('betaalbaar', 'goedkoop', 9.00), ('leuk', 'grootmoedig', 2.00), ('raar', 'vreemd', 9.50), ('vreemd', 'normaal', 4.50), ('slecht', 'immoreel', 9.00), ('verdrietig', 'grappig', 1.50), ('prachtig', 'geweldig', 8.50), ('schuldig', 'beschaamd', 9.50), ('mooi', 'prachtig', 8.50), ('zelfverzekerd', 'zeker', 8.00), ('dom', 'onderontwikkeld', 7.00), ('groot', 'flexibel', 3.50), ('aardig', 'wreed', 3.50), ('ongeduldig', 'nerveus', 6.50), ('groot', 'breed', 6.50), ('sterk', 'trots', 7.50), ('onnodig', 'noodzakelijk', 5.00), ('onrustig', 'jong', 4.00), ('dom', 'intelligent', 8.00), ('slecht', 'geweldig', 1.50), ('moeilijk', 'eenvoudig', 8.00), ('noodzakelijk', 'belangrijk', 7.50), ('slecht', 'verschrikkelijk', 8.00), ('boos', 'blij', 2.50), ('eerlijk', 'schuldig', 1.50), ('makkelijk', 'zwaar', 1.50), ('makkelijk', 'flexibel', 8.50), ('stellig', 'zeker', 9.50), ('essentieel', 'noodzakelijk', 9.00), ('anders', 'normaal', 7.50), ('sluw', 'slim', 8.50), ('cruciaal', 'belangrijk', 8.50), ('hard', 'wreed', 2.00), ('kinderachtig', 'dwaas', 8.00), ('zelden', 'zeldzaam', 9.50), ('vriendelijk', 'vrijgevig', 8.00), ('breekbaar', 'kil', 1.50), ('lang', 'smal', 1.50), ('groot', 'zwaar', 7.50), ('ruw', 'koel', 4.50), ('bizar', 'vreemd', 9.00), ('illegaal', 'immoreel', 9.50), ('slecht', 'schuldig', 2.50), ('modern', 'oud', 2.50), ('nieuw', 'oud', 3.00), ('saai', 'grappig', 3.50), ('gelukkig', 'jong', 6.00), ('makkelijk', 'groot', 3.00), ('geweldig', 'vreselijk', 7.50), ('klein', 'enorm', 1.50), ('beleefd', 'gepast', 8.50), ('bescheiden', 'beschaamd', 7.50), ('exotisch', 'zeldzaam', 6.50), ('dom', 'slim', 8.00), ('heerlijk', 'prachtig', 8.00), ('opvallend', 'duidelijk', 6.50), ('angstig', 'bang', 8.00), ('formeel', 'juist', 8.00), ('somber', 'saai', 5.00), ('heerlijk', 'vrolijk', 7.50), ('ongelukkig', 'kwaad', 3.00), ('verdrietig', 'vreselijk', 7.50), ('ziek', 'gek', 9.00), ('gewelddadig', 'boos', 7.50), ('beladen', 'zwaar', 6.00), ('vuil', 'goedkoop', 1.50), ('elastisch', 'flexibel', 9.00), ('hard', 'dicht', 4.00), ('onlangs', 'nieuw', 6.50),]\""
   ]
  },
  {
   "cell_type": "code",
   "execution_count": 27,
   "metadata": {},
   "outputs": [
    {
     "data": {
      "text/plain": [
       "[('oud', 'nieuw', 4.5),\n",
       " ('slim', 'intelligent', 9.5),\n",
       " ('hard', 'moeilijk', 2.0),\n",
       " ('gelukkig', 'vrolijk', 7.5),\n",
       " ('hard', 'stoer', 6.5),\n",
       " ('snel', 'razendsnel', 9.5),\n",
       " ('gelukkig', 'blij', 8.5),\n",
       " ('kort', 'lang', 1.5),\n",
       " ('dom', 'stom', 8.5),\n",
       " ('vreemd', 'eigenaardig', 9.5),\n",
       " ('breed', 'smal', 2.0),\n",
       " ('slecht', 'vreselijk', 7.5),\n",
       " ('makkelijk', 'moeilijk', 6.0),\n",
       " ('moeilijk', 'gemakkelijk', 6.5),\n",
       " ('slim', 'dom', 8.0),\n",
       " ('krankzinnig', 'gek', 9.0),\n",
       " ('gelukkig', 'kwaad', 2.0),\n",
       " ('uitgebreid', 'groot', 5.0),\n",
       " ('moeilijk', 'simpel', 7.5),\n",
       " ('nieuw', 'vers', 6.5),\n",
       " ('scherp', 'saai', 1.5),\n",
       " ('vlug', 'snel', 8.5),\n",
       " ('dom', 'dwaas', 8.5),\n",
       " ('prachtig', 'fantastisch', 8.5),\n",
       " ('eigenaardig', 'vreemd', 9.5),\n",
       " ('gelukkig', 'boos', 3.0),\n",
       " ('smal', 'breed', 2.0),\n",
       " ('eenvoudig', 'gemakkelijk', 9.5),\n",
       " ('oud', 'vers', 5.5),\n",
       " ('kennelijk', 'duidelijk', 8.0),\n",
       " ('betaalbaar', 'goedkoop', 9.0),\n",
       " ('leuk', 'grootmoedig', 2.0),\n",
       " ('raar', 'vreemd', 9.5),\n",
       " ('vreemd', 'normaal', 4.5),\n",
       " ('slecht', 'immoreel', 9.0),\n",
       " ('verdrietig', 'grappig', 1.5),\n",
       " ('prachtig', 'geweldig', 8.5),\n",
       " ('schuldig', 'beschaamd', 9.5),\n",
       " ('mooi', 'prachtig', 8.5),\n",
       " ('zelfverzekerd', 'zeker', 8.0),\n",
       " ('dom', 'onderontwikkeld', 7.0),\n",
       " ('groot', 'flexibel', 3.5),\n",
       " ('aardig', 'wreed', 3.5),\n",
       " ('ongeduldig', 'nerveus', 6.5),\n",
       " ('groot', 'breed', 6.5),\n",
       " ('sterk', 'trots', 7.5),\n",
       " ('onnodig', 'noodzakelijk', 5.0),\n",
       " ('onrustig', 'jong', 4.0),\n",
       " ('dom', 'intelligent', 8.0),\n",
       " ('slecht', 'geweldig', 1.5),\n",
       " ('moeilijk', 'eenvoudig', 8.0),\n",
       " ('noodzakelijk', 'belangrijk', 7.5),\n",
       " ('slecht', 'verschrikkelijk', 8.0),\n",
       " ('boos', 'blij', 2.5),\n",
       " ('eerlijk', 'schuldig', 1.5),\n",
       " ('makkelijk', 'zwaar', 1.5),\n",
       " ('makkelijk', 'flexibel', 8.5),\n",
       " ('stellig', 'zeker', 9.5),\n",
       " ('essentieel', 'noodzakelijk', 9.0),\n",
       " ('anders', 'normaal', 7.5),\n",
       " ('sluw', 'slim', 8.5),\n",
       " ('cruciaal', 'belangrijk', 8.5),\n",
       " ('hard', 'wreed', 2.0),\n",
       " ('kinderachtig', 'dwaas', 8.0),\n",
       " ('zelden', 'zeldzaam', 9.5),\n",
       " ('vriendelijk', 'vrijgevig', 8.0),\n",
       " ('breekbaar', 'kil', 1.5),\n",
       " ('lang', 'smal', 1.5),\n",
       " ('groot', 'zwaar', 7.5),\n",
       " ('ruw', 'koel', 4.5),\n",
       " ('bizar', 'vreemd', 9.0),\n",
       " ('illegaal', 'immoreel', 9.5),\n",
       " ('slecht', 'schuldig', 2.5),\n",
       " ('modern', 'oud', 2.5),\n",
       " ('nieuw', 'oud', 3.0),\n",
       " ('saai', 'grappig', 3.5),\n",
       " ('gelukkig', 'jong', 6.0),\n",
       " ('makkelijk', 'groot', 3.0),\n",
       " ('geweldig', 'vreselijk', 7.5),\n",
       " ('klein', 'enorm', 1.5),\n",
       " ('beleefd', 'gepast', 8.5),\n",
       " ('bescheiden', 'beschaamd', 7.5),\n",
       " ('exotisch', 'zeldzaam', 6.5),\n",
       " ('dom', 'slim', 8.0),\n",
       " ('heerlijk', 'prachtig', 8.0),\n",
       " ('opvallend', 'duidelijk', 6.5),\n",
       " ('angstig', 'bang', 8.0),\n",
       " ('formeel', 'juist', 8.0),\n",
       " ('somber', 'saai', 5.0),\n",
       " ('heerlijk', 'vrolijk', 7.5),\n",
       " ('ongelukkig', 'kwaad', 3.0),\n",
       " ('verdrietig', 'vreselijk', 7.5),\n",
       " ('ziek', 'gek', 9.0),\n",
       " ('gewelddadig', 'boos', 7.5),\n",
       " ('beladen', 'zwaar', 6.0),\n",
       " ('vuil', 'goedkoop', 1.5),\n",
       " ('elastisch', 'flexibel', 9.0),\n",
       " ('hard', 'dicht', 4.0),\n",
       " ('onlangs', 'nieuw', 6.5)]"
      ]
     },
     "execution_count": 27,
     "metadata": {},
     "output_type": "execute_result"
    }
   ],
   "source": [
    "word_pairs = ast.literal_eval(test_list)\n",
    "word_pairs"
   ]
  },
  {
   "cell_type": "code",
   "execution_count": 36,
   "metadata": {},
   "outputs": [
    {
     "ename": "TypeError",
     "evalue": "'type' object does not support item assignment",
     "output_type": "error",
     "traceback": [
      "\u001b[0;31m---------------------------------------------------------------------------\u001b[0m",
      "\u001b[0;31mTypeError\u001b[0m                                 Traceback (most recent call last)",
      "Cell \u001b[0;32mIn[36], line 5\u001b[0m\n\u001b[1;32m      3\u001b[0m \u001b[38;5;28;01mfor\u001b[39;00m w1, w2, score \u001b[38;5;129;01min\u001b[39;00m word_pairs:\n\u001b[1;32m      4\u001b[0m     \u001b[38;5;28;01mif\u001b[39;00m (w1, w2) \u001b[38;5;129;01mnot\u001b[39;00m \u001b[38;5;129;01min\u001b[39;00m word_dict:\n\u001b[0;32m----> 5\u001b[0m         \u001b[38;5;28;43mdict\u001b[39;49m\u001b[43m[\u001b[49m\u001b[43m(\u001b[49m\u001b[43mw1\u001b[49m\u001b[43m,\u001b[49m\u001b[43m \u001b[49m\u001b[43mw2\u001b[49m\u001b[43m)\u001b[49m\u001b[43m]\u001b[49m \u001b[38;5;241m=\u001b[39m {\u001b[38;5;124m'\u001b[39m\u001b[38;5;124mword1\u001b[39m\u001b[38;5;124m'\u001b[39m: w1, \u001b[38;5;124m'\u001b[39m\u001b[38;5;124mword2\u001b[39m\u001b[38;5;124m'\u001b[39m: w2}\n\u001b[1;32m      6\u001b[0m     \u001b[38;5;28mdict\u001b[39m[(w1, w2)][\u001b[38;5;124mf\u001b[39m\u001b[38;5;124m'\u001b[39m\u001b[38;5;124msimilarity_score_\u001b[39m\u001b[38;5;132;01m{\u001b[39;00msample_index\u001b[38;5;241m+\u001b[39m\u001b[38;5;241m1\u001b[39m\u001b[38;5;132;01m}\u001b[39;00m\u001b[38;5;124m'\u001b[39m] \u001b[38;5;241m=\u001b[39m score\n",
      "\u001b[0;31mTypeError\u001b[0m: 'type' object does not support item assignment"
     ]
    }
   ],
   "source": [
    "word_dict = {}\n",
    "\n",
    "for w1, w2, score in word_pairs:\n",
    "    if (w1, w2) not in word_dict:\n",
    "        dict[(w1, w2)] = {'word1': w1, 'word2': w2}\n",
    "    dict[(w1, w2)][f'similarity_score_{sample_index+1}'] = score"
   ]
  },
  {
   "cell_type": "code",
   "execution_count": 34,
   "metadata": {},
   "outputs": [
    {
     "data": {
      "text/html": [
       "<div>\n",
       "<style scoped>\n",
       "    .dataframe tbody tr th:only-of-type {\n",
       "        vertical-align: middle;\n",
       "    }\n",
       "\n",
       "    .dataframe tbody tr th {\n",
       "        vertical-align: top;\n",
       "    }\n",
       "\n",
       "    .dataframe thead th {\n",
       "        text-align: right;\n",
       "    }\n",
       "</style>\n",
       "<table border=\"1\" class=\"dataframe\">\n",
       "  <thead>\n",
       "    <tr style=\"text-align: right;\">\n",
       "      <th></th>\n",
       "      <th>word1</th>\n",
       "      <th>word2</th>\n",
       "      <th>similarity_score</th>\n",
       "    </tr>\n",
       "  </thead>\n",
       "  <tbody>\n",
       "    <tr>\n",
       "      <th>0</th>\n",
       "      <td>oud</td>\n",
       "      <td>nieuw</td>\n",
       "      <td>4.5</td>\n",
       "    </tr>\n",
       "    <tr>\n",
       "      <th>1</th>\n",
       "      <td>slim</td>\n",
       "      <td>intelligent</td>\n",
       "      <td>9.5</td>\n",
       "    </tr>\n",
       "    <tr>\n",
       "      <th>2</th>\n",
       "      <td>hard</td>\n",
       "      <td>moeilijk</td>\n",
       "      <td>2.0</td>\n",
       "    </tr>\n",
       "    <tr>\n",
       "      <th>3</th>\n",
       "      <td>gelukkig</td>\n",
       "      <td>vrolijk</td>\n",
       "      <td>7.5</td>\n",
       "    </tr>\n",
       "    <tr>\n",
       "      <th>4</th>\n",
       "      <td>hard</td>\n",
       "      <td>stoer</td>\n",
       "      <td>6.5</td>\n",
       "    </tr>\n",
       "    <tr>\n",
       "      <th>...</th>\n",
       "      <td>...</td>\n",
       "      <td>...</td>\n",
       "      <td>...</td>\n",
       "    </tr>\n",
       "    <tr>\n",
       "      <th>94</th>\n",
       "      <td>beladen</td>\n",
       "      <td>zwaar</td>\n",
       "      <td>6.0</td>\n",
       "    </tr>\n",
       "    <tr>\n",
       "      <th>95</th>\n",
       "      <td>vuil</td>\n",
       "      <td>goedkoop</td>\n",
       "      <td>1.5</td>\n",
       "    </tr>\n",
       "    <tr>\n",
       "      <th>96</th>\n",
       "      <td>elastisch</td>\n",
       "      <td>flexibel</td>\n",
       "      <td>9.0</td>\n",
       "    </tr>\n",
       "    <tr>\n",
       "      <th>97</th>\n",
       "      <td>hard</td>\n",
       "      <td>dicht</td>\n",
       "      <td>4.0</td>\n",
       "    </tr>\n",
       "    <tr>\n",
       "      <th>98</th>\n",
       "      <td>onlangs</td>\n",
       "      <td>nieuw</td>\n",
       "      <td>6.5</td>\n",
       "    </tr>\n",
       "  </tbody>\n",
       "</table>\n",
       "<p>99 rows × 3 columns</p>\n",
       "</div>"
      ],
      "text/plain": [
       "        word1        word2  similarity_score\n",
       "0         oud        nieuw               4.5\n",
       "1        slim  intelligent               9.5\n",
       "2        hard     moeilijk               2.0\n",
       "3    gelukkig      vrolijk               7.5\n",
       "4        hard        stoer               6.5\n",
       "..        ...          ...               ...\n",
       "94    beladen        zwaar               6.0\n",
       "95       vuil     goedkoop               1.5\n",
       "96  elastisch     flexibel               9.0\n",
       "97       hard        dicht               4.0\n",
       "98    onlangs        nieuw               6.5\n",
       "\n",
       "[99 rows x 3 columns]"
      ]
     },
     "execution_count": 34,
     "metadata": {},
     "output_type": "execute_result"
    }
   ],
   "source": [
    "# Converting dictionary to pandas DataFrame\n",
    "df = pd.DataFrame.from_dict(data_dict, orient='index')\n",
    "df"
   ]
  },
  {
   "cell_type": "code",
   "execution_count": 32,
   "metadata": {},
   "outputs": [],
   "source": [
    "# df = pd.DataFrame.from_dict(word_dict, orient='index')\n",
    "# df.reset_index(drop=True, inplace=True)\n",
    "# df"
   ]
  },
  {
   "cell_type": "code",
   "execution_count": null,
   "metadata": {},
   "outputs": [],
   "source": []
  }
 ],
 "metadata": {
  "kernelspec": {
   "display_name": "base",
   "language": "python",
   "name": "python3"
  },
  "language_info": {
   "codemirror_mode": {
    "name": "ipython",
    "version": 3
   },
   "file_extension": ".py",
   "mimetype": "text/x-python",
   "name": "python",
   "nbconvert_exporter": "python",
   "pygments_lexer": "ipython3",
   "version": "3.8.8"
  }
 },
 "nbformat": 4,
 "nbformat_minor": 2
}
