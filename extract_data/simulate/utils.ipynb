{
 "cells": [
  {
   "cell_type": "code",
   "execution_count": 1,
   "metadata": {},
   "outputs": [],
   "source": [
    "import pandas as pd\n",
    "import random\n",
    "import tiktoken"
   ]
  },
  {
   "cell_type": "code",
   "execution_count": null,
   "metadata": {},
   "outputs": [],
   "source": [
    "def chunk_data(data, size):\n",
    "    return [data[i:i + size] for i in range(0, len(data), size)]"
   ]
  },
  {
   "cell_type": "code",
   "execution_count": null,
   "metadata": {},
   "outputs": [],
   "source": [
    "def format_prompt(pairs, prompt):\n",
    "    formatted_pairs = ', '.join([f\"('{p[0]}', '{p[1]}')\" for p in pairs])\n",
    "    return f\"{prompt}\\n\\n---\\n\\n{formatted_pairs}\""
   ]
  },
  {
   "cell_type": "code",
   "execution_count": null,
   "metadata": {},
   "outputs": [],
   "source": [
    "def print_prompts(chunks, prompt):\n",
    "    for chunk in chunks:\n",
    "        print(format_prompt(chunk, prompt))"
   ]
  },
  {
   "cell_type": "code",
   "execution_count": null,
   "metadata": {},
   "outputs": [],
   "source": [
    "def count_tokens_with_tiktoken(chunks, prompt):\n",
    "    token_counts = []\n",
    "    for chunk in chunks:\n",
    "        formatted_prompt = format_prompt(chunk, prompt) # Format prompt\n",
    "        tokens = encoding.encode(formatted_prompt) # Tokenize the formatted prompt\n",
    "        token_counts.append(len(tokens)) # Count the tokens and add to the list\n",
    "    \n",
    "    return token_counts"
   ]
  },
  {
   "cell_type": "code",
   "execution_count": null,
   "metadata": {},
   "outputs": [],
   "source": [
    "def simulate_api_response(pairs, n):\n",
    "    response = {f'similarity_score_{i+1}': [] for i in range(n)}\n",
    "    response['word1'] = []\n",
    "    response['word2'] = []\n",
    "    for word1, word2 in pairs:\n",
    "        response['word1'].append(word1)\n",
    "        response['word2'].append(word2)\n",
    "        scores = [round(random.uniform(0, 10), 2) for _ in range(n)]\n",
    "        for i, score in enumerate(scores):\n",
    "            response[f'similarity_score_{i+1}'].append(score)\n",
    "    return response"
   ]
  },
  {
   "cell_type": "code",
   "execution_count": null,
   "metadata": {},
   "outputs": [],
   "source": [
    "def process_simulated_responses(chunks, n):\n",
    "    combined_results = {f'similarity_score_{i+1}': [] for i in range(n)}\n",
    "    combined_results['word1'] = []\n",
    "    combined_results['word2'] = []\n",
    "    for chunk in chunks:\n",
    "        result = simulate_api_response(chunk, n)\n",
    "        for key in combined_results:\n",
    "            combined_results[key].extend(result[key])\n",
    "    return combined_results"
   ]
  }
 ],
 "metadata": {
  "kernelspec": {
   "display_name": "base",
   "language": "python",
   "name": "python3"
  },
  "language_info": {
   "codemirror_mode": {
    "name": "ipython",
    "version": 3
   },
   "file_extension": ".py",
   "mimetype": "text/x-python",
   "name": "python",
   "nbconvert_exporter": "python",
   "pygments_lexer": "ipython3",
   "version": "3.8.8"
  }
 },
 "nbformat": 4,
 "nbformat_minor": 2
}
