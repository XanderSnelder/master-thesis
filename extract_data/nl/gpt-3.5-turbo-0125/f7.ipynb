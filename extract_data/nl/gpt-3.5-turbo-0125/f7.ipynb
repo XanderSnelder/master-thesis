{
 "cells": [
  {
   "cell_type": "markdown",
   "metadata": {},
   "source": [
    "### **0. Set-up**"
   ]
  },
  {
   "cell_type": "code",
   "execution_count": 1,
   "metadata": {},
   "outputs": [],
   "source": [
    "# Import libraries and utils\n",
    "%run '../../utils.ipynb'"
   ]
  },
  {
   "cell_type": "code",
   "execution_count": 2,
   "metadata": {},
   "outputs": [],
   "source": [
    "#  Get api key\n",
    "load_dotenv()\n",
    "OPENAI_API_KEY = os.getenv('OPENAI_API_KEY')\n",
    "\n",
    "# Set client\n",
    "client = OpenAI()"
   ]
  },
  {
   "cell_type": "code",
   "execution_count": 3,
   "metadata": {},
   "outputs": [],
   "source": [
    "# Load dataframe\n",
    "cleaned_nl_simlex = pd.read_csv(\"../../../data/dataset/cleaned-nl-simlex-999.csv\")\n",
    "\n",
    "# Select subset\n",
    "# cleaned_nl_simlex = cleaned_nl_simlex.head(150)\n",
    "\n",
    "# Convert to tuple\n",
    "tuples_list = list(zip(cleaned_nl_simlex['word1'], cleaned_nl_simlex['word2']))"
   ]
  },
  {
   "cell_type": "code",
   "execution_count": 4,
   "metadata": {},
   "outputs": [
    {
     "data": {
      "text/html": [
       "<div>\n",
       "<style scoped>\n",
       "    .dataframe tbody tr th:only-of-type {\n",
       "        vertical-align: middle;\n",
       "    }\n",
       "\n",
       "    .dataframe tbody tr th {\n",
       "        vertical-align: top;\n",
       "    }\n",
       "\n",
       "    .dataframe thead th {\n",
       "        text-align: right;\n",
       "    }\n",
       "</style>\n",
       "<table border=\"1\" class=\"dataframe\">\n",
       "  <thead>\n",
       "    <tr style=\"text-align: right;\">\n",
       "      <th></th>\n",
       "      <th>word1</th>\n",
       "      <th>word2</th>\n",
       "      <th>SimLex999</th>\n",
       "      <th>POS</th>\n",
       "    </tr>\n",
       "  </thead>\n",
       "  <tbody>\n",
       "    <tr>\n",
       "      <th>0</th>\n",
       "      <td>oud</td>\n",
       "      <td>nieuw</td>\n",
       "      <td>1.94</td>\n",
       "      <td>A</td>\n",
       "    </tr>\n",
       "    <tr>\n",
       "      <th>1</th>\n",
       "      <td>slim</td>\n",
       "      <td>intelligent</td>\n",
       "      <td>8.19</td>\n",
       "      <td>A</td>\n",
       "    </tr>\n",
       "    <tr>\n",
       "      <th>2</th>\n",
       "      <td>hard</td>\n",
       "      <td>moeilijk</td>\n",
       "      <td>4.46</td>\n",
       "      <td>A</td>\n",
       "    </tr>\n",
       "    <tr>\n",
       "      <th>3</th>\n",
       "      <td>gelukkig</td>\n",
       "      <td>vrolijk</td>\n",
       "      <td>6.49</td>\n",
       "      <td>A</td>\n",
       "    </tr>\n",
       "    <tr>\n",
       "      <th>4</th>\n",
       "      <td>hard</td>\n",
       "      <td>stoer</td>\n",
       "      <td>5.69</td>\n",
       "      <td>A</td>\n",
       "    </tr>\n",
       "    <tr>\n",
       "      <th>...</th>\n",
       "      <td>...</td>\n",
       "      <td>...</td>\n",
       "      <td>...</td>\n",
       "      <td>...</td>\n",
       "    </tr>\n",
       "    <tr>\n",
       "      <th>992</th>\n",
       "      <td>samenvoegen</td>\n",
       "      <td>verwerven</td>\n",
       "      <td>3.89</td>\n",
       "      <td>V</td>\n",
       "    </tr>\n",
       "    <tr>\n",
       "      <th>993</th>\n",
       "      <td>sturen</td>\n",
       "      <td>bijwonen</td>\n",
       "      <td>1.85</td>\n",
       "      <td>V</td>\n",
       "    </tr>\n",
       "    <tr>\n",
       "      <th>994</th>\n",
       "      <td>verzamelen</td>\n",
       "      <td>bijwonen</td>\n",
       "      <td>1.06</td>\n",
       "      <td>V</td>\n",
       "    </tr>\n",
       "    <tr>\n",
       "      <th>995</th>\n",
       "      <td>opnemen</td>\n",
       "      <td>intrekken</td>\n",
       "      <td>2.29</td>\n",
       "      <td>V</td>\n",
       "    </tr>\n",
       "    <tr>\n",
       "      <th>996</th>\n",
       "      <td>bijwonen</td>\n",
       "      <td>aankomen</td>\n",
       "      <td>1.32</td>\n",
       "      <td>V</td>\n",
       "    </tr>\n",
       "  </tbody>\n",
       "</table>\n",
       "<p>997 rows × 4 columns</p>\n",
       "</div>"
      ],
      "text/plain": [
       "           word1        word2  SimLex999 POS\n",
       "0            oud        nieuw       1.94   A\n",
       "1           slim  intelligent       8.19   A\n",
       "2           hard     moeilijk       4.46   A\n",
       "3       gelukkig      vrolijk       6.49   A\n",
       "4           hard        stoer       5.69   A\n",
       "..           ...          ...        ...  ..\n",
       "992  samenvoegen    verwerven       3.89   V\n",
       "993       sturen     bijwonen       1.85   V\n",
       "994   verzamelen     bijwonen       1.06   V\n",
       "995      opnemen    intrekken       2.29   V\n",
       "996     bijwonen     aankomen       1.32   V\n",
       "\n",
       "[997 rows x 4 columns]"
      ]
     },
     "execution_count": 4,
     "metadata": {},
     "output_type": "execute_result"
    }
   ],
   "source": [
    "# Show results\n",
    "cleaned_nl_simlex"
   ]
  },
  {
   "cell_type": "markdown",
   "metadata": {},
   "source": [
    "### **1. Define and Evaluate Parameters**"
   ]
  },
  {
   "cell_type": "code",
   "execution_count": 5,
   "metadata": {},
   "outputs": [],
   "source": [
    "# Define the prompt\n",
    "prompt = (\"Twee woorden zijn synoniemen als ze zeer vergelijkbare betekenissen hebben. Synoniemen vertegenwoordigen hetzelfde type of dezelfde categorie van dingen. \"\n",
    "          \"Hier zijn enkele voorbeelden van synoniemparen zijn: kop/mok, buurt/wijk, jaloezie/afgunst. \"\n",
    "          \"In de praktijk kunnen woordparen die niet exact synoniem zijn, toch zeer vergelijkbaar zijn. Hier zijn enkele bijna synoniemen: alligator/krokodil, liefde/genegenheid, kikker/pad. \"\n",
    "          \"In tegenstelling hiermee zijn de volgende woordparen wel gerelateerd, maar niet erg vergelijkbaar. De woorden vertegenwoordigen totaal verschillende soorten dingen: auto/band, auto/snelweg, auto/ongeluk. \"\n",
    "          \"Beoordeel de semantische gelijkenis van elk woordpaar op een schaal van 0 tot 10, waarbij 0 geen semantische gelijkenis vertegenwoordigt, en 10 perfecte semantische gelijkenis. \"\n",
    "          \"Onthoud dat het hier gaat om gelijkenis en niet om gerelateerdheid. \"\n",
    "          \"Er is geen juist antwoord op deze vragen. Het is volkomen redelijk om je intuïtie of onderbuikgevoel te gebruiken als Nederlandstalige, vooral wanneer je wordt gevraagd om woordparen te beoordelen die je niet vergelijkbaar vindt. \"\n",
    "          \"Het antwoord moet strikt voldoen aan de structuur: [('woord1', 'woord2', <score>), ('woord3', 'woord4', <score>), ...]. Gebruik twee decimalen. Geef geen extra uitleg of context.\")"
   ]
  },
  {
   "cell_type": "code",
   "execution_count": 6,
   "metadata": {},
   "outputs": [],
   "source": [
    "# Define model\n",
    "model = \"gpt-3.5-turbo-0125\"\n",
    "\n",
    "# Set sample size\n",
    "sample_size = 15\n",
    "# sample_size = 5\n",
    "\n",
    "# Delay between individual API calls\n",
    "delay = 10.0\n",
    "\n",
    "# Define number of sublists\n",
    "n_sublists = 60\n",
    "# n_sublists = 15"
   ]
  },
  {
   "cell_type": "code",
   "execution_count": 7,
   "metadata": {},
   "outputs": [
    {
     "name": "stdout",
     "output_type": "stream",
     "text": [
      "60\n"
     ]
    }
   ],
   "source": [
    "# Split the list\n",
    "chunks = split_into_n_lists(tuples_list, n_sublists)\n",
    "\n",
    "# Count the number of lists\n",
    "print(len(chunks))"
   ]
  },
  {
   "cell_type": "code",
   "execution_count": 8,
   "metadata": {},
   "outputs": [
    {
     "name": "stdout",
     "output_type": "stream",
     "text": [
      "Twee woorden zijn synoniemen als ze zeer vergelijkbare betekenissen hebben. Synoniemen vertegenwoordigen hetzelfde type of dezelfde categorie van dingen. Hier zijn enkele voorbeelden van synoniemparen zijn: kop/mok, buurt/wijk, jaloezie/afgunst. In de praktijk kunnen woordparen die niet exact synoniem zijn, toch zeer vergelijkbaar zijn. Hier zijn enkele bijna synoniemen: alligator/krokodil, liefde/genegenheid, kikker/pad. In tegenstelling hiermee zijn de volgende woordparen wel gerelateerd, maar niet erg vergelijkbaar. De woorden vertegenwoordigen totaal verschillende soorten dingen: auto/band, auto/snelweg, auto/ongeluk. Beoordeel de semantische gelijkenis van elk woordpaar op een schaal van 0 tot 10, waarbij 0 geen semantische gelijkenis vertegenwoordigt, en 10 perfecte semantische gelijkenis. Onthoud dat het hier gaat om gelijkenis en niet om gerelateerdheid. Er is geen juist antwoord op deze vragen. Het is volkomen redelijk om je intuïtie of onderbuikgevoel te gebruiken als Nederlandstalige, vooral wanneer je wordt gevraagd om woordparen te beoordelen die je niet vergelijkbaar vindt. Het antwoord moet strikt voldoen aan de structuur: [('woord1', 'woord2', <score>), ('woord3', 'woord4', <score>), ...]. Gebruik twee decimalen. Geef geen extra uitleg of context. --- [\"('oud', 'nieuw'), ('slim', 'intelligent'), ('hard', 'moeilijk'), ('gelukkig', 'vrolijk'), ('hard', 'stoer'), ('snel', 'razendsnel'), ('gelukkig', 'blij'), ('kort', 'lang'), ('dom', 'stom'), ('vreemd', 'eigenaardig'), ('breed', 'smal'), ('makkelijk', 'moeilijk'), ('moeilijk', 'gemakkelijk'), ('slim', 'dom'), ('krankzinnig', 'gek'), ('gelukkig', 'kwaad'), ('uitgebreid', 'groot')\"]\n",
      "Twee woorden zijn synoniemen als ze zeer vergelijkbare betekenissen hebben. Synoniemen vertegenwoordigen hetzelfde type of dezelfde categorie van dingen. Hier zijn enkele voorbeelden van synoniemparen zijn: kop/mok, buurt/wijk, jaloezie/afgunst. In de praktijk kunnen woordparen die niet exact synoniem zijn, toch zeer vergelijkbaar zijn. Hier zijn enkele bijna synoniemen: alligator/krokodil, liefde/genegenheid, kikker/pad. In tegenstelling hiermee zijn de volgende woordparen wel gerelateerd, maar niet erg vergelijkbaar. De woorden vertegenwoordigen totaal verschillende soorten dingen: auto/band, auto/snelweg, auto/ongeluk. Beoordeel de semantische gelijkenis van elk woordpaar op een schaal van 0 tot 10, waarbij 0 geen semantische gelijkenis vertegenwoordigt, en 10 perfecte semantische gelijkenis. Onthoud dat het hier gaat om gelijkenis en niet om gerelateerdheid. Er is geen juist antwoord op deze vragen. Het is volkomen redelijk om je intuïtie of onderbuikgevoel te gebruiken als Nederlandstalige, vooral wanneer je wordt gevraagd om woordparen te beoordelen die je niet vergelijkbaar vindt. Het antwoord moet strikt voldoen aan de structuur: [('woord1', 'woord2', <score>), ('woord3', 'woord4', <score>), ...]. Gebruik twee decimalen. Geef geen extra uitleg of context. --- [\"('moeilijk', 'simpel'), ('nieuw', 'vers'), ('scherp', 'saai'), ('vlug', 'snel'), ('dom', 'dwaas'), ('prachtig', 'fantastisch'), ('eigenaardig', 'vreemd'), ('gelukkig', 'boos'), ('smal', 'breed'), ('eenvoudig', 'gemakkelijk'), ('oud', 'vers'), ('kennelijk', 'duidelijk'), ('betaalbaar', 'goedkoop'), ('leuk', 'grootmoedig'), ('raar', 'vreemd'), ('vreemd', 'normaal'), ('slecht', 'immoreel')\"]\n",
      "Twee woorden zijn synoniemen als ze zeer vergelijkbare betekenissen hebben. Synoniemen vertegenwoordigen hetzelfde type of dezelfde categorie van dingen. Hier zijn enkele voorbeelden van synoniemparen zijn: kop/mok, buurt/wijk, jaloezie/afgunst. In de praktijk kunnen woordparen die niet exact synoniem zijn, toch zeer vergelijkbaar zijn. Hier zijn enkele bijna synoniemen: alligator/krokodil, liefde/genegenheid, kikker/pad. In tegenstelling hiermee zijn de volgende woordparen wel gerelateerd, maar niet erg vergelijkbaar. De woorden vertegenwoordigen totaal verschillende soorten dingen: auto/band, auto/snelweg, auto/ongeluk. Beoordeel de semantische gelijkenis van elk woordpaar op een schaal van 0 tot 10, waarbij 0 geen semantische gelijkenis vertegenwoordigt, en 10 perfecte semantische gelijkenis. Onthoud dat het hier gaat om gelijkenis en niet om gerelateerdheid. Er is geen juist antwoord op deze vragen. Het is volkomen redelijk om je intuïtie of onderbuikgevoel te gebruiken als Nederlandstalige, vooral wanneer je wordt gevraagd om woordparen te beoordelen die je niet vergelijkbaar vindt. Het antwoord moet strikt voldoen aan de structuur: [('woord1', 'woord2', <score>), ('woord3', 'woord4', <score>), ...]. Gebruik twee decimalen. Geef geen extra uitleg of context. --- [\"('verdrietig', 'grappig'), ('prachtig', 'geweldig'), ('schuldig', 'beschaamd'), ('mooi', 'prachtig'), ('zelfverzekerd', 'zeker'), ('dom', 'onderontwikkeld'), ('groot', 'flexibel'), ('aardig', 'wreed'), ('ongeduldig', 'nerveus'), ('groot', 'breed'), ('sterk', 'trots'), ('onnodig', 'noodzakelijk'), ('onrustig', 'jong'), ('dom', 'intelligent'), ('slecht', 'geweldig'), ('moeilijk', 'eenvoudig'), ('noodzakelijk', 'belangrijk')\"]\n",
      "Twee woorden zijn synoniemen als ze zeer vergelijkbare betekenissen hebben. Synoniemen vertegenwoordigen hetzelfde type of dezelfde categorie van dingen. Hier zijn enkele voorbeelden van synoniemparen zijn: kop/mok, buurt/wijk, jaloezie/afgunst. In de praktijk kunnen woordparen die niet exact synoniem zijn, toch zeer vergelijkbaar zijn. Hier zijn enkele bijna synoniemen: alligator/krokodil, liefde/genegenheid, kikker/pad. In tegenstelling hiermee zijn de volgende woordparen wel gerelateerd, maar niet erg vergelijkbaar. De woorden vertegenwoordigen totaal verschillende soorten dingen: auto/band, auto/snelweg, auto/ongeluk. Beoordeel de semantische gelijkenis van elk woordpaar op een schaal van 0 tot 10, waarbij 0 geen semantische gelijkenis vertegenwoordigt, en 10 perfecte semantische gelijkenis. Onthoud dat het hier gaat om gelijkenis en niet om gerelateerdheid. Er is geen juist antwoord op deze vragen. Het is volkomen redelijk om je intuïtie of onderbuikgevoel te gebruiken als Nederlandstalige, vooral wanneer je wordt gevraagd om woordparen te beoordelen die je niet vergelijkbaar vindt. Het antwoord moet strikt voldoen aan de structuur: [('woord1', 'woord2', <score>), ('woord3', 'woord4', <score>), ...]. Gebruik twee decimalen. Geef geen extra uitleg of context. --- [\"('slecht', 'verschrikkelijk'), ('boos', 'blij'), ('eerlijk', 'schuldig'), ('makkelijk', 'zwaar'), ('makkelijk', 'flexibel'), ('stellig', 'zeker'), ('essentieel', 'noodzakelijk'), ('anders', 'normaal'), ('sluw', 'slim'), ('cruciaal', 'belangrijk'), ('hard', 'wreed'), ('kinderachtig', 'dwaas'), ('zelden', 'zeldzaam'), ('vriendelijk', 'vrijgevig'), ('breekbaar', 'kil'), ('lang', 'smal'), ('groot', 'zwaar')\"]\n",
      "Twee woorden zijn synoniemen als ze zeer vergelijkbare betekenissen hebben. Synoniemen vertegenwoordigen hetzelfde type of dezelfde categorie van dingen. Hier zijn enkele voorbeelden van synoniemparen zijn: kop/mok, buurt/wijk, jaloezie/afgunst. In de praktijk kunnen woordparen die niet exact synoniem zijn, toch zeer vergelijkbaar zijn. Hier zijn enkele bijna synoniemen: alligator/krokodil, liefde/genegenheid, kikker/pad. In tegenstelling hiermee zijn de volgende woordparen wel gerelateerd, maar niet erg vergelijkbaar. De woorden vertegenwoordigen totaal verschillende soorten dingen: auto/band, auto/snelweg, auto/ongeluk. Beoordeel de semantische gelijkenis van elk woordpaar op een schaal van 0 tot 10, waarbij 0 geen semantische gelijkenis vertegenwoordigt, en 10 perfecte semantische gelijkenis. Onthoud dat het hier gaat om gelijkenis en niet om gerelateerdheid. Er is geen juist antwoord op deze vragen. Het is volkomen redelijk om je intuïtie of onderbuikgevoel te gebruiken als Nederlandstalige, vooral wanneer je wordt gevraagd om woordparen te beoordelen die je niet vergelijkbaar vindt. Het antwoord moet strikt voldoen aan de structuur: [('woord1', 'woord2', <score>), ('woord3', 'woord4', <score>), ...]. Gebruik twee decimalen. Geef geen extra uitleg of context. --- [\"('ruw', 'koel'), ('bizar', 'vreemd'), ('illegaal', 'immoreel'), ('slecht', 'schuldig'), ('modern', 'oud'), ('nieuw', 'oud'), ('saai', 'grappig'), ('gelukkig', 'jong'), ('makkelijk', 'groot'), ('geweldig', 'vreselijk'), ('klein', 'enorm'), ('beleefd', 'gepast'), ('bescheiden', 'beschaamd'), ('exotisch', 'zeldzaam'), ('dom', 'slim'), ('heerlijk', 'prachtig'), ('opvallend', 'duidelijk')\"]\n",
      "Twee woorden zijn synoniemen als ze zeer vergelijkbare betekenissen hebben. Synoniemen vertegenwoordigen hetzelfde type of dezelfde categorie van dingen. Hier zijn enkele voorbeelden van synoniemparen zijn: kop/mok, buurt/wijk, jaloezie/afgunst. In de praktijk kunnen woordparen die niet exact synoniem zijn, toch zeer vergelijkbaar zijn. Hier zijn enkele bijna synoniemen: alligator/krokodil, liefde/genegenheid, kikker/pad. In tegenstelling hiermee zijn de volgende woordparen wel gerelateerd, maar niet erg vergelijkbaar. De woorden vertegenwoordigen totaal verschillende soorten dingen: auto/band, auto/snelweg, auto/ongeluk. Beoordeel de semantische gelijkenis van elk woordpaar op een schaal van 0 tot 10, waarbij 0 geen semantische gelijkenis vertegenwoordigt, en 10 perfecte semantische gelijkenis. Onthoud dat het hier gaat om gelijkenis en niet om gerelateerdheid. Er is geen juist antwoord op deze vragen. Het is volkomen redelijk om je intuïtie of onderbuikgevoel te gebruiken als Nederlandstalige, vooral wanneer je wordt gevraagd om woordparen te beoordelen die je niet vergelijkbaar vindt. Het antwoord moet strikt voldoen aan de structuur: [('woord1', 'woord2', <score>), ('woord3', 'woord4', <score>), ...]. Gebruik twee decimalen. Geef geen extra uitleg of context. --- [\"('angstig', 'bang'), ('formeel', 'juist'), ('somber', 'saai'), ('heerlijk', 'vrolijk'), ('ongelukkig', 'kwaad'), ('verdrietig', 'vreselijk'), ('ziek', 'gek'), ('gewelddadig', 'boos'), ('beladen', 'zwaar'), ('vuil', 'goedkoop'), ('elastisch', 'flexibel'), ('hard', 'dicht'), ('onlangs', 'nieuw'), ('brutaal', 'trots'), ('sluw', 'vreemd'), ('vreemd', 'sluw'), ('dom', 'zeldzaam')\"]\n",
      "Twee woorden zijn synoniemen als ze zeer vergelijkbare betekenissen hebben. Synoniemen vertegenwoordigen hetzelfde type of dezelfde categorie van dingen. Hier zijn enkele voorbeelden van synoniemparen zijn: kop/mok, buurt/wijk, jaloezie/afgunst. In de praktijk kunnen woordparen die niet exact synoniem zijn, toch zeer vergelijkbaar zijn. Hier zijn enkele bijna synoniemen: alligator/krokodil, liefde/genegenheid, kikker/pad. In tegenstelling hiermee zijn de volgende woordparen wel gerelateerd, maar niet erg vergelijkbaar. De woorden vertegenwoordigen totaal verschillende soorten dingen: auto/band, auto/snelweg, auto/ongeluk. Beoordeel de semantische gelijkenis van elk woordpaar op een schaal van 0 tot 10, waarbij 0 geen semantische gelijkenis vertegenwoordigt, en 10 perfecte semantische gelijkenis. Onthoud dat het hier gaat om gelijkenis en niet om gerelateerdheid. Er is geen juist antwoord op deze vragen. Het is volkomen redelijk om je intuïtie of onderbuikgevoel te gebruiken als Nederlandstalige, vooral wanneer je wordt gevraagd om woordparen te beoordelen die je niet vergelijkbaar vindt. Het antwoord moet strikt voldoen aan de structuur: [('woord1', 'woord2', <score>), ('woord3', 'woord4', <score>), ...]. Gebruik twee decimalen. Geef geen extra uitleg of context. --- [\"('sluw', 'koppig'), ('fantastisch', 'kwaad'), ('bescheiden', 'flexibel'), ('vers', 'breed'), ('enorm', 'sprakeloos'), ('groot', 'enorm'), ('vuil', 'smal'), ('echtgenote', 'echtgenoot'), ('boek', 'tekst'), ('bruidegom', 'bruid'), ('nacht', 'dag'), ('zuid', 'noord'), ('vliegtuig', 'luchthaven'), ('oom', 'tante'), ('paard', 'merrie'), ('onderkant', 'bovenkant'), ('vriend', 'maat')\"]\n",
      "Twee woorden zijn synoniemen als ze zeer vergelijkbare betekenissen hebben. Synoniemen vertegenwoordigen hetzelfde type of dezelfde categorie van dingen. Hier zijn enkele voorbeelden van synoniemparen zijn: kop/mok, buurt/wijk, jaloezie/afgunst. In de praktijk kunnen woordparen die niet exact synoniem zijn, toch zeer vergelijkbaar zijn. Hier zijn enkele bijna synoniemen: alligator/krokodil, liefde/genegenheid, kikker/pad. In tegenstelling hiermee zijn de volgende woordparen wel gerelateerd, maar niet erg vergelijkbaar. De woorden vertegenwoordigen totaal verschillende soorten dingen: auto/band, auto/snelweg, auto/ongeluk. Beoordeel de semantische gelijkenis van elk woordpaar op een schaal van 0 tot 10, waarbij 0 geen semantische gelijkenis vertegenwoordigt, en 10 perfecte semantische gelijkenis. Onthoud dat het hier gaat om gelijkenis en niet om gerelateerdheid. Er is geen juist antwoord op deze vragen. Het is volkomen redelijk om je intuïtie of onderbuikgevoel te gebruiken als Nederlandstalige, vooral wanneer je wordt gevraagd om woordparen te beoordelen die je niet vergelijkbaar vindt. Het antwoord moet strikt voldoen aan de structuur: [('woord1', 'woord2', <score>), ('woord3', 'woord4', <score>), ...]. Gebruik twee decimalen. Geef geen extra uitleg of context. --- [\"('student', 'leerling'), ('wereld', 'wereldbol'), ('been', 'arm'), ('vliegtuig', 'straalvliegtuig'), ('vrouw', 'man'), ('paard', 'veulen'), ('actrice', 'acteur'), ('leraar', 'instructeur'), ('film', 'filmrol'), ('vogel', 'havik'), ('woord', 'woordenboek'), ('geld', 'salaris'), ('hond', 'kat'), ('gebied', 'regio'), ('marine', 'leger'), ('boek', 'literatuur'), ('kleding', 'kast')\"]\n",
      "Twee woorden zijn synoniemen als ze zeer vergelijkbare betekenissen hebben. Synoniemen vertegenwoordigen hetzelfde type of dezelfde categorie van dingen. Hier zijn enkele voorbeelden van synoniemparen zijn: kop/mok, buurt/wijk, jaloezie/afgunst. In de praktijk kunnen woordparen die niet exact synoniem zijn, toch zeer vergelijkbaar zijn. Hier zijn enkele bijna synoniemen: alligator/krokodil, liefde/genegenheid, kikker/pad. In tegenstelling hiermee zijn de volgende woordparen wel gerelateerd, maar niet erg vergelijkbaar. De woorden vertegenwoordigen totaal verschillende soorten dingen: auto/band, auto/snelweg, auto/ongeluk. Beoordeel de semantische gelijkenis van elk woordpaar op een schaal van 0 tot 10, waarbij 0 geen semantische gelijkenis vertegenwoordigt, en 10 perfecte semantische gelijkenis. Onthoud dat het hier gaat om gelijkenis en niet om gerelateerdheid. Er is geen juist antwoord op deze vragen. Het is volkomen redelijk om je intuïtie of onderbuikgevoel te gebruiken als Nederlandstalige, vooral wanneer je wordt gevraagd om woordparen te beoordelen die je niet vergelijkbaar vindt. Het antwoord moet strikt voldoen aan de structuur: [('woord1', 'woord2', <score>), ('woord3', 'woord4', <score>), ...]. Gebruik twee decimalen. Geef geen extra uitleg of context. --- [\"('zonsondergang', 'zonsopgang'), ('kind', 'volwassen'), ('koe', 'vee'), ('boek', 'verhaal'), ('winter', 'zomer'), ('taxi', 'taxis'), ('boom', 'esdoorn'), ('bed', 'slaapkamer'), ('dak', 'plafond'), ('ziekte', 'infectie'), ('arm', 'schouder'), ('schaap', 'lam'), ('dame', 'meneer'), ('boot', 'anker'), ('priester', 'monnik'), ('teen', 'vinger'), ('rivier', 'stroom')\"]\n",
      "Twee woorden zijn synoniemen als ze zeer vergelijkbare betekenissen hebben. Synoniemen vertegenwoordigen hetzelfde type of dezelfde categorie van dingen. Hier zijn enkele voorbeelden van synoniemparen zijn: kop/mok, buurt/wijk, jaloezie/afgunst. In de praktijk kunnen woordparen die niet exact synoniem zijn, toch zeer vergelijkbaar zijn. Hier zijn enkele bijna synoniemen: alligator/krokodil, liefde/genegenheid, kikker/pad. In tegenstelling hiermee zijn de volgende woordparen wel gerelateerd, maar niet erg vergelijkbaar. De woorden vertegenwoordigen totaal verschillende soorten dingen: auto/band, auto/snelweg, auto/ongeluk. Beoordeel de semantische gelijkenis van elk woordpaar op een schaal van 0 tot 10, waarbij 0 geen semantische gelijkenis vertegenwoordigt, en 10 perfecte semantische gelijkenis. Onthoud dat het hier gaat om gelijkenis en niet om gerelateerdheid. Er is geen juist antwoord op deze vragen. Het is volkomen redelijk om je intuïtie of onderbuikgevoel te gebruiken als Nederlandstalige, vooral wanneer je wordt gevraagd om woordparen te beoordelen die je niet vergelijkbaar vindt. Het antwoord moet strikt voldoen aan de structuur: [('woord1', 'woord2', <score>), ('woord3', 'woord4', <score>), ...]. Gebruik twee decimalen. Geef geen extra uitleg of context. --- [\"('boosheid', 'woede'), ('datum', 'kalender'), ('zee', 'oceaan'), ('seconde', 'minuut'), ('hand', 'duim'), ('hout', 'stam'), ('modder', 'vuil'), ('hal', 'gang'), ('weg', 'manier'), ('muis', 'kat'), ('politieagent', 'sheriff'), ('dood', 'begrafenis'), ('muziek', 'melodie'), ('bier', 'alcohol'), ('mond', 'lip'), ('storm', 'orkaan'), ('belasting', 'inkomen')\"]\n",
      "Twee woorden zijn synoniemen als ze zeer vergelijkbare betekenissen hebben. Synoniemen vertegenwoordigen hetzelfde type of dezelfde categorie van dingen. Hier zijn enkele voorbeelden van synoniemparen zijn: kop/mok, buurt/wijk, jaloezie/afgunst. In de praktijk kunnen woordparen die niet exact synoniem zijn, toch zeer vergelijkbaar zijn. Hier zijn enkele bijna synoniemen: alligator/krokodil, liefde/genegenheid, kikker/pad. In tegenstelling hiermee zijn de volgende woordparen wel gerelateerd, maar niet erg vergelijkbaar. De woorden vertegenwoordigen totaal verschillende soorten dingen: auto/band, auto/snelweg, auto/ongeluk. Beoordeel de semantische gelijkenis van elk woordpaar op een schaal van 0 tot 10, waarbij 0 geen semantische gelijkenis vertegenwoordigt, en 10 perfecte semantische gelijkenis. Onthoud dat het hier gaat om gelijkenis en niet om gerelateerdheid. Er is geen juist antwoord op deze vragen. Het is volkomen redelijk om je intuïtie of onderbuikgevoel te gebruiken als Nederlandstalige, vooral wanneer je wordt gevraagd om woordparen te beoordelen die je niet vergelijkbaar vindt. Het antwoord moet strikt voldoen aan de structuur: [('woord1', 'woord2', <score>), ('woord3', 'woord4', <score>), ...]. Gebruik twee decimalen. Geef geen extra uitleg of context. --- [\"('bloem', 'viooltjes'), ('papier', 'karton'), ('vloer', 'plafond'), ('strand', 'kust'), ('staaf', 'gordijn'), ('jachthond', 'vos'), ('straat', 'auto'), ('boot', 'dek'), ('auto', 'toeter'), ('vriend', 'gast'), ('werkgever', 'werknemer'), ('hand', 'pols'), ('bal', 'kostuum'), ('alcohol', 'brandewijn'), ('overwinning', 'zege'), ('telefoon', 'cel'), ('deur', 'ingang')\"]\n",
      "Twee woorden zijn synoniemen als ze zeer vergelijkbare betekenissen hebben. Synoniemen vertegenwoordigen hetzelfde type of dezelfde categorie van dingen. Hier zijn enkele voorbeelden van synoniemparen zijn: kop/mok, buurt/wijk, jaloezie/afgunst. In de praktijk kunnen woordparen die niet exact synoniem zijn, toch zeer vergelijkbaar zijn. Hier zijn enkele bijna synoniemen: alligator/krokodil, liefde/genegenheid, kikker/pad. In tegenstelling hiermee zijn de volgende woordparen wel gerelateerd, maar niet erg vergelijkbaar. De woorden vertegenwoordigen totaal verschillende soorten dingen: auto/band, auto/snelweg, auto/ongeluk. Beoordeel de semantische gelijkenis van elk woordpaar op een schaal van 0 tot 10, waarbij 0 geen semantische gelijkenis vertegenwoordigt, en 10 perfecte semantische gelijkenis. Onthoud dat het hier gaat om gelijkenis en niet om gerelateerdheid. Er is geen juist antwoord op deze vragen. Het is volkomen redelijk om je intuïtie of onderbuikgevoel te gebruiken als Nederlandstalige, vooral wanneer je wordt gevraagd om woordparen te beoordelen die je niet vergelijkbaar vindt. Het antwoord moet strikt voldoen aan de structuur: [('woord1', 'woord2', <score>), ('woord3', 'woord4', <score>), ...]. Gebruik twee decimalen. Geef geen extra uitleg of context. --- [\"('motel', 'herberg'), ('kleding', 'stof'), ('steak', 'vlees'), ('nagel', 'duim'), ('muziekgroep', 'orkest'), ('boek', 'bijbel'), ('bedrijf', 'industrie'), ('winter', 'seizoen'), ('decennium', 'eeuw'), ('alcohol', 'jenever'), ('hoed', 'jas'), ('raam', 'deur'), ('arm', 'pols'), ('huis', 'appartement'), ('glas', 'kristal'), ('wijn', 'brandewijn'), ('maker', 'producent')\"]\n",
      "Twee woorden zijn synoniemen als ze zeer vergelijkbare betekenissen hebben. Synoniemen vertegenwoordigen hetzelfde type of dezelfde categorie van dingen. Hier zijn enkele voorbeelden van synoniemparen zijn: kop/mok, buurt/wijk, jaloezie/afgunst. In de praktijk kunnen woordparen die niet exact synoniem zijn, toch zeer vergelijkbaar zijn. Hier zijn enkele bijna synoniemen: alligator/krokodil, liefde/genegenheid, kikker/pad. In tegenstelling hiermee zijn de volgende woordparen wel gerelateerd, maar niet erg vergelijkbaar. De woorden vertegenwoordigen totaal verschillende soorten dingen: auto/band, auto/snelweg, auto/ongeluk. Beoordeel de semantische gelijkenis van elk woordpaar op een schaal van 0 tot 10, waarbij 0 geen semantische gelijkenis vertegenwoordigt, en 10 perfecte semantische gelijkenis. Onthoud dat het hier gaat om gelijkenis en niet om gerelateerdheid. Er is geen juist antwoord op deze vragen. Het is volkomen redelijk om je intuïtie of onderbuikgevoel te gebruiken als Nederlandstalige, vooral wanneer je wordt gevraagd om woordparen te beoordelen die je niet vergelijkbaar vindt. Het antwoord moet strikt voldoen aan de structuur: [('woord1', 'woord2', <score>), ('woord3', 'woord4', <score>), ...]. Gebruik twee decimalen. Geef geen extra uitleg of context. --- [\"('diner', 'ontbijt'), ('arm', 'spier'), ('bubbel', 'schuim'), ('brood', 'meel'), ('dood', 'tragedie'), ('afwezigheid', 'aanwezigheid'), ('pistool', 'kanon'), ('gras', 'stro'), ('bal', 'mand'), ('slang', 'tuin'), ('jongen', 'kind'), ('kerk', 'koor'), ('kleding', 'lade'), ('toren', 'bel'), ('vader', 'ouder'), ('school', 'cijfer'), ('ouder', 'volwassene')\"]\n",
      "Twee woorden zijn synoniemen als ze zeer vergelijkbare betekenissen hebben. Synoniemen vertegenwoordigen hetzelfde type of dezelfde categorie van dingen. Hier zijn enkele voorbeelden van synoniemparen zijn: kop/mok, buurt/wijk, jaloezie/afgunst. In de praktijk kunnen woordparen die niet exact synoniem zijn, toch zeer vergelijkbaar zijn. Hier zijn enkele bijna synoniemen: alligator/krokodil, liefde/genegenheid, kikker/pad. In tegenstelling hiermee zijn de volgende woordparen wel gerelateerd, maar niet erg vergelijkbaar. De woorden vertegenwoordigen totaal verschillende soorten dingen: auto/band, auto/snelweg, auto/ongeluk. Beoordeel de semantische gelijkenis van elk woordpaar op een schaal van 0 tot 10, waarbij 0 geen semantische gelijkenis vertegenwoordigt, en 10 perfecte semantische gelijkenis. Onthoud dat het hier gaat om gelijkenis en niet om gerelateerdheid. Er is geen juist antwoord op deze vragen. Het is volkomen redelijk om je intuïtie of onderbuikgevoel te gebruiken als Nederlandstalige, vooral wanneer je wordt gevraagd om woordparen te beoordelen die je niet vergelijkbaar vindt. Het antwoord moet strikt voldoen aan de structuur: [('woord1', 'woord2', <score>), ('woord3', 'woord4', <score>), ...]. Gebruik twee decimalen. Geef geen extra uitleg of context. --- [\"('balk', 'gevangenis'), ('auto', 'snelweg'), ('woordenboek', 'definitie'), ('deur', 'kelder'), ('leger', 'legioen'), ('metaal', 'aluminium'), ('stoel', 'bank'), ('wolk', 'mist'), ('jongen', 'zoon'), ('water', 'ijs'), ('bed', 'deken'), ('officier van justitie', 'advocaat'), ('gebied', 'zone'), ('bedrijf', 'onderneming'), ('kleding', 'textiel'), ('trui', 'jas'), ('geld', 'vermogen')\"]\n",
      "Twee woorden zijn synoniemen als ze zeer vergelijkbare betekenissen hebben. Synoniemen vertegenwoordigen hetzelfde type of dezelfde categorie van dingen. Hier zijn enkele voorbeelden van synoniemparen zijn: kop/mok, buurt/wijk, jaloezie/afgunst. In de praktijk kunnen woordparen die niet exact synoniem zijn, toch zeer vergelijkbaar zijn. Hier zijn enkele bijna synoniemen: alligator/krokodil, liefde/genegenheid, kikker/pad. In tegenstelling hiermee zijn de volgende woordparen wel gerelateerd, maar niet erg vergelijkbaar. De woorden vertegenwoordigen totaal verschillende soorten dingen: auto/band, auto/snelweg, auto/ongeluk. Beoordeel de semantische gelijkenis van elk woordpaar op een schaal van 0 tot 10, waarbij 0 geen semantische gelijkenis vertegenwoordigt, en 10 perfecte semantische gelijkenis. Onthoud dat het hier gaat om gelijkenis en niet om gerelateerdheid. Er is geen juist antwoord op deze vragen. Het is volkomen redelijk om je intuïtie of onderbuikgevoel te gebruiken als Nederlandstalige, vooral wanneer je wordt gevraagd om woordparen te beoordelen die je niet vergelijkbaar vindt. Het antwoord moet strikt voldoen aan de structuur: [('woord1', 'woord2', <score>), ('woord3', 'woord4', <score>), ...]. Gebruik twee decimalen. Geef geen extra uitleg of context. --- [\"('hand', 'voet'), ('alcohol', 'cocktail'), ('decimeter', 'centimeter'), ('molecuul', 'atoom'), ('lens', 'camera'), ('maaltijd', 'diner'), ('oog', 'traan'), ('god', 'duivel'), ('lus', 'riem'), ('rat', 'muis'), ('motor', 'aandrijving'), ('auto', 'taxi'), ('kat', 'leeuw'), ('maat', 'omvang'), ('werkelijkheid', 'verbeelding'), ('deur', 'poort'), ('kat', 'huisdier')\"]\n",
      "Twee woorden zijn synoniemen als ze zeer vergelijkbare betekenissen hebben. Synoniemen vertegenwoordigen hetzelfde type of dezelfde categorie van dingen. Hier zijn enkele voorbeelden van synoniemparen zijn: kop/mok, buurt/wijk, jaloezie/afgunst. In de praktijk kunnen woordparen die niet exact synoniem zijn, toch zeer vergelijkbaar zijn. Hier zijn enkele bijna synoniemen: alligator/krokodil, liefde/genegenheid, kikker/pad. In tegenstelling hiermee zijn de volgende woordparen wel gerelateerd, maar niet erg vergelijkbaar. De woorden vertegenwoordigen totaal verschillende soorten dingen: auto/band, auto/snelweg, auto/ongeluk. Beoordeel de semantische gelijkenis van elk woordpaar op een schaal van 0 tot 10, waarbij 0 geen semantische gelijkenis vertegenwoordigt, en 10 perfecte semantische gelijkenis. Onthoud dat het hier gaat om gelijkenis en niet om gerelateerdheid. Er is geen juist antwoord op deze vragen. Het is volkomen redelijk om je intuïtie of onderbuikgevoel te gebruiken als Nederlandstalige, vooral wanneer je wordt gevraagd om woordparen te beoordelen die je niet vergelijkbaar vindt. Het antwoord moet strikt voldoen aan de structuur: [('woord1', 'woord2', <score>), ('woord3', 'woord4', <score>), ...]. Gebruik twee decimalen. Geef geen extra uitleg of context. --- [\"('blik', 'aluminium'), ('botten', 'kaak'), ('graan', 'tarwe'), ('huis', 'sleutel'), ('bloed', 'vlees'), ('deur', 'gang'), ('god', 'geest'), ('vermogen', 'competentie'), ('uitbundigheid', 'overvloed'), ('bank', 'stoel'), ('muur', 'baksteen'), ('hoorn', 'trommel'), ('orgaan', 'lever'), ('kracht', 'macht'), ('zin', 'woord'), ('muziekgroep', 'parade'), ('buik', 'taille')\"]\n",
      "Twee woorden zijn synoniemen als ze zeer vergelijkbare betekenissen hebben. Synoniemen vertegenwoordigen hetzelfde type of dezelfde categorie van dingen. Hier zijn enkele voorbeelden van synoniemparen zijn: kop/mok, buurt/wijk, jaloezie/afgunst. In de praktijk kunnen woordparen die niet exact synoniem zijn, toch zeer vergelijkbaar zijn. Hier zijn enkele bijna synoniemen: alligator/krokodil, liefde/genegenheid, kikker/pad. In tegenstelling hiermee zijn de volgende woordparen wel gerelateerd, maar niet erg vergelijkbaar. De woorden vertegenwoordigen totaal verschillende soorten dingen: auto/band, auto/snelweg, auto/ongeluk. Beoordeel de semantische gelijkenis van elk woordpaar op een schaal van 0 tot 10, waarbij 0 geen semantische gelijkenis vertegenwoordigt, en 10 perfecte semantische gelijkenis. Onthoud dat het hier gaat om gelijkenis en niet om gerelateerdheid. Er is geen juist antwoord op deze vragen. Het is volkomen redelijk om je intuïtie of onderbuikgevoel te gebruiken als Nederlandstalige, vooral wanneer je wordt gevraagd om woordparen te beoordelen die je niet vergelijkbaar vindt. Het antwoord moet strikt voldoen aan de structuur: [('woord1', 'woord2', <score>), ('woord3', 'woord4', <score>), ...]. Gebruik twee decimalen. Geef geen extra uitleg of context. --- [\"('wolk', 'storm'), ('vreugde', 'trots'), ('lawaai', 'gerammel'), ('regen', 'mist'), ('bier', 'drank'), ('man', 'oom'), ('appel', 'sap'), ('intelligentie', 'logica'), ('communicatie', 'taal'), ('nerts', 'bont'), ('bende', 'menigte'), ('oever', 'kust'), ('pijpleiding', 'kabel'), ('vogel', 'kalkoen'), ('bed', 'wieg'), ('competentie', 'vermogen'), ('wolk', 'nevel')\"]\n",
      "Twee woorden zijn synoniemen als ze zeer vergelijkbare betekenissen hebben. Synoniemen vertegenwoordigen hetzelfde type of dezelfde categorie van dingen. Hier zijn enkele voorbeelden van synoniemparen zijn: kop/mok, buurt/wijk, jaloezie/afgunst. In de praktijk kunnen woordparen die niet exact synoniem zijn, toch zeer vergelijkbaar zijn. Hier zijn enkele bijna synoniemen: alligator/krokodil, liefde/genegenheid, kikker/pad. In tegenstelling hiermee zijn de volgende woordparen wel gerelateerd, maar niet erg vergelijkbaar. De woorden vertegenwoordigen totaal verschillende soorten dingen: auto/band, auto/snelweg, auto/ongeluk. Beoordeel de semantische gelijkenis van elk woordpaar op een schaal van 0 tot 10, waarbij 0 geen semantische gelijkenis vertegenwoordigt, en 10 perfecte semantische gelijkenis. Onthoud dat het hier gaat om gelijkenis en niet om gerelateerdheid. Er is geen juist antwoord op deze vragen. Het is volkomen redelijk om je intuïtie of onderbuikgevoel te gebruiken als Nederlandstalige, vooral wanneer je wordt gevraagd om woordparen te beoordelen die je niet vergelijkbaar vindt. Het antwoord moet strikt voldoen aan de structuur: [('woord1', 'woord2', <score>), ('woord3', 'woord4', <score>), ...]. Gebruik twee decimalen. Geef geen extra uitleg of context. --- [\"('avondeten', 'maaltijd'), ('balk', 'kooi'), ('water', 'zout'), ('gevoel', 'intuïtie'), ('situatie', 'omstandigheid'), ('misdaad', 'diefstal'), ('stijl', 'mode'), ('rand', 'grens'), ('arm', 'lichaam'), ('boot', 'auto'), ('broodje', 'lunch'), ('bruid', 'prinses'), ('heldin', 'held'), ('auto', 'meter'), ('insect', 'bij'), ('kinderbed', 'wieg'), ('dier', 'persoon')\"]\n",
      "Twee woorden zijn synoniemen als ze zeer vergelijkbare betekenissen hebben. Synoniemen vertegenwoordigen hetzelfde type of dezelfde categorie van dingen. Hier zijn enkele voorbeelden van synoniemparen zijn: kop/mok, buurt/wijk, jaloezie/afgunst. In de praktijk kunnen woordparen die niet exact synoniem zijn, toch zeer vergelijkbaar zijn. Hier zijn enkele bijna synoniemen: alligator/krokodil, liefde/genegenheid, kikker/pad. In tegenstelling hiermee zijn de volgende woordparen wel gerelateerd, maar niet erg vergelijkbaar. De woorden vertegenwoordigen totaal verschillende soorten dingen: auto/band, auto/snelweg, auto/ongeluk. Beoordeel de semantische gelijkenis van elk woordpaar op een schaal van 0 tot 10, waarbij 0 geen semantische gelijkenis vertegenwoordigt, en 10 perfecte semantische gelijkenis. Onthoud dat het hier gaat om gelijkenis en niet om gerelateerdheid. Er is geen juist antwoord op deze vragen. Het is volkomen redelijk om je intuïtie of onderbuikgevoel te gebruiken als Nederlandstalige, vooral wanneer je wordt gevraagd om woordparen te beoordelen die je niet vergelijkbaar vindt. Het antwoord moet strikt voldoen aan de structuur: [('woord1', 'woord2', <score>), ('woord3', 'woord4', <score>), ...]. Gebruik twee decimalen. Geef geen extra uitleg of context. --- [\"('marihuana', 'kruid'), ('bed', 'ziekenhuis'), ('wang', 'tong'), ('cd', 'computer'), ('bocht', 'hoek'), ('gras', 'mos'), ('school', 'wet'), ('voet', 'hoofd'), ('moeder', 'beschermer'), ('orthodontist', 'tandarts'), ('alcohol', 'whisky'), ('mond', 'tand'), ('ontbijt', 'spek'), ('badkamer', 'slaapkamer'), ('bord', 'kom'), ('vlees', 'brood'), ('lucht', 'helium')\"]\n",
      "Twee woorden zijn synoniemen als ze zeer vergelijkbare betekenissen hebben. Synoniemen vertegenwoordigen hetzelfde type of dezelfde categorie van dingen. Hier zijn enkele voorbeelden van synoniemparen zijn: kop/mok, buurt/wijk, jaloezie/afgunst. In de praktijk kunnen woordparen die niet exact synoniem zijn, toch zeer vergelijkbaar zijn. Hier zijn enkele bijna synoniemen: alligator/krokodil, liefde/genegenheid, kikker/pad. In tegenstelling hiermee zijn de volgende woordparen wel gerelateerd, maar niet erg vergelijkbaar. De woorden vertegenwoordigen totaal verschillende soorten dingen: auto/band, auto/snelweg, auto/ongeluk. Beoordeel de semantische gelijkenis van elk woordpaar op een schaal van 0 tot 10, waarbij 0 geen semantische gelijkenis vertegenwoordigt, en 10 perfecte semantische gelijkenis. Onthoud dat het hier gaat om gelijkenis en niet om gerelateerdheid. Er is geen juist antwoord op deze vragen. Het is volkomen redelijk om je intuïtie of onderbuikgevoel te gebruiken als Nederlandstalige, vooral wanneer je wordt gevraagd om woordparen te beoordelen die je niet vergelijkbaar vindt. Het antwoord moet strikt voldoen aan de structuur: [('woord1', 'woord2', <score>), ('woord3', 'woord4', <score>), ...]. Gebruik twee decimalen. Geef geen extra uitleg of context. --- [\"('arbeider', 'werkgever'), ('lichaam', 'borst'), ('zoon', 'vader'), ('hart', 'operatie'), ('vrouw', 'secretaresse'), ('man', 'vader'), ('strand', 'eiland'), ('verhaal', 'onderwerp'), ('spel', 'plezier'), ('weekend', 'week'), ('koppel', 'paar'), ('vrouw', 'echtgenote'), ('schaap', 'vee'), ('portemonnee', 'tas'), ('dak', 'kathedraal'), ('boon', 'koffie'), ('hout', 'papier')\"]\n",
      "Twee woorden zijn synoniemen als ze zeer vergelijkbare betekenissen hebben. Synoniemen vertegenwoordigen hetzelfde type of dezelfde categorie van dingen. Hier zijn enkele voorbeelden van synoniemparen zijn: kop/mok, buurt/wijk, jaloezie/afgunst. In de praktijk kunnen woordparen die niet exact synoniem zijn, toch zeer vergelijkbaar zijn. Hier zijn enkele bijna synoniemen: alligator/krokodil, liefde/genegenheid, kikker/pad. In tegenstelling hiermee zijn de volgende woordparen wel gerelateerd, maar niet erg vergelijkbaar. De woorden vertegenwoordigen totaal verschillende soorten dingen: auto/band, auto/snelweg, auto/ongeluk. Beoordeel de semantische gelijkenis van elk woordpaar op een schaal van 0 tot 10, waarbij 0 geen semantische gelijkenis vertegenwoordigt, en 10 perfecte semantische gelijkenis. Onthoud dat het hier gaat om gelijkenis en niet om gerelateerdheid. Er is geen juist antwoord op deze vragen. Het is volkomen redelijk om je intuïtie of onderbuikgevoel te gebruiken als Nederlandstalige, vooral wanneer je wordt gevraagd om woordparen te beoordelen die je niet vergelijkbaar vindt. Het antwoord moet strikt voldoen aan de structuur: [('woord1', 'woord2', <score>), ('woord3', 'woord4', <score>), ...]. Gebruik twee decimalen. Geef geen extra uitleg of context. --- [\"('bovenkant', 'zijkant'), ('misdaad', 'fraude'), ('pijn', 'schade'), ('minnaar', 'partner'), ('avond', 'schemering'), ('vader', 'dochter'), ('wijn', 'likeur'), ('koe', 'geit'), ('geloof', 'mening'), ('werkelijkheid', 'illusie'), ('overeenkomst', 'voorwaarde'), ('rijkdom', 'armoede'), ('ongeval', 'noodgeval'), ('strijd', 'verovering'), ('vriend', 'leraar'), ('ziekte', 'besmetting'), ('spel', 'truc')\"]\n",
      "Twee woorden zijn synoniemen als ze zeer vergelijkbare betekenissen hebben. Synoniemen vertegenwoordigen hetzelfde type of dezelfde categorie van dingen. Hier zijn enkele voorbeelden van synoniemparen zijn: kop/mok, buurt/wijk, jaloezie/afgunst. In de praktijk kunnen woordparen die niet exact synoniem zijn, toch zeer vergelijkbaar zijn. Hier zijn enkele bijna synoniemen: alligator/krokodil, liefde/genegenheid, kikker/pad. In tegenstelling hiermee zijn de volgende woordparen wel gerelateerd, maar niet erg vergelijkbaar. De woorden vertegenwoordigen totaal verschillende soorten dingen: auto/band, auto/snelweg, auto/ongeluk. Beoordeel de semantische gelijkenis van elk woordpaar op een schaal van 0 tot 10, waarbij 0 geen semantische gelijkenis vertegenwoordigt, en 10 perfecte semantische gelijkenis. Onthoud dat het hier gaat om gelijkenis en niet om gerelateerdheid. Er is geen juist antwoord op deze vragen. Het is volkomen redelijk om je intuïtie of onderbuikgevoel te gebruiken als Nederlandstalige, vooral wanneer je wordt gevraagd om woordparen te beoordelen die je niet vergelijkbaar vindt. Het antwoord moet strikt voldoen aan de structuur: [('woord1', 'woord2', <score>), ('woord3', 'woord4', <score>), ...]. Gebruik twee decimalen. Geef geen extra uitleg of context. --- [\"('broer', 'zoon'), ('tante', 'neef'), ('arbeider', 'monteur'), ('dokter', 'orthodontist'), ('eikenboom', 'esdoorn'), ('bij', 'koningin'), ('auto', 'fiets'), ('doelwit', 'zoektocht'), ('augustus', 'maand'), ('leger', 'ploeg'), ('wolk', 'weer'), ('arts', 'dokter'), ('ravijn', 'vallei'), ('rivier', 'vallei'), ('zon', 'lucht'), ('doel', 'pijl'), ('chocolade', 'taart')\"]\n",
      "Twee woorden zijn synoniemen als ze zeer vergelijkbare betekenissen hebben. Synoniemen vertegenwoordigen hetzelfde type of dezelfde categorie van dingen. Hier zijn enkele voorbeelden van synoniemparen zijn: kop/mok, buurt/wijk, jaloezie/afgunst. In de praktijk kunnen woordparen die niet exact synoniem zijn, toch zeer vergelijkbaar zijn. Hier zijn enkele bijna synoniemen: alligator/krokodil, liefde/genegenheid, kikker/pad. In tegenstelling hiermee zijn de volgende woordparen wel gerelateerd, maar niet erg vergelijkbaar. De woorden vertegenwoordigen totaal verschillende soorten dingen: auto/band, auto/snelweg, auto/ongeluk. Beoordeel de semantische gelijkenis van elk woordpaar op een schaal van 0 tot 10, waarbij 0 geen semantische gelijkenis vertegenwoordigt, en 10 perfecte semantische gelijkenis. Onthoud dat het hier gaat om gelijkenis en niet om gerelateerdheid. Er is geen juist antwoord op deze vragen. Het is volkomen redelijk om je intuïtie of onderbuikgevoel te gebruiken als Nederlandstalige, vooral wanneer je wordt gevraagd om woordparen te beoordelen die je niet vergelijkbaar vindt. Het antwoord moet strikt voldoen aan de structuur: [('woord1', 'woord2', <score>), ('woord3', 'woord4', <score>), ...]. Gebruik twee decimalen. Geef geen extra uitleg of context. --- [\"('omstandigheid', 'situatie'), ('mening', 'keuze'), ('ritme', 'melodie'), ('darm', 'zenuw'), ('dag', 'dageraad'), ('vee', 'rundvlees'), ('dokter', 'professor'), ('arm', 'ader'), ('kamer', 'bad'), ('onderneming', 'bedrijf'), ('plezier', 'voetbal'), ('heuvel', 'cliff'), ('botten', 'enkel'), ('appel', 'snoep'), ('helper', 'huishulp'), ('leider', 'manager'), ('citroen', 'thee')\"]\n",
      "Twee woorden zijn synoniemen als ze zeer vergelijkbare betekenissen hebben. Synoniemen vertegenwoordigen hetzelfde type of dezelfde categorie van dingen. Hier zijn enkele voorbeelden van synoniemparen zijn: kop/mok, buurt/wijk, jaloezie/afgunst. In de praktijk kunnen woordparen die niet exact synoniem zijn, toch zeer vergelijkbaar zijn. Hier zijn enkele bijna synoniemen: alligator/krokodil, liefde/genegenheid, kikker/pad. In tegenstelling hiermee zijn de volgende woordparen wel gerelateerd, maar niet erg vergelijkbaar. De woorden vertegenwoordigen totaal verschillende soorten dingen: auto/band, auto/snelweg, auto/ongeluk. Beoordeel de semantische gelijkenis van elk woordpaar op een schaal van 0 tot 10, waarbij 0 geen semantische gelijkenis vertegenwoordigt, en 10 perfecte semantische gelijkenis. Onthoud dat het hier gaat om gelijkenis en niet om gerelateerdheid. Er is geen juist antwoord op deze vragen. Het is volkomen redelijk om je intuïtie of onderbuikgevoel te gebruiken als Nederlandstalige, vooral wanneer je wordt gevraagd om woordparen te beoordelen die je niet vergelijkbaar vindt. Het antwoord moet strikt voldoen aan de structuur: [('woord1', 'woord2', <score>), ('woord3', 'woord4', <score>), ...]. Gebruik twee decimalen. Geef geen extra uitleg of context. --- [\"('bij', 'mier'), ('basketbal', 'honkbal'), ('rijst', 'boon'), ('bed', 'meubels'), ('emotie', 'passie'), ('anarchie', 'chaos'), ('misdaad', 'overtreding'), ('machine', 'aandrijving'), ('strand', 'zee'), ('steeg', 'kom'), ('pot', 'fles'), ('kracht', 'vermogen'), ('zaad', 'mosterd'), ('gitaar', 'drumstel'), ('mening', 'idee'), ('noord', 'west'), ('dieet', 'salade')\"]\n",
      "Twee woorden zijn synoniemen als ze zeer vergelijkbare betekenissen hebben. Synoniemen vertegenwoordigen hetzelfde type of dezelfde categorie van dingen. Hier zijn enkele voorbeelden van synoniemparen zijn: kop/mok, buurt/wijk, jaloezie/afgunst. In de praktijk kunnen woordparen die niet exact synoniem zijn, toch zeer vergelijkbaar zijn. Hier zijn enkele bijna synoniemen: alligator/krokodil, liefde/genegenheid, kikker/pad. In tegenstelling hiermee zijn de volgende woordparen wel gerelateerd, maar niet erg vergelijkbaar. De woorden vertegenwoordigen totaal verschillende soorten dingen: auto/band, auto/snelweg, auto/ongeluk. Beoordeel de semantische gelijkenis van elk woordpaar op een schaal van 0 tot 10, waarbij 0 geen semantische gelijkenis vertegenwoordigt, en 10 perfecte semantische gelijkenis. Onthoud dat het hier gaat om gelijkenis en niet om gerelateerdheid. Er is geen juist antwoord op deze vragen. Het is volkomen redelijk om je intuïtie of onderbuikgevoel te gebruiken als Nederlandstalige, vooral wanneer je wordt gevraagd om woordparen te beoordelen die je niet vergelijkbaar vindt. Het antwoord moet strikt voldoen aan de structuur: [('woord1', 'woord2', <score>), ('woord3', 'woord4', <score>), ...]. Gebruik twee decimalen. Geef geen extra uitleg of context. --- [\"('moeder', 'vrouw'), ('vader', 'moeder'), ('kapitein', 'matroos'), ('meter', 'decimeter'), ('bier', 'champagne'), ('motor', 'boot'), ('kaart', 'brug'), ('wetenschap', 'psychologie'), ('zondaar', 'heilige'), ('vernietiging', 'constructie'), ('menigte', 'massa'), ('strand', 'rif'), ('man', 'kind'), ('brood', 'kaas'), ('kampioen', 'winnaar'), ('feest', 'ceremonie'), ('menu', 'bestelling')\"]\n",
      "Twee woorden zijn synoniemen als ze zeer vergelijkbare betekenissen hebben. Synoniemen vertegenwoordigen hetzelfde type of dezelfde categorie van dingen. Hier zijn enkele voorbeelden van synoniemparen zijn: kop/mok, buurt/wijk, jaloezie/afgunst. In de praktijk kunnen woordparen die niet exact synoniem zijn, toch zeer vergelijkbaar zijn. Hier zijn enkele bijna synoniemen: alligator/krokodil, liefde/genegenheid, kikker/pad. In tegenstelling hiermee zijn de volgende woordparen wel gerelateerd, maar niet erg vergelijkbaar. De woorden vertegenwoordigen totaal verschillende soorten dingen: auto/band, auto/snelweg, auto/ongeluk. Beoordeel de semantische gelijkenis van elk woordpaar op een schaal van 0 tot 10, waarbij 0 geen semantische gelijkenis vertegenwoordigt, en 10 perfecte semantische gelijkenis. Onthoud dat het hier gaat om gelijkenis en niet om gerelateerdheid. Er is geen juist antwoord op deze vragen. Het is volkomen redelijk om je intuïtie of onderbuikgevoel te gebruiken als Nederlandstalige, vooral wanneer je wordt gevraagd om woordparen te beoordelen die je niet vergelijkbaar vindt. Het antwoord moet strikt voldoen aan de structuur: [('woord1', 'woord2', <score>), ('woord3', 'woord4', <score>), ...]. Gebruik twee decimalen. Geef geen extra uitleg of context. --- [\"('koning', 'prinses'), ('rijkdom', 'aanzien'), ('uithoudingsvermogen', 'kracht'), ('gevaar', 'bedreiging'), ('god', 'priester'), ('mannen', 'broederschap'), ('vriend', 'partner'), ('leraar', 'helper'), ('lichaam', 'buik'), ('tong', 'keel'), ('huis', 'tapijt'), ('intelligentie', 'vaardigheid'), ('reis', 'verovering'), ('god', 'prooi'), ('broer', 'ziel'), ('tegenstander', 'rivaal'), ('dood', 'ramp')\"]\n",
      "Twee woorden zijn synoniemen als ze zeer vergelijkbare betekenissen hebben. Synoniemen vertegenwoordigen hetzelfde type of dezelfde categorie van dingen. Hier zijn enkele voorbeelden van synoniemparen zijn: kop/mok, buurt/wijk, jaloezie/afgunst. In de praktijk kunnen woordparen die niet exact synoniem zijn, toch zeer vergelijkbaar zijn. Hier zijn enkele bijna synoniemen: alligator/krokodil, liefde/genegenheid, kikker/pad. In tegenstelling hiermee zijn de volgende woordparen wel gerelateerd, maar niet erg vergelijkbaar. De woorden vertegenwoordigen totaal verschillende soorten dingen: auto/band, auto/snelweg, auto/ongeluk. Beoordeel de semantische gelijkenis van elk woordpaar op een schaal van 0 tot 10, waarbij 0 geen semantische gelijkenis vertegenwoordigt, en 10 perfecte semantische gelijkenis. Onthoud dat het hier gaat om gelijkenis en niet om gerelateerdheid. Er is geen juist antwoord op deze vragen. Het is volkomen redelijk om je intuïtie of onderbuikgevoel te gebruiken als Nederlandstalige, vooral wanneer je wordt gevraagd om woordparen te beoordelen die je niet vergelijkbaar vindt. Het antwoord moet strikt voldoen aan de structuur: [('woord1', 'woord2', <score>), ('woord3', 'woord4', <score>), ...]. Gebruik twee decimalen. Geef geen extra uitleg of context. --- [\"('monster', 'demon'), ('dag', 'ochtend'), ('man', 'winnaar'), ('vriend', 'jongen'), ('lied', 'verhaal'), ('straal', 'zonneschijn'), ('kerel', 'hengst'), ('kip', 'rijst'), ('doos', 'lift'), ('boter', 'aardappel'), ('appartement', 'meubels'), ('meer', 'moeras'), ('sla', 'azijn'), ('bloem', 'bol'), ('wolk', 'waas'), ('chauffeur', 'piloot'), ('suiker', 'honing')\"]\n",
      "Twee woorden zijn synoniemen als ze zeer vergelijkbare betekenissen hebben. Synoniemen vertegenwoordigen hetzelfde type of dezelfde categorie van dingen. Hier zijn enkele voorbeelden van synoniemparen zijn: kop/mok, buurt/wijk, jaloezie/afgunst. In de praktijk kunnen woordparen die niet exact synoniem zijn, toch zeer vergelijkbaar zijn. Hier zijn enkele bijna synoniemen: alligator/krokodil, liefde/genegenheid, kikker/pad. In tegenstelling hiermee zijn de volgende woordparen wel gerelateerd, maar niet erg vergelijkbaar. De woorden vertegenwoordigen totaal verschillende soorten dingen: auto/band, auto/snelweg, auto/ongeluk. Beoordeel de semantische gelijkenis van elk woordpaar op een schaal van 0 tot 10, waarbij 0 geen semantische gelijkenis vertegenwoordigt, en 10 perfecte semantische gelijkenis. Onthoud dat het hier gaat om gelijkenis en niet om gerelateerdheid. Er is geen juist antwoord op deze vragen. Het is volkomen redelijk om je intuïtie of onderbuikgevoel te gebruiken als Nederlandstalige, vooral wanneer je wordt gevraagd om woordparen te beoordelen die je niet vergelijkbaar vindt. Het antwoord moet strikt voldoen aan de structuur: [('woord1', 'woord2', <score>), ('woord3', 'woord4', <score>), ...]. Gebruik twee decimalen. Geef geen extra uitleg of context. --- [\"('lichaam', 'schouder'), ('idee', 'beeld'), ('vader', 'broer'), ('maan', 'planeet'), ('bal', 'handschoen'), ('rails', 'hek'), ('kamer', 'bed'), ('bloem', 'struik'), ('botten', 'knie'), ('arm', 'knie'), ('onderkant', 'zijkant'), ('vat', 'ader'), ('kat', 'konijn'), ('vlees', 'spek'), ('geloof', 'begrip'), ('intelligentie', 'inzicht'), ('aandacht', 'interesse')\"]\n",
      "Twee woorden zijn synoniemen als ze zeer vergelijkbare betekenissen hebben. Synoniemen vertegenwoordigen hetzelfde type of dezelfde categorie van dingen. Hier zijn enkele voorbeelden van synoniemparen zijn: kop/mok, buurt/wijk, jaloezie/afgunst. In de praktijk kunnen woordparen die niet exact synoniem zijn, toch zeer vergelijkbaar zijn. Hier zijn enkele bijna synoniemen: alligator/krokodil, liefde/genegenheid, kikker/pad. In tegenstelling hiermee zijn de volgende woordparen wel gerelateerd, maar niet erg vergelijkbaar. De woorden vertegenwoordigen totaal verschillende soorten dingen: auto/band, auto/snelweg, auto/ongeluk. Beoordeel de semantische gelijkenis van elk woordpaar op een schaal van 0 tot 10, waarbij 0 geen semantische gelijkenis vertegenwoordigt, en 10 perfecte semantische gelijkenis. Onthoud dat het hier gaat om gelijkenis en niet om gerelateerdheid. Er is geen juist antwoord op deze vragen. Het is volkomen redelijk om je intuïtie of onderbuikgevoel te gebruiken als Nederlandstalige, vooral wanneer je wordt gevraagd om woordparen te beoordelen die je niet vergelijkbaar vindt. Het antwoord moet strikt voldoen aan de structuur: [('woord1', 'woord2', <score>), ('woord3', 'woord4', <score>), ...]. Gebruik twee decimalen. Geef geen extra uitleg of context. --- [\"('houding', 'zelfvertrouwen'), ('recht', 'rechtvaardigheid'), ('argument', 'overeenkomst'), ('diepte', 'omvang'), ('medium', 'nieuws'), ('winnaar', 'kandidaat'), ('verjaardag', 'datum'), ('vergoeding', 'betaling'), ('bijbel', 'psalm'), ('uitgang', 'deuropening'), ('man', 'schildwacht'), ('gangpad', 'hal'), ('whisky', 'jenever'), ('bloed', 'merg'), ('olie', 'nerts'), ('vloer', 'dek'), ('dak', 'vloer')\"]\n",
      "Twee woorden zijn synoniemen als ze zeer vergelijkbare betekenissen hebben. Synoniemen vertegenwoordigen hetzelfde type of dezelfde categorie van dingen. Hier zijn enkele voorbeelden van synoniemparen zijn: kop/mok, buurt/wijk, jaloezie/afgunst. In de praktijk kunnen woordparen die niet exact synoniem zijn, toch zeer vergelijkbaar zijn. Hier zijn enkele bijna synoniemen: alligator/krokodil, liefde/genegenheid, kikker/pad. In tegenstelling hiermee zijn de volgende woordparen wel gerelateerd, maar niet erg vergelijkbaar. De woorden vertegenwoordigen totaal verschillende soorten dingen: auto/band, auto/snelweg, auto/ongeluk. Beoordeel de semantische gelijkenis van elk woordpaar op een schaal van 0 tot 10, waarbij 0 geen semantische gelijkenis vertegenwoordigt, en 10 perfecte semantische gelijkenis. Onthoud dat het hier gaat om gelijkenis en niet om gerelateerdheid. Er is geen juist antwoord op deze vragen. Het is volkomen redelijk om je intuïtie of onderbuikgevoel te gebruiken als Nederlandstalige, vooral wanneer je wordt gevraagd om woordparen te beoordelen die je niet vergelijkbaar vindt. Het antwoord moet strikt voldoen aan de structuur: [('woord1', 'woord2', <score>), ('woord3', 'woord4', <score>), ...]. Gebruik twee decimalen. Geef geen extra uitleg of context. --- [\"('deur', 'vloer'), ('schouder', 'hoofd'), ('wagen', 'rijtuig'), ('auto', 'rijtuig'), ('elleboog', 'enkel'), ('rijkdom', 'bekendheid'), ('verdriet', 'schaamte'), ('administratie', 'management'), ('communicatie', 'gesprek'), ('vervuiling', 'atmosfeer'), ('anatomie', 'biologie'), ('hogeschool', 'beroep'), ('boek', 'onderwerp'), ('formule', 'vergelijking'), ('boek', 'informatie'), ('jongen', 'partner'), ('hemel', 'universum')\"]\n",
      "Twee woorden zijn synoniemen als ze zeer vergelijkbare betekenissen hebben. Synoniemen vertegenwoordigen hetzelfde type of dezelfde categorie van dingen. Hier zijn enkele voorbeelden van synoniemparen zijn: kop/mok, buurt/wijk, jaloezie/afgunst. In de praktijk kunnen woordparen die niet exact synoniem zijn, toch zeer vergelijkbaar zijn. Hier zijn enkele bijna synoniemen: alligator/krokodil, liefde/genegenheid, kikker/pad. In tegenstelling hiermee zijn de volgende woordparen wel gerelateerd, maar niet erg vergelijkbaar. De woorden vertegenwoordigen totaal verschillende soorten dingen: auto/band, auto/snelweg, auto/ongeluk. Beoordeel de semantische gelijkenis van elk woordpaar op een schaal van 0 tot 10, waarbij 0 geen semantische gelijkenis vertegenwoordigt, en 10 perfecte semantische gelijkenis. Onthoud dat het hier gaat om gelijkenis en niet om gerelateerdheid. Er is geen juist antwoord op deze vragen. Het is volkomen redelijk om je intuïtie of onderbuikgevoel te gebruiken als Nederlandstalige, vooral wanneer je wordt gevraagd om woordparen te beoordelen die je niet vergelijkbaar vindt. Het antwoord moet strikt voldoen aan de structuur: [('woord1', 'woord2', <score>), ('woord3', 'woord4', <score>), ...]. Gebruik twee decimalen. Geef geen extra uitleg of context. --- [\"('bevolking', 'mensen'), ('hogeschool', 'klas'), ('leider', 'burgemeester'), ('rabbijn', 'geestelijke'), ('meter', 'centimeter'), ('polyester', 'katoen'), ('advocaat', 'bankier'), ('viool', 'instrument'), ('opslagplaats', 'hut'), ('pot', 'huishoudelijk apparaat'), ('linnen', 'stof'), ('whisky', 'champagne'), ('meisje', 'kind'), ('hut', 'huisje'), ('vogel', 'kip'), ('raket', 'lawaai'), ('zonsondergang', 'avond')\"]\n",
      "Twee woorden zijn synoniemen als ze zeer vergelijkbare betekenissen hebben. Synoniemen vertegenwoordigen hetzelfde type of dezelfde categorie van dingen. Hier zijn enkele voorbeelden van synoniemparen zijn: kop/mok, buurt/wijk, jaloezie/afgunst. In de praktijk kunnen woordparen die niet exact synoniem zijn, toch zeer vergelijkbaar zijn. Hier zijn enkele bijna synoniemen: alligator/krokodil, liefde/genegenheid, kikker/pad. In tegenstelling hiermee zijn de volgende woordparen wel gerelateerd, maar niet erg vergelijkbaar. De woorden vertegenwoordigen totaal verschillende soorten dingen: auto/band, auto/snelweg, auto/ongeluk. Beoordeel de semantische gelijkenis van elk woordpaar op een schaal van 0 tot 10, waarbij 0 geen semantische gelijkenis vertegenwoordigt, en 10 perfecte semantische gelijkenis. Onthoud dat het hier gaat om gelijkenis en niet om gerelateerdheid. Er is geen juist antwoord op deze vragen. Het is volkomen redelijk om je intuïtie of onderbuikgevoel te gebruiken als Nederlandstalige, vooral wanneer je wordt gevraagd om woordparen te beoordelen die je niet vergelijkbaar vindt. Het antwoord moet strikt voldoen aan de structuur: [('woord1', 'woord2', <score>), ('woord3', 'woord4', <score>), ...]. Gebruik twee decimalen. Geef geen extra uitleg of context. --- [\"('motregen', 'regen'), ('volwassene', 'baby'), ('houtskool', 'kool'), ('lichaam', 'ruggengraat'), ('hoofd', 'nagel'), ('boomstam', 'hout'), ('lepel', 'beker'), ('lichaam', 'zenuw'), ('man', 'echtgenoot'), ('botten', 'nek'), ('frustratie', 'woede'), ('rivier', 'zee'), ('taak', 'beroep'), ('vereniging', 'maatschappij'), ('reflectie', 'afbeelding'), ('prins', 'koning'), ('sneeuw', 'weer')\"]\n",
      "Twee woorden zijn synoniemen als ze zeer vergelijkbare betekenissen hebben. Synoniemen vertegenwoordigen hetzelfde type of dezelfde categorie van dingen. Hier zijn enkele voorbeelden van synoniemparen zijn: kop/mok, buurt/wijk, jaloezie/afgunst. In de praktijk kunnen woordparen die niet exact synoniem zijn, toch zeer vergelijkbaar zijn. Hier zijn enkele bijna synoniemen: alligator/krokodil, liefde/genegenheid, kikker/pad. In tegenstelling hiermee zijn de volgende woordparen wel gerelateerd, maar niet erg vergelijkbaar. De woorden vertegenwoordigen totaal verschillende soorten dingen: auto/band, auto/snelweg, auto/ongeluk. Beoordeel de semantische gelijkenis van elk woordpaar op een schaal van 0 tot 10, waarbij 0 geen semantische gelijkenis vertegenwoordigt, en 10 perfecte semantische gelijkenis. Onthoud dat het hier gaat om gelijkenis en niet om gerelateerdheid. Er is geen juist antwoord op deze vragen. Het is volkomen redelijk om je intuïtie of onderbuikgevoel te gebruiken als Nederlandstalige, vooral wanneer je wordt gevraagd om woordparen te beoordelen die je niet vergelijkbaar vindt. Het antwoord moet strikt voldoen aan de structuur: [('woord1', 'woord2', <score>), ('woord3', 'woord4', <score>), ...]. Gebruik twee decimalen. Geef geen extra uitleg of context. --- [\"('mensen', 'partij'), ('jongen', 'broer'), ('wortel', 'gras'), ('wenkbrauw', 'oog'), ('geld', 'parel'), ('geld', 'diamant'), ('voertuig', 'bus'), ('taxi', 'bus'), ('huis', 'schuur'), ('vinger', 'handpalm'), ('auto', 'brug'), ('inspanning', 'moeilijkheid'), ('feit', 'inzicht'), ('beroep', 'management'), ('kanker', 'ziekte'), ('woord', 'krant'), ('componist', 'schrijver')\"]\n",
      "Twee woorden zijn synoniemen als ze zeer vergelijkbare betekenissen hebben. Synoniemen vertegenwoordigen hetzelfde type of dezelfde categorie van dingen. Hier zijn enkele voorbeelden van synoniemparen zijn: kop/mok, buurt/wijk, jaloezie/afgunst. In de praktijk kunnen woordparen die niet exact synoniem zijn, toch zeer vergelijkbaar zijn. Hier zijn enkele bijna synoniemen: alligator/krokodil, liefde/genegenheid, kikker/pad. In tegenstelling hiermee zijn de volgende woordparen wel gerelateerd, maar niet erg vergelijkbaar. De woorden vertegenwoordigen totaal verschillende soorten dingen: auto/band, auto/snelweg, auto/ongeluk. Beoordeel de semantische gelijkenis van elk woordpaar op een schaal van 0 tot 10, waarbij 0 geen semantische gelijkenis vertegenwoordigt, en 10 perfecte semantische gelijkenis. Onthoud dat het hier gaat om gelijkenis en niet om gerelateerdheid. Er is geen juist antwoord op deze vragen. Het is volkomen redelijk om je intuïtie of onderbuikgevoel te gebruiken als Nederlandstalige, vooral wanneer je wordt gevraagd om woordparen te beoordelen die je niet vergelijkbaar vindt. Het antwoord moet strikt voldoen aan de structuur: [('woord1', 'woord2', <score>), ('woord3', 'woord4', <score>), ...]. Gebruik twee decimalen. Geef geen extra uitleg of context. --- [\"('acteur', 'zanger'), ('schuilplaats', 'hut'), ('badkamer', 'keuken'), ('cabine', 'hut'), ('deur', 'keuken'), ('waarde', 'geloof'), ('wijsheid', 'intelligentie'), ('onwetendheid', 'intelligentie'), ('gelukkigheid', 'geluk'), ('idee', 'plan'), ('humeur', 'emotie'), ('gelukkigheid', 'vrede'), ('wanhoop', 'ongeluk'), ('logica', 'rekenkunde'), ('ontkenning', 'bekentenis'), ('argument', 'kritiek'), ('agressie', 'vijandigheid')\"]\n",
      "Twee woorden zijn synoniemen als ze zeer vergelijkbare betekenissen hebben. Synoniemen vertegenwoordigen hetzelfde type of dezelfde categorie van dingen. Hier zijn enkele voorbeelden van synoniemparen zijn: kop/mok, buurt/wijk, jaloezie/afgunst. In de praktijk kunnen woordparen die niet exact synoniem zijn, toch zeer vergelijkbaar zijn. Hier zijn enkele bijna synoniemen: alligator/krokodil, liefde/genegenheid, kikker/pad. In tegenstelling hiermee zijn de volgende woordparen wel gerelateerd, maar niet erg vergelijkbaar. De woorden vertegenwoordigen totaal verschillende soorten dingen: auto/band, auto/snelweg, auto/ongeluk. Beoordeel de semantische gelijkenis van elk woordpaar op een schaal van 0 tot 10, waarbij 0 geen semantische gelijkenis vertegenwoordigt, en 10 perfecte semantische gelijkenis. Onthoud dat het hier gaat om gelijkenis en niet om gerelateerdheid. Er is geen juist antwoord op deze vragen. Het is volkomen redelijk om je intuïtie of onderbuikgevoel te gebruiken als Nederlandstalige, vooral wanneer je wordt gevraagd om woordparen te beoordelen die je niet vergelijkbaar vindt. Het antwoord moet strikt voldoen aan de structuur: [('woord1', 'woord2', <score>), ('woord3', 'woord4', <score>), ...]. Gebruik twee decimalen. Geef geen extra uitleg of context. --- [\"('hysterie', 'verwarring'), ('scheikunde', 'theorie'), ('juridische procedures', 'oordeel'), ('comfort', 'veiligheid'), ('zelfvertrouwen', 'zelf'), ('visie', 'perceptie'), ('tijdperk', 'decennium'), ('biografie', 'fictie'), ('discussie', 'argument'), ('code', 'symbool'), ('gevaar', 'ziekte'), ('ongeval', 'ramp'), ('reis', 'excursie'), ('activiteit', 'beweging'), ('roddel', 'nieuws'), ('vader', 'god'), ('actie', 'cursus')\"]\n",
      "Twee woorden zijn synoniemen als ze zeer vergelijkbare betekenissen hebben. Synoniemen vertegenwoordigen hetzelfde type of dezelfde categorie van dingen. Hier zijn enkele voorbeelden van synoniemparen zijn: kop/mok, buurt/wijk, jaloezie/afgunst. In de praktijk kunnen woordparen die niet exact synoniem zijn, toch zeer vergelijkbaar zijn. Hier zijn enkele bijna synoniemen: alligator/krokodil, liefde/genegenheid, kikker/pad. In tegenstelling hiermee zijn de volgende woordparen wel gerelateerd, maar niet erg vergelijkbaar. De woorden vertegenwoordigen totaal verschillende soorten dingen: auto/band, auto/snelweg, auto/ongeluk. Beoordeel de semantische gelijkenis van elk woordpaar op een schaal van 0 tot 10, waarbij 0 geen semantische gelijkenis vertegenwoordigt, en 10 perfecte semantische gelijkenis. Onthoud dat het hier gaat om gelijkenis en niet om gerelateerdheid. Er is geen juist antwoord op deze vragen. Het is volkomen redelijk om je intuïtie of onderbuikgevoel te gebruiken als Nederlandstalige, vooral wanneer je wordt gevraagd om woordparen te beoordelen die je niet vergelijkbaar vindt. Het antwoord moet strikt voldoen aan de structuur: [('woord1', 'woord2', <score>), ('woord3', 'woord4', <score>), ...]. Gebruik twee decimalen. Geef geen extra uitleg of context. --- [\"('koorts', 'ziekte'), ('luchtvaart', 'vlucht'), ('spel', 'actie'), ('molecuul', 'lucht'), ('huis', 'toestand'), ('woord', 'literatuur'), ('volwassene', 'voogd'), ('krant', 'informatie'), ('communicatie', 'televisie'), ('neef', 'oom'), ('auteur', 'lezer'), ('kerel', 'partner'), ('gebied', 'hoek'), ('ballade', 'lied'), ('muur', 'decoratie'), ('woord', 'pagina'), ('verpleegster', 'wetenschapper')\"]\n",
      "Twee woorden zijn synoniemen als ze zeer vergelijkbare betekenissen hebben. Synoniemen vertegenwoordigen hetzelfde type of dezelfde categorie van dingen. Hier zijn enkele voorbeelden van synoniemparen zijn: kop/mok, buurt/wijk, jaloezie/afgunst. In de praktijk kunnen woordparen die niet exact synoniem zijn, toch zeer vergelijkbaar zijn. Hier zijn enkele bijna synoniemen: alligator/krokodil, liefde/genegenheid, kikker/pad. In tegenstelling hiermee zijn de volgende woordparen wel gerelateerd, maar niet erg vergelijkbaar. De woorden vertegenwoordigen totaal verschillende soorten dingen: auto/band, auto/snelweg, auto/ongeluk. Beoordeel de semantische gelijkenis van elk woordpaar op een schaal van 0 tot 10, waarbij 0 geen semantische gelijkenis vertegenwoordigt, en 10 perfecte semantische gelijkenis. Onthoud dat het hier gaat om gelijkenis en niet om gerelateerdheid. Er is geen juist antwoord op deze vragen. Het is volkomen redelijk om je intuïtie of onderbuikgevoel te gebruiken als Nederlandstalige, vooral wanneer je wordt gevraagd om woordparen te beoordelen die je niet vergelijkbaar vindt. Het antwoord moet strikt voldoen aan de structuur: [('woord1', 'woord2', <score>), ('woord3', 'woord4', <score>), ...]. Gebruik twee decimalen. Geef geen extra uitleg of context. --- [\"('politicus', 'president'), ('president', 'burgemeester'), ('boek', 'essay'), ('man', 'strijder'), ('artikel', 'tijdschrift'), ('ontbijt', 'avondeten'), ('menigte', 'parade'), ('gangpad', 'gang'), ('leraar', 'rabbijn'), ('heup', 'lip'), ('boek', 'artikel'), ('kamer', 'gevangeniscel'), ('doos', 'kraampje'), ('dochter', 'kind'), ('ledemaat', 'been'), ('lever', 'long'), ('klaslokaal', 'gang')\"]\n",
      "Twee woorden zijn synoniemen als ze zeer vergelijkbare betekenissen hebben. Synoniemen vertegenwoordigen hetzelfde type of dezelfde categorie van dingen. Hier zijn enkele voorbeelden van synoniemparen zijn: kop/mok, buurt/wijk, jaloezie/afgunst. In de praktijk kunnen woordparen die niet exact synoniem zijn, toch zeer vergelijkbaar zijn. Hier zijn enkele bijna synoniemen: alligator/krokodil, liefde/genegenheid, kikker/pad. In tegenstelling hiermee zijn de volgende woordparen wel gerelateerd, maar niet erg vergelijkbaar. De woorden vertegenwoordigen totaal verschillende soorten dingen: auto/band, auto/snelweg, auto/ongeluk. Beoordeel de semantische gelijkenis van elk woordpaar op een schaal van 0 tot 10, waarbij 0 geen semantische gelijkenis vertegenwoordigt, en 10 perfecte semantische gelijkenis. Onthoud dat het hier gaat om gelijkenis en niet om gerelateerdheid. Er is geen juist antwoord op deze vragen. Het is volkomen redelijk om je intuïtie of onderbuikgevoel te gebruiken als Nederlandstalige, vooral wanneer je wordt gevraagd om woordparen te beoordelen die je niet vergelijkbaar vindt. Het antwoord moet strikt voldoen aan de structuur: [('woord1', 'woord2', <score>), ('woord3', 'woord4', <score>), ...]. Gebruik twee decimalen. Geef geen extra uitleg of context. --- [\"('berg', 'richel'), ('auto', 'lift'), ('bed', 'bank'), ('kleding', 'knoop'), ('kleding', 'jas'), ('nier', 'orgaan'), ('appel', 'saus'), ('kip', 'steak'), ('auto', 'slang'), ('tabak', 'sigaret'), ('student', 'professor'), ('baby', 'dochter'), ('pijp', 'sigaar'), ('melk', 'sap'), ('doos', 'sigaar'), ('appartement', 'hotel')\"]\n",
      "Twee woorden zijn synoniemen als ze zeer vergelijkbare betekenissen hebben. Synoniemen vertegenwoordigen hetzelfde type of dezelfde categorie van dingen. Hier zijn enkele voorbeelden van synoniemparen zijn: kop/mok, buurt/wijk, jaloezie/afgunst. In de praktijk kunnen woordparen die niet exact synoniem zijn, toch zeer vergelijkbaar zijn. Hier zijn enkele bijna synoniemen: alligator/krokodil, liefde/genegenheid, kikker/pad. In tegenstelling hiermee zijn de volgende woordparen wel gerelateerd, maar niet erg vergelijkbaar. De woorden vertegenwoordigen totaal verschillende soorten dingen: auto/band, auto/snelweg, auto/ongeluk. Beoordeel de semantische gelijkenis van elk woordpaar op een schaal van 0 tot 10, waarbij 0 geen semantische gelijkenis vertegenwoordigt, en 10 perfecte semantische gelijkenis. Onthoud dat het hier gaat om gelijkenis en niet om gerelateerdheid. Er is geen juist antwoord op deze vragen. Het is volkomen redelijk om je intuïtie of onderbuikgevoel te gebruiken als Nederlandstalige, vooral wanneer je wordt gevraagd om woordparen te beoordelen die je niet vergelijkbaar vindt. Het antwoord moet strikt voldoen aan de structuur: [('woord1', 'woord2', <score>), ('woord3', 'woord4', <score>), ...]. Gebruik twee decimalen. Geef geen extra uitleg of context. --- [\"('beker', 'wafel'), ('paard', 'os'), ('keel', 'neus'), ('botten', 'tanden'), ('botten', 'elleboog'), ('spek', 'boon'), ('beker', 'pot'), ('bewijs', 'feit'), ('overeenkomst', 'afspraak'), ('verjaardag', 'jaar'), ('woord', 'referentie'), ('auteur', 'maker'), ('atoom', 'koolstof'), ('aartsbisschop', 'bisschop'), ('brief', 'paragraaf'), ('pagina', 'paragraaf')\"]\n",
      "Twee woorden zijn synoniemen als ze zeer vergelijkbare betekenissen hebben. Synoniemen vertegenwoordigen hetzelfde type of dezelfde categorie van dingen. Hier zijn enkele voorbeelden van synoniemparen zijn: kop/mok, buurt/wijk, jaloezie/afgunst. In de praktijk kunnen woordparen die niet exact synoniem zijn, toch zeer vergelijkbaar zijn. Hier zijn enkele bijna synoniemen: alligator/krokodil, liefde/genegenheid, kikker/pad. In tegenstelling hiermee zijn de volgende woordparen wel gerelateerd, maar niet erg vergelijkbaar. De woorden vertegenwoordigen totaal verschillende soorten dingen: auto/band, auto/snelweg, auto/ongeluk. Beoordeel de semantische gelijkenis van elk woordpaar op een schaal van 0 tot 10, waarbij 0 geen semantische gelijkenis vertegenwoordigt, en 10 perfecte semantische gelijkenis. Onthoud dat het hier gaat om gelijkenis en niet om gerelateerdheid. Er is geen juist antwoord op deze vragen. Het is volkomen redelijk om je intuïtie of onderbuikgevoel te gebruiken als Nederlandstalige, vooral wanneer je wordt gevraagd om woordparen te beoordelen die je niet vergelijkbaar vindt. Het antwoord moet strikt voldoen aan de structuur: [('woord1', 'woord2', <score>), ('woord3', 'woord4', <score>), ...]. Gebruik twee decimalen. Geef geen extra uitleg of context. --- [\"('kerktoren', 'kapel'), ('spier', 'botten'), ('spier', 'tong'), ('jongen', 'soldaat'), ('buik', 'onderbuik'), ('kerel', 'meisje'), ('bed', 'stoel'), ('kleding', 'mantel'), ('pistool', 'mes'), ('blik', 'metaal'), ('fles', 'container'), ('kip', 'kalkoen'), ('vlees', 'broodje'), ('arm', 'botten'), ('hals', 'ruggengraat'), ('appel', 'citroen')\"]\n",
      "Twee woorden zijn synoniemen als ze zeer vergelijkbare betekenissen hebben. Synoniemen vertegenwoordigen hetzelfde type of dezelfde categorie van dingen. Hier zijn enkele voorbeelden van synoniemparen zijn: kop/mok, buurt/wijk, jaloezie/afgunst. In de praktijk kunnen woordparen die niet exact synoniem zijn, toch zeer vergelijkbaar zijn. Hier zijn enkele bijna synoniemen: alligator/krokodil, liefde/genegenheid, kikker/pad. In tegenstelling hiermee zijn de volgende woordparen wel gerelateerd, maar niet erg vergelijkbaar. De woorden vertegenwoordigen totaal verschillende soorten dingen: auto/band, auto/snelweg, auto/ongeluk. Beoordeel de semantische gelijkenis van elk woordpaar op een schaal van 0 tot 10, waarbij 0 geen semantische gelijkenis vertegenwoordigt, en 10 perfecte semantische gelijkenis. Onthoud dat het hier gaat om gelijkenis en niet om gerelateerdheid. Er is geen juist antwoord op deze vragen. Het is volkomen redelijk om je intuïtie of onderbuikgevoel te gebruiken als Nederlandstalige, vooral wanneer je wordt gevraagd om woordparen te beoordelen die je niet vergelijkbaar vindt. Het antwoord moet strikt voldoen aan de structuur: [('woord1', 'woord2', <score>), ('woord3', 'woord4', <score>), ...]. Gebruik twee decimalen. Geef geen extra uitleg of context. --- [\"('lijden', 'verdriet'), ('opdracht', 'taak'), ('nacht', 'dageraad'), ('diner', 'soep'), ('kalf', 'stier'), ('sneeuw', 'storm'), ('nagel', 'hand'), ('hond', 'paard'), ('arm', 'hals'), ('kogel', 'kanon'), ('griep', 'koorts'), ('vergoeding', 'salaris'), ('zenuw', 'hersenen'), ('beest', 'dier'), ('diner', 'kip'), ('meisje', 'dienstmeisje')\"]\n",
      "Twee woorden zijn synoniemen als ze zeer vergelijkbare betekenissen hebben. Synoniemen vertegenwoordigen hetzelfde type of dezelfde categorie van dingen. Hier zijn enkele voorbeelden van synoniemparen zijn: kop/mok, buurt/wijk, jaloezie/afgunst. In de praktijk kunnen woordparen die niet exact synoniem zijn, toch zeer vergelijkbaar zijn. Hier zijn enkele bijna synoniemen: alligator/krokodil, liefde/genegenheid, kikker/pad. In tegenstelling hiermee zijn de volgende woordparen wel gerelateerd, maar niet erg vergelijkbaar. De woorden vertegenwoordigen totaal verschillende soorten dingen: auto/band, auto/snelweg, auto/ongeluk. Beoordeel de semantische gelijkenis van elk woordpaar op een schaal van 0 tot 10, waarbij 0 geen semantische gelijkenis vertegenwoordigt, en 10 perfecte semantische gelijkenis. Onthoud dat het hier gaat om gelijkenis en niet om gerelateerdheid. Er is geen juist antwoord op deze vragen. Het is volkomen redelijk om je intuïtie of onderbuikgevoel te gebruiken als Nederlandstalige, vooral wanneer je wordt gevraagd om woordparen te beoordelen die je niet vergelijkbaar vindt. Het antwoord moet strikt voldoen aan de structuur: [('woord1', 'woord2', <score>), ('woord3', 'woord4', <score>), ...]. Gebruik twee decimalen. Geef geen extra uitleg of context. --- [\"('kind', 'jongen'), ('alcohol', 'wijn'), ('neus', 'mond'), ('weg', 'steeg'), ('bel', 'deur'), ('doos', 'hoed'), ('geloof', 'indruk'), ('vooroordeel', 'mening'), ('aandacht', 'bewustzijn'), ('woede', 'stemming'), ('elegantie', 'stijl'), ('schoonheid', 'leeftijd'), ('boek', 'thema'), ('vriend', 'moeder'), ('vitamine', 'ijzer'), ('auto', 'fabriek')\"]\n",
      "Twee woorden zijn synoniemen als ze zeer vergelijkbare betekenissen hebben. Synoniemen vertegenwoordigen hetzelfde type of dezelfde categorie van dingen. Hier zijn enkele voorbeelden van synoniemparen zijn: kop/mok, buurt/wijk, jaloezie/afgunst. In de praktijk kunnen woordparen die niet exact synoniem zijn, toch zeer vergelijkbaar zijn. Hier zijn enkele bijna synoniemen: alligator/krokodil, liefde/genegenheid, kikker/pad. In tegenstelling hiermee zijn de volgende woordparen wel gerelateerd, maar niet erg vergelijkbaar. De woorden vertegenwoordigen totaal verschillende soorten dingen: auto/band, auto/snelweg, auto/ongeluk. Beoordeel de semantische gelijkenis van elk woordpaar op een schaal van 0 tot 10, waarbij 0 geen semantische gelijkenis vertegenwoordigt, en 10 perfecte semantische gelijkenis. Onthoud dat het hier gaat om gelijkenis en niet om gerelateerdheid. Er is geen juist antwoord op deze vragen. Het is volkomen redelijk om je intuïtie of onderbuikgevoel te gebruiken als Nederlandstalige, vooral wanneer je wordt gevraagd om woordparen te beoordelen die je niet vergelijkbaar vindt. Het antwoord moet strikt voldoen aan de structuur: [('woord1', 'woord2', <score>), ('woord3', 'woord4', <score>), ...]. Gebruik twee decimalen. Geef geen extra uitleg of context. --- [\"('verdrag', 'overeenkomst'), ('hoofdstuk', 'keuze'), ('rekenkunde', 'ritme'), ('winnaar', 'aanwezigheid'), ('geloof', 'bloem'), ('winnaar', 'doel'), ('truc', 'maat'), ('keuze', 'neiging'), ('volkslied', 'verovering'), ('uithoudingsvermogen', 'muziekgroep'), ('gevangenis', 'keuze'), ('conditie', 'jongen'), ('bloem', 'volharding'), ('gat', 'overeenkomst'), ('dokter', 'temperament'), ('broederschap', 'deur')\"]\n",
      "Twee woorden zijn synoniemen als ze zeer vergelijkbare betekenissen hebben. Synoniemen vertegenwoordigen hetzelfde type of dezelfde categorie van dingen. Hier zijn enkele voorbeelden van synoniemparen zijn: kop/mok, buurt/wijk, jaloezie/afgunst. In de praktijk kunnen woordparen die niet exact synoniem zijn, toch zeer vergelijkbaar zijn. Hier zijn enkele bijna synoniemen: alligator/krokodil, liefde/genegenheid, kikker/pad. In tegenstelling hiermee zijn de volgende woordparen wel gerelateerd, maar niet erg vergelijkbaar. De woorden vertegenwoordigen totaal verschillende soorten dingen: auto/band, auto/snelweg, auto/ongeluk. Beoordeel de semantische gelijkenis van elk woordpaar op een schaal van 0 tot 10, waarbij 0 geen semantische gelijkenis vertegenwoordigt, en 10 perfecte semantische gelijkenis. Onthoud dat het hier gaat om gelijkenis en niet om gerelateerdheid. Er is geen juist antwoord op deze vragen. Het is volkomen redelijk om je intuïtie of onderbuikgevoel te gebruiken als Nederlandstalige, vooral wanneer je wordt gevraagd om woordparen te beoordelen die je niet vergelijkbaar vindt. Het antwoord moet strikt voldoen aan de structuur: [('woord1', 'woord2', <score>), ('woord3', 'woord4', <score>), ...]. Gebruik twee decimalen. Geef geen extra uitleg of context. --- [\"('taak', 'vrouw'), ('broederschap', 'honkbal'), ('cent', 'maat'), ('aanwezigheid', 'deur'), ('muis', 'beheer'), ('taak', 'snelweg'), ('likeur', 'eeuw'), ('taak', 'rietje'), ('eiland', 'taak'), ('nacht', 'hoofdstuk'), ('vervuiling', 'president'), ('pistool', 'truc'), ('bad', 'truc'), ('dieet', 'appel'), ('cent', 'vrouw'), ('hoofdstuk', 'staart')\"]\n",
      "Twee woorden zijn synoniemen als ze zeer vergelijkbare betekenissen hebben. Synoniemen vertegenwoordigen hetzelfde type of dezelfde categorie van dingen. Hier zijn enkele voorbeelden van synoniemparen zijn: kop/mok, buurt/wijk, jaloezie/afgunst. In de praktijk kunnen woordparen die niet exact synoniem zijn, toch zeer vergelijkbaar zijn. Hier zijn enkele bijna synoniemen: alligator/krokodil, liefde/genegenheid, kikker/pad. In tegenstelling hiermee zijn de volgende woordparen wel gerelateerd, maar niet erg vergelijkbaar. De woorden vertegenwoordigen totaal verschillende soorten dingen: auto/band, auto/snelweg, auto/ongeluk. Beoordeel de semantische gelijkenis van elk woordpaar op een schaal van 0 tot 10, waarbij 0 geen semantische gelijkenis vertegenwoordigt, en 10 perfecte semantische gelijkenis. Onthoud dat het hier gaat om gelijkenis en niet om gerelateerdheid. Er is geen juist antwoord op deze vragen. Het is volkomen redelijk om je intuïtie of onderbuikgevoel te gebruiken als Nederlandstalige, vooral wanneer je wordt gevraagd om woordparen te beoordelen die je niet vergelijkbaar vindt. Het antwoord moet strikt voldoen aan de structuur: [('woord1', 'woord2', <score>), ('woord3', 'woord4', <score>), ...]. Gebruik twee decimalen. Geef geen extra uitleg of context. --- [\"('cursus', 'buik'), ('volkslied', 'rietje'), ('tandarts', 'kolonel'), ('echtgenote', 'rietje'), ('gat', 'vrouw'), ('student', 'president'), ('bad', 'vrouw'), ('mensen', 'cent'), ('formule', 'logaritme'), ('vrouw', 'bont'), ('appel', 'zonneschijn'), ('pistool', 'dageraad'), ('maaltijd', 'staart'), ('camera', 'president'), ('likeur', 'muziekgroep'), ('buik', 'ader')\"]\n",
      "Twee woorden zijn synoniemen als ze zeer vergelijkbare betekenissen hebben. Synoniemen vertegenwoordigen hetzelfde type of dezelfde categorie van dingen. Hier zijn enkele voorbeelden van synoniemparen zijn: kop/mok, buurt/wijk, jaloezie/afgunst. In de praktijk kunnen woordparen die niet exact synoniem zijn, toch zeer vergelijkbaar zijn. Hier zijn enkele bijna synoniemen: alligator/krokodil, liefde/genegenheid, kikker/pad. In tegenstelling hiermee zijn de volgende woordparen wel gerelateerd, maar niet erg vergelijkbaar. De woorden vertegenwoordigen totaal verschillende soorten dingen: auto/band, auto/snelweg, auto/ongeluk. Beoordeel de semantische gelijkenis van elk woordpaar op een schaal van 0 tot 10, waarbij 0 geen semantische gelijkenis vertegenwoordigt, en 10 perfecte semantische gelijkenis. Onthoud dat het hier gaat om gelijkenis en niet om gerelateerdheid. Er is geen juist antwoord op deze vragen. Het is volkomen redelijk om je intuïtie of onderbuikgevoel te gebruiken als Nederlandstalige, vooral wanneer je wordt gevraagd om woordparen te beoordelen die je niet vergelijkbaar vindt. Het antwoord moet strikt voldoen aan de structuur: [('woord1', 'woord2', <score>), ('woord3', 'woord4', <score>), ...]. Gebruik twee decimalen. Geef geen extra uitleg of context. --- [\"('pistool', 'bont'), ('bank', 'honkbal'), ('arbeider', 'camera'), ('dek', 'muis'), ('rijst', 'jongen'), ('mensen', 'pistool'), ('klif', 'staart'), ('enkel', 'raam'), ('prinses', 'eiland'), ('container', 'muis'), ('wagen', 'container'), ('mensen', 'ballon'), ('dollar', 'mensen'), ('bad', 'ballon'), ('buik', 'slaapkamer'), ('fiets', 'slaapkamer')\"]\n",
      "Twee woorden zijn synoniemen als ze zeer vergelijkbare betekenissen hebben. Synoniemen vertegenwoordigen hetzelfde type of dezelfde categorie van dingen. Hier zijn enkele voorbeelden van synoniemparen zijn: kop/mok, buurt/wijk, jaloezie/afgunst. In de praktijk kunnen woordparen die niet exact synoniem zijn, toch zeer vergelijkbaar zijn. Hier zijn enkele bijna synoniemen: alligator/krokodil, liefde/genegenheid, kikker/pad. In tegenstelling hiermee zijn de volgende woordparen wel gerelateerd, maar niet erg vergelijkbaar. De woorden vertegenwoordigen totaal verschillende soorten dingen: auto/band, auto/snelweg, auto/ongeluk. Beoordeel de semantische gelijkenis van elk woordpaar op een schaal van 0 tot 10, waarbij 0 geen semantische gelijkenis vertegenwoordigt, en 10 perfecte semantische gelijkenis. Onthoud dat het hier gaat om gelijkenis en niet om gerelateerdheid. Er is geen juist antwoord op deze vragen. Het is volkomen redelijk om je intuïtie of onderbuikgevoel te gebruiken als Nederlandstalige, vooral wanneer je wordt gevraagd om woordparen te beoordelen die je niet vergelijkbaar vindt. Het antwoord moet strikt voldoen aan de structuur: [('woord1', 'woord2', <score>), ('woord3', 'woord4', <score>), ...]. Gebruik twee decimalen. Geef geen extra uitleg of context. --- [\"('boomstam', 'bad'), ('kom', 'staart'), ('gaan', 'toestaan'), ('nemen', 'stelen'), ('luisteren', 'horen'), ('denken', 'rationaliseren'), ('plaatsvinden', 'voorkomen'), ('voorbijgaan', 'verdwijnen'), ('vermenigvuldigen', 'delen'), ('pleiten', 'bedelen'), ('beginnen', 'ontstaan'), ('beschermen', 'verdedigen'), ('doden', 'vernietigen'), ('creëren', 'maken'), ('accepteren', 'weigeren'), ('negeren', 'vermijden')\"]\n",
      "Twee woorden zijn synoniemen als ze zeer vergelijkbare betekenissen hebben. Synoniemen vertegenwoordigen hetzelfde type of dezelfde categorie van dingen. Hier zijn enkele voorbeelden van synoniemparen zijn: kop/mok, buurt/wijk, jaloezie/afgunst. In de praktijk kunnen woordparen die niet exact synoniem zijn, toch zeer vergelijkbaar zijn. Hier zijn enkele bijna synoniemen: alligator/krokodil, liefde/genegenheid, kikker/pad. In tegenstelling hiermee zijn de volgende woordparen wel gerelateerd, maar niet erg vergelijkbaar. De woorden vertegenwoordigen totaal verschillende soorten dingen: auto/band, auto/snelweg, auto/ongeluk. Beoordeel de semantische gelijkenis van elk woordpaar op een schaal van 0 tot 10, waarbij 0 geen semantische gelijkenis vertegenwoordigt, en 10 perfecte semantische gelijkenis. Onthoud dat het hier gaat om gelijkenis en niet om gerelateerdheid. Er is geen juist antwoord op deze vragen. Het is volkomen redelijk om je intuïtie of onderbuikgevoel te gebruiken als Nederlandstalige, vooral wanneer je wordt gevraagd om woordparen te beoordelen die je niet vergelijkbaar vindt. Het antwoord moet strikt voldoen aan de structuur: [('woord1', 'woord2', <score>), ('woord3', 'woord4', <score>), ...]. Gebruik twee decimalen. Geef geen extra uitleg of context. --- [\"('dragen', 'brengen'), ('vertrekken', 'binnenkomen'), ('kiezen', 'stemmen op'), ('verliezen', 'falen'), ('aanmoedigen', 'ontmoedigen'), ('bereiken', 'volbrengen'), ('maken', 'opbouwen'), ('luisteren', 'gehoorzamen'), ('delen', 'melden'), ('ontvangen', 'geven'), ('lenen', 'smeken'), ('nemen', 'verkrijgen'), ('adviseren', 'aanbevelen'), ('imiteren', 'uitbeelden'), ('winnen', 'slagen'), ('denken', 'besluiten')\"]\n",
      "Twee woorden zijn synoniemen als ze zeer vergelijkbare betekenissen hebben. Synoniemen vertegenwoordigen hetzelfde type of dezelfde categorie van dingen. Hier zijn enkele voorbeelden van synoniemparen zijn: kop/mok, buurt/wijk, jaloezie/afgunst. In de praktijk kunnen woordparen die niet exact synoniem zijn, toch zeer vergelijkbaar zijn. Hier zijn enkele bijna synoniemen: alligator/krokodil, liefde/genegenheid, kikker/pad. In tegenstelling hiermee zijn de volgende woordparen wel gerelateerd, maar niet erg vergelijkbaar. De woorden vertegenwoordigen totaal verschillende soorten dingen: auto/band, auto/snelweg, auto/ongeluk. Beoordeel de semantische gelijkenis van elk woordpaar op een schaal van 0 tot 10, waarbij 0 geen semantische gelijkenis vertegenwoordigt, en 10 perfecte semantische gelijkenis. Onthoud dat het hier gaat om gelijkenis en niet om gerelateerdheid. Er is geen juist antwoord op deze vragen. Het is volkomen redelijk om je intuïtie of onderbuikgevoel te gebruiken als Nederlandstalige, vooral wanneer je wordt gevraagd om woordparen te beoordelen die je niet vergelijkbaar vindt. Het antwoord moet strikt voldoen aan de structuur: [('woord1', 'woord2', <score>), ('woord3', 'woord4', <score>), ...]. Gebruik twee decimalen. Geef geen extra uitleg of context. --- [\"('groeten', 'ontmoeten'), ('akkoord gaan', 'argumenteren'), ('genieten', 'vermaken'), ('vernietigen', 'maken'), ('redden', 'beschermen'), ('geven', 'lenen'), ('begrijpen', 'weten'), ('nemen', 'ontvangen'), ('accepteren', 'erkennen'), ('beslissen', 'kiezen'), ('accepteren', 'geloven'), ('houden', 'bezitten'), ('rondzwerven', 'dwalen'), ('slagen', 'falen'), ('besteden', 'redden'), ('vertrekken', 'gaan')\"]\n",
      "Twee woorden zijn synoniemen als ze zeer vergelijkbare betekenissen hebben. Synoniemen vertegenwoordigen hetzelfde type of dezelfde categorie van dingen. Hier zijn enkele voorbeelden van synoniemparen zijn: kop/mok, buurt/wijk, jaloezie/afgunst. In de praktijk kunnen woordparen die niet exact synoniem zijn, toch zeer vergelijkbaar zijn. Hier zijn enkele bijna synoniemen: alligator/krokodil, liefde/genegenheid, kikker/pad. In tegenstelling hiermee zijn de volgende woordparen wel gerelateerd, maar niet erg vergelijkbaar. De woorden vertegenwoordigen totaal verschillende soorten dingen: auto/band, auto/snelweg, auto/ongeluk. Beoordeel de semantische gelijkenis van elk woordpaar op een schaal van 0 tot 10, waarbij 0 geen semantische gelijkenis vertegenwoordigt, en 10 perfecte semantische gelijkenis. Onthoud dat het hier gaat om gelijkenis en niet om gerelateerdheid. Er is geen juist antwoord op deze vragen. Het is volkomen redelijk om je intuïtie of onderbuikgevoel te gebruiken als Nederlandstalige, vooral wanneer je wordt gevraagd om woordparen te beoordelen die je niet vergelijkbaar vindt. Het antwoord moet strikt voldoen aan de structuur: [('woord1', 'woord2', <score>), ('woord3', 'woord4', <score>), ...]. Gebruik twee decimalen. Geef geen extra uitleg of context. --- [\"('komen', 'bijwonen'), ('weten', 'geloven'), ('verzamelen', 'ontmoeten'), ('maken', 'verdienen'), ('vergeten', 'negeren'), ('vermenigvuldigen', 'toevoegen'), ('krimpen', 'groeien'), ('aankomen', 'komen'), ('slagen', 'proberen'), ('accepteren', 'ontkennen'), ('aankomen', 'vertrekken'), ('akkoord gaan', 'afwijken'), ('sturen', 'ontvangen'), ('winnen', 'domineren'), ('toevoegen', 'verdelen'), ('doden', 'wurgen')\"]\n",
      "Twee woorden zijn synoniemen als ze zeer vergelijkbare betekenissen hebben. Synoniemen vertegenwoordigen hetzelfde type of dezelfde categorie van dingen. Hier zijn enkele voorbeelden van synoniemparen zijn: kop/mok, buurt/wijk, jaloezie/afgunst. In de praktijk kunnen woordparen die niet exact synoniem zijn, toch zeer vergelijkbaar zijn. Hier zijn enkele bijna synoniemen: alligator/krokodil, liefde/genegenheid, kikker/pad. In tegenstelling hiermee zijn de volgende woordparen wel gerelateerd, maar niet erg vergelijkbaar. De woorden vertegenwoordigen totaal verschillende soorten dingen: auto/band, auto/snelweg, auto/ongeluk. Beoordeel de semantische gelijkenis van elk woordpaar op een schaal van 0 tot 10, waarbij 0 geen semantische gelijkenis vertegenwoordigt, en 10 perfecte semantische gelijkenis. Onthoud dat het hier gaat om gelijkenis en niet om gerelateerdheid. Er is geen juist antwoord op deze vragen. Het is volkomen redelijk om je intuïtie of onderbuikgevoel te gebruiken als Nederlandstalige, vooral wanneer je wordt gevraagd om woordparen te beoordelen die je niet vergelijkbaar vindt. Het antwoord moet strikt voldoen aan de structuur: [('woord1', 'woord2', <score>), ('woord3', 'woord4', <score>), ...]. Gebruik twee decimalen. Geef geen extra uitleg of context. --- [\"('verwerven', 'krijgen'), ('deelnemen', 'meedoen'), ('vertrekken', 'achterblijven'), ('gaan', 'komen'), ('nemen', 'dragen'), ('vergeten', 'leren'), ('benoemen', 'kiezen'), ('verloven', 'trouwen'), ('vragen', 'bidden'), ('gaan', 'sturen'), ('nemen', 'leveren'), ('spreken', 'luisteren'), ('analyseren', 'evalueren'), ('argumenteren', 'rationaliseren'), ('verliezen', 'houden'), ('vergelijken', 'analyseren')\"]\n",
      "Twee woorden zijn synoniemen als ze zeer vergelijkbare betekenissen hebben. Synoniemen vertegenwoordigen hetzelfde type of dezelfde categorie van dingen. Hier zijn enkele voorbeelden van synoniemparen zijn: kop/mok, buurt/wijk, jaloezie/afgunst. In de praktijk kunnen woordparen die niet exact synoniem zijn, toch zeer vergelijkbaar zijn. Hier zijn enkele bijna synoniemen: alligator/krokodil, liefde/genegenheid, kikker/pad. In tegenstelling hiermee zijn de volgende woordparen wel gerelateerd, maar niet erg vergelijkbaar. De woorden vertegenwoordigen totaal verschillende soorten dingen: auto/band, auto/snelweg, auto/ongeluk. Beoordeel de semantische gelijkenis van elk woordpaar op een schaal van 0 tot 10, waarbij 0 geen semantische gelijkenis vertegenwoordigt, en 10 perfecte semantische gelijkenis. Onthoud dat het hier gaat om gelijkenis en niet om gerelateerdheid. Er is geen juist antwoord op deze vragen. Het is volkomen redelijk om je intuïtie of onderbuikgevoel te gebruiken als Nederlandstalige, vooral wanneer je wordt gevraagd om woordparen te beoordelen die je niet vergelijkbaar vindt. Het antwoord moet strikt voldoen aan de structuur: [('woord1', 'woord2', <score>), ('woord3', 'woord4', <score>), ...]. Gebruik twee decimalen. Geef geen extra uitleg of context. --- [\"('desorganiseren', 'organiseren'), ('gaan', 'verkopen'), ('nemen', 'bezitten'), ('leren', 'luisteren'), ('vernietigen', 'bouwen'), ('creëren', 'bouwen'), ('stelen', 'kopen'), ('doden', 'ophangen'), ('vergeten', 'weten'), ('creëren', 'voorstellen'), ('doen', 'gebeuren'), ('winnen', 'bereiken'), ('geven', 'weigeren'), ('verdienen', 'nemen'), ('krijgen', 'zetten'), ('lokaliseren', 'vinden')\"]\n",
      "Twee woorden zijn synoniemen als ze zeer vergelijkbare betekenissen hebben. Synoniemen vertegenwoordigen hetzelfde type of dezelfde categorie van dingen. Hier zijn enkele voorbeelden van synoniemparen zijn: kop/mok, buurt/wijk, jaloezie/afgunst. In de praktijk kunnen woordparen die niet exact synoniem zijn, toch zeer vergelijkbaar zijn. Hier zijn enkele bijna synoniemen: alligator/krokodil, liefde/genegenheid, kikker/pad. In tegenstelling hiermee zijn de volgende woordparen wel gerelateerd, maar niet erg vergelijkbaar. De woorden vertegenwoordigen totaal verschillende soorten dingen: auto/band, auto/snelweg, auto/ongeluk. Beoordeel de semantische gelijkenis van elk woordpaar op een schaal van 0 tot 10, waarbij 0 geen semantische gelijkenis vertegenwoordigt, en 10 perfecte semantische gelijkenis. Onthoud dat het hier gaat om gelijkenis en niet om gerelateerdheid. Er is geen juist antwoord op deze vragen. Het is volkomen redelijk om je intuïtie of onderbuikgevoel te gebruiken als Nederlandstalige, vooral wanneer je wordt gevraagd om woordparen te beoordelen die je niet vergelijkbaar vindt. Het antwoord moet strikt voldoen aan de structuur: [('woord1', 'woord2', <score>), ('woord3', 'woord4', <score>), ...]. Gebruik twee decimalen. Geef geen extra uitleg of context. --- [\"('verschijnen', 'bijwonen'), ('weten', 'begrijpen'), ('doen alsof', 'voorstellen'), ('tevredenstellen', 'voldoen'), ('koesteren', 'houden'), ('argumenteren', 'verschillen'), ('overwinnen', 'domineren'), ('zich gedragen', 'gehoorzamen'), ('samenwerken', 'deelnemen'), ('bereiken', 'proberen'), ('falen', 'ontmoedigen'), ('beginnen', 'stoppen'), ('zeggen', 'deelnemen'), ('komen', 'brengen'), ('bekendmaken', 'aankondigen'), ('lezen', 'begrijpen')\"]\n",
      "Twee woorden zijn synoniemen als ze zeer vergelijkbare betekenissen hebben. Synoniemen vertegenwoordigen hetzelfde type of dezelfde categorie van dingen. Hier zijn enkele voorbeelden van synoniemparen zijn: kop/mok, buurt/wijk, jaloezie/afgunst. In de praktijk kunnen woordparen die niet exact synoniem zijn, toch zeer vergelijkbaar zijn. Hier zijn enkele bijna synoniemen: alligator/krokodil, liefde/genegenheid, kikker/pad. In tegenstelling hiermee zijn de volgende woordparen wel gerelateerd, maar niet erg vergelijkbaar. De woorden vertegenwoordigen totaal verschillende soorten dingen: auto/band, auto/snelweg, auto/ongeluk. Beoordeel de semantische gelijkenis van elk woordpaar op een schaal van 0 tot 10, waarbij 0 geen semantische gelijkenis vertegenwoordigt, en 10 perfecte semantische gelijkenis. Onthoud dat het hier gaat om gelijkenis en niet om gerelateerdheid. Er is geen juist antwoord op deze vragen. Het is volkomen redelijk om je intuïtie of onderbuikgevoel te gebruiken als Nederlandstalige, vooral wanneer je wordt gevraagd om woordparen te beoordelen die je niet vergelijkbaar vindt. Het antwoord moet strikt voldoen aan de structuur: [('woord1', 'woord2', <score>), ('woord3', 'woord4', <score>), ...]. Gebruik twee decimalen. Geef geen extra uitleg of context. --- [\"('nemen', 'achterlaten'), ('verkondigen', 'aankondigen'), ('verwerven', 'verkrijgen'), ('concluderen', 'beslissen'), ('tevredenstellen', 'pleiten'), ('argumenteren', 'bewijzen'), ('vragen', 'pleiten'), ('vinden', 'verdwijnen'), ('inspecteren', 'examineren'), ('controleren', 'rechtvaardigen'), ('vermoeden', 'voorspellen'), ('leren', 'evalueren'), ('argumenteren', 'rechtvaardigen'), ('maken', 'worden'), ('ontdekken', 'ontstaan'), ('bereiken', 'slagen')\"]\n",
      "Twee woorden zijn synoniemen als ze zeer vergelijkbare betekenissen hebben. Synoniemen vertegenwoordigen hetzelfde type of dezelfde categorie van dingen. Hier zijn enkele voorbeelden van synoniemparen zijn: kop/mok, buurt/wijk, jaloezie/afgunst. In de praktijk kunnen woordparen die niet exact synoniem zijn, toch zeer vergelijkbaar zijn. Hier zijn enkele bijna synoniemen: alligator/krokodil, liefde/genegenheid, kikker/pad. In tegenstelling hiermee zijn de volgende woordparen wel gerelateerd, maar niet erg vergelijkbaar. De woorden vertegenwoordigen totaal verschillende soorten dingen: auto/band, auto/snelweg, auto/ongeluk. Beoordeel de semantische gelijkenis van elk woordpaar op een schaal van 0 tot 10, waarbij 0 geen semantische gelijkenis vertegenwoordigt, en 10 perfecte semantische gelijkenis. Onthoud dat het hier gaat om gelijkenis en niet om gerelateerdheid. Er is geen juist antwoord op deze vragen. Het is volkomen redelijk om je intuïtie of onderbuikgevoel te gebruiken als Nederlandstalige, vooral wanneer je wordt gevraagd om woordparen te beoordelen die je niet vergelijkbaar vindt. Het antwoord moet strikt voldoen aan de structuur: [('woord1', 'woord2', <score>), ('woord3', 'woord4', <score>), ...]. Gebruik twee decimalen. Geef geen extra uitleg of context. --- [\"('geven', 'plaatsen'), ('begrijpen', 'luisteren'), ('uitbreiden', 'groeien'), ('lenen', 'verkopen'), ('houden', 'beschermen'), ('uitleggen', 'bewijzen'), ('vermoeden', 'doen alsof'), ('akkoord gaan', 'voldoen'), ('vergeven', 'vergeten'), ('verklaren', 'uitleggen'), ('begrijpen', 'vergeven'), ('herinneren', 'vergeten'), ('krijgen', 'achterblijven'), ('realiseren', 'ontdekken'), ('nodig hebben', 'vragen'), ('negeren', 'vragen')\"]\n",
      "Twee woorden zijn synoniemen als ze zeer vergelijkbare betekenissen hebben. Synoniemen vertegenwoordigen hetzelfde type of dezelfde categorie van dingen. Hier zijn enkele voorbeelden van synoniemparen zijn: kop/mok, buurt/wijk, jaloezie/afgunst. In de praktijk kunnen woordparen die niet exact synoniem zijn, toch zeer vergelijkbaar zijn. Hier zijn enkele bijna synoniemen: alligator/krokodil, liefde/genegenheid, kikker/pad. In tegenstelling hiermee zijn de volgende woordparen wel gerelateerd, maar niet erg vergelijkbaar. De woorden vertegenwoordigen totaal verschillende soorten dingen: auto/band, auto/snelweg, auto/ongeluk. Beoordeel de semantische gelijkenis van elk woordpaar op een schaal van 0 tot 10, waarbij 0 geen semantische gelijkenis vertegenwoordigt, en 10 perfecte semantische gelijkenis. Onthoud dat het hier gaat om gelijkenis en niet om gerelateerdheid. Er is geen juist antwoord op deze vragen. Het is volkomen redelijk om je intuïtie of onderbuikgevoel te gebruiken als Nederlandstalige, vooral wanneer je wordt gevraagd om woordparen te beoordelen die je niet vergelijkbaar vindt. Het antwoord moet strikt voldoen aan de structuur: [('woord1', 'woord2', <score>), ('woord3', 'woord4', <score>), ...]. Gebruik twee decimalen. Geef geen extra uitleg of context. --- [\"('denken', 'informeren'), ('afwijzen', 'vermijden'), ('argumenteren', 'overtuigen'), ('najagen', 'overtuigen'), ('accepteren', 'vergeven'), ('doen', 'stoppen'), ('onderzoeken', 'herzien'), ('discussiëren', 'uitleggen'), ('verschuldigd zijn', 'lenen'), ('verkennen', 'ontdekken'), ('klagen', 'argumenteren'), ('terugtrekken', 'afwijzen'), ('houden', 'lenen'), ('smeken', 'vragen'), ('regelen', 'organiseren'), ('verminderen', 'krimpen')\"]\n",
      "Twee woorden zijn synoniemen als ze zeer vergelijkbare betekenissen hebben. Synoniemen vertegenwoordigen hetzelfde type of dezelfde categorie van dingen. Hier zijn enkele voorbeelden van synoniemparen zijn: kop/mok, buurt/wijk, jaloezie/afgunst. In de praktijk kunnen woordparen die niet exact synoniem zijn, toch zeer vergelijkbaar zijn. Hier zijn enkele bijna synoniemen: alligator/krokodil, liefde/genegenheid, kikker/pad. In tegenstelling hiermee zijn de volgende woordparen wel gerelateerd, maar niet erg vergelijkbaar. De woorden vertegenwoordigen totaal verschillende soorten dingen: auto/band, auto/snelweg, auto/ongeluk. Beoordeel de semantische gelijkenis van elk woordpaar op een schaal van 0 tot 10, waarbij 0 geen semantische gelijkenis vertegenwoordigt, en 10 perfecte semantische gelijkenis. Onthoud dat het hier gaat om gelijkenis en niet om gerelateerdheid. Er is geen juist antwoord op deze vragen. Het is volkomen redelijk om je intuïtie of onderbuikgevoel te gebruiken als Nederlandstalige, vooral wanneer je wordt gevraagd om woordparen te beoordelen die je niet vergelijkbaar vindt. Het antwoord moet strikt voldoen aan de structuur: [('woord1', 'woord2', <score>), ('woord3', 'woord4', <score>), ...]. Gebruik twee decimalen. Geef geen extra uitleg of context. --- [\"('spreken', 'erkennen'), ('geven', 'uitlenen'), ('doden', 'verdedigen'), ('verdwijnen', 'krimpen'), ('leveren', 'dragen'), ('ademen', 'verstikken'), ('erkennen', 'melden'), ('worden', 'verschijnen'), ('doen alsof', 'lijken'), ('bereiken', 'worden'), ('overnadenken', 'denken'), ('bepalen', 'voorspellen'), ('tevredenstellen', 'vermaken'), ('blijven', 'behouden'), ('doen alsof', 'uitbeelden'), ('vergeten', 'onderhouden')\"]\n",
      "Twee woorden zijn synoniemen als ze zeer vergelijkbare betekenissen hebben. Synoniemen vertegenwoordigen hetzelfde type of dezelfde categorie van dingen. Hier zijn enkele voorbeelden van synoniemparen zijn: kop/mok, buurt/wijk, jaloezie/afgunst. In de praktijk kunnen woordparen die niet exact synoniem zijn, toch zeer vergelijkbaar zijn. Hier zijn enkele bijna synoniemen: alligator/krokodil, liefde/genegenheid, kikker/pad. In tegenstelling hiermee zijn de volgende woordparen wel gerelateerd, maar niet erg vergelijkbaar. De woorden vertegenwoordigen totaal verschillende soorten dingen: auto/band, auto/snelweg, auto/ongeluk. Beoordeel de semantische gelijkenis van elk woordpaar op een schaal van 0 tot 10, waarbij 0 geen semantische gelijkenis vertegenwoordigt, en 10 perfecte semantische gelijkenis. Onthoud dat het hier gaat om gelijkenis en niet om gerelateerdheid. Er is geen juist antwoord op deze vragen. Het is volkomen redelijk om je intuïtie of onderbuikgevoel te gebruiken als Nederlandstalige, vooral wanneer je wordt gevraagd om woordparen te beoordelen die je niet vergelijkbaar vindt. Het antwoord moet strikt voldoen aan de structuur: [('woord1', 'woord2', <score>), ('woord3', 'woord4', <score>), ...]. Gebruik twee decimalen. Geef geen extra uitleg of context. --- [\"('willen', 'kiezen'), ('verliezen', 'krijgen'), ('proberen', 'denken'), ('worden', 'lijken'), ('vertrekken', 'negeren'), ('accepteren', 'aanbevelen'), ('vertrekken', 'zwerven'), ('houden', 'geven'), ('geven', 'toestaan'), ('brengen', 'sturen'), ('opnemen', 'leren'), ('verwerven', 'vinden'), ('vertrekken', 'verschijnen'), ('creëren', 'vernietigen'), ('beginnen', 'gaan'), ('krijgen', 'kopen')\"]\n",
      "Twee woorden zijn synoniemen als ze zeer vergelijkbare betekenissen hebben. Synoniemen vertegenwoordigen hetzelfde type of dezelfde categorie van dingen. Hier zijn enkele voorbeelden van synoniemparen zijn: kop/mok, buurt/wijk, jaloezie/afgunst. In de praktijk kunnen woordparen die niet exact synoniem zijn, toch zeer vergelijkbaar zijn. Hier zijn enkele bijna synoniemen: alligator/krokodil, liefde/genegenheid, kikker/pad. In tegenstelling hiermee zijn de volgende woordparen wel gerelateerd, maar niet erg vergelijkbaar. De woorden vertegenwoordigen totaal verschillende soorten dingen: auto/band, auto/snelweg, auto/ongeluk. Beoordeel de semantische gelijkenis van elk woordpaar op een schaal van 0 tot 10, waarbij 0 geen semantische gelijkenis vertegenwoordigt, en 10 perfecte semantische gelijkenis. Onthoud dat het hier gaat om gelijkenis en niet om gerelateerdheid. Er is geen juist antwoord op deze vragen. Het is volkomen redelijk om je intuïtie of onderbuikgevoel te gebruiken als Nederlandstalige, vooral wanneer je wordt gevraagd om woordparen te beoordelen die je niet vergelijkbaar vindt. Het antwoord moet strikt voldoen aan de structuur: [('woord1', 'woord2', <score>), ('woord3', 'woord4', <score>), ...]. Gebruik twee decimalen. Geef geen extra uitleg of context. --- [\"('verzamelen', 'opslaan'), ('vervangen', 'herstellen'), ('samenvoegen', 'toevoegen'), ('samenvoegen', 'trouwen'), ('accepteren', 'bezorgen'), ('bijvoegen', 'samenvoegen'), ('plaatsen', 'ophangen'), ('gaan', 'binnenkomen'), ('communiceren', 'bidden'), ('geven', 'stelen'), ('toevoegen', 'bouwen'), ('brengen', 'herstellen'), ('begrijpen', 'voldoen'), ('belichamen', 'beslissen'), ('organiseren', 'worden'), ('geven', 'weten')\"]\n",
      "Twee woorden zijn synoniemen als ze zeer vergelijkbare betekenissen hebben. Synoniemen vertegenwoordigen hetzelfde type of dezelfde categorie van dingen. Hier zijn enkele voorbeelden van synoniemparen zijn: kop/mok, buurt/wijk, jaloezie/afgunst. In de praktijk kunnen woordparen die niet exact synoniem zijn, toch zeer vergelijkbaar zijn. Hier zijn enkele bijna synoniemen: alligator/krokodil, liefde/genegenheid, kikker/pad. In tegenstelling hiermee zijn de volgende woordparen wel gerelateerd, maar niet erg vergelijkbaar. De woorden vertegenwoordigen totaal verschillende soorten dingen: auto/band, auto/snelweg, auto/ongeluk. Beoordeel de semantische gelijkenis van elk woordpaar op een schaal van 0 tot 10, waarbij 0 geen semantische gelijkenis vertegenwoordigt, en 10 perfecte semantische gelijkenis. Onthoud dat het hier gaat om gelijkenis en niet om gerelateerdheid. Er is geen juist antwoord op deze vragen. Het is volkomen redelijk om je intuïtie of onderbuikgevoel te gebruiken als Nederlandstalige, vooral wanneer je wordt gevraagd om woordparen te beoordelen die je niet vergelijkbaar vindt. Het antwoord moet strikt voldoen aan de structuur: [('woord1', 'woord2', <score>), ('woord3', 'woord4', <score>), ...]. Gebruik twee decimalen. Geef geen extra uitleg of context. --- [\"('zeggen', 'verifiëren'), ('samenwerken', 'aansluiten bij'), ('regelen', 'vereisen'), ('lenen', 'willen'), ('onderzoeken', 'streven'), ('negeren', 'verkennen'), ('brengen', 'klagen'), ('binnentreden', 'verschuldigd zijn'), ('belichamen', 'melden'), ('herinneren', 'verkopen'), ('opnemen', 'bezitten'), ('samenvoegen', 'verwerven'), ('sturen', 'bijwonen'), ('verzamelen', 'bijwonen'), ('opnemen', 'intrekken'), ('bijwonen', 'aankomen')\"]\n"
     ]
    }
   ],
   "source": [
    "# Print the prompts for each chunk\n",
    "print_prompts(chunks, prompt)"
   ]
  },
  {
   "cell_type": "code",
   "execution_count": 9,
   "metadata": {},
   "outputs": [
    {
     "name": "stdout",
     "output_type": "stream",
     "text": [
      "Token counts for each formatted prompt: [544, 546, 553, 547, 539, 541, 540, 535, 529, 520, 528, 534, 531, 534, 526, 534, 529, 532, 529, 534, 542, 534, 535, 530, 530, 541, 528, 526, 538, 542, 542, 546, 531, 553, 544, 535, 533, 509, 528, 524, 530, 524, 550, 527, 530, 518, 541, 540, 533, 546, 538, 535, 549, 546, 550, 547, 543, 536, 542, 552]\n"
     ]
    }
   ],
   "source": [
    "# Load the encoding\n",
    "encoding = tiktoken.get_encoding(\"cl100k_base\")\n",
    "\n",
    "# Count the tokens per chunk\n",
    "token_counts = count_tokens_with_tiktoken(chunks, prompt)\n",
    "print(\"Token counts for each formatted prompt:\", token_counts)"
   ]
  },
  {
   "cell_type": "code",
   "execution_count": 10,
   "metadata": {},
   "outputs": [
    {
     "data": {
      "text/plain": [
       "32173"
      ]
     },
     "execution_count": 10,
     "metadata": {},
     "output_type": "execute_result"
    }
   ],
   "source": [
    "# Number of total tokens\n",
    "sum(token_counts)"
   ]
  },
  {
   "cell_type": "markdown",
   "metadata": {},
   "source": [
    "### **2. Extract and Process Data**"
   ]
  },
  {
   "cell_type": "code",
   "execution_count": 11,
   "metadata": {},
   "outputs": [],
   "source": [
    "# FINAL RUNNING"
   ]
  },
  {
   "cell_type": "code",
   "execution_count": 12,
   "metadata": {},
   "outputs": [
    {
     "name": "stderr",
     "output_type": "stream",
     "text": [
      "Processing:   0%|          | 0/900 [00:00<?, ?chunk/s]"
     ]
    },
    {
     "name": "stderr",
     "output_type": "stream",
     "text": [
      "Processing: 100%|██████████| 900/900 [3:51:25<00:00, 15.43s/chunk]  "
     ]
    },
    {
     "name": "stdout",
     "output_type": "stream",
     "text": [
      "Total time taken: 13885.66 seconds\n"
     ]
    },
    {
     "name": "stderr",
     "output_type": "stream",
     "text": [
      "\n"
     ]
    }
   ],
   "source": [
    "# Process each chunk and get results using the OpenAI API\n",
    "response = get_responses(chunks, prompt, model, sample_size, delay)"
   ]
  },
  {
   "cell_type": "code",
   "execution_count": 13,
   "metadata": {},
   "outputs": [
    {
     "name": "stdout",
     "output_type": "stream",
     "text": [
      "File saved successfully.\n"
     ]
    }
   ],
   "source": [
    "# Define filepath\n",
    "file_path = '../../../data/response/nl/gpt-3.5-turbo-0125/f7.json'\n",
    "\n",
    "# Check if the file already exists\n",
    "if not os.path.exists(file_path):\n",
    "    with open(file_path, 'w') as f:\n",
    "        json.dump(response, f)\n",
    "        print(\"File saved successfully.\")\n",
    "else:\n",
    "    print(\"File already exists. JSON was not saved to prevent overwriting.\")"
   ]
  },
  {
   "cell_type": "code",
   "execution_count": 14,
   "metadata": {},
   "outputs": [
    {
     "name": "stdout",
     "output_type": "stream",
     "text": [
      "{}\n"
     ]
    }
   ],
   "source": [
    "# Extract data with regular expressions into dictionary\n",
    "data_dict = process_responses(response)\n",
    "\n",
    "# Check for values higher/lower then sample size\n",
    "higher_lower_samples = {key: value for key, value in data_dict.items() if len(value) < sample_size or len(value) > sample_size}\n",
    "print(higher_lower_samples)"
   ]
  },
  {
   "cell_type": "code",
   "execution_count": 15,
   "metadata": {},
   "outputs": [
    {
     "name": "stdout",
     "output_type": "stream",
     "text": [
      "Empty DataFrame\n",
      "Columns: [Combined_Columns]\n",
      "Index: []\n",
      "Empty DataFrame\n",
      "Columns: [Combined_Columns]\n",
      "Index: []\n"
     ]
    }
   ],
   "source": [
    "# Process data and print duplicate word pairs\n",
    "print_duplicate_word_pairs(cleaned_nl_simlex, data_dict)"
   ]
  },
  {
   "cell_type": "code",
   "execution_count": 16,
   "metadata": {},
   "outputs": [
    {
     "data": {
      "text/html": [
       "<div>\n",
       "<style scoped>\n",
       "    .dataframe tbody tr th:only-of-type {\n",
       "        vertical-align: middle;\n",
       "    }\n",
       "\n",
       "    .dataframe tbody tr th {\n",
       "        vertical-align: top;\n",
       "    }\n",
       "\n",
       "    .dataframe thead th {\n",
       "        text-align: right;\n",
       "    }\n",
       "</style>\n",
       "<table border=\"1\" class=\"dataframe\">\n",
       "  <thead>\n",
       "    <tr style=\"text-align: right;\">\n",
       "      <th></th>\n",
       "      <th>word1</th>\n",
       "      <th>word2</th>\n",
       "      <th>similarity_score_1</th>\n",
       "      <th>similarity_score_2</th>\n",
       "      <th>similarity_score_3</th>\n",
       "      <th>similarity_score_4</th>\n",
       "      <th>similarity_score_5</th>\n",
       "      <th>similarity_score_6</th>\n",
       "      <th>similarity_score_7</th>\n",
       "      <th>similarity_score_8</th>\n",
       "      <th>similarity_score_9</th>\n",
       "      <th>similarity_score_10</th>\n",
       "      <th>similarity_score_11</th>\n",
       "      <th>similarity_score_12</th>\n",
       "      <th>similarity_score_13</th>\n",
       "      <th>similarity_score_14</th>\n",
       "      <th>similarity_score_15</th>\n",
       "    </tr>\n",
       "  </thead>\n",
       "  <tbody>\n",
       "    <tr>\n",
       "      <th>0</th>\n",
       "      <td>oud</td>\n",
       "      <td>nieuw</td>\n",
       "      <td>1.0</td>\n",
       "      <td>0.1</td>\n",
       "      <td>1.0</td>\n",
       "      <td>0.10</td>\n",
       "      <td>1.0</td>\n",
       "      <td>1.00</td>\n",
       "      <td>2.00</td>\n",
       "      <td>0.1</td>\n",
       "      <td>2.00</td>\n",
       "      <td>2.00</td>\n",
       "      <td>0.10</td>\n",
       "      <td>0.1</td>\n",
       "      <td>0.10</td>\n",
       "      <td>0.2</td>\n",
       "      <td>1.00</td>\n",
       "    </tr>\n",
       "    <tr>\n",
       "      <th>1</th>\n",
       "      <td>slim</td>\n",
       "      <td>intelligent</td>\n",
       "      <td>1.0</td>\n",
       "      <td>0.9</td>\n",
       "      <td>0.8</td>\n",
       "      <td>0.95</td>\n",
       "      <td>0.9</td>\n",
       "      <td>0.90</td>\n",
       "      <td>8.00</td>\n",
       "      <td>0.9</td>\n",
       "      <td>7.00</td>\n",
       "      <td>8.00</td>\n",
       "      <td>0.90</td>\n",
       "      <td>0.9</td>\n",
       "      <td>0.95</td>\n",
       "      <td>0.9</td>\n",
       "      <td>0.90</td>\n",
       "    </tr>\n",
       "    <tr>\n",
       "      <th>2</th>\n",
       "      <td>hard</td>\n",
       "      <td>moeilijk</td>\n",
       "      <td>0.0</td>\n",
       "      <td>0.2</td>\n",
       "      <td>0.2</td>\n",
       "      <td>0.30</td>\n",
       "      <td>0.2</td>\n",
       "      <td>0.20</td>\n",
       "      <td>4.00</td>\n",
       "      <td>0.2</td>\n",
       "      <td>2.00</td>\n",
       "      <td>3.00</td>\n",
       "      <td>0.20</td>\n",
       "      <td>0.2</td>\n",
       "      <td>0.20</td>\n",
       "      <td>0.4</td>\n",
       "      <td>0.30</td>\n",
       "    </tr>\n",
       "    <tr>\n",
       "      <th>3</th>\n",
       "      <td>gelukkig</td>\n",
       "      <td>vrolijk</td>\n",
       "      <td>0.5</td>\n",
       "      <td>0.8</td>\n",
       "      <td>0.6</td>\n",
       "      <td>0.80</td>\n",
       "      <td>0.8</td>\n",
       "      <td>0.70</td>\n",
       "      <td>6.00</td>\n",
       "      <td>0.8</td>\n",
       "      <td>6.50</td>\n",
       "      <td>8.00</td>\n",
       "      <td>0.70</td>\n",
       "      <td>0.7</td>\n",
       "      <td>0.80</td>\n",
       "      <td>0.8</td>\n",
       "      <td>0.80</td>\n",
       "    </tr>\n",
       "    <tr>\n",
       "      <th>4</th>\n",
       "      <td>hard</td>\n",
       "      <td>stoer</td>\n",
       "      <td>0.2</td>\n",
       "      <td>0.5</td>\n",
       "      <td>0.3</td>\n",
       "      <td>0.50</td>\n",
       "      <td>0.4</td>\n",
       "      <td>0.40</td>\n",
       "      <td>4.00</td>\n",
       "      <td>0.5</td>\n",
       "      <td>4.00</td>\n",
       "      <td>4.00</td>\n",
       "      <td>0.50</td>\n",
       "      <td>0.4</td>\n",
       "      <td>0.60</td>\n",
       "      <td>0.6</td>\n",
       "      <td>0.50</td>\n",
       "    </tr>\n",
       "    <tr>\n",
       "      <th>...</th>\n",
       "      <td>...</td>\n",
       "      <td>...</td>\n",
       "      <td>...</td>\n",
       "      <td>...</td>\n",
       "      <td>...</td>\n",
       "      <td>...</td>\n",
       "      <td>...</td>\n",
       "      <td>...</td>\n",
       "      <td>...</td>\n",
       "      <td>...</td>\n",
       "      <td>...</td>\n",
       "      <td>...</td>\n",
       "      <td>...</td>\n",
       "      <td>...</td>\n",
       "      <td>...</td>\n",
       "      <td>...</td>\n",
       "      <td>...</td>\n",
       "    </tr>\n",
       "    <tr>\n",
       "      <th>992</th>\n",
       "      <td>samenvoegen</td>\n",
       "      <td>verwerven</td>\n",
       "      <td>0.0</td>\n",
       "      <td>1.0</td>\n",
       "      <td>2.0</td>\n",
       "      <td>0.10</td>\n",
       "      <td>0.1</td>\n",
       "      <td>0.05</td>\n",
       "      <td>0.20</td>\n",
       "      <td>1.0</td>\n",
       "      <td>0.05</td>\n",
       "      <td>0.10</td>\n",
       "      <td>0.10</td>\n",
       "      <td>0.2</td>\n",
       "      <td>0.20</td>\n",
       "      <td>1.0</td>\n",
       "      <td>0.30</td>\n",
       "    </tr>\n",
       "    <tr>\n",
       "      <th>993</th>\n",
       "      <td>sturen</td>\n",
       "      <td>bijwonen</td>\n",
       "      <td>0.0</td>\n",
       "      <td>1.0</td>\n",
       "      <td>1.0</td>\n",
       "      <td>0.10</td>\n",
       "      <td>0.2</td>\n",
       "      <td>0.10</td>\n",
       "      <td>0.05</td>\n",
       "      <td>1.0</td>\n",
       "      <td>0.05</td>\n",
       "      <td>0.10</td>\n",
       "      <td>0.05</td>\n",
       "      <td>0.1</td>\n",
       "      <td>0.10</td>\n",
       "      <td>1.0</td>\n",
       "      <td>0.05</td>\n",
       "    </tr>\n",
       "    <tr>\n",
       "      <th>994</th>\n",
       "      <td>verzamelen</td>\n",
       "      <td>bijwonen</td>\n",
       "      <td>0.0</td>\n",
       "      <td>2.0</td>\n",
       "      <td>2.0</td>\n",
       "      <td>0.20</td>\n",
       "      <td>0.2</td>\n",
       "      <td>0.20</td>\n",
       "      <td>0.10</td>\n",
       "      <td>2.0</td>\n",
       "      <td>0.05</td>\n",
       "      <td>0.10</td>\n",
       "      <td>0.10</td>\n",
       "      <td>0.3</td>\n",
       "      <td>0.20</td>\n",
       "      <td>1.0</td>\n",
       "      <td>0.10</td>\n",
       "    </tr>\n",
       "    <tr>\n",
       "      <th>995</th>\n",
       "      <td>opnemen</td>\n",
       "      <td>intrekken</td>\n",
       "      <td>0.0</td>\n",
       "      <td>1.0</td>\n",
       "      <td>1.0</td>\n",
       "      <td>0.10</td>\n",
       "      <td>0.2</td>\n",
       "      <td>0.10</td>\n",
       "      <td>0.20</td>\n",
       "      <td>1.0</td>\n",
       "      <td>0.10</td>\n",
       "      <td>0.05</td>\n",
       "      <td>0.10</td>\n",
       "      <td>0.2</td>\n",
       "      <td>0.10</td>\n",
       "      <td>1.0</td>\n",
       "      <td>0.10</td>\n",
       "    </tr>\n",
       "    <tr>\n",
       "      <th>996</th>\n",
       "      <td>bijwonen</td>\n",
       "      <td>aankomen</td>\n",
       "      <td>0.0</td>\n",
       "      <td>1.0</td>\n",
       "      <td>2.0</td>\n",
       "      <td>0.10</td>\n",
       "      <td>0.1</td>\n",
       "      <td>0.15</td>\n",
       "      <td>0.10</td>\n",
       "      <td>1.0</td>\n",
       "      <td>0.05</td>\n",
       "      <td>0.10</td>\n",
       "      <td>0.05</td>\n",
       "      <td>0.2</td>\n",
       "      <td>0.10</td>\n",
       "      <td>1.0</td>\n",
       "      <td>0.10</td>\n",
       "    </tr>\n",
       "  </tbody>\n",
       "</table>\n",
       "<p>997 rows × 17 columns</p>\n",
       "</div>"
      ],
      "text/plain": [
       "           word1        word2  similarity_score_1  similarity_score_2  \\\n",
       "0            oud        nieuw                 1.0                 0.1   \n",
       "1           slim  intelligent                 1.0                 0.9   \n",
       "2           hard     moeilijk                 0.0                 0.2   \n",
       "3       gelukkig      vrolijk                 0.5                 0.8   \n",
       "4           hard        stoer                 0.2                 0.5   \n",
       "..           ...          ...                 ...                 ...   \n",
       "992  samenvoegen    verwerven                 0.0                 1.0   \n",
       "993       sturen     bijwonen                 0.0                 1.0   \n",
       "994   verzamelen     bijwonen                 0.0                 2.0   \n",
       "995      opnemen    intrekken                 0.0                 1.0   \n",
       "996     bijwonen     aankomen                 0.0                 1.0   \n",
       "\n",
       "     similarity_score_3  similarity_score_4  similarity_score_5  \\\n",
       "0                   1.0                0.10                 1.0   \n",
       "1                   0.8                0.95                 0.9   \n",
       "2                   0.2                0.30                 0.2   \n",
       "3                   0.6                0.80                 0.8   \n",
       "4                   0.3                0.50                 0.4   \n",
       "..                  ...                 ...                 ...   \n",
       "992                 2.0                0.10                 0.1   \n",
       "993                 1.0                0.10                 0.2   \n",
       "994                 2.0                0.20                 0.2   \n",
       "995                 1.0                0.10                 0.2   \n",
       "996                 2.0                0.10                 0.1   \n",
       "\n",
       "     similarity_score_6  similarity_score_7  similarity_score_8  \\\n",
       "0                  1.00                2.00                 0.1   \n",
       "1                  0.90                8.00                 0.9   \n",
       "2                  0.20                4.00                 0.2   \n",
       "3                  0.70                6.00                 0.8   \n",
       "4                  0.40                4.00                 0.5   \n",
       "..                  ...                 ...                 ...   \n",
       "992                0.05                0.20                 1.0   \n",
       "993                0.10                0.05                 1.0   \n",
       "994                0.20                0.10                 2.0   \n",
       "995                0.10                0.20                 1.0   \n",
       "996                0.15                0.10                 1.0   \n",
       "\n",
       "     similarity_score_9  similarity_score_10  similarity_score_11  \\\n",
       "0                  2.00                 2.00                 0.10   \n",
       "1                  7.00                 8.00                 0.90   \n",
       "2                  2.00                 3.00                 0.20   \n",
       "3                  6.50                 8.00                 0.70   \n",
       "4                  4.00                 4.00                 0.50   \n",
       "..                  ...                  ...                  ...   \n",
       "992                0.05                 0.10                 0.10   \n",
       "993                0.05                 0.10                 0.05   \n",
       "994                0.05                 0.10                 0.10   \n",
       "995                0.10                 0.05                 0.10   \n",
       "996                0.05                 0.10                 0.05   \n",
       "\n",
       "     similarity_score_12  similarity_score_13  similarity_score_14  \\\n",
       "0                    0.1                 0.10                  0.2   \n",
       "1                    0.9                 0.95                  0.9   \n",
       "2                    0.2                 0.20                  0.4   \n",
       "3                    0.7                 0.80                  0.8   \n",
       "4                    0.4                 0.60                  0.6   \n",
       "..                   ...                  ...                  ...   \n",
       "992                  0.2                 0.20                  1.0   \n",
       "993                  0.1                 0.10                  1.0   \n",
       "994                  0.3                 0.20                  1.0   \n",
       "995                  0.2                 0.10                  1.0   \n",
       "996                  0.2                 0.10                  1.0   \n",
       "\n",
       "     similarity_score_15  \n",
       "0                   1.00  \n",
       "1                   0.90  \n",
       "2                   0.30  \n",
       "3                   0.80  \n",
       "4                   0.50  \n",
       "..                   ...  \n",
       "992                 0.30  \n",
       "993                 0.05  \n",
       "994                 0.10  \n",
       "995                 0.10  \n",
       "996                 0.10  \n",
       "\n",
       "[997 rows x 17 columns]"
      ]
     },
     "execution_count": 16,
     "metadata": {},
     "output_type": "execute_result"
    }
   ],
   "source": [
    "# Convert dict to Pandas DataFrame\n",
    "df = create_dataframe(data_dict)\n",
    "\n",
    "# Show results\n",
    "df"
   ]
  },
  {
   "cell_type": "code",
   "execution_count": 17,
   "metadata": {},
   "outputs": [
    {
     "name": "stdout",
     "output_type": "stream",
     "text": [
      "Null value counts per column: word1                  0\n",
      "word2                  0\n",
      "similarity_score_1     0\n",
      "similarity_score_2     0\n",
      "similarity_score_3     0\n",
      "similarity_score_4     0\n",
      "similarity_score_5     0\n",
      "similarity_score_6     0\n",
      "similarity_score_7     0\n",
      "similarity_score_8     0\n",
      "similarity_score_9     0\n",
      "similarity_score_10    0\n",
      "similarity_score_11    0\n",
      "similarity_score_12    0\n",
      "similarity_score_13    0\n",
      "similarity_score_14    0\n",
      "similarity_score_15    0\n",
      "dtype: int64\n"
     ]
    }
   ],
   "source": [
    "# Count null values\n",
    "count_null_values = df.isnull().sum()\n",
    "print(\"Null value counts per column:\", count_null_values)"
   ]
  },
  {
   "cell_type": "code",
   "execution_count": 18,
   "metadata": {},
   "outputs": [
    {
     "data": {
      "text/html": [
       "<div>\n",
       "<style scoped>\n",
       "    .dataframe tbody tr th:only-of-type {\n",
       "        vertical-align: middle;\n",
       "    }\n",
       "\n",
       "    .dataframe tbody tr th {\n",
       "        vertical-align: top;\n",
       "    }\n",
       "\n",
       "    .dataframe thead th {\n",
       "        text-align: right;\n",
       "    }\n",
       "</style>\n",
       "<table border=\"1\" class=\"dataframe\">\n",
       "  <thead>\n",
       "    <tr style=\"text-align: right;\">\n",
       "      <th></th>\n",
       "      <th>word1</th>\n",
       "      <th>word2</th>\n",
       "      <th>similarity_score_1</th>\n",
       "      <th>similarity_score_2</th>\n",
       "      <th>similarity_score_3</th>\n",
       "      <th>similarity_score_4</th>\n",
       "      <th>similarity_score_5</th>\n",
       "      <th>similarity_score_6</th>\n",
       "      <th>similarity_score_7</th>\n",
       "      <th>similarity_score_8</th>\n",
       "      <th>similarity_score_9</th>\n",
       "      <th>similarity_score_10</th>\n",
       "      <th>similarity_score_11</th>\n",
       "      <th>similarity_score_12</th>\n",
       "      <th>similarity_score_13</th>\n",
       "      <th>similarity_score_14</th>\n",
       "      <th>similarity_score_15</th>\n",
       "    </tr>\n",
       "  </thead>\n",
       "  <tbody>\n",
       "  </tbody>\n",
       "</table>\n",
       "</div>"
      ],
      "text/plain": [
       "Empty DataFrame\n",
       "Columns: [word1, word2, similarity_score_1, similarity_score_2, similarity_score_3, similarity_score_4, similarity_score_5, similarity_score_6, similarity_score_7, similarity_score_8, similarity_score_9, similarity_score_10, similarity_score_11, similarity_score_12, similarity_score_13, similarity_score_14, similarity_score_15]\n",
       "Index: []"
      ]
     },
     "execution_count": 18,
     "metadata": {},
     "output_type": "execute_result"
    }
   ],
   "source": [
    "# Check for rows with at least one null value\n",
    "rows_with_null = df[df.isnull().any(axis=1)]\n",
    "rows_with_null"
   ]
  },
  {
   "cell_type": "code",
   "execution_count": 19,
   "metadata": {},
   "outputs": [
    {
     "name": "stdout",
     "output_type": "stream",
     "text": [
      "File saved successfully.\n"
     ]
    }
   ],
   "source": [
    "# Define file_path\n",
    "file_path = '../../../data/prompt/nl/gpt-3.5-turbo-0125/f7.csv'\n",
    "\n",
    "# Check if the file already exists\n",
    "if not os.path.exists(file_path):\n",
    "    df.to_csv(file_path, index=False)\n",
    "    print(\"File saved successfully.\")\n",
    "else:\n",
    "    print(\"File already exists. Dataframe was not saved to prevent overwriting.\")"
   ]
  },
  {
   "cell_type": "code",
   "execution_count": null,
   "metadata": {},
   "outputs": [],
   "source": []
  }
 ],
 "metadata": {
  "kernelspec": {
   "display_name": "base",
   "language": "python",
   "name": "python3"
  },
  "language_info": {
   "codemirror_mode": {
    "name": "ipython",
    "version": 3
   },
   "file_extension": ".py",
   "mimetype": "text/x-python",
   "name": "python",
   "nbconvert_exporter": "python",
   "pygments_lexer": "ipython3",
   "version": "3.8.8"
  }
 },
 "nbformat": 4,
 "nbformat_minor": 2
}
