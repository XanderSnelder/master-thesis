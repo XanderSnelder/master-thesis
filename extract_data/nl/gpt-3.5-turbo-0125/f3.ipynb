{
 "cells": [
  {
   "cell_type": "markdown",
   "metadata": {},
   "source": [
    "### **0. Set-up**"
   ]
  },
  {
   "cell_type": "code",
   "execution_count": 1,
   "metadata": {},
   "outputs": [],
   "source": [
    "# Import libraries and utils\n",
    "%run '../../utils.ipynb'"
   ]
  },
  {
   "cell_type": "code",
   "execution_count": 2,
   "metadata": {},
   "outputs": [],
   "source": [
    "#  Get api key\n",
    "load_dotenv()\n",
    "OPENAI_API_KEY = os.getenv('OPENAI_API_KEY')\n",
    "\n",
    "# Set client\n",
    "client = OpenAI()"
   ]
  },
  {
   "cell_type": "code",
   "execution_count": 3,
   "metadata": {},
   "outputs": [],
   "source": [
    "# Load dataframe\n",
    "cleaned_nl_simlex = pd.read_csv(\"../../../data/dataset/cleaned-nl-simlex-999.csv\")\n",
    "\n",
    "# Remove first three word pairs\n",
    "cleaned_nl_simlex = cleaned_nl_simlex.iloc[3:]\n",
    "\n",
    "# Select subset\n",
    "# cleaned_nl_simlex = cleaned_nl_simlex.head(160)\n",
    "\n",
    "# Convert to tuple\n",
    "tuples_list = list(zip(cleaned_nl_simlex['word1'], cleaned_nl_simlex['word2']))"
   ]
  },
  {
   "cell_type": "code",
   "execution_count": 4,
   "metadata": {},
   "outputs": [
    {
     "data": {
      "text/html": [
       "<div>\n",
       "<style scoped>\n",
       "    .dataframe tbody tr th:only-of-type {\n",
       "        vertical-align: middle;\n",
       "    }\n",
       "\n",
       "    .dataframe tbody tr th {\n",
       "        vertical-align: top;\n",
       "    }\n",
       "\n",
       "    .dataframe thead th {\n",
       "        text-align: right;\n",
       "    }\n",
       "</style>\n",
       "<table border=\"1\" class=\"dataframe\">\n",
       "  <thead>\n",
       "    <tr style=\"text-align: right;\">\n",
       "      <th></th>\n",
       "      <th>word1</th>\n",
       "      <th>word2</th>\n",
       "      <th>SimLex999</th>\n",
       "      <th>POS</th>\n",
       "    </tr>\n",
       "  </thead>\n",
       "  <tbody>\n",
       "    <tr>\n",
       "      <th>3</th>\n",
       "      <td>gelukkig</td>\n",
       "      <td>vrolijk</td>\n",
       "      <td>6.49</td>\n",
       "      <td>A</td>\n",
       "    </tr>\n",
       "    <tr>\n",
       "      <th>4</th>\n",
       "      <td>hard</td>\n",
       "      <td>stoer</td>\n",
       "      <td>5.69</td>\n",
       "      <td>A</td>\n",
       "    </tr>\n",
       "    <tr>\n",
       "      <th>5</th>\n",
       "      <td>snel</td>\n",
       "      <td>razendsnel</td>\n",
       "      <td>7.18</td>\n",
       "      <td>A</td>\n",
       "    </tr>\n",
       "    <tr>\n",
       "      <th>6</th>\n",
       "      <td>gelukkig</td>\n",
       "      <td>blij</td>\n",
       "      <td>7.09</td>\n",
       "      <td>A</td>\n",
       "    </tr>\n",
       "    <tr>\n",
       "      <th>7</th>\n",
       "      <td>kort</td>\n",
       "      <td>lang</td>\n",
       "      <td>1.78</td>\n",
       "      <td>A</td>\n",
       "    </tr>\n",
       "    <tr>\n",
       "      <th>...</th>\n",
       "      <td>...</td>\n",
       "      <td>...</td>\n",
       "      <td>...</td>\n",
       "      <td>...</td>\n",
       "    </tr>\n",
       "    <tr>\n",
       "      <th>992</th>\n",
       "      <td>samenvoegen</td>\n",
       "      <td>verwerven</td>\n",
       "      <td>3.89</td>\n",
       "      <td>V</td>\n",
       "    </tr>\n",
       "    <tr>\n",
       "      <th>993</th>\n",
       "      <td>sturen</td>\n",
       "      <td>bijwonen</td>\n",
       "      <td>1.85</td>\n",
       "      <td>V</td>\n",
       "    </tr>\n",
       "    <tr>\n",
       "      <th>994</th>\n",
       "      <td>verzamelen</td>\n",
       "      <td>bijwonen</td>\n",
       "      <td>1.06</td>\n",
       "      <td>V</td>\n",
       "    </tr>\n",
       "    <tr>\n",
       "      <th>995</th>\n",
       "      <td>opnemen</td>\n",
       "      <td>intrekken</td>\n",
       "      <td>2.29</td>\n",
       "      <td>V</td>\n",
       "    </tr>\n",
       "    <tr>\n",
       "      <th>996</th>\n",
       "      <td>bijwonen</td>\n",
       "      <td>aankomen</td>\n",
       "      <td>1.32</td>\n",
       "      <td>V</td>\n",
       "    </tr>\n",
       "  </tbody>\n",
       "</table>\n",
       "<p>994 rows × 4 columns</p>\n",
       "</div>"
      ],
      "text/plain": [
       "           word1       word2  SimLex999 POS\n",
       "3       gelukkig     vrolijk       6.49   A\n",
       "4           hard       stoer       5.69   A\n",
       "5           snel  razendsnel       7.18   A\n",
       "6       gelukkig        blij       7.09   A\n",
       "7           kort        lang       1.78   A\n",
       "..           ...         ...        ...  ..\n",
       "992  samenvoegen   verwerven       3.89   V\n",
       "993       sturen    bijwonen       1.85   V\n",
       "994   verzamelen    bijwonen       1.06   V\n",
       "995      opnemen   intrekken       2.29   V\n",
       "996     bijwonen    aankomen       1.32   V\n",
       "\n",
       "[994 rows x 4 columns]"
      ]
     },
     "execution_count": 4,
     "metadata": {},
     "output_type": "execute_result"
    }
   ],
   "source": [
    "# Show results\n",
    "cleaned_nl_simlex"
   ]
  },
  {
   "cell_type": "markdown",
   "metadata": {},
   "source": [
    "### **1. Define and Evaluate Parameters**"
   ]
  },
  {
   "cell_type": "code",
   "execution_count": 5,
   "metadata": {},
   "outputs": [],
   "source": [
    "# Define the prompt\n",
    "prompt = (\"Beoordeel de semantische gelijkenis van elk woordpaar op een schaal van 0 tot 10, \"\n",
    "          \"waarbij 0 geen semantische gelijkenis vertegenwoordigt, en 10 perfecte semantische gelijkenis. \"\n",
    "          \"Gebruik twee decimalen. Het antwoord moet strikt voldoen aan de structuur: \"\n",
    "          \"[(woord1, woord2, <score>), (woord3, woord4, <score>),] \"\n",
    "          \" Geef geen extra uitleg of context.\"\n",
    "          \" Voorbeelden van woordparen en hun semantische gelijkenisscore zijn: [('oud', 'nieuw', 1.94), ('slim', 'intelligent', 8.19), ('hard', 'moeilijk', 4.46)].\")"
   ]
  },
  {
   "cell_type": "code",
   "execution_count": 6,
   "metadata": {},
   "outputs": [],
   "source": [
    "# Define model\n",
    "model = \"gpt-3.5-turbo-0125\"\n",
    "\n",
    "# Set sample size\n",
    "sample_size = 15\n",
    "\n",
    "# Delay between individual API calls\n",
    "delay = 15.0\n",
    "\n",
    "# Define number of sublists\n",
    "n_sublists = 27"
   ]
  },
  {
   "cell_type": "code",
   "execution_count": 29,
   "metadata": {},
   "outputs": [
    {
     "name": "stdout",
     "output_type": "stream",
     "text": [
      "27\n"
     ]
    }
   ],
   "source": [
    "# Split the list\n",
    "chunks = split_into_n_lists(tuples_list, n_sublists)\n",
    "\n",
    "# Count the number of lists\n",
    "print(len(chunks))"
   ]
  },
  {
   "cell_type": "code",
   "execution_count": 30,
   "metadata": {},
   "outputs": [],
   "source": [
    "# chunks = [\n",
    "# [('oud', 'nieuw'),\n",
    "#  ('slim', 'intelligent'),\n",
    "#  ('hard', 'moeilijk'),],\n",
    "\n",
    "# [('slecht', 'vreselijk'),\n",
    "#  ('moeilijk', 'gemakkelijk'),\n",
    "#  ('slim', 'dom'),],\n",
    "  \n",
    "# [('gelukkig', 'vrolijk'),\n",
    "#   ('hard', 'stoer'),\n",
    "#   ('gelukkig', 'blij'),],\n",
    "# ]"
   ]
  },
  {
   "cell_type": "code",
   "execution_count": 31,
   "metadata": {},
   "outputs": [],
   "source": [
    "# Set the size of chunks\n",
    "# chunk_size = 90\n",
    "\n",
    "# Chunk the data\n",
    "# chunks = chunk_data(tuples_list, chunk_size)\n",
    "\n",
    "# Count chunks\n",
    "# print(\"Count of chunks:\", len(chunks))"
   ]
  },
  {
   "cell_type": "code",
   "execution_count": 32,
   "metadata": {},
   "outputs": [
    {
     "name": "stdout",
     "output_type": "stream",
     "text": [
      "Beoordeel de semantische gelijkenis van elk woordpaar met een score op een schaal van 0 tot 10, waarbij 0 geen semantische gelijkenis vertegenwoordigt, en 10 perfecte semantische gelijkenis. Gebruik twee decimalen. Het antwoord moet strikt voldoen aan de structuur: [(woord1, woord2, <score>), (woord3, woord4, <score>),]  Geef geen extra uitleg of context. Voorbeelden van woordparen en hun semantische gelijkenisscore zijn: [(oud, nieuw, 1.94), (slim, intelligent, 8.19), (hard, moeilijk, 4.46)]. --- ('gelukkig', 'vrolijk'), ('hard', 'stoer'), ('snel', 'razendsnel'), ('gelukkig', 'blij'), ('kort', 'lang'), ('dom', 'stom'), ('vreemd', 'eigenaardig'), ('breed', 'smal'), ('makkelijk', 'moeilijk'), ('moeilijk', 'gemakkelijk'), ('slim', 'dom'), ('krankzinnig', 'gek'), ('gelukkig', 'kwaad'), ('uitgebreid', 'groot'), ('moeilijk', 'simpel'), ('nieuw', 'vers'), ('scherp', 'saai'), ('vlug', 'snel'), ('dom', 'dwaas'), ('prachtig', 'fantastisch'), ('eigenaardig', 'vreemd'), ('gelukkig', 'boos'), ('smal', 'breed'), ('eenvoudig', 'gemakkelijk'), ('oud', 'vers'), ('kennelijk', 'duidelijk'), ('betaalbaar', 'goedkoop'), ('leuk', 'grootmoedig'), ('raar', 'vreemd'), ('vreemd', 'normaal'), ('slecht', 'immoreel'), ('verdrietig', 'grappig'), ('prachtig', 'geweldig'), ('schuldig', 'beschaamd'), ('mooi', 'prachtig'), ('zelfverzekerd', 'zeker'), ('dom', 'onderontwikkeld')\n",
      "Beoordeel de semantische gelijkenis van elk woordpaar met een score op een schaal van 0 tot 10, waarbij 0 geen semantische gelijkenis vertegenwoordigt, en 10 perfecte semantische gelijkenis. Gebruik twee decimalen. Het antwoord moet strikt voldoen aan de structuur: [(woord1, woord2, <score>), (woord3, woord4, <score>),]  Geef geen extra uitleg of context. Voorbeelden van woordparen en hun semantische gelijkenisscore zijn: [(oud, nieuw, 1.94), (slim, intelligent, 8.19), (hard, moeilijk, 4.46)]. --- ('groot', 'flexibel'), ('aardig', 'wreed'), ('ongeduldig', 'nerveus'), ('groot', 'breed'), ('sterk', 'trots'), ('onnodig', 'noodzakelijk'), ('onrustig', 'jong'), ('dom', 'intelligent'), ('slecht', 'geweldig'), ('moeilijk', 'eenvoudig'), ('noodzakelijk', 'belangrijk'), ('slecht', 'verschrikkelijk'), ('boos', 'blij'), ('eerlijk', 'schuldig'), ('makkelijk', 'zwaar'), ('makkelijk', 'flexibel'), ('stellig', 'zeker'), ('essentieel', 'noodzakelijk'), ('anders', 'normaal'), ('sluw', 'slim'), ('cruciaal', 'belangrijk'), ('hard', 'wreed'), ('kinderachtig', 'dwaas'), ('zelden', 'zeldzaam'), ('vriendelijk', 'vrijgevig'), ('breekbaar', 'kil'), ('lang', 'smal'), ('groot', 'zwaar'), ('ruw', 'koel'), ('bizar', 'vreemd'), ('illegaal', 'immoreel'), ('slecht', 'schuldig'), ('modern', 'oud'), ('nieuw', 'oud'), ('saai', 'grappig'), ('gelukkig', 'jong'), ('makkelijk', 'groot')\n",
      "Beoordeel de semantische gelijkenis van elk woordpaar met een score op een schaal van 0 tot 10, waarbij 0 geen semantische gelijkenis vertegenwoordigt, en 10 perfecte semantische gelijkenis. Gebruik twee decimalen. Het antwoord moet strikt voldoen aan de structuur: [(woord1, woord2, <score>), (woord3, woord4, <score>),]  Geef geen extra uitleg of context. Voorbeelden van woordparen en hun semantische gelijkenisscore zijn: [(oud, nieuw, 1.94), (slim, intelligent, 8.19), (hard, moeilijk, 4.46)]. --- ('geweldig', 'vreselijk'), ('klein', 'enorm'), ('beleefd', 'gepast'), ('bescheiden', 'beschaamd'), ('exotisch', 'zeldzaam'), ('dom', 'slim'), ('heerlijk', 'prachtig'), ('opvallend', 'duidelijk'), ('angstig', 'bang'), ('formeel', 'juist'), ('somber', 'saai'), ('heerlijk', 'vrolijk'), ('ongelukkig', 'kwaad'), ('verdrietig', 'vreselijk'), ('ziek', 'gek'), ('gewelddadig', 'boos'), ('beladen', 'zwaar'), ('vuil', 'goedkoop'), ('elastisch', 'flexibel'), ('hard', 'dicht'), ('onlangs', 'nieuw'), ('brutaal', 'trots'), ('sluw', 'vreemd'), ('vreemd', 'sluw'), ('dom', 'zeldzaam'), ('sluw', 'koppig'), ('fantastisch', 'kwaad'), ('bescheiden', 'flexibel'), ('vers', 'breed'), ('enorm', 'sprakeloos'), ('groot', 'enorm'), ('vuil', 'smal'), ('echtgenote', 'echtgenoot'), ('boek', 'tekst'), ('bruidegom', 'bruid'), ('nacht', 'dag'), ('zuid', 'noord')\n",
      "Beoordeel de semantische gelijkenis van elk woordpaar met een score op een schaal van 0 tot 10, waarbij 0 geen semantische gelijkenis vertegenwoordigt, en 10 perfecte semantische gelijkenis. Gebruik twee decimalen. Het antwoord moet strikt voldoen aan de structuur: [(woord1, woord2, <score>), (woord3, woord4, <score>),]  Geef geen extra uitleg of context. Voorbeelden van woordparen en hun semantische gelijkenisscore zijn: [(oud, nieuw, 1.94), (slim, intelligent, 8.19), (hard, moeilijk, 4.46)]. --- ('vliegtuig', 'luchthaven'), ('oom', 'tante'), ('paard', 'merrie'), ('onderkant', 'bovenkant'), ('vriend', 'maat'), ('student', 'leerling'), ('wereld', 'wereldbol'), ('been', 'arm'), ('vliegtuig', 'straalvliegtuig'), ('vrouw', 'man'), ('paard', 'veulen'), ('actrice', 'acteur'), ('leraar', 'instructeur'), ('film', 'filmrol'), ('vogel', 'havik'), ('woord', 'woordenboek'), ('geld', 'salaris'), ('hond', 'kat'), ('gebied', 'regio'), ('marine', 'leger'), ('boek', 'literatuur'), ('kleding', 'kast'), ('zonsondergang', 'zonsopgang'), ('kind', 'volwassen'), ('koe', 'vee'), ('boek', 'verhaal'), ('winter', 'zomer'), ('taxi', 'taxis'), ('boom', 'esdoorn'), ('bed', 'slaapkamer'), ('dak', 'plafond'), ('ziekte', 'infectie'), ('arm', 'schouder'), ('schaap', 'lam'), ('dame', 'meneer'), ('boot', 'anker'), ('priester', 'monnik')\n",
      "Beoordeel de semantische gelijkenis van elk woordpaar met een score op een schaal van 0 tot 10, waarbij 0 geen semantische gelijkenis vertegenwoordigt, en 10 perfecte semantische gelijkenis. Gebruik twee decimalen. Het antwoord moet strikt voldoen aan de structuur: [(woord1, woord2, <score>), (woord3, woord4, <score>),]  Geef geen extra uitleg of context. Voorbeelden van woordparen en hun semantische gelijkenisscore zijn: [(oud, nieuw, 1.94), (slim, intelligent, 8.19), (hard, moeilijk, 4.46)]. --- ('teen', 'vinger'), ('rivier', 'stroom'), ('boosheid', 'woede'), ('datum', 'kalender'), ('zee', 'oceaan'), ('seconde', 'minuut'), ('hand', 'duim'), ('hout', 'stam'), ('modder', 'vuil'), ('hal', 'gang'), ('weg', 'manier'), ('muis', 'kat'), ('politieagent', 'sheriff'), ('dood', 'begrafenis'), ('muziek', 'melodie'), ('bier', 'alcohol'), ('mond', 'lip'), ('storm', 'orkaan'), ('belasting', 'inkomen'), ('bloem', 'viooltjes'), ('papier', 'karton'), ('vloer', 'plafond'), ('strand', 'kust'), ('staaf', 'gordijn'), ('jachthond', 'vos'), ('straat', 'auto'), ('boot', 'dek'), ('auto', 'toeter'), ('vriend', 'gast'), ('werkgever', 'werknemer'), ('hand', 'pols'), ('bal', 'kostuum'), ('alcohol', 'brandewijn'), ('overwinning', 'zege'), ('telefoon', 'cel'), ('deur', 'ingang'), ('motel', 'herberg')\n",
      "Beoordeel de semantische gelijkenis van elk woordpaar met een score op een schaal van 0 tot 10, waarbij 0 geen semantische gelijkenis vertegenwoordigt, en 10 perfecte semantische gelijkenis. Gebruik twee decimalen. Het antwoord moet strikt voldoen aan de structuur: [(woord1, woord2, <score>), (woord3, woord4, <score>),]  Geef geen extra uitleg of context. Voorbeelden van woordparen en hun semantische gelijkenisscore zijn: [(oud, nieuw, 1.94), (slim, intelligent, 8.19), (hard, moeilijk, 4.46)]. --- ('kleding', 'stof'), ('steak', 'vlees'), ('nagel', 'duim'), ('muziekgroep', 'orkest'), ('boek', 'bijbel'), ('bedrijf', 'industrie'), ('winter', 'seizoen'), ('decennium', 'eeuw'), ('alcohol', 'jenever'), ('hoed', 'jas'), ('raam', 'deur'), ('arm', 'pols'), ('huis', 'appartement'), ('glas', 'kristal'), ('wijn', 'brandewijn'), ('maker', 'producent'), ('diner', 'ontbijt'), ('arm', 'spier'), ('bubbel', 'schuim'), ('brood', 'meel'), ('dood', 'tragedie'), ('afwezigheid', 'aanwezigheid'), ('pistool', 'kanon'), ('gras', 'stro'), ('bal', 'mand'), ('slang', 'tuin'), ('jongen', 'kind'), ('kerk', 'koor'), ('kleding', 'lade'), ('toren', 'bel'), ('vader', 'ouder'), ('school', 'cijfer'), ('ouder', 'volwassene'), ('balk', 'gevangenis'), ('auto', 'snelweg'), ('woordenboek', 'definitie'), ('deur', 'kelder')\n",
      "Beoordeel de semantische gelijkenis van elk woordpaar met een score op een schaal van 0 tot 10, waarbij 0 geen semantische gelijkenis vertegenwoordigt, en 10 perfecte semantische gelijkenis. Gebruik twee decimalen. Het antwoord moet strikt voldoen aan de structuur: [(woord1, woord2, <score>), (woord3, woord4, <score>),]  Geef geen extra uitleg of context. Voorbeelden van woordparen en hun semantische gelijkenisscore zijn: [(oud, nieuw, 1.94), (slim, intelligent, 8.19), (hard, moeilijk, 4.46)]. --- ('leger', 'legioen'), ('metaal', 'aluminium'), ('stoel', 'bank'), ('wolk', 'mist'), ('jongen', 'zoon'), ('water', 'ijs'), ('bed', 'deken'), ('officier van justitie', 'advocaat'), ('gebied', 'zone'), ('bedrijf', 'onderneming'), ('kleding', 'textiel'), ('trui', 'jas'), ('geld', 'vermogen'), ('hand', 'voet'), ('alcohol', 'cocktail'), ('decimeter', 'centimeter'), ('molecuul', 'atoom'), ('lens', 'camera'), ('maaltijd', 'diner'), ('oog', 'traan'), ('god', 'duivel'), ('lus', 'riem'), ('rat', 'muis'), ('motor', 'aandrijving'), ('auto', 'taxi'), ('kat', 'leeuw'), ('maat', 'omvang'), ('werkelijkheid', 'verbeelding'), ('deur', 'poort'), ('kat', 'huisdier'), ('blik', 'aluminium'), ('botten', 'kaak'), ('graan', 'tarwe'), ('huis', 'sleutel'), ('bloed', 'vlees'), ('deur', 'gang'), ('god', 'geest')\n",
      "Beoordeel de semantische gelijkenis van elk woordpaar met een score op een schaal van 0 tot 10, waarbij 0 geen semantische gelijkenis vertegenwoordigt, en 10 perfecte semantische gelijkenis. Gebruik twee decimalen. Het antwoord moet strikt voldoen aan de structuur: [(woord1, woord2, <score>), (woord3, woord4, <score>),]  Geef geen extra uitleg of context. Voorbeelden van woordparen en hun semantische gelijkenisscore zijn: [(oud, nieuw, 1.94), (slim, intelligent, 8.19), (hard, moeilijk, 4.46)]. --- ('vermogen', 'competentie'), ('uitbundigheid', 'overvloed'), ('bank', 'stoel'), ('muur', 'baksteen'), ('hoorn', 'trommel'), ('orgaan', 'lever'), ('kracht', 'macht'), ('zin', 'woord'), ('muziekgroep', 'parade'), ('buik', 'taille'), ('wolk', 'storm'), ('vreugde', 'trots'), ('lawaai', 'gerammel'), ('regen', 'mist'), ('bier', 'drank'), ('man', 'oom'), ('appel', 'sap'), ('intelligentie', 'logica'), ('communicatie', 'taal'), ('nerts', 'bont'), ('bende', 'menigte'), ('oever', 'kust'), ('pijpleiding', 'kabel'), ('vogel', 'kalkoen'), ('bed', 'wieg'), ('competentie', 'vermogen'), ('wolk', 'nevel'), ('avondeten', 'maaltijd'), ('balk', 'kooi'), ('water', 'zout'), ('gevoel', 'intuïtie'), ('situatie', 'omstandigheid'), ('misdaad', 'diefstal'), ('stijl', 'mode'), ('rand', 'grens'), ('arm', 'lichaam'), ('boot', 'auto')\n",
      "Beoordeel de semantische gelijkenis van elk woordpaar met een score op een schaal van 0 tot 10, waarbij 0 geen semantische gelijkenis vertegenwoordigt, en 10 perfecte semantische gelijkenis. Gebruik twee decimalen. Het antwoord moet strikt voldoen aan de structuur: [(woord1, woord2, <score>), (woord3, woord4, <score>),]  Geef geen extra uitleg of context. Voorbeelden van woordparen en hun semantische gelijkenisscore zijn: [(oud, nieuw, 1.94), (slim, intelligent, 8.19), (hard, moeilijk, 4.46)]. --- ('broodje', 'lunch'), ('bruid', 'prinses'), ('heldin', 'held'), ('auto', 'meter'), ('insect', 'bij'), ('kinderbed', 'wieg'), ('dier', 'persoon'), ('marihuana', 'kruid'), ('bed', 'ziekenhuis'), ('wang', 'tong'), ('cd', 'computer'), ('bocht', 'hoek'), ('gras', 'mos'), ('school', 'wet'), ('voet', 'hoofd'), ('moeder', 'beschermer'), ('orthodontist', 'tandarts'), ('alcohol', 'whisky'), ('mond', 'tand'), ('ontbijt', 'spek'), ('badkamer', 'slaapkamer'), ('bord', 'kom'), ('vlees', 'brood'), ('lucht', 'helium'), ('arbeider', 'werkgever'), ('lichaam', 'borst'), ('zoon', 'vader'), ('hart', 'operatie'), ('vrouw', 'secretaresse'), ('man', 'vader'), ('strand', 'eiland'), ('verhaal', 'onderwerp'), ('spel', 'plezier'), ('weekend', 'week'), ('koppel', 'paar'), ('vrouw', 'echtgenote'), ('schaap', 'vee')\n",
      "Beoordeel de semantische gelijkenis van elk woordpaar met een score op een schaal van 0 tot 10, waarbij 0 geen semantische gelijkenis vertegenwoordigt, en 10 perfecte semantische gelijkenis. Gebruik twee decimalen. Het antwoord moet strikt voldoen aan de structuur: [(woord1, woord2, <score>), (woord3, woord4, <score>),]  Geef geen extra uitleg of context. Voorbeelden van woordparen en hun semantische gelijkenisscore zijn: [(oud, nieuw, 1.94), (slim, intelligent, 8.19), (hard, moeilijk, 4.46)]. --- ('portemonnee', 'tas'), ('dak', 'kathedraal'), ('boon', 'koffie'), ('hout', 'papier'), ('bovenkant', 'zijkant'), ('misdaad', 'fraude'), ('pijn', 'schade'), ('minnaar', 'partner'), ('avond', 'schemering'), ('vader', 'dochter'), ('wijn', 'likeur'), ('koe', 'geit'), ('geloof', 'mening'), ('werkelijkheid', 'illusie'), ('overeenkomst', 'voorwaarde'), ('rijkdom', 'armoede'), ('ongeval', 'noodgeval'), ('strijd', 'verovering'), ('vriend', 'leraar'), ('ziekte', 'besmetting'), ('spel', 'truc'), ('broer', 'zoon'), ('tante', 'neef'), ('arbeider', 'monteur'), ('dokter', 'orthodontist'), ('eikenboom', 'esdoorn'), ('bij', 'koningin'), ('auto', 'fiets'), ('doelwit', 'zoektocht'), ('augustus', 'maand'), ('leger', 'ploeg'), ('wolk', 'weer'), ('arts', 'dokter'), ('ravijn', 'vallei'), ('rivier', 'vallei'), ('zon', 'lucht'), ('doel', 'pijl')\n",
      "Beoordeel de semantische gelijkenis van elk woordpaar met een score op een schaal van 0 tot 10, waarbij 0 geen semantische gelijkenis vertegenwoordigt, en 10 perfecte semantische gelijkenis. Gebruik twee decimalen. Het antwoord moet strikt voldoen aan de structuur: [(woord1, woord2, <score>), (woord3, woord4, <score>),]  Geef geen extra uitleg of context. Voorbeelden van woordparen en hun semantische gelijkenisscore zijn: [(oud, nieuw, 1.94), (slim, intelligent, 8.19), (hard, moeilijk, 4.46)]. --- ('chocolade', 'taart'), ('omstandigheid', 'situatie'), ('mening', 'keuze'), ('ritme', 'melodie'), ('darm', 'zenuw'), ('dag', 'dageraad'), ('vee', 'rundvlees'), ('dokter', 'professor'), ('arm', 'ader'), ('kamer', 'bad'), ('onderneming', 'bedrijf'), ('plezier', 'voetbal'), ('heuvel', 'cliff'), ('botten', 'enkel'), ('appel', 'snoep'), ('helper', 'huishulp'), ('leider', 'manager'), ('citroen', 'thee'), ('bij', 'mier'), ('basketbal', 'honkbal'), ('rijst', 'boon'), ('bed', 'meubels'), ('emotie', 'passie'), ('anarchie', 'chaos'), ('misdaad', 'overtreding'), ('machine', 'aandrijving'), ('strand', 'zee'), ('steeg', 'kom'), ('pot', 'fles'), ('kracht', 'vermogen'), ('zaad', 'mosterd'), ('gitaar', 'drumstel'), ('mening', 'idee'), ('noord', 'west'), ('dieet', 'salade'), ('moeder', 'vrouw'), ('vader', 'moeder')\n",
      "Beoordeel de semantische gelijkenis van elk woordpaar met een score op een schaal van 0 tot 10, waarbij 0 geen semantische gelijkenis vertegenwoordigt, en 10 perfecte semantische gelijkenis. Gebruik twee decimalen. Het antwoord moet strikt voldoen aan de structuur: [(woord1, woord2, <score>), (woord3, woord4, <score>),]  Geef geen extra uitleg of context. Voorbeelden van woordparen en hun semantische gelijkenisscore zijn: [(oud, nieuw, 1.94), (slim, intelligent, 8.19), (hard, moeilijk, 4.46)]. --- ('kapitein', 'matroos'), ('meter', 'decimeter'), ('bier', 'champagne'), ('motor', 'boot'), ('kaart', 'brug'), ('wetenschap', 'psychologie'), ('zondaar', 'heilige'), ('vernietiging', 'constructie'), ('menigte', 'massa'), ('strand', 'rif'), ('man', 'kind'), ('brood', 'kaas'), ('kampioen', 'winnaar'), ('feest', 'ceremonie'), ('menu', 'bestelling'), ('koning', 'prinses'), ('rijkdom', 'aanzien'), ('uithoudingsvermogen', 'kracht'), ('gevaar', 'bedreiging'), ('god', 'priester'), ('mannen', 'broederschap'), ('vriend', 'partner'), ('leraar', 'helper'), ('lichaam', 'buik'), ('tong', 'keel'), ('huis', 'tapijt'), ('intelligentie', 'vaardigheid'), ('reis', 'verovering'), ('god', 'prooi'), ('broer', 'ziel'), ('tegenstander', 'rivaal'), ('dood', 'ramp'), ('monster', 'demon'), ('dag', 'ochtend'), ('man', 'winnaar'), ('vriend', 'jongen'), ('lied', 'verhaal')\n",
      "Beoordeel de semantische gelijkenis van elk woordpaar met een score op een schaal van 0 tot 10, waarbij 0 geen semantische gelijkenis vertegenwoordigt, en 10 perfecte semantische gelijkenis. Gebruik twee decimalen. Het antwoord moet strikt voldoen aan de structuur: [(woord1, woord2, <score>), (woord3, woord4, <score>),]  Geef geen extra uitleg of context. Voorbeelden van woordparen en hun semantische gelijkenisscore zijn: [(oud, nieuw, 1.94), (slim, intelligent, 8.19), (hard, moeilijk, 4.46)]. --- ('straal', 'zonneschijn'), ('kerel', 'hengst'), ('kip', 'rijst'), ('doos', 'lift'), ('boter', 'aardappel'), ('appartement', 'meubels'), ('meer', 'moeras'), ('sla', 'azijn'), ('bloem', 'bol'), ('wolk', 'waas'), ('chauffeur', 'piloot'), ('suiker', 'honing'), ('lichaam', 'schouder'), ('idee', 'beeld'), ('vader', 'broer'), ('maan', 'planeet'), ('bal', 'handschoen'), ('rails', 'hek'), ('kamer', 'bed'), ('bloem', 'struik'), ('botten', 'knie'), ('arm', 'knie'), ('onderkant', 'zijkant'), ('vat', 'ader'), ('kat', 'konijn'), ('vlees', 'spek'), ('geloof', 'begrip'), ('intelligentie', 'inzicht'), ('aandacht', 'interesse'), ('houding', 'zelfvertrouwen'), ('recht', 'rechtvaardigheid'), ('argument', 'overeenkomst'), ('diepte', 'omvang'), ('medium', 'nieuws'), ('winnaar', 'kandidaat'), ('verjaardag', 'datum'), ('vergoeding', 'betaling')\n",
      "Beoordeel de semantische gelijkenis van elk woordpaar met een score op een schaal van 0 tot 10, waarbij 0 geen semantische gelijkenis vertegenwoordigt, en 10 perfecte semantische gelijkenis. Gebruik twee decimalen. Het antwoord moet strikt voldoen aan de structuur: [(woord1, woord2, <score>), (woord3, woord4, <score>),]  Geef geen extra uitleg of context. Voorbeelden van woordparen en hun semantische gelijkenisscore zijn: [(oud, nieuw, 1.94), (slim, intelligent, 8.19), (hard, moeilijk, 4.46)]. --- ('bijbel', 'psalm'), ('uitgang', 'deuropening'), ('man', 'schildwacht'), ('gangpad', 'hal'), ('whisky', 'jenever'), ('bloed', 'merg'), ('olie', 'nerts'), ('vloer', 'dek'), ('dak', 'vloer'), ('deur', 'vloer'), ('schouder', 'hoofd'), ('wagen', 'rijtuig'), ('auto', 'rijtuig'), ('elleboog', 'enkel'), ('rijkdom', 'bekendheid'), ('verdriet', 'schaamte'), ('administratie', 'management'), ('communicatie', 'gesprek'), ('vervuiling', 'atmosfeer'), ('anatomie', 'biologie'), ('hogeschool', 'beroep'), ('boek', 'onderwerp'), ('formule', 'vergelijking'), ('boek', 'informatie'), ('jongen', 'partner'), ('hemel', 'universum'), ('bevolking', 'mensen'), ('hogeschool', 'klas'), ('leider', 'burgemeester'), ('rabbijn', 'geestelijke'), ('meter', 'centimeter'), ('polyester', 'katoen'), ('advocaat', 'bankier'), ('viool', 'instrument'), ('opslagplaats', 'hut'), ('pot', 'huishoudelijk apparaat'), ('linnen', 'stof')\n",
      "Beoordeel de semantische gelijkenis van elk woordpaar met een score op een schaal van 0 tot 10, waarbij 0 geen semantische gelijkenis vertegenwoordigt, en 10 perfecte semantische gelijkenis. Gebruik twee decimalen. Het antwoord moet strikt voldoen aan de structuur: [(woord1, woord2, <score>), (woord3, woord4, <score>),]  Geef geen extra uitleg of context. Voorbeelden van woordparen en hun semantische gelijkenisscore zijn: [(oud, nieuw, 1.94), (slim, intelligent, 8.19), (hard, moeilijk, 4.46)]. --- ('whisky', 'champagne'), ('meisje', 'kind'), ('hut', 'huisje'), ('vogel', 'kip'), ('raket', 'lawaai'), ('zonsondergang', 'avond'), ('motregen', 'regen'), ('volwassene', 'baby'), ('houtskool', 'kool'), ('lichaam', 'ruggengraat'), ('hoofd', 'nagel'), ('boomstam', 'hout'), ('lepel', 'beker'), ('lichaam', 'zenuw'), ('man', 'echtgenoot'), ('botten', 'nek'), ('frustratie', 'woede'), ('rivier', 'zee'), ('taak', 'beroep'), ('vereniging', 'maatschappij'), ('reflectie', 'afbeelding'), ('prins', 'koning'), ('sneeuw', 'weer'), ('mensen', 'partij'), ('jongen', 'broer'), ('wortel', 'gras'), ('wenkbrauw', 'oog'), ('geld', 'parel'), ('geld', 'diamant'), ('voertuig', 'bus'), ('taxi', 'bus'), ('huis', 'schuur'), ('vinger', 'handpalm'), ('auto', 'brug'), ('inspanning', 'moeilijkheid'), ('feit', 'inzicht'), ('beroep', 'management')\n",
      "Beoordeel de semantische gelijkenis van elk woordpaar met een score op een schaal van 0 tot 10, waarbij 0 geen semantische gelijkenis vertegenwoordigt, en 10 perfecte semantische gelijkenis. Gebruik twee decimalen. Het antwoord moet strikt voldoen aan de structuur: [(woord1, woord2, <score>), (woord3, woord4, <score>),]  Geef geen extra uitleg of context. Voorbeelden van woordparen en hun semantische gelijkenisscore zijn: [(oud, nieuw, 1.94), (slim, intelligent, 8.19), (hard, moeilijk, 4.46)]. --- ('kanker', 'ziekte'), ('woord', 'krant'), ('componist', 'schrijver'), ('acteur', 'zanger'), ('schuilplaats', 'hut'), ('badkamer', 'keuken'), ('cabine', 'hut'), ('deur', 'keuken'), ('waarde', 'geloof'), ('wijsheid', 'intelligentie'), ('onwetendheid', 'intelligentie'), ('gelukkigheid', 'geluk'), ('idee', 'plan'), ('humeur', 'emotie'), ('gelukkigheid', 'vrede'), ('wanhoop', 'ongeluk'), ('logica', 'rekenkunde'), ('ontkenning', 'bekentenis'), ('argument', 'kritiek'), ('agressie', 'vijandigheid'), ('hysterie', 'verwarring'), ('scheikunde', 'theorie'), ('juridische procedures', 'oordeel'), ('comfort', 'veiligheid'), ('zelfvertrouwen', 'zelf'), ('visie', 'perceptie'), ('tijdperk', 'decennium'), ('biografie', 'fictie'), ('discussie', 'argument'), ('code', 'symbool'), ('gevaar', 'ziekte'), ('ongeval', 'ramp'), ('reis', 'excursie'), ('activiteit', 'beweging'), ('roddel', 'nieuws'), ('vader', 'god'), ('actie', 'cursus')\n",
      "Beoordeel de semantische gelijkenis van elk woordpaar met een score op een schaal van 0 tot 10, waarbij 0 geen semantische gelijkenis vertegenwoordigt, en 10 perfecte semantische gelijkenis. Gebruik twee decimalen. Het antwoord moet strikt voldoen aan de structuur: [(woord1, woord2, <score>), (woord3, woord4, <score>),]  Geef geen extra uitleg of context. Voorbeelden van woordparen en hun semantische gelijkenisscore zijn: [(oud, nieuw, 1.94), (slim, intelligent, 8.19), (hard, moeilijk, 4.46)]. --- ('koorts', 'ziekte'), ('luchtvaart', 'vlucht'), ('spel', 'actie'), ('molecuul', 'lucht'), ('huis', 'toestand'), ('woord', 'literatuur'), ('volwassene', 'voogd'), ('krant', 'informatie'), ('communicatie', 'televisie'), ('neef', 'oom'), ('auteur', 'lezer'), ('kerel', 'partner'), ('gebied', 'hoek'), ('ballade', 'lied'), ('muur', 'decoratie'), ('woord', 'pagina'), ('verpleegster', 'wetenschapper'), ('politicus', 'president'), ('president', 'burgemeester'), ('boek', 'essay'), ('man', 'strijder'), ('artikel', 'tijdschrift'), ('ontbijt', 'avondeten'), ('menigte', 'parade'), ('gangpad', 'gang'), ('leraar', 'rabbijn'), ('heup', 'lip'), ('boek', 'artikel'), ('kamer', 'gevangeniscel'), ('doos', 'kraampje'), ('dochter', 'kind'), ('ledemaat', 'been'), ('lever', 'long'), ('klaslokaal', 'gang'), ('berg', 'richel'), ('auto', 'lift'), ('bed', 'bank')\n",
      "Beoordeel de semantische gelijkenis van elk woordpaar met een score op een schaal van 0 tot 10, waarbij 0 geen semantische gelijkenis vertegenwoordigt, en 10 perfecte semantische gelijkenis. Gebruik twee decimalen. Het antwoord moet strikt voldoen aan de structuur: [(woord1, woord2, <score>), (woord3, woord4, <score>),]  Geef geen extra uitleg of context. Voorbeelden van woordparen en hun semantische gelijkenisscore zijn: [(oud, nieuw, 1.94), (slim, intelligent, 8.19), (hard, moeilijk, 4.46)]. --- ('kleding', 'knoop'), ('kleding', 'jas'), ('nier', 'orgaan'), ('appel', 'saus'), ('kip', 'steak'), ('auto', 'slang'), ('tabak', 'sigaret'), ('student', 'professor'), ('baby', 'dochter'), ('pijp', 'sigaar'), ('melk', 'sap'), ('doos', 'sigaar'), ('appartement', 'hotel'), ('beker', 'wafel'), ('paard', 'os'), ('keel', 'neus'), ('botten', 'tanden'), ('botten', 'elleboog'), ('spek', 'boon'), ('beker', 'pot'), ('bewijs', 'feit'), ('overeenkomst', 'afspraak'), ('verjaardag', 'jaar'), ('woord', 'referentie'), ('auteur', 'maker'), ('atoom', 'koolstof'), ('aartsbisschop', 'bisschop'), ('brief', 'paragraaf'), ('pagina', 'paragraaf'), ('kerktoren', 'kapel'), ('spier', 'botten'), ('spier', 'tong'), ('jongen', 'soldaat'), ('buik', 'onderbuik'), ('kerel', 'meisje'), ('bed', 'stoel'), ('kleding', 'mantel')\n",
      "Beoordeel de semantische gelijkenis van elk woordpaar met een score op een schaal van 0 tot 10, waarbij 0 geen semantische gelijkenis vertegenwoordigt, en 10 perfecte semantische gelijkenis. Gebruik twee decimalen. Het antwoord moet strikt voldoen aan de structuur: [(woord1, woord2, <score>), (woord3, woord4, <score>),]  Geef geen extra uitleg of context. Voorbeelden van woordparen en hun semantische gelijkenisscore zijn: [(oud, nieuw, 1.94), (slim, intelligent, 8.19), (hard, moeilijk, 4.46)]. --- ('pistool', 'mes'), ('blik', 'metaal'), ('fles', 'container'), ('kip', 'kalkoen'), ('vlees', 'broodje'), ('arm', 'botten'), ('hals', 'ruggengraat'), ('appel', 'citroen'), ('lijden', 'verdriet'), ('opdracht', 'taak'), ('nacht', 'dageraad'), ('diner', 'soep'), ('kalf', 'stier'), ('sneeuw', 'storm'), ('nagel', 'hand'), ('hond', 'paard'), ('arm', 'hals'), ('kogel', 'kanon'), ('griep', 'koorts'), ('vergoeding', 'salaris'), ('zenuw', 'hersenen'), ('beest', 'dier'), ('diner', 'kip'), ('meisje', 'dienstmeisje'), ('kind', 'jongen'), ('alcohol', 'wijn'), ('neus', 'mond'), ('weg', 'steeg'), ('bel', 'deur'), ('doos', 'hoed'), ('geloof', 'indruk'), ('vooroordeel', 'mening'), ('aandacht', 'bewustzijn'), ('woede', 'stemming'), ('elegantie', 'stijl'), ('schoonheid', 'leeftijd'), ('boek', 'thema')\n",
      "Beoordeel de semantische gelijkenis van elk woordpaar met een score op een schaal van 0 tot 10, waarbij 0 geen semantische gelijkenis vertegenwoordigt, en 10 perfecte semantische gelijkenis. Gebruik twee decimalen. Het antwoord moet strikt voldoen aan de structuur: [(woord1, woord2, <score>), (woord3, woord4, <score>),]  Geef geen extra uitleg of context. Voorbeelden van woordparen en hun semantische gelijkenisscore zijn: [(oud, nieuw, 1.94), (slim, intelligent, 8.19), (hard, moeilijk, 4.46)]. --- ('vriend', 'moeder'), ('vitamine', 'ijzer'), ('auto', 'fabriek'), ('verdrag', 'overeenkomst'), ('hoofdstuk', 'keuze'), ('rekenkunde', 'ritme'), ('winnaar', 'aanwezigheid'), ('geloof', 'bloem'), ('winnaar', 'doel'), ('truc', 'maat'), ('keuze', 'neiging'), ('volkslied', 'verovering'), ('uithoudingsvermogen', 'muziekgroep'), ('gevangenis', 'keuze'), ('conditie', 'jongen'), ('bloem', 'volharding'), ('gat', 'overeenkomst'), ('dokter', 'temperament'), ('broederschap', 'deur'), ('taak', 'vrouw'), ('broederschap', 'honkbal'), ('cent', 'maat'), ('aanwezigheid', 'deur'), ('muis', 'beheer'), ('taak', 'snelweg'), ('likeur', 'eeuw'), ('taak', 'rietje'), ('eiland', 'taak'), ('nacht', 'hoofdstuk'), ('vervuiling', 'president'), ('pistool', 'truc'), ('bad', 'truc'), ('dieet', 'appel'), ('cent', 'vrouw'), ('hoofdstuk', 'staart'), ('cursus', 'buik'), ('volkslied', 'rietje')\n",
      "Beoordeel de semantische gelijkenis van elk woordpaar met een score op een schaal van 0 tot 10, waarbij 0 geen semantische gelijkenis vertegenwoordigt, en 10 perfecte semantische gelijkenis. Gebruik twee decimalen. Het antwoord moet strikt voldoen aan de structuur: [(woord1, woord2, <score>), (woord3, woord4, <score>),]  Geef geen extra uitleg of context. Voorbeelden van woordparen en hun semantische gelijkenisscore zijn: [(oud, nieuw, 1.94), (slim, intelligent, 8.19), (hard, moeilijk, 4.46)]. --- ('tandarts', 'kolonel'), ('echtgenote', 'rietje'), ('gat', 'vrouw'), ('student', 'president'), ('bad', 'vrouw'), ('mensen', 'cent'), ('formule', 'logaritme'), ('vrouw', 'bont'), ('appel', 'zonneschijn'), ('pistool', 'dageraad'), ('maaltijd', 'staart'), ('camera', 'president'), ('likeur', 'muziekgroep'), ('buik', 'ader'), ('pistool', 'bont'), ('bank', 'honkbal'), ('arbeider', 'camera'), ('dek', 'muis'), ('rijst', 'jongen'), ('mensen', 'pistool'), ('klif', 'staart'), ('enkel', 'raam'), ('prinses', 'eiland'), ('container', 'muis'), ('wagen', 'container'), ('mensen', 'ballon'), ('dollar', 'mensen'), ('bad', 'ballon'), ('buik', 'slaapkamer'), ('fiets', 'slaapkamer'), ('boomstam', 'bad'), ('kom', 'staart'), ('gaan', 'toestaan'), ('nemen', 'stelen'), ('luisteren', 'horen'), ('denken', 'rationaliseren'), ('plaatsvinden', 'voorkomen')\n",
      "Beoordeel de semantische gelijkenis van elk woordpaar met een score op een schaal van 0 tot 10, waarbij 0 geen semantische gelijkenis vertegenwoordigt, en 10 perfecte semantische gelijkenis. Gebruik twee decimalen. Het antwoord moet strikt voldoen aan de structuur: [(woord1, woord2, <score>), (woord3, woord4, <score>),]  Geef geen extra uitleg of context. Voorbeelden van woordparen en hun semantische gelijkenisscore zijn: [(oud, nieuw, 1.94), (slim, intelligent, 8.19), (hard, moeilijk, 4.46)]. --- ('voorbijgaan', 'verdwijnen'), ('vermenigvuldigen', 'delen'), ('pleiten', 'bedelen'), ('beginnen', 'ontstaan'), ('beschermen', 'verdedigen'), ('doden', 'vernietigen'), ('creëren', 'maken'), ('accepteren', 'weigeren'), ('negeren', 'vermijden'), ('dragen', 'brengen'), ('vertrekken', 'binnenkomen'), ('kiezen', 'stemmen op'), ('verliezen', 'falen'), ('aanmoedigen', 'ontmoedigen'), ('bereiken', 'volbrengen'), ('maken', 'opbouwen'), ('luisteren', 'gehoorzamen'), ('delen', 'melden'), ('ontvangen', 'geven'), ('lenen', 'smeken'), ('nemen', 'verkrijgen'), ('adviseren', 'aanbevelen'), ('imiteren', 'uitbeelden'), ('winnen', 'slagen'), ('denken', 'besluiten'), ('groeten', 'ontmoeten'), ('akkoord gaan', 'argumenteren'), ('genieten', 'vermaken'), ('vernietigen', 'maken'), ('redden', 'beschermen'), ('geven', 'lenen'), ('begrijpen', 'weten'), ('nemen', 'ontvangen'), ('accepteren', 'erkennen'), ('beslissen', 'kiezen'), ('accepteren', 'geloven'), ('houden', 'bezitten')\n",
      "Beoordeel de semantische gelijkenis van elk woordpaar met een score op een schaal van 0 tot 10, waarbij 0 geen semantische gelijkenis vertegenwoordigt, en 10 perfecte semantische gelijkenis. Gebruik twee decimalen. Het antwoord moet strikt voldoen aan de structuur: [(woord1, woord2, <score>), (woord3, woord4, <score>),]  Geef geen extra uitleg of context. Voorbeelden van woordparen en hun semantische gelijkenisscore zijn: [(oud, nieuw, 1.94), (slim, intelligent, 8.19), (hard, moeilijk, 4.46)]. --- ('rondzwerven', 'dwalen'), ('slagen', 'falen'), ('besteden', 'redden'), ('vertrekken', 'gaan'), ('komen', 'bijwonen'), ('weten', 'geloven'), ('verzamelen', 'ontmoeten'), ('maken', 'verdienen'), ('vergeten', 'negeren'), ('vermenigvuldigen', 'toevoegen'), ('krimpen', 'groeien'), ('aankomen', 'komen'), ('slagen', 'proberen'), ('accepteren', 'ontkennen'), ('aankomen', 'vertrekken'), ('akkoord gaan', 'afwijken'), ('sturen', 'ontvangen'), ('winnen', 'domineren'), ('toevoegen', 'verdelen'), ('doden', 'wurgen'), ('verwerven', 'krijgen'), ('deelnemen', 'meedoen'), ('vertrekken', 'achterblijven'), ('gaan', 'komen'), ('nemen', 'dragen'), ('vergeten', 'leren'), ('benoemen', 'kiezen'), ('verloven', 'trouwen'), ('vragen', 'bidden'), ('gaan', 'sturen'), ('nemen', 'leveren'), ('spreken', 'luisteren'), ('analyseren', 'evalueren'), ('argumenteren', 'rationaliseren'), ('verliezen', 'houden'), ('vergelijken', 'analyseren')\n",
      "Beoordeel de semantische gelijkenis van elk woordpaar met een score op een schaal van 0 tot 10, waarbij 0 geen semantische gelijkenis vertegenwoordigt, en 10 perfecte semantische gelijkenis. Gebruik twee decimalen. Het antwoord moet strikt voldoen aan de structuur: [(woord1, woord2, <score>), (woord3, woord4, <score>),]  Geef geen extra uitleg of context. Voorbeelden van woordparen en hun semantische gelijkenisscore zijn: [(oud, nieuw, 1.94), (slim, intelligent, 8.19), (hard, moeilijk, 4.46)]. --- ('desorganiseren', 'organiseren'), ('gaan', 'verkopen'), ('nemen', 'bezitten'), ('leren', 'luisteren'), ('vernietigen', 'bouwen'), ('creëren', 'bouwen'), ('stelen', 'kopen'), ('doden', 'ophangen'), ('vergeten', 'weten'), ('creëren', 'voorstellen'), ('doen', 'gebeuren'), ('winnen', 'bereiken'), ('geven', 'weigeren'), ('verdienen', 'nemen'), ('krijgen', 'zetten'), ('lokaliseren', 'vinden'), ('verschijnen', 'bijwonen'), ('weten', 'begrijpen'), ('doen alsof', 'voorstellen'), ('tevredenstellen', 'voldoen'), ('koesteren', 'houden'), ('argumenteren', 'verschillen'), ('overwinnen', 'domineren'), ('zich gedragen', 'gehoorzamen'), ('samenwerken', 'deelnemen'), ('bereiken', 'proberen'), ('falen', 'ontmoedigen'), ('beginnen', 'stoppen'), ('zeggen', 'deelnemen'), ('komen', 'brengen'), ('bekendmaken', 'aankondigen'), ('lezen', 'begrijpen'), ('nemen', 'achterlaten'), ('verkondigen', 'aankondigen'), ('verwerven', 'verkrijgen'), ('concluderen', 'beslissen')\n",
      "Beoordeel de semantische gelijkenis van elk woordpaar met een score op een schaal van 0 tot 10, waarbij 0 geen semantische gelijkenis vertegenwoordigt, en 10 perfecte semantische gelijkenis. Gebruik twee decimalen. Het antwoord moet strikt voldoen aan de structuur: [(woord1, woord2, <score>), (woord3, woord4, <score>),]  Geef geen extra uitleg of context. Voorbeelden van woordparen en hun semantische gelijkenisscore zijn: [(oud, nieuw, 1.94), (slim, intelligent, 8.19), (hard, moeilijk, 4.46)]. --- ('tevredenstellen', 'pleiten'), ('argumenteren', 'bewijzen'), ('vragen', 'pleiten'), ('vinden', 'verdwijnen'), ('inspecteren', 'examineren'), ('controleren', 'rechtvaardigen'), ('vermoeden', 'voorspellen'), ('leren', 'evalueren'), ('argumenteren', 'rechtvaardigen'), ('maken', 'worden'), ('ontdekken', 'ontstaan'), ('bereiken', 'slagen'), ('geven', 'plaatsen'), ('begrijpen', 'luisteren'), ('uitbreiden', 'groeien'), ('lenen', 'verkopen'), ('houden', 'beschermen'), ('uitleggen', 'bewijzen'), ('vermoeden', 'doen alsof'), ('akkoord gaan', 'voldoen'), ('vergeven', 'vergeten'), ('verklaren', 'uitleggen'), ('begrijpen', 'vergeven'), ('herinneren', 'vergeten'), ('krijgen', 'achterblijven'), ('realiseren', 'ontdekken'), ('nodig hebben', 'vragen'), ('negeren', 'vragen'), ('denken', 'informeren'), ('afwijzen', 'vermijden'), ('argumenteren', 'overtuigen'), ('najagen', 'overtuigen'), ('accepteren', 'vergeven'), ('doen', 'stoppen'), ('onderzoeken', 'herzien'), ('discussiëren', 'uitleggen')\n",
      "Beoordeel de semantische gelijkenis van elk woordpaar met een score op een schaal van 0 tot 10, waarbij 0 geen semantische gelijkenis vertegenwoordigt, en 10 perfecte semantische gelijkenis. Gebruik twee decimalen. Het antwoord moet strikt voldoen aan de structuur: [(woord1, woord2, <score>), (woord3, woord4, <score>),]  Geef geen extra uitleg of context. Voorbeelden van woordparen en hun semantische gelijkenisscore zijn: [(oud, nieuw, 1.94), (slim, intelligent, 8.19), (hard, moeilijk, 4.46)]. --- ('verschuldigd zijn', 'lenen'), ('verkennen', 'ontdekken'), ('klagen', 'argumenteren'), ('terugtrekken', 'afwijzen'), ('houden', 'lenen'), ('smeken', 'vragen'), ('regelen', 'organiseren'), ('verminderen', 'krimpen'), ('spreken', 'erkennen'), ('geven', 'uitlenen'), ('doden', 'verdedigen'), ('verdwijnen', 'krimpen'), ('leveren', 'dragen'), ('ademen', 'verstikken'), ('erkennen', 'melden'), ('worden', 'verschijnen'), ('doen alsof', 'lijken'), ('bereiken', 'worden'), ('overnadenken', 'denken'), ('bepalen', 'voorspellen'), ('tevredenstellen', 'vermaken'), ('blijven', 'behouden'), ('doen alsof', 'uitbeelden'), ('vergeten', 'onderhouden'), ('willen', 'kiezen'), ('verliezen', 'krijgen'), ('proberen', 'denken'), ('worden', 'lijken'), ('vertrekken', 'negeren'), ('accepteren', 'aanbevelen'), ('vertrekken', 'zwerven'), ('houden', 'geven'), ('geven', 'toestaan'), ('brengen', 'sturen'), ('opnemen', 'leren'), ('verwerven', 'vinden')\n",
      "Beoordeel de semantische gelijkenis van elk woordpaar met een score op een schaal van 0 tot 10, waarbij 0 geen semantische gelijkenis vertegenwoordigt, en 10 perfecte semantische gelijkenis. Gebruik twee decimalen. Het antwoord moet strikt voldoen aan de structuur: [(woord1, woord2, <score>), (woord3, woord4, <score>),]  Geef geen extra uitleg of context. Voorbeelden van woordparen en hun semantische gelijkenisscore zijn: [(oud, nieuw, 1.94), (slim, intelligent, 8.19), (hard, moeilijk, 4.46)]. --- ('vertrekken', 'verschijnen'), ('creëren', 'vernietigen'), ('beginnen', 'gaan'), ('krijgen', 'kopen'), ('verzamelen', 'opslaan'), ('vervangen', 'herstellen'), ('samenvoegen', 'toevoegen'), ('samenvoegen', 'trouwen'), ('accepteren', 'bezorgen'), ('bijvoegen', 'samenvoegen'), ('plaatsen', 'ophangen'), ('gaan', 'binnenkomen'), ('communiceren', 'bidden'), ('geven', 'stelen'), ('toevoegen', 'bouwen'), ('brengen', 'herstellen'), ('begrijpen', 'voldoen'), ('belichamen', 'beslissen'), ('organiseren', 'worden'), ('geven', 'weten'), ('zeggen', 'verifiëren'), ('samenwerken', 'aansluiten bij'), ('regelen', 'vereisen'), ('lenen', 'willen'), ('onderzoeken', 'streven'), ('negeren', 'verkennen'), ('brengen', 'klagen'), ('binnentreden', 'verschuldigd zijn'), ('belichamen', 'melden'), ('herinneren', 'verkopen'), ('opnemen', 'bezitten'), ('samenvoegen', 'verwerven'), ('sturen', 'bijwonen'), ('verzamelen', 'bijwonen'), ('opnemen', 'intrekken'), ('bijwonen', 'aankomen')\n"
     ]
    }
   ],
   "source": [
    "# Print the prompts for each chunk\n",
    "print_prompts(chunks, prompt)"
   ]
  },
  {
   "cell_type": "code",
   "execution_count": 33,
   "metadata": {},
   "outputs": [
    {
     "name": "stdout",
     "output_type": "stream",
     "text": [
      "Token counts for each formatted prompt: [517, 507, 499, 487, 462, 484, 472, 485, 473, 494, 481, 485, 481, 496, 496, 513, 478, 476, 489, 511, 482, 516, 513, 519, 523, 510, 523]\n"
     ]
    }
   ],
   "source": [
    "# Load the encoding\n",
    "encoding = tiktoken.get_encoding(\"cl100k_base\")\n",
    "\n",
    "# Count the tokens per chunk\n",
    "token_counts = count_tokens_with_tiktoken(chunks, prompt)\n",
    "print(\"Token counts for each formatted prompt:\", token_counts)"
   ]
  },
  {
   "cell_type": "markdown",
   "metadata": {},
   "source": [
    "### **2. Extract and Process Data**"
   ]
  },
  {
   "cell_type": "code",
   "execution_count": 34,
   "metadata": {},
   "outputs": [
    {
     "name": "stderr",
     "output_type": "stream",
     "text": [
      "Processing: 100%|██████████| 405/405 [2:07:08<00:00, 18.84s/chunk]  "
     ]
    },
    {
     "name": "stdout",
     "output_type": "stream",
     "text": [
      "Total time taken: 7628.28 seconds\n"
     ]
    },
    {
     "name": "stderr",
     "output_type": "stream",
     "text": [
      "\n"
     ]
    }
   ],
   "source": [
    "# Process each chunk and get results using the OpenAI API\n",
    "response = get_responses(chunks, prompt, model, sample_size, delay)"
   ]
  },
  {
   "cell_type": "code",
   "execution_count": 35,
   "metadata": {},
   "outputs": [
    {
     "name": "stdout",
     "output_type": "stream",
     "text": [
      "File saved successfully.\n"
     ]
    }
   ],
   "source": [
    "# Define filepath\n",
    "file_path = '../../../data/response/nl/gpt-3.5-turbo-0125/f3.json'\n",
    "\n",
    "# Check if the file already exists\n",
    "if not os.path.exists(file_path):\n",
    "    with open(file_path, 'w') as f:\n",
    "        json.dump(response, f)\n",
    "        print(\"File saved successfully.\")\n",
    "else:\n",
    "    print(\"File already exists. JSON was not saved to prevent overwriting.\")"
   ]
  },
  {
   "cell_type": "code",
   "execution_count": 8,
   "metadata": {},
   "outputs": [
    {
     "name": "stdout",
     "output_type": "stream",
     "text": [
      "{}\n"
     ]
    }
   ],
   "source": [
    "# Extract data with regular expressions into dictionary\n",
    "data_dict = process_responses(response)\n",
    "\n",
    "# Check for values higher/lower then sample size\n",
    "higher_lower_samples = {key: value for key, value in data_dict.items() if len(value) < sample_size or len(value) > sample_size}\n",
    "print(higher_lower_samples)"
   ]
  },
  {
   "cell_type": "code",
   "execution_count": 10,
   "metadata": {},
   "outputs": [
    {
     "name": "stdout",
     "output_type": "stream",
     "text": [
      "Empty DataFrame\n",
      "Columns: [Combined_Columns]\n",
      "Index: []\n",
      "Empty DataFrame\n",
      "Columns: [Combined_Columns]\n",
      "Index: []\n"
     ]
    }
   ],
   "source": [
    "# Process data and print duplicate word pairs\n",
    "print_duplicate_word_pairs(cleaned_nl_simlex, data_dict)"
   ]
  },
  {
   "cell_type": "code",
   "execution_count": 11,
   "metadata": {},
   "outputs": [
    {
     "data": {
      "text/html": [
       "<div>\n",
       "<style scoped>\n",
       "    .dataframe tbody tr th:only-of-type {\n",
       "        vertical-align: middle;\n",
       "    }\n",
       "\n",
       "    .dataframe tbody tr th {\n",
       "        vertical-align: top;\n",
       "    }\n",
       "\n",
       "    .dataframe thead th {\n",
       "        text-align: right;\n",
       "    }\n",
       "</style>\n",
       "<table border=\"1\" class=\"dataframe\">\n",
       "  <thead>\n",
       "    <tr style=\"text-align: right;\">\n",
       "      <th></th>\n",
       "      <th>word1</th>\n",
       "      <th>word2</th>\n",
       "      <th>similarity_score_1</th>\n",
       "      <th>similarity_score_2</th>\n",
       "      <th>similarity_score_3</th>\n",
       "      <th>similarity_score_4</th>\n",
       "      <th>similarity_score_5</th>\n",
       "      <th>similarity_score_6</th>\n",
       "      <th>similarity_score_7</th>\n",
       "      <th>similarity_score_8</th>\n",
       "      <th>similarity_score_9</th>\n",
       "      <th>similarity_score_10</th>\n",
       "      <th>similarity_score_11</th>\n",
       "      <th>similarity_score_12</th>\n",
       "      <th>similarity_score_13</th>\n",
       "      <th>similarity_score_14</th>\n",
       "      <th>similarity_score_15</th>\n",
       "    </tr>\n",
       "  </thead>\n",
       "  <tbody>\n",
       "    <tr>\n",
       "      <th>0</th>\n",
       "      <td>gelukkig</td>\n",
       "      <td>vrolijk</td>\n",
       "      <td>6.47</td>\n",
       "      <td>6.67</td>\n",
       "      <td>5.00</td>\n",
       "      <td>7.82</td>\n",
       "      <td>5.00</td>\n",
       "      <td>3.33</td>\n",
       "      <td>4.68</td>\n",
       "      <td>5.48</td>\n",
       "      <td>3.57</td>\n",
       "      <td>6.67</td>\n",
       "      <td>4.23</td>\n",
       "      <td>5.00</td>\n",
       "      <td>7.14</td>\n",
       "      <td>6.67</td>\n",
       "      <td>5.29</td>\n",
       "    </tr>\n",
       "    <tr>\n",
       "      <th>1</th>\n",
       "      <td>hard</td>\n",
       "      <td>stoer</td>\n",
       "      <td>1.45</td>\n",
       "      <td>3.33</td>\n",
       "      <td>3.00</td>\n",
       "      <td>3.58</td>\n",
       "      <td>4.00</td>\n",
       "      <td>4.12</td>\n",
       "      <td>3.00</td>\n",
       "      <td>6.23</td>\n",
       "      <td>2.00</td>\n",
       "      <td>5.00</td>\n",
       "      <td>6.15</td>\n",
       "      <td>4.00</td>\n",
       "      <td>2.67</td>\n",
       "      <td>4.17</td>\n",
       "      <td>2.13</td>\n",
       "    </tr>\n",
       "    <tr>\n",
       "      <th>2</th>\n",
       "      <td>snel</td>\n",
       "      <td>razendsnel</td>\n",
       "      <td>7.85</td>\n",
       "      <td>10.00</td>\n",
       "      <td>8.00</td>\n",
       "      <td>9.53</td>\n",
       "      <td>7.00</td>\n",
       "      <td>9.45</td>\n",
       "      <td>7.83</td>\n",
       "      <td>9.30</td>\n",
       "      <td>8.00</td>\n",
       "      <td>10.00</td>\n",
       "      <td>9.74</td>\n",
       "      <td>9.00</td>\n",
       "      <td>9.37</td>\n",
       "      <td>10.00</td>\n",
       "      <td>9.34</td>\n",
       "    </tr>\n",
       "    <tr>\n",
       "      <th>3</th>\n",
       "      <td>gelukkig</td>\n",
       "      <td>blij</td>\n",
       "      <td>8.10</td>\n",
       "      <td>8.33</td>\n",
       "      <td>6.00</td>\n",
       "      <td>7.76</td>\n",
       "      <td>6.50</td>\n",
       "      <td>7.16</td>\n",
       "      <td>7.27</td>\n",
       "      <td>8.70</td>\n",
       "      <td>7.50</td>\n",
       "      <td>5.83</td>\n",
       "      <td>7.55</td>\n",
       "      <td>7.00</td>\n",
       "      <td>8.37</td>\n",
       "      <td>8.33</td>\n",
       "      <td>7.41</td>\n",
       "    </tr>\n",
       "    <tr>\n",
       "      <th>4</th>\n",
       "      <td>kort</td>\n",
       "      <td>lang</td>\n",
       "      <td>1.78</td>\n",
       "      <td>0.00</td>\n",
       "      <td>1.00</td>\n",
       "      <td>1.17</td>\n",
       "      <td>1.00</td>\n",
       "      <td>1.00</td>\n",
       "      <td>1.55</td>\n",
       "      <td>1.86</td>\n",
       "      <td>1.00</td>\n",
       "      <td>1.67</td>\n",
       "      <td>2.84</td>\n",
       "      <td>1.00</td>\n",
       "      <td>1.00</td>\n",
       "      <td>1.67</td>\n",
       "      <td>1.05</td>\n",
       "    </tr>\n",
       "    <tr>\n",
       "      <th>...</th>\n",
       "      <td>...</td>\n",
       "      <td>...</td>\n",
       "      <td>...</td>\n",
       "      <td>...</td>\n",
       "      <td>...</td>\n",
       "      <td>...</td>\n",
       "      <td>...</td>\n",
       "      <td>...</td>\n",
       "      <td>...</td>\n",
       "      <td>...</td>\n",
       "      <td>...</td>\n",
       "      <td>...</td>\n",
       "      <td>...</td>\n",
       "      <td>...</td>\n",
       "      <td>...</td>\n",
       "      <td>...</td>\n",
       "      <td>...</td>\n",
       "    </tr>\n",
       "    <tr>\n",
       "      <th>989</th>\n",
       "      <td>samenvoegen</td>\n",
       "      <td>verwerven</td>\n",
       "      <td>0.93</td>\n",
       "      <td>0.26</td>\n",
       "      <td>2.84</td>\n",
       "      <td>1.23</td>\n",
       "      <td>3.98</td>\n",
       "      <td>0.48</td>\n",
       "      <td>0.68</td>\n",
       "      <td>0.00</td>\n",
       "      <td>1.12</td>\n",
       "      <td>2.00</td>\n",
       "      <td>0.33</td>\n",
       "      <td>0.16</td>\n",
       "      <td>0.00</td>\n",
       "      <td>0.19</td>\n",
       "      <td>0.00</td>\n",
       "    </tr>\n",
       "    <tr>\n",
       "      <th>990</th>\n",
       "      <td>sturen</td>\n",
       "      <td>bijwonen</td>\n",
       "      <td>0.12</td>\n",
       "      <td>0.05</td>\n",
       "      <td>1.74</td>\n",
       "      <td>0.15</td>\n",
       "      <td>0.00</td>\n",
       "      <td>0.12</td>\n",
       "      <td>0.14</td>\n",
       "      <td>0.00</td>\n",
       "      <td>1.20</td>\n",
       "      <td>1.00</td>\n",
       "      <td>0.14</td>\n",
       "      <td>0.07</td>\n",
       "      <td>0.00</td>\n",
       "      <td>0.06</td>\n",
       "      <td>0.00</td>\n",
       "    </tr>\n",
       "    <tr>\n",
       "      <th>991</th>\n",
       "      <td>verzamelen</td>\n",
       "      <td>bijwonen</td>\n",
       "      <td>0.77</td>\n",
       "      <td>0.05</td>\n",
       "      <td>1.28</td>\n",
       "      <td>0.25</td>\n",
       "      <td>2.59</td>\n",
       "      <td>0.32</td>\n",
       "      <td>0.69</td>\n",
       "      <td>1.83</td>\n",
       "      <td>2.09</td>\n",
       "      <td>3.00</td>\n",
       "      <td>0.15</td>\n",
       "      <td>0.10</td>\n",
       "      <td>1.76</td>\n",
       "      <td>0.01</td>\n",
       "      <td>1.76</td>\n",
       "    </tr>\n",
       "    <tr>\n",
       "      <th>992</th>\n",
       "      <td>opnemen</td>\n",
       "      <td>intrekken</td>\n",
       "      <td>1.09</td>\n",
       "      <td>0.47</td>\n",
       "      <td>2.67</td>\n",
       "      <td>2.10</td>\n",
       "      <td>0.00</td>\n",
       "      <td>0.14</td>\n",
       "      <td>0.14</td>\n",
       "      <td>5.57</td>\n",
       "      <td>1.24</td>\n",
       "      <td>1.00</td>\n",
       "      <td>0.21</td>\n",
       "      <td>0.21</td>\n",
       "      <td>0.00</td>\n",
       "      <td>0.04</td>\n",
       "      <td>0.00</td>\n",
       "    </tr>\n",
       "    <tr>\n",
       "      <th>993</th>\n",
       "      <td>bijwonen</td>\n",
       "      <td>aankomen</td>\n",
       "      <td>1.95</td>\n",
       "      <td>0.47</td>\n",
       "      <td>1.71</td>\n",
       "      <td>1.80</td>\n",
       "      <td>0.00</td>\n",
       "      <td>0.15</td>\n",
       "      <td>0.18</td>\n",
       "      <td>1.60</td>\n",
       "      <td>1.75</td>\n",
       "      <td>2.00</td>\n",
       "      <td>0.26</td>\n",
       "      <td>0.13</td>\n",
       "      <td>0.00</td>\n",
       "      <td>0.01</td>\n",
       "      <td>1.13</td>\n",
       "    </tr>\n",
       "  </tbody>\n",
       "</table>\n",
       "<p>994 rows × 17 columns</p>\n",
       "</div>"
      ],
      "text/plain": [
       "           word1       word2  similarity_score_1  similarity_score_2  \\\n",
       "0       gelukkig     vrolijk                6.47                6.67   \n",
       "1           hard       stoer                1.45                3.33   \n",
       "2           snel  razendsnel                7.85               10.00   \n",
       "3       gelukkig        blij                8.10                8.33   \n",
       "4           kort        lang                1.78                0.00   \n",
       "..           ...         ...                 ...                 ...   \n",
       "989  samenvoegen   verwerven                0.93                0.26   \n",
       "990       sturen    bijwonen                0.12                0.05   \n",
       "991   verzamelen    bijwonen                0.77                0.05   \n",
       "992      opnemen   intrekken                1.09                0.47   \n",
       "993     bijwonen    aankomen                1.95                0.47   \n",
       "\n",
       "     similarity_score_3  similarity_score_4  similarity_score_5  \\\n",
       "0                  5.00                7.82                5.00   \n",
       "1                  3.00                3.58                4.00   \n",
       "2                  8.00                9.53                7.00   \n",
       "3                  6.00                7.76                6.50   \n",
       "4                  1.00                1.17                1.00   \n",
       "..                  ...                 ...                 ...   \n",
       "989                2.84                1.23                3.98   \n",
       "990                1.74                0.15                0.00   \n",
       "991                1.28                0.25                2.59   \n",
       "992                2.67                2.10                0.00   \n",
       "993                1.71                1.80                0.00   \n",
       "\n",
       "     similarity_score_6  similarity_score_7  similarity_score_8  \\\n",
       "0                  3.33                4.68                5.48   \n",
       "1                  4.12                3.00                6.23   \n",
       "2                  9.45                7.83                9.30   \n",
       "3                  7.16                7.27                8.70   \n",
       "4                  1.00                1.55                1.86   \n",
       "..                  ...                 ...                 ...   \n",
       "989                0.48                0.68                0.00   \n",
       "990                0.12                0.14                0.00   \n",
       "991                0.32                0.69                1.83   \n",
       "992                0.14                0.14                5.57   \n",
       "993                0.15                0.18                1.60   \n",
       "\n",
       "     similarity_score_9  similarity_score_10  similarity_score_11  \\\n",
       "0                  3.57                 6.67                 4.23   \n",
       "1                  2.00                 5.00                 6.15   \n",
       "2                  8.00                10.00                 9.74   \n",
       "3                  7.50                 5.83                 7.55   \n",
       "4                  1.00                 1.67                 2.84   \n",
       "..                  ...                  ...                  ...   \n",
       "989                1.12                 2.00                 0.33   \n",
       "990                1.20                 1.00                 0.14   \n",
       "991                2.09                 3.00                 0.15   \n",
       "992                1.24                 1.00                 0.21   \n",
       "993                1.75                 2.00                 0.26   \n",
       "\n",
       "     similarity_score_12  similarity_score_13  similarity_score_14  \\\n",
       "0                   5.00                 7.14                 6.67   \n",
       "1                   4.00                 2.67                 4.17   \n",
       "2                   9.00                 9.37                10.00   \n",
       "3                   7.00                 8.37                 8.33   \n",
       "4                   1.00                 1.00                 1.67   \n",
       "..                   ...                  ...                  ...   \n",
       "989                 0.16                 0.00                 0.19   \n",
       "990                 0.07                 0.00                 0.06   \n",
       "991                 0.10                 1.76                 0.01   \n",
       "992                 0.21                 0.00                 0.04   \n",
       "993                 0.13                 0.00                 0.01   \n",
       "\n",
       "     similarity_score_15  \n",
       "0                   5.29  \n",
       "1                   2.13  \n",
       "2                   9.34  \n",
       "3                   7.41  \n",
       "4                   1.05  \n",
       "..                   ...  \n",
       "989                 0.00  \n",
       "990                 0.00  \n",
       "991                 1.76  \n",
       "992                 0.00  \n",
       "993                 1.13  \n",
       "\n",
       "[994 rows x 17 columns]"
      ]
     },
     "execution_count": 11,
     "metadata": {},
     "output_type": "execute_result"
    }
   ],
   "source": [
    "# Convert dict to Pandas DataFrame\n",
    "df = create_dataframe(data_dict)\n",
    "\n",
    "# Show results\n",
    "df"
   ]
  },
  {
   "cell_type": "code",
   "execution_count": 12,
   "metadata": {},
   "outputs": [
    {
     "name": "stdout",
     "output_type": "stream",
     "text": [
      "Null value counts per column: word1                  0\n",
      "word2                  0\n",
      "similarity_score_1     0\n",
      "similarity_score_2     0\n",
      "similarity_score_3     0\n",
      "similarity_score_4     0\n",
      "similarity_score_5     0\n",
      "similarity_score_6     0\n",
      "similarity_score_7     0\n",
      "similarity_score_8     0\n",
      "similarity_score_9     0\n",
      "similarity_score_10    0\n",
      "similarity_score_11    0\n",
      "similarity_score_12    0\n",
      "similarity_score_13    0\n",
      "similarity_score_14    0\n",
      "similarity_score_15    0\n",
      "dtype: int64\n"
     ]
    }
   ],
   "source": [
    "# Count null values\n",
    "count_null_values = df.isnull().sum()\n",
    "print(\"Null value counts per column:\", count_null_values)"
   ]
  },
  {
   "cell_type": "code",
   "execution_count": 13,
   "metadata": {},
   "outputs": [
    {
     "data": {
      "text/html": [
       "<div>\n",
       "<style scoped>\n",
       "    .dataframe tbody tr th:only-of-type {\n",
       "        vertical-align: middle;\n",
       "    }\n",
       "\n",
       "    .dataframe tbody tr th {\n",
       "        vertical-align: top;\n",
       "    }\n",
       "\n",
       "    .dataframe thead th {\n",
       "        text-align: right;\n",
       "    }\n",
       "</style>\n",
       "<table border=\"1\" class=\"dataframe\">\n",
       "  <thead>\n",
       "    <tr style=\"text-align: right;\">\n",
       "      <th></th>\n",
       "      <th>word1</th>\n",
       "      <th>word2</th>\n",
       "      <th>similarity_score_1</th>\n",
       "      <th>similarity_score_2</th>\n",
       "      <th>similarity_score_3</th>\n",
       "      <th>similarity_score_4</th>\n",
       "      <th>similarity_score_5</th>\n",
       "      <th>similarity_score_6</th>\n",
       "      <th>similarity_score_7</th>\n",
       "      <th>similarity_score_8</th>\n",
       "      <th>similarity_score_9</th>\n",
       "      <th>similarity_score_10</th>\n",
       "      <th>similarity_score_11</th>\n",
       "      <th>similarity_score_12</th>\n",
       "      <th>similarity_score_13</th>\n",
       "      <th>similarity_score_14</th>\n",
       "      <th>similarity_score_15</th>\n",
       "    </tr>\n",
       "  </thead>\n",
       "  <tbody>\n",
       "  </tbody>\n",
       "</table>\n",
       "</div>"
      ],
      "text/plain": [
       "Empty DataFrame\n",
       "Columns: [word1, word2, similarity_score_1, similarity_score_2, similarity_score_3, similarity_score_4, similarity_score_5, similarity_score_6, similarity_score_7, similarity_score_8, similarity_score_9, similarity_score_10, similarity_score_11, similarity_score_12, similarity_score_13, similarity_score_14, similarity_score_15]\n",
       "Index: []"
      ]
     },
     "execution_count": 13,
     "metadata": {},
     "output_type": "execute_result"
    }
   ],
   "source": [
    "# Check for rows with at least one null value\n",
    "rows_with_null = df[df.isnull().any(axis=1)]\n",
    "rows_with_null"
   ]
  },
  {
   "cell_type": "code",
   "execution_count": 14,
   "metadata": {},
   "outputs": [
    {
     "data": {
      "text/plain": [
       "[]"
      ]
     },
     "execution_count": 14,
     "metadata": {},
     "output_type": "execute_result"
    }
   ],
   "source": [
    "# Extract missing word pairs\n",
    "missing_word_pair_list = list(zip(rows_with_null['word1'], rows_with_null['word2']))\n",
    "missing_word_pair_list"
   ]
  },
  {
   "cell_type": "code",
   "execution_count": 15,
   "metadata": {},
   "outputs": [
    {
     "name": "stdout",
     "output_type": "stream",
     "text": [
      "File saved successfully.\n"
     ]
    }
   ],
   "source": [
    "# Define file_path\n",
    "file_path = '../../../data/prompt/nl/gpt-3.5-turbo-0125/f3.csv'\n",
    "\n",
    "# Check if the file already exists\n",
    "if not os.path.exists(file_path):\n",
    "    df.to_csv(file_path, index=False)\n",
    "    print(\"File saved successfully.\")\n",
    "else:\n",
    "    print(\"File already exists. Dataframe was not saved to prevent overwriting.\")"
   ]
  },
  {
   "cell_type": "code",
   "execution_count": null,
   "metadata": {},
   "outputs": [],
   "source": []
  }
 ],
 "metadata": {
  "kernelspec": {
   "display_name": "base",
   "language": "python",
   "name": "python3"
  },
  "language_info": {
   "codemirror_mode": {
    "name": "ipython",
    "version": 3
   },
   "file_extension": ".py",
   "mimetype": "text/x-python",
   "name": "python",
   "nbconvert_exporter": "python",
   "pygments_lexer": "ipython3",
   "version": "3.8.8"
  }
 },
 "nbformat": 4,
 "nbformat_minor": 2
}
